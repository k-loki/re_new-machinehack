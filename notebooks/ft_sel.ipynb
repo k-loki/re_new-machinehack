{
 "cells": [
  {
   "cell_type": "markdown",
   "metadata": {},
   "source": [
    "# Load data and Config"
   ]
  },
  {
   "cell_type": "code",
   "execution_count": 1,
   "metadata": {},
   "outputs": [],
   "source": [
    "import pandas as pd\n",
    "import seaborn as sns\n",
    "import matplotlib.pyplot as plt\n",
    "import numpy as np\n",
    "from joblib import dump, load\n",
    "import warnings\n",
    "warnings.filterwarnings(\"ignore\")\n",
    "import sys\n",
    "sys.path.append(r'D:\\Hacks\\re_new')"
   ]
  },
  {
   "cell_type": "code",
   "execution_count": 2,
   "metadata": {},
   "outputs": [],
   "source": [
    "RAND = 4567\n",
    "\n",
    "N_FOLDS =  10\n",
    "\n",
    "model_name = \"Xgb\"\n",
    "save_models = False\n",
    "desc = 'testing'\n",
    "\n",
    "cat_cols = ['turbine_id']\n",
    "\n",
    "# for wandb\n",
    "project = \"renew-machinehack\""
   ]
  },
  {
   "cell_type": "code",
   "execution_count": 3,
   "metadata": {},
   "outputs": [],
   "source": [
    "from sklearn.metrics import mean_absolute_percentage_error as mape\n",
    "def comp_score(y_true, y_pred):\n",
    "    return mape(y_true, y_pred)"
   ]
  },
  {
   "cell_type": "code",
   "execution_count": 4,
   "metadata": {},
   "outputs": [
    {
     "data": {
      "text/plain": [
       "((909604, 16), (303202, 15))"
      ]
     },
     "execution_count": 4,
     "metadata": {},
     "output_type": "execute_result"
    }
   ],
   "source": [
    "train_data = pd.read_csv('../data/raw/train.csv')\n",
    "test_data = pd.read_csv('../data/raw/test.csv')\n",
    "train_data.shape, test_data.shape"
   ]
  },
  {
   "cell_type": "code",
   "execution_count": 5,
   "metadata": {},
   "outputs": [
    {
     "data": {
      "text/plain": [
       "Index(['active_power_calculated_by_converter', 'active_power_raw',\n",
       "       'ambient_temperature', 'generator_speed', 'generator_winding_temp_max',\n",
       "       'grid_power10min_average', 'nc1_inside_temp', 'nacelle_temp',\n",
       "       'reactice_power_calculated_by_converter', 'reactive_power',\n",
       "       'wind_direction_raw', 'wind_speed_raw', 'wind_speed_turbulence',\n",
       "       'turbine_id', 'Target'],\n",
       "      dtype='object')"
      ]
     },
     "execution_count": 5,
     "metadata": {},
     "output_type": "execute_result"
    }
   ],
   "source": [
    "org_cols = train_data.drop('timestamp', axis=1).columns\n",
    "org_cols"
   ]
  },
  {
   "cell_type": "markdown",
   "metadata": {},
   "source": [
    "# Engine"
   ]
  },
  {
   "cell_type": "code",
   "execution_count": 6,
   "metadata": {},
   "outputs": [],
   "source": [
    "from category_encoders.target_encoder import TargetEncoder\n",
    "from sklearn.compose import make_column_transformer\n",
    "from sklearn.pipeline import make_pipeline\n",
    "from sklearn.preprocessing import PolynomialFeatures, StandardScaler\n",
    "from xgboost import XGBRegressor\n",
    "from sklearn.ensemble import RandomForestRegressor, ExtraTreesRegressor\n",
    "from sklearn.linear_model import Lasso"
   ]
  },
  {
   "cell_type": "code",
   "execution_count": 7,
   "metadata": {},
   "outputs": [],
   "source": [
    "def get_model(model=None):\n",
    "    # model = ExtraTreesRegressor(n_estimators=50, random_state=RAND, verbose=1, n_jobs=-1)\n",
    "    # model = Lasso()\n",
    "    # model = XGBRegressor()\n",
    "\n",
    "    tme = TargetEncoder()\n",
    "    # pf = PolynomialFeatures(degree=2)\n",
    "    # pca = PCA(n_components=10, random_state=config['RAND'])\n",
    "    scaler = StandardScaler()\n",
    "    ct = make_column_transformer(\n",
    "        (tme, cat_cols),\n",
    "        remainder = 'passthrough',\n",
    "        n_jobs= -1\n",
    "    )\n",
    "    model_pipe = make_pipeline(\n",
    "            ct,\n",
    "            scaler,\n",
    "            model\n",
    "        )\n",
    "    return model_pipe"
   ]
  },
  {
   "cell_type": "code",
   "execution_count": 8,
   "metadata": {},
   "outputs": [
    {
     "name": "stdout",
     "output_type": "stream",
     "text": [
      "Xgb\n",
      "testing\n"
     ]
    }
   ],
   "source": [
    "import warnings\n",
    "warnings.filterwarnings('ignore')\n",
    "\n",
    "import numpy as np\n",
    "import argparse\n",
    "import wandb\n",
    "from joblib import dump\n",
    "import pandas as pd\n",
    "from sklearn.metrics import mean_squared_error\n",
    "from sklearn.model_selection import KFold\n",
    "import time\n",
    "np.random.seed(RAND)\n",
    "\n",
    "# wandb.login(key = wandb_login)\n",
    "\n",
    "# Load configuration\n",
    "print(model_name)\n",
    "print(desc)"
   ]
  },
  {
   "cell_type": "markdown",
   "metadata": {},
   "source": [
    "# Ft. Engineering"
   ]
  },
  {
   "cell_type": "code",
   "execution_count": 9,
   "metadata": {},
   "outputs": [
    {
     "data": {
      "text/plain": [
       "['active_power_calculated_by_converter',\n",
       " 'active_power_raw',\n",
       " 'ambient_temperature',\n",
       " 'generator_speed',\n",
       " 'generator_winding_temp_max',\n",
       " 'grid_power10min_average',\n",
       " 'nc1_inside_temp',\n",
       " 'nacelle_temp',\n",
       " 'reactice_power_calculated_by_converter',\n",
       " 'reactive_power',\n",
       " 'wind_direction_raw',\n",
       " 'wind_speed_raw',\n",
       " 'wind_speed_turbulence']"
      ]
     },
     "execution_count": 9,
     "metadata": {},
     "output_type": "execute_result"
    }
   ],
   "source": [
    "numeric_cols = [col for col in train_data.columns if train_data[col].dtype != 'object']\n",
    "numeric_cols = numeric_cols[:-1]\n",
    "numeric_cols"
   ]
  },
  {
   "cell_type": "code",
   "execution_count": 10,
   "metadata": {},
   "outputs": [],
   "source": [
    "train_data = train_data.where(train_data.values != 0, 0.0001)\n",
    "test_data = test_data.where(test_data.values != 0, 0.0001)"
   ]
  },
  {
   "cell_type": "code",
   "execution_count": 11,
   "metadata": {},
   "outputs": [],
   "source": [
    "# generate realtive features\n",
    "from feature_engine.creation import RelativeFeatures\n",
    "rf = RelativeFeatures(variables=numeric_cols, reference=numeric_cols, func=['add'])\n",
    "train_data_trans = rf.fit_transform(train_data.drop(['timestamp','Target'], axis=1))\n",
    "test_data_trans = rf.transform(test_data.drop('timestamp', axis=1))"
   ]
  },
  {
   "cell_type": "code",
   "execution_count": 12,
   "metadata": {},
   "outputs": [
    {
     "name": "stdout",
     "output_type": "stream",
     "text": [
      "<class 'pandas.core.frame.DataFrame'>\n",
      "RangeIndex: 909604 entries, 0 to 909603\n",
      "Columns: 183 entries, active_power_calculated_by_converter to wind_speed_turbulence_add_wind_speed_turbulence\n",
      "dtypes: float64(182), object(1)\n",
      "memory usage: 1.2+ GB\n",
      "None\n",
      "<class 'pandas.core.frame.DataFrame'>\n",
      "RangeIndex: 303202 entries, 0 to 303201\n",
      "Columns: 183 entries, active_power_calculated_by_converter to wind_speed_turbulence_add_wind_speed_turbulence\n",
      "dtypes: float64(182), object(1)\n",
      "memory usage: 423.3+ MB\n",
      "None\n"
     ]
    }
   ],
   "source": [
    "print(train_data_trans.info())\n",
    "print(test_data_trans.info())"
   ]
  },
  {
   "cell_type": "code",
   "execution_count": 13,
   "metadata": {},
   "outputs": [],
   "source": [
    "train_data_trans['Target'] = train_data.Target\n",
    "# train_data = train_data_trans\n",
    "# test_data = test_data_trans"
   ]
  },
  {
   "cell_type": "code",
   "execution_count": 14,
   "metadata": {},
   "outputs": [
    {
     "data": {
      "text/plain": [
       "True"
      ]
     },
     "execution_count": 14,
     "metadata": {},
     "output_type": "execute_result"
    }
   ],
   "source": [
    "'Target' in train_data_trans.columns"
   ]
  },
  {
   "cell_type": "markdown",
   "metadata": {},
   "source": [
    "# Ft. Sel"
   ]
  },
  {
   "cell_type": "code",
   "execution_count": 15,
   "metadata": {},
   "outputs": [
    {
     "data": {
      "text/plain": [
       "(181921, 184)"
      ]
     },
     "execution_count": 15,
     "metadata": {},
     "output_type": "execute_result"
    }
   ],
   "source": [
    "sample_data = train_data_trans.sample(frac=0.2, random_state=RAND)\n",
    "sample_data.shape"
   ]
  },
  {
   "cell_type": "code",
   "execution_count": 16,
   "metadata": {},
   "outputs": [
    {
     "data": {
      "text/plain": [
       "((136440, 183), (136440,), (45481, 183), (45481,))"
      ]
     },
     "execution_count": 16,
     "metadata": {},
     "output_type": "execute_result"
    }
   ],
   "source": [
    "from sklearn.model_selection import train_test_split\n",
    "x_tr, x_val, y_tr, y_val = train_test_split(sample_data.drop('Target', axis=1), sample_data.Target, test_size=0.25, random_state=RAND)\n",
    "x_tr.shape, y_tr.shape, x_val.shape, y_val.shape"
   ]
  },
  {
   "cell_type": "code",
   "execution_count": 17,
   "metadata": {},
   "outputs": [],
   "source": [
    "from sklearn.linear_model import LinearRegression"
   ]
  },
  {
   "cell_type": "code",
   "execution_count": 18,
   "metadata": {},
   "outputs": [
    {
     "name": "stdout",
     "output_type": "stream",
     "text": [
      "Pipeline(steps=[('columntransformer',\n",
      "                 ColumnTransformer(n_jobs=-1, remainder='passthrough',\n",
      "                                   transformers=[('targetencoder',\n",
      "                                                  TargetEncoder(),\n",
      "                                                  ['turbine_id'])])),\n",
      "                ('standardscaler', StandardScaler()),\n",
      "                ('linearregression', LinearRegression())])\n"
     ]
    }
   ],
   "source": [
    "lasso = get_model(LinearRegression())\n",
    "\n",
    "print(lasso)"
   ]
  },
  {
   "cell_type": "code",
   "execution_count": 19,
   "metadata": {},
   "outputs": [
    {
     "name": "stdout",
     "output_type": "stream",
     "text": [
      "CPU times: total: 18.1 s\n",
      "Wall time: 10.9 s\n"
     ]
    },
    {
     "data": {
      "text/plain": [
       "0.026223388797549565"
      ]
     },
     "execution_count": 19,
     "metadata": {},
     "output_type": "execute_result"
    }
   ],
   "source": [
    "%%time\n",
    "lasso.fit(x_tr, y_tr)\n",
    "preds = lasso.predict(x_val)\n",
    "comp_score(y_val, preds)"
   ]
  },
  {
   "cell_type": "code",
   "execution_count": 20,
   "metadata": {},
   "outputs": [
    {
     "data": {
      "text/plain": [
       "array([ 1.11044412e+00,  5.15012323e+10,  1.14622659e+10,  2.54820388e+11,\n",
       "        2.35178976e+11,  4.25773332e+11, -1.56770991e+11, -1.10978792e+11,\n",
       "       -1.20219635e+12,  6.39907260e+10,  3.03791084e+10,  3.00071756e+11,\n",
       "       -7.87190671e+10,  1.45971193e+10, -1.42834237e+09,  5.57176089e+09,\n",
       "       -5.76479102e+08, -2.24600664e+10, -6.82024635e+09, -1.03105222e+10,\n",
       "        6.87254164e+09,  8.01146933e+09,  1.17461007e+10,  4.78198267e+09,\n",
       "        1.22195733e+10, -1.13550990e+10, -1.45003006e+09,  5.57176089e+09,\n",
       "        6.18771654e+09,  1.13118858e+10,  3.74945924e+10,  1.61974343e+10,\n",
       "       -1.16795890e+10,  1.84361642e+10,  3.70432132e+10,  3.90453604e+10,\n",
       "        7.15447171e+09, -1.30448302e+11, -2.73342600e+10,  8.14655143e+09,\n",
       "       -2.47596557e+10,  4.42613707e+09,  7.25393877e+09, -5.07109363e+11,\n",
       "       -1.97269975e+11,  1.61446482e+10, -5.57519223e+10,  1.33197886e+11,\n",
       "        4.19142493e+10,  2.72270888e+10,  1.04674081e+11, -7.86803837e+10,\n",
       "        1.21988180e+10, -8.92936501e+10,  5.23165559e+10, -5.07109363e+11,\n",
       "        5.52010387e+11,  4.33403004e+10,  7.65305894e+10, -2.27886856e+10,\n",
       "        3.89457449e+10,  6.70146191e+10, -7.36223283e+10, -2.39001615e+11,\n",
       "       -9.87811663e+10,  3.45006192e+11, -2.68151052e+09, -1.80354044e+10,\n",
       "       -2.01716027e+11,  3.98969696e+10, -1.18970505e+11,  5.83519730e+10,\n",
       "        1.73772243e+11, -7.18755058e+09,  1.44011818e+11,  4.44694151e+10,\n",
       "       -1.26031372e+11, -1.48250615e+11, -4.04773500e+10, -4.14099497e+10,\n",
       "       -1.16795890e+10,  1.61446482e+10,  7.65305894e+10,  5.83519730e+10,\n",
       "        7.95996305e+10,  6.53743903e+10, -9.19276578e+10,  1.66471914e+10,\n",
       "       -4.23453832e+10,  1.29730687e+10,  8.53810331e+09, -3.53767452e+10,\n",
       "       -2.33164329e+10,  1.84361642e+10, -5.57519223e+10, -2.27886856e+10,\n",
       "        1.73772243e+11,  6.53743903e+10,  2.27730768e+10,  2.51101944e+11,\n",
       "       -1.84607257e+11, -3.36261780e+10, -8.32962247e+10, -1.32342499e+11,\n",
       "       -3.41745497e+09,  1.64282836e+09,  4.09414597e+10,  1.23125454e+11,\n",
       "        3.89457449e+10, -7.18755058e+09, -7.46281913e+10,  2.51101944e+11,\n",
       "       -2.71215196e+11, -5.35067418e+09, -3.42646584e+10, -1.70590018e+10,\n",
       "        4.84954006e+11,  1.15427790e+11,  2.72801658e+10,  3.90453604e+10,\n",
       "        5.78053447e+10,  6.70146191e+10,  1.44011818e+11,  5.25100386e+09,\n",
       "       -1.84203147e+11, -1.00855756e+10,  1.66415509e+10, -8.80358313e+10,\n",
       "       -6.01072205e+10,  1.74661496e+10, -2.04853836e+09,  1.41636198e+10,\n",
       "        7.15447171e+09,  2.17898760e+10, -7.36223283e+10,  4.44694151e+10,\n",
       "       -5.81509078e+10, -4.36171550e+10, -3.53510240e+10, -8.80358313e+10,\n",
       "       -5.43767723e+10, -8.99859099e+10,  1.26769714e+11,  3.29224171e+10,\n",
       "        5.54917088e+10, -1.26817513e+11,  8.79218118e+10, -2.39001615e+11,\n",
       "       -1.26031372e+11,  1.29730687e+10, -8.32962247e+10, -1.86207781e+10,\n",
       "       -6.01072205e+10, -8.99859099e+10,  3.98639691e+11, -2.47207164e+10,\n",
       "        4.71798966e+10,  1.27919251e+10, -2.73342600e+10, -7.03024586e+10,\n",
       "       -9.87811663e+10, -1.48250615e+11,  4.71028907e+09, -1.36911533e+11,\n",
       "        4.73261934e+11,  1.74661496e+10,  1.26769714e+11, -2.47207164e+10,\n",
       "       -2.86723989e+10, -9.71409972e+10, -2.17873950e+10,  8.14655143e+09,\n",
       "        1.21988180e+10,  3.46444344e+11, -4.04773500e+10, -4.50369226e+10,\n",
       "       -3.41745497e+09,  1.15427790e+11, -2.04853836e+09,  3.00574033e+10,\n",
       "        4.69882506e+10, -1.02274544e+11, -4.72381287e+09])"
      ]
     },
     "execution_count": 20,
     "metadata": {},
     "output_type": "execute_result"
    }
   ],
   "source": [
    "lasso[2].coef_"
   ]
  },
  {
   "cell_type": "code",
   "execution_count": 21,
   "metadata": {},
   "outputs": [
    {
     "data": {
      "text/plain": [
       "array(['active_power_calculated_by_converter', 'active_power_raw',\n",
       "       'ambient_temperature', 'generator_speed',\n",
       "       'generator_winding_temp_max', 'grid_power10min_average',\n",
       "       'nc1_inside_temp', 'nacelle_temp',\n",
       "       'reactice_power_calculated_by_converter', 'reactive_power',\n",
       "       'wind_direction_raw', 'wind_speed_raw', 'wind_speed_turbulence',\n",
       "       'turbine_id',\n",
       "       'active_power_calculated_by_converter_add_active_power_calculated_by_converter',\n",
       "       'active_power_raw_add_active_power_calculated_by_converter',\n",
       "       'ambient_temperature_add_active_power_calculated_by_converter',\n",
       "       'generator_speed_add_active_power_calculated_by_converter',\n",
       "       'generator_winding_temp_max_add_active_power_calculated_by_converter',\n",
       "       'grid_power10min_average_add_active_power_calculated_by_converter',\n",
       "       'nc1_inside_temp_add_active_power_calculated_by_converter',\n",
       "       'nacelle_temp_add_active_power_calculated_by_converter',\n",
       "       'reactice_power_calculated_by_converter_add_active_power_calculated_by_converter',\n",
       "       'reactive_power_add_active_power_calculated_by_converter',\n",
       "       'wind_direction_raw_add_active_power_calculated_by_converter',\n",
       "       'wind_speed_raw_add_active_power_calculated_by_converter',\n",
       "       'wind_speed_turbulence_add_active_power_calculated_by_converter',\n",
       "       'active_power_calculated_by_converter_add_active_power_raw',\n",
       "       'active_power_raw_add_active_power_raw',\n",
       "       'ambient_temperature_add_active_power_raw',\n",
       "       'generator_speed_add_active_power_raw',\n",
       "       'generator_winding_temp_max_add_active_power_raw',\n",
       "       'grid_power10min_average_add_active_power_raw',\n",
       "       'nc1_inside_temp_add_active_power_raw',\n",
       "       'nacelle_temp_add_active_power_raw',\n",
       "       'reactice_power_calculated_by_converter_add_active_power_raw',\n",
       "       'reactive_power_add_active_power_raw',\n",
       "       'wind_direction_raw_add_active_power_raw',\n",
       "       'wind_speed_raw_add_active_power_raw',\n",
       "       'wind_speed_turbulence_add_active_power_raw',\n",
       "       'active_power_calculated_by_converter_add_ambient_temperature',\n",
       "       'active_power_raw_add_ambient_temperature',\n",
       "       'ambient_temperature_add_ambient_temperature',\n",
       "       'generator_speed_add_ambient_temperature',\n",
       "       'generator_winding_temp_max_add_ambient_temperature',\n",
       "       'grid_power10min_average_add_ambient_temperature',\n",
       "       'nc1_inside_temp_add_ambient_temperature',\n",
       "       'nacelle_temp_add_ambient_temperature',\n",
       "       'reactice_power_calculated_by_converter_add_ambient_temperature',\n",
       "       'reactive_power_add_ambient_temperature',\n",
       "       'wind_direction_raw_add_ambient_temperature',\n",
       "       'wind_speed_raw_add_ambient_temperature',\n",
       "       'wind_speed_turbulence_add_ambient_temperature',\n",
       "       'active_power_calculated_by_converter_add_generator_speed',\n",
       "       'active_power_raw_add_generator_speed',\n",
       "       'ambient_temperature_add_generator_speed',\n",
       "       'generator_speed_add_generator_speed',\n",
       "       'generator_winding_temp_max_add_generator_speed',\n",
       "       'grid_power10min_average_add_generator_speed',\n",
       "       'nc1_inside_temp_add_generator_speed',\n",
       "       'nacelle_temp_add_generator_speed',\n",
       "       'reactice_power_calculated_by_converter_add_generator_speed',\n",
       "       'reactive_power_add_generator_speed',\n",
       "       'wind_direction_raw_add_generator_speed',\n",
       "       'wind_speed_raw_add_generator_speed',\n",
       "       'wind_speed_turbulence_add_generator_speed',\n",
       "       'active_power_calculated_by_converter_add_generator_winding_temp_max',\n",
       "       'active_power_raw_add_generator_winding_temp_max',\n",
       "       'ambient_temperature_add_generator_winding_temp_max',\n",
       "       'generator_speed_add_generator_winding_temp_max',\n",
       "       'generator_winding_temp_max_add_generator_winding_temp_max',\n",
       "       'grid_power10min_average_add_generator_winding_temp_max',\n",
       "       'nc1_inside_temp_add_generator_winding_temp_max',\n",
       "       'nacelle_temp_add_generator_winding_temp_max',\n",
       "       'reactice_power_calculated_by_converter_add_generator_winding_temp_max',\n",
       "       'reactive_power_add_generator_winding_temp_max',\n",
       "       'wind_direction_raw_add_generator_winding_temp_max',\n",
       "       'wind_speed_raw_add_generator_winding_temp_max',\n",
       "       'wind_speed_turbulence_add_generator_winding_temp_max',\n",
       "       'active_power_calculated_by_converter_add_grid_power10min_average',\n",
       "       'active_power_raw_add_grid_power10min_average',\n",
       "       'ambient_temperature_add_grid_power10min_average',\n",
       "       'generator_speed_add_grid_power10min_average',\n",
       "       'generator_winding_temp_max_add_grid_power10min_average',\n",
       "       'grid_power10min_average_add_grid_power10min_average',\n",
       "       'nc1_inside_temp_add_grid_power10min_average',\n",
       "       'nacelle_temp_add_grid_power10min_average',\n",
       "       'reactice_power_calculated_by_converter_add_grid_power10min_average',\n",
       "       'reactive_power_add_grid_power10min_average',\n",
       "       'wind_direction_raw_add_grid_power10min_average',\n",
       "       'wind_speed_raw_add_grid_power10min_average',\n",
       "       'wind_speed_turbulence_add_grid_power10min_average',\n",
       "       'active_power_calculated_by_converter_add_nc1_inside_temp',\n",
       "       'active_power_raw_add_nc1_inside_temp',\n",
       "       'ambient_temperature_add_nc1_inside_temp',\n",
       "       'generator_speed_add_nc1_inside_temp',\n",
       "       'generator_winding_temp_max_add_nc1_inside_temp',\n",
       "       'grid_power10min_average_add_nc1_inside_temp',\n",
       "       'nc1_inside_temp_add_nc1_inside_temp',\n",
       "       'nacelle_temp_add_nc1_inside_temp',\n",
       "       'reactice_power_calculated_by_converter_add_nc1_inside_temp',\n",
       "       'reactive_power_add_nc1_inside_temp',\n",
       "       'wind_direction_raw_add_nc1_inside_temp',\n",
       "       'wind_speed_raw_add_nc1_inside_temp',\n",
       "       'wind_speed_turbulence_add_nc1_inside_temp',\n",
       "       'active_power_calculated_by_converter_add_nacelle_temp',\n",
       "       'active_power_raw_add_nacelle_temp',\n",
       "       'ambient_temperature_add_nacelle_temp',\n",
       "       'generator_speed_add_nacelle_temp',\n",
       "       'generator_winding_temp_max_add_nacelle_temp',\n",
       "       'grid_power10min_average_add_nacelle_temp',\n",
       "       'nc1_inside_temp_add_nacelle_temp',\n",
       "       'nacelle_temp_add_nacelle_temp',\n",
       "       'reactice_power_calculated_by_converter_add_nacelle_temp',\n",
       "       'reactive_power_add_nacelle_temp',\n",
       "       'wind_direction_raw_add_nacelle_temp',\n",
       "       'wind_speed_raw_add_nacelle_temp',\n",
       "       'wind_speed_turbulence_add_nacelle_temp',\n",
       "       'active_power_calculated_by_converter_add_reactice_power_calculated_by_converter',\n",
       "       'active_power_raw_add_reactice_power_calculated_by_converter',\n",
       "       'ambient_temperature_add_reactice_power_calculated_by_converter',\n",
       "       'generator_speed_add_reactice_power_calculated_by_converter',\n",
       "       'generator_winding_temp_max_add_reactice_power_calculated_by_converter',\n",
       "       'grid_power10min_average_add_reactice_power_calculated_by_converter',\n",
       "       'nc1_inside_temp_add_reactice_power_calculated_by_converter',\n",
       "       'nacelle_temp_add_reactice_power_calculated_by_converter',\n",
       "       'reactice_power_calculated_by_converter_add_reactice_power_calculated_by_converter',\n",
       "       'reactive_power_add_reactice_power_calculated_by_converter',\n",
       "       'wind_direction_raw_add_reactice_power_calculated_by_converter',\n",
       "       'wind_speed_raw_add_reactice_power_calculated_by_converter',\n",
       "       'wind_speed_turbulence_add_reactice_power_calculated_by_converter',\n",
       "       'active_power_calculated_by_converter_add_reactive_power',\n",
       "       'active_power_raw_add_reactive_power',\n",
       "       'ambient_temperature_add_reactive_power',\n",
       "       'generator_speed_add_reactive_power',\n",
       "       'generator_winding_temp_max_add_reactive_power',\n",
       "       'grid_power10min_average_add_reactive_power',\n",
       "       'nc1_inside_temp_add_reactive_power',\n",
       "       'nacelle_temp_add_reactive_power',\n",
       "       'reactice_power_calculated_by_converter_add_reactive_power',\n",
       "       'reactive_power_add_reactive_power',\n",
       "       'wind_direction_raw_add_reactive_power',\n",
       "       'wind_speed_raw_add_reactive_power',\n",
       "       'wind_speed_turbulence_add_reactive_power',\n",
       "       'active_power_calculated_by_converter_add_wind_direction_raw',\n",
       "       'active_power_raw_add_wind_direction_raw',\n",
       "       'ambient_temperature_add_wind_direction_raw',\n",
       "       'generator_speed_add_wind_direction_raw',\n",
       "       'generator_winding_temp_max_add_wind_direction_raw',\n",
       "       'grid_power10min_average_add_wind_direction_raw',\n",
       "       'nc1_inside_temp_add_wind_direction_raw',\n",
       "       'nacelle_temp_add_wind_direction_raw',\n",
       "       'reactice_power_calculated_by_converter_add_wind_direction_raw',\n",
       "       'reactive_power_add_wind_direction_raw',\n",
       "       'wind_direction_raw_add_wind_direction_raw',\n",
       "       'wind_speed_raw_add_wind_direction_raw',\n",
       "       'wind_speed_turbulence_add_wind_direction_raw',\n",
       "       'active_power_calculated_by_converter_add_wind_speed_raw',\n",
       "       'active_power_raw_add_wind_speed_raw',\n",
       "       'ambient_temperature_add_wind_speed_raw',\n",
       "       'generator_speed_add_wind_speed_raw',\n",
       "       'generator_winding_temp_max_add_wind_speed_raw',\n",
       "       'grid_power10min_average_add_wind_speed_raw',\n",
       "       'nc1_inside_temp_add_wind_speed_raw',\n",
       "       'nacelle_temp_add_wind_speed_raw',\n",
       "       'reactice_power_calculated_by_converter_add_wind_speed_raw',\n",
       "       'reactive_power_add_wind_speed_raw',\n",
       "       'wind_direction_raw_add_wind_speed_raw',\n",
       "       'wind_speed_raw_add_wind_speed_raw',\n",
       "       'wind_speed_turbulence_add_wind_speed_raw',\n",
       "       'active_power_calculated_by_converter_add_wind_speed_turbulence',\n",
       "       'active_power_raw_add_wind_speed_turbulence',\n",
       "       'ambient_temperature_add_wind_speed_turbulence',\n",
       "       'generator_speed_add_wind_speed_turbulence',\n",
       "       'generator_winding_temp_max_add_wind_speed_turbulence',\n",
       "       'grid_power10min_average_add_wind_speed_turbulence',\n",
       "       'nc1_inside_temp_add_wind_speed_turbulence',\n",
       "       'nacelle_temp_add_wind_speed_turbulence',\n",
       "       'reactice_power_calculated_by_converter_add_wind_speed_turbulence',\n",
       "       'reactive_power_add_wind_speed_turbulence',\n",
       "       'wind_direction_raw_add_wind_speed_turbulence',\n",
       "       'wind_speed_raw_add_wind_speed_turbulence',\n",
       "       'wind_speed_turbulence_add_wind_speed_turbulence'], dtype=object)"
      ]
     },
     "execution_count": 21,
     "metadata": {},
     "output_type": "execute_result"
    }
   ],
   "source": [
    "lasso.feature_names_in_"
   ]
  },
  {
   "cell_type": "code",
   "execution_count": 22,
   "metadata": {},
   "outputs": [],
   "source": [
    "wts  = lasso[2].coef_/sum(lasso[2].coef_)"
   ]
  },
  {
   "cell_type": "code",
   "execution_count": 23,
   "metadata": {},
   "outputs": [
    {
     "data": {
      "text/plain": [
       "{'active_power_calculated_by_converter': 3.0370655171358856e-11,\n",
       " 'active_power_raw': 1.4085591016938617,\n",
       " 'ambient_temperature': 0.3134930602721683,\n",
       " 'generator_speed': 6.969339598156212,\n",
       " 'generator_winding_temp_max': 6.432146805668183,\n",
       " 'grid_power10min_average': 11.644903914773515,\n",
       " 'nc1_inside_temp': 4.287687807036323,\n",
       " 'nacelle_temp': 3.0352708086299187,\n",
       " 'reactice_power_calculated_by_converter': 32.88007957049923,\n",
       " 'reactive_power': 1.7501468524250277,\n",
       " 'wind_direction_raw': 0.8308688505036644,\n",
       " 'wind_speed_raw': 8.206964855998883,\n",
       " 'wind_speed_turbulence': 2.1529670937257626,\n",
       " 'turbine_id': 0.3992313245933589,\n",
       " 'active_power_calculated_by_converter_add_active_power_calculated_by_converter': 0.03906517497366189,\n",
       " 'active_power_raw_add_active_power_calculated_by_converter': 0.15238770342866356,\n",
       " 'ambient_temperature_add_active_power_calculated_by_converter': 0.01576670789543068,\n",
       " 'generator_speed_add_active_power_calculated_by_converter': 0.61428298929733,\n",
       " 'generator_winding_temp_max_add_active_power_calculated_by_converter': 0.18653379047144802,\n",
       " 'grid_power10min_average_add_active_power_calculated_by_converter': 0.2819928614779725,\n",
       " 'nc1_inside_temp_add_active_power_calculated_by_converter': 0.1879640671247522,\n",
       " 'nacelle_temp_add_active_power_calculated_by_converter': 0.21911374821917076,\n",
       " 'reactice_power_calculated_by_converter_add_active_power_calculated_by_converter': 0.3212559446844267,\n",
       " 'reactive_power_add_active_power_calculated_by_converter': 0.130787262915471,\n",
       " 'wind_direction_raw_add_active_power_calculated_by_converter': 0.33420542317722485,\n",
       " 'wind_speed_raw_add_active_power_calculated_by_converter': 0.3105620464077888,\n",
       " 'wind_speed_turbulence_add_active_power_calculated_by_converter': 0.03965833336590983,\n",
       " 'active_power_calculated_by_converter_add_active_power_raw': 0.1523877034287114,\n",
       " 'active_power_raw_add_active_power_raw': 0.16923409538675974,\n",
       " 'ambient_temperature_add_active_power_raw': 0.30938016333049984,\n",
       " 'generator_speed_add_active_power_raw': 1.0254773913887263,\n",
       " 'generator_winding_temp_max_add_active_power_raw': 0.4429999528137169,\n",
       " 'grid_power10min_average_add_active_power_raw': 0.319436849851655,\n",
       " 'nc1_inside_temp_add_active_power_raw': 0.5042292325092114,\n",
       " 'nacelle_temp_add_active_power_raw': 1.0131321678006575,\n",
       " 'reactice_power_calculated_by_converter_add_active_power_raw': 1.0678909093962072,\n",
       " 'reactive_power_add_active_power_raw': 0.19567485677271548,\n",
       " 'wind_direction_raw_add_active_power_raw': 3.5677620785309148,\n",
       " 'wind_speed_raw_add_active_power_raw': 0.7475922236573173,\n",
       " 'wind_speed_turbulence_add_active_power_raw': 0.2228082446137544,\n",
       " 'active_power_calculated_by_converter_add_ambient_temperature': 0.6771767761324452,\n",
       " 'active_power_raw_add_ambient_temperature': 0.12105488319568086,\n",
       " 'ambient_temperature_add_ambient_temperature': 0.1983952814368559,\n",
       " 'generator_speed_add_ambient_temperature': 13.86944499921042,\n",
       " 'generator_winding_temp_max_add_ambient_temperature': 5.395335356908231,\n",
       " 'grid_power10min_average_add_ambient_temperature': 0.44155625298988943,\n",
       " 'nc1_inside_temp_add_ambient_temperature': 1.5248155053831787,\n",
       " 'nacelle_temp_add_ambient_temperature': 3.6429632262253198,\n",
       " 'reactice_power_calculated_by_converter_add_ambient_temperature': 1.146355042455429,\n",
       " 'reactive_power_add_ambient_temperature': 0.7446610896639985,\n",
       " 'wind_direction_raw_add_ambient_temperature': 2.8628369228546537,\n",
       " 'wind_speed_raw_add_ambient_temperature': 2.1519091044056666,\n",
       " 'wind_speed_turbulence_add_ambient_temperature': 0.33363776753567126,\n",
       " 'active_power_calculated_by_converter_add_generator_speed': 2.4421820214487715,\n",
       " 'active_power_raw_add_generator_speed': 1.4308582097037383,\n",
       " 'ambient_temperature_add_generator_speed': 13.869444999210417,\n",
       " 'generator_speed_add_generator_speed': 15.097488368039965,\n",
       " 'generator_winding_temp_max_add_generator_speed': 1.1853575516349457,\n",
       " 'grid_power10min_average_add_generator_speed': 2.093112212237699,\n",
       " 'nc1_inside_temp_add_generator_speed': 0.6232707285371216,\n",
       " 'nacelle_temp_add_generator_speed': 1.065166423912181,\n",
       " 'reactice_power_calculated_by_converter_add_generator_speed': 1.8328503518282475,\n",
       " 'reactive_power_add_generator_speed': 2.0135712501474448,\n",
       " 'wind_direction_raw_add_generator_speed': 6.536696016515399,\n",
       " 'wind_speed_raw_add_generator_speed': 2.7016656626166524,\n",
       " 'wind_speed_turbulence_add_generator_speed': 9.435922026960794,\n",
       " 'active_power_calculated_by_converter_add_generator_winding_temp_max': 0.07333933356464586,\n",
       " 'active_power_raw_add_generator_winding_temp_max': 0.49326844939867187,\n",
       " 'ambient_temperature_add_generator_winding_temp_max': 5.516934913226932,\n",
       " 'generator_speed_add_generator_winding_temp_max': 1.0911824262848007,\n",
       " 'generator_winding_temp_max_add_generator_winding_temp_max': 3.2538442300013486,\n",
       " 'grid_power10min_average_add_generator_winding_temp_max': 1.5959269123302589,\n",
       " 'nc1_inside_temp_add_generator_winding_temp_max': 4.752672178332442,\n",
       " 'nacelle_temp_add_generator_winding_temp_max': 0.19657956409045718,\n",
       " 'reactice_power_calculated_by_converter_add_generator_winding_temp_max': 3.938724327739342,\n",
       " 'reactive_power_add_generator_winding_temp_max': 1.2162388475343173,\n",
       " 'wind_direction_raw_add_generator_winding_temp_max': 3.4469589864777284,\n",
       " 'wind_speed_raw_add_generator_winding_temp_max': 4.054655470310771,\n",
       " 'wind_speed_turbulence_add_generator_winding_temp_max': 1.1070558346981156,\n",
       " 'active_power_calculated_by_converter_add_grid_power10min_average': 1.1325624437093509,\n",
       " 'active_power_raw_add_grid_power10min_average': 0.3194368498516551,\n",
       " 'ambient_temperature_add_grid_power10min_average': 0.44155625298988077,\n",
       " 'generator_speed_add_grid_power10min_average': 2.0931122122377035,\n",
       " 'generator_winding_temp_max_add_grid_power10min_average': 1.5959269123302589,\n",
       " 'grid_power10min_average_add_grid_power10min_average': 2.177050511713316,\n",
       " 'nc1_inside_temp_add_grid_power10min_average': 1.787990079996271,\n",
       " 'nacelle_temp_add_grid_power10min_average': 2.514222153075631,\n",
       " 'reactice_power_calculated_by_converter_add_grid_power10min_average': 0.4553008128503009,\n",
       " 'reactive_power_add_grid_power10min_average': 1.1581465575046683,\n",
       " 'wind_direction_raw_add_grid_power10min_average': 0.3548135300537199,\n",
       " 'wind_speed_raw_add_grid_power10min_average': 0.2335171915181818,\n",
       " 'wind_speed_turbulence_add_grid_power10min_average': 0.9675542538827918,\n",
       " 'active_power_calculated_by_converter_add_nc1_inside_temp': 0.6377046215293735,\n",
       " 'active_power_raw_add_nc1_inside_temp': 0.5042292325092159,\n",
       " 'ambient_temperature_add_nc1_inside_temp': 1.5248155053831929,\n",
       " 'generator_speed_add_nc1_inside_temp': 0.6232707285371183,\n",
       " 'generator_winding_temp_max_add_nc1_inside_temp': 4.752672178332445,\n",
       " 'grid_power10min_average_add_nc1_inside_temp': 1.7879900799962707,\n",
       " 'nc1_inside_temp_add_nc1_inside_temp': 0.6228438269562511,\n",
       " 'nacelle_temp_add_nc1_inside_temp': 6.867640100683018,\n",
       " 'reactice_power_calculated_by_converter_add_nc1_inside_temp': 5.049009921604175,\n",
       " 'reactive_power_add_nc1_inside_temp': 0.9196762285494637,\n",
       " 'wind_direction_raw_add_nc1_inside_temp': 2.27815239145855,\n",
       " 'wind_speed_raw_add_nc1_inside_temp': 3.6195683780732586,\n",
       " 'wind_speed_turbulence_add_nc1_inside_temp': 0.09346741983213293,\n",
       " 'active_power_calculated_by_converter_add_nacelle_temp': 0.04493136846125358,\n",
       " 'active_power_raw_add_nacelle_temp': 1.1197492404201166,\n",
       " 'ambient_temperature_add_nacelle_temp': 3.367482112519413,\n",
       " 'generator_speed_add_nacelle_temp': 1.06516642391218,\n",
       " 'generator_winding_temp_max_add_nacelle_temp': 0.19657956409046554,\n",
       " 'grid_power10min_average_add_nacelle_temp': 2.0410816089440944,\n",
       " 'nc1_inside_temp_add_nacelle_temp': 6.867640100683024,\n",
       " 'nacelle_temp_add_nacelle_temp': 7.417737708311006,\n",
       " 'reactice_power_calculated_by_converter_add_nacelle_temp': 0.1463409803701225,\n",
       " 'reactive_power_add_nacelle_temp': 0.9371386711471953,\n",
       " 'wind_direction_raw_add_nacelle_temp': 0.46656383006330926,\n",
       " 'wind_speed_raw_add_nacelle_temp': 13.263495817200392,\n",
       " 'wind_speed_turbulence_add_nacelle_temp': 3.1569509544904704,\n",
       " 'active_power_calculated_by_converter_add_reactice_power_calculated_by_converter': 0.7461127471565444,\n",
       " 'active_power_raw_add_reactice_power_calculated_by_converter': 1.0678909093962115,\n",
       " 'ambient_temperature_add_reactice_power_calculated_by_converter': 1.5809766258868716,\n",
       " 'generator_speed_add_reactice_power_calculated_by_converter': 1.8328503518282442,\n",
       " 'generator_winding_temp_max_add_reactice_power_calculated_by_converter': 3.9387243277393402,\n",
       " 'grid_power10min_average_add_reactice_power_calculated_by_converter': 0.14361499609219022,\n",
       " 'nc1_inside_temp_add_reactice_power_calculated_by_converter': 5.037957483432441,\n",
       " 'nacelle_temp_add_reactice_power_calculated_by_converter': 0.27584057041170446,\n",
       " 'reactice_power_calculated_by_converter_add_reactice_power_calculated_by_converter': 0.4551465446532905,\n",
       " 'reactive_power_add_reactice_power_calculated_by_converter': 2.4077806676045292,\n",
       " 'wind_direction_raw_add_reactice_power_calculated_by_converter': 1.6439329452104876,\n",
       " 'wind_speed_raw_add_reactice_power_calculated_by_converter': 0.4776993274793932,\n",
       " 'wind_speed_turbulence_add_reactice_power_calculated_by_converter': 0.05602753999981752,\n",
       " 'active_power_calculated_by_converter_add_reactive_power': 0.38737511221192594,\n",
       " 'active_power_raw_add_reactive_power': 0.19567485677271348,\n",
       " 'ambient_temperature_add_reactive_power': 0.5959532766259416,\n",
       " 'generator_speed_add_reactive_power': 2.0135712501474528,\n",
       " 'generator_winding_temp_max_add_reactive_power': 1.2162388475343173,\n",
       " 'grid_power10min_average_add_reactive_power': 1.5904277794959982,\n",
       " 'nc1_inside_temp_add_reactive_power': 1.1929295274963991,\n",
       " 'nacelle_temp_add_reactive_power': 0.9668507809883423,\n",
       " 'reactice_power_calculated_by_converter_add_reactive_power': 2.407780667604528,\n",
       " 'reactive_power_add_reactive_power': 1.4872051427105761,\n",
       " 'wind_direction_raw_add_reactive_power': 2.4611153317690815,\n",
       " 'wind_speed_raw_add_reactive_power': 3.4671526545302926,\n",
       " 'wind_speed_turbulence_add_reactive_power': 0.9004283626082898,\n",
       " 'active_power_calculated_by_converter_add_wind_direction_raw': 1.5176986654219844,\n",
       " 'active_power_raw_add_wind_direction_raw': 3.4684599506328735,\n",
       " 'ambient_temperature_add_wind_direction_raw': 2.4046622335395322,\n",
       " 'generator_speed_add_wind_direction_raw': 6.536696016515398,\n",
       " 'generator_winding_temp_max_add_wind_direction_raw': 3.4469589864777275,\n",
       " 'grid_power10min_average_add_wind_direction_raw': 0.35481353005372157,\n",
       " 'nc1_inside_temp_add_wind_direction_raw': 2.2781523914585504,\n",
       " 'nacelle_temp_add_wind_direction_raw': 0.5092784262234591,\n",
       " 'reactice_power_calculated_by_converter_add_wind_direction_raw': 1.6439329452104834,\n",
       " 'reactive_power_add_wind_direction_raw': 2.4611153317690815,\n",
       " 'wind_direction_raw_add_wind_direction_raw': 10.902798630084735,\n",
       " 'wind_speed_raw_add_wind_direction_raw': 0.6761117854818175,\n",
       " 'wind_speed_turbulence_add_wind_direction_raw': 1.290370537571649,\n",
       " 'active_power_calculated_by_converter_add_wind_speed_raw': 0.34985925119260597,\n",
       " 'active_power_raw_add_wind_speed_raw': 0.7475922236573173,\n",
       " 'ambient_temperature_add_wind_speed_raw': 1.922772786580389,\n",
       " 'generator_speed_add_wind_speed_raw': 2.701665662616652,\n",
       " 'generator_winding_temp_max_add_wind_speed_raw': 4.054655470310772,\n",
       " 'grid_power10min_average_add_wind_speed_raw': 0.12882644262501938,\n",
       " 'nc1_inside_temp_add_wind_speed_raw': 3.744531489039306,\n",
       " 'nacelle_temp_add_wind_speed_raw': 12.94371756420879,\n",
       " 'reactice_power_calculated_by_converter_add_wind_speed_raw': 0.4776993274793932,\n",
       " 'reactive_power_add_wind_speed_raw': 3.4671526545302944,\n",
       " 'wind_direction_raw_add_wind_speed_raw': 0.676111785481817,\n",
       " 'wind_speed_raw_add_wind_speed_raw': 0.784190331107807,\n",
       " 'wind_speed_turbulence_add_wind_speed_raw': 2.6568070262389507,\n",
       " 'active_power_calculated_by_converter_add_wind_speed_turbulence': 0.5958854210554265,\n",
       " 'active_power_raw_add_wind_speed_turbulence': 0.2228082446137544,\n",
       " 'ambient_temperature_add_wind_speed_turbulence': 0.3336377675356504,\n",
       " 'generator_speed_add_wind_speed_turbulence': 9.475255492345402,\n",
       " 'generator_winding_temp_max_add_wind_speed_turbulence': 1.107055834698115,\n",
       " 'grid_power10min_average_add_wind_speed_turbulence': 1.2317601824673179,\n",
       " 'nc1_inside_temp_add_wind_speed_turbulence': 0.09346741983213293,\n",
       " 'nacelle_temp_add_wind_speed_turbulence': 3.1569509544904704,\n",
       " 'reactice_power_calculated_by_converter_add_wind_speed_turbulence': 0.05602753999981752,\n",
       " 'reactive_power_add_wind_speed_turbulence': 0.8220702122964596,\n",
       " 'wind_direction_raw_add_wind_speed_turbulence': 1.2851290189325388,\n",
       " 'wind_speed_raw_add_wind_speed_turbulence': 2.7972095750726176,\n",
       " 'wind_speed_turbulence_add_wind_speed_turbulence': 0.12919631847157725}"
      ]
     },
     "execution_count": 23,
     "metadata": {},
     "output_type": "execute_result"
    }
   ],
   "source": [
    "all_fts = {}\n",
    "for ft_name, coef in zip(lasso.feature_names_in_, wts):\n",
    "    all_fts[ft_name] = abs(coef)\n",
    "# all_fts"
   ]
  },
  {
   "cell_type": "code",
   "execution_count": 24,
   "metadata": {},
   "outputs": [],
   "source": [
    "all_fts = {k: v for k, v in sorted(all_fts.items(), key=lambda item: item[1], reverse=True)}"
   ]
  },
  {
   "cell_type": "code",
   "execution_count": 36,
   "metadata": {},
   "outputs": [],
   "source": [
    "# all_fts"
   ]
  },
  {
   "cell_type": "code",
   "execution_count": 26,
   "metadata": {},
   "outputs": [],
   "source": [
    "# list(all_fts.keys()).index('reactive_power_mul_reactice_power_calculated_by_converter')  # fts. with coef > 3"
   ]
  },
  {
   "cell_type": "code",
   "execution_count": 27,
   "metadata": {},
   "outputs": [],
   "source": [
    "div_fts = []\n",
    "for idx, ft in enumerate(list(all_fts.keys())):\n",
    "    if idx == 10:\n",
    "        break\n",
    "    else:\n",
    "        div_fts.append(ft)"
   ]
  },
  {
   "cell_type": "code",
   "execution_count": 28,
   "metadata": {},
   "outputs": [],
   "source": [
    "d_fts = ['reactice_power_calculated_by_converter_div_generator_speed',\n",
    " 'grid_power10min_average_div_generator_speed',\n",
    " 'nacelle_temp_div_generator_speed',\n",
    " 'active_power_calculated_by_converter_div_generator_speed',\n",
    " 'nc1_inside_temp_div_generator_speed',\n",
    " 'generator_winding_temp_max_div_generator_speed',\n",
    " 'reactive_power_div_generator_speed',\n",
    " 'active_power_raw_div_generator_speed',\n",
    " 'wind_speed_raw_div_generator_speed',\n",
    " 'generator_winding_temp_max_div_wind_speed_turbulence',\n",
    " 'ambient_temperature_div_generator_speed',\n",
    " 'nacelle_temp_div_wind_speed_turbulence',\n",
    " 'wind_speed_turbulence_div_generator_speed',\n",
    " 'generator_winding_temp_max_div_grid_power10min_average',\n",
    " 'wind_speed_raw_div_wind_speed_turbulence',\n",
    " 'nacelle_temp_div_grid_power10min_average',\n",
    " 'reactive_power_div_grid_power10min_average',\n",
    " 'ambient_temperature_div_wind_speed_turbulence',\n",
    " 'reactice_power_calculated_by_converter_div_grid_power10min_average',\n",
    " 'wind_direction_raw_div_generator_speed',\n",
    " 'reactive_power_div_wind_speed_turbulence',\n",
    " 'wind_direction_raw_div_wind_speed_turbulence',\n",
    " 'nc1_inside_temp_div_wind_speed_turbulence',\n",
    " 'ambient_temperature_div_grid_power10min_average',\n",
    " 'nc1_inside_temp_div_ambient_temperature']\n",
    "\n",
    "\n",
    "sub_fts = ['nc1_inside_temp',\n",
    " 'grid_power10min_average',\n",
    " 'active_power_calculated_by_converter_sub_grid_power10min_average',\n",
    " 'reactice_power_calculated_by_converter_sub_grid_power10min_average',\n",
    " 'grid_power10min_average_sub_reactice_power_calculated_by_converter',\n",
    " 'reactice_power_calculated_by_converter',\n",
    " 'active_power_raw_sub_grid_power10min_average',\n",
    " 'grid_power10min_average_sub_active_power_raw',\n",
    " 'ambient_temperature_sub_grid_power10min_average',\n",
    " 'grid_power10min_average_sub_ambient_temperature']"
   ]
  },
  {
   "cell_type": "code",
   "execution_count": 29,
   "metadata": {},
   "outputs": [
    {
     "data": {
      "text/plain": [
       "['reactice_power_calculated_by_converter',\n",
       " 'generator_speed_add_generator_speed',\n",
       " 'generator_speed_add_ambient_temperature',\n",
       " 'ambient_temperature_add_generator_speed',\n",
       " 'wind_speed_raw_add_nacelle_temp',\n",
       " 'nacelle_temp_add_wind_speed_raw',\n",
       " 'grid_power10min_average',\n",
       " 'wind_direction_raw_add_wind_direction_raw',\n",
       " 'generator_speed_add_wind_speed_turbulence',\n",
       " 'wind_speed_turbulence_add_generator_speed']"
      ]
     },
     "execution_count": 29,
     "metadata": {},
     "output_type": "execute_result"
    }
   ],
   "source": [
    "div_fts"
   ]
  },
  {
   "cell_type": "code",
   "execution_count": 30,
   "metadata": {},
   "outputs": [
    {
     "data": {
      "text/plain": [
       "['reactice_power_calculated_by_converter',\n",
       " 'generator_speed_add_generator_speed',\n",
       " 'generator_speed_add_ambient_temperature',\n",
       " 'ambient_temperature_add_generator_speed',\n",
       " 'wind_speed_raw_add_nacelle_temp',\n",
       " 'nacelle_temp_add_wind_speed_raw',\n",
       " 'grid_power10min_average',\n",
       " 'wind_direction_raw_add_wind_direction_raw',\n",
       " 'generator_speed_add_wind_speed_turbulence',\n",
       " 'wind_speed_turbulence_add_generator_speed',\n",
       " 'active_power_calculated_by_converter',\n",
       " 'active_power_raw',\n",
       " 'ambient_temperature',\n",
       " 'generator_speed',\n",
       " 'generator_winding_temp_max',\n",
       " 'grid_power10min_average',\n",
       " 'nc1_inside_temp',\n",
       " 'nacelle_temp',\n",
       " 'reactice_power_calculated_by_converter',\n",
       " 'reactive_power',\n",
       " 'wind_direction_raw',\n",
       " 'wind_speed_raw',\n",
       " 'wind_speed_turbulence',\n",
       " 'turbine_id',\n",
       " 'Target']"
      ]
     },
     "execution_count": 30,
     "metadata": {},
     "output_type": "execute_result"
    }
   ],
   "source": [
    "final_fts = []\n",
    "final_fts.extend(div_fts)\n",
    "final_fts.extend(org_cols)\n",
    "final_fts"
   ]
  },
  {
   "cell_type": "code",
   "execution_count": 31,
   "metadata": {},
   "outputs": [
    {
     "data": {
      "text/plain": [
       "25"
      ]
     },
     "execution_count": 31,
     "metadata": {},
     "output_type": "execute_result"
    }
   ],
   "source": [
    "len(final_fts)"
   ]
  },
  {
   "cell_type": "code",
   "execution_count": 33,
   "metadata": {},
   "outputs": [
    {
     "data": {
      "text/plain": [
       "((909604, 25), (303202, 24))"
      ]
     },
     "execution_count": 33,
     "metadata": {},
     "output_type": "execute_result"
    }
   ],
   "source": [
    "tr_, te_ = train_data_trans[final_fts], test_data_trans[final_fts[:-1]]\n",
    "tr_.shape, te_.shape"
   ]
  },
  {
   "cell_type": "code",
   "execution_count": 34,
   "metadata": {},
   "outputs": [
    {
     "data": {
      "text/plain": [
       "True"
      ]
     },
     "execution_count": 34,
     "metadata": {},
     "output_type": "execute_result"
    }
   ],
   "source": [
    "tr_.drop('Target', axis=1).columns.equals(te_.columns)"
   ]
  },
  {
   "cell_type": "markdown",
   "metadata": {},
   "source": [
    "# Train and Eval"
   ]
  },
  {
   "cell_type": "code",
   "execution_count": 35,
   "metadata": {},
   "outputs": [],
   "source": [
    "def train_and_eval(X_train, y_train, X_val, y_val):\n",
    "    print(X_train.shape, y_train.shape, X_val.shape, y_val.shape)\n",
    "    print('Training Model...')\n",
    "    model = XGBRegressor(tree_method='gpu_hist', n_estimators=3000, random_state=RAND, n_jobs=-1, verbose=True)\n",
    "    # model = RandomForestRegressor\n",
    "    model = get_model(model)\n",
    "    model.fit(X_train, y_train)\n",
    "    print(X_train.shape, y_train.shape, X_val.shape, y_val.shape)\n",
    "    train_score = comp_score(model.predict(X_train), y_train)\n",
    "    print(\"Training MAPE: \", train_score)\n",
    "\n",
    "    print('Validating Model..')\n",
    "    preds = model.predict(X_val)\n",
    "    val_score = comp_score(y_val, preds)\n",
    "    print(\"Validation MAPE: \", val_score)\n",
    "    print(\"validation rmse: \", mean_squared_error(y_val, preds, squared=False))\n",
    "\n",
    "    return model, train_score, val_score\n",
    "\n",
    "\n",
    "def __cross_validate(holdout=False, cv_predict=False, wandb_track=True):\n",
    "    cv_scores = []\n",
    "\n",
    "    drop_cols = ['Target']\n",
    "    \n",
    "    if cv_predict:\n",
    "        cvpreds_test = np.zeros(shape=(len(te_), N_FOLDS))\n",
    "        cvpreds_train = np.zeros(shape=(len(tr_)))\n",
    "    \n",
    "    kf = KFold(n_splits=N_FOLDS, random_state=RAND, shuffle=True)\n",
    "    for fold, (train_idx, val_idx) in enumerate(kf.split(tr_)):\n",
    "        print(f'Fold : {fold}')\n",
    "\n",
    "        train_fold = tr_.iloc[train_idx]\n",
    "        val_fold = tr_.iloc[val_idx]\n",
    "\n",
    "        X_train, y_train = train_fold.drop(\n",
    "            drop_cols, axis=1), train_fold.Target\n",
    "        X_val, y_val = val_fold.drop(\n",
    "            drop_cols, axis=1), val_fold.Target\n",
    "        \n",
    "        start = time.time() \n",
    "        model, train_score, val_score = train_and_eval(\n",
    "            X_train, y_train, X_val, y_val)\n",
    "        end = time.time()\n",
    "        print(f'Time taken: {end - start}')\n",
    "\n",
    "        if wandb_track:\n",
    "            # wandb tracking\n",
    "            wandb.log({\n",
    "                'fold': fold,\n",
    "                'Train_score': train_score,\n",
    "                'Val_score': val_score \n",
    "            })\n",
    "\n",
    "        cv_scores.append(val_score)\n",
    "\n",
    "        if cv_predict:\n",
    "            # save predictions for ensembling\n",
    "            cvpreds_test[:, fold] = model.predict(te_, axis=1)\n",
    "            cvpreds_train[val_idx] = model.predict(X_val)\n",
    "            \n",
    "        print('----------------------------------------------------------')\n",
    "\n",
    "        # save_model\n",
    "        if save_models :\n",
    "            dump(model, model_name + '_' + str(fold))\n",
    "            print('Model saved')\n",
    "\n",
    "        if holdout == True:\n",
    "            break\n",
    "\n",
    "    if cv_predict:\n",
    "        print('Saving cross validated predictions...')\n",
    "        test_cv = pd.DataFrame(cvpreds_test.mean(axis=1), columns=['Target'])\n",
    "        train_cv = pd.DataFrame(cvpreds_train, columns=['Target'])\n",
    "        print('Test shape: ', test_cv.shape)\n",
    "        print('Train shape: ', train_cv.shape)\n",
    "        test_cv.to_csv(f\"{model_name}_test_cv.csv\", index=False)\n",
    "        train_cv.to_csv(f\"{model_name}_train_cv.csv\", index=False)\n",
    "\n",
    "    print(\"AVG mape :\", np.array(cv_scores).mean())\n",
    "\n",
    "\n",
    "def cross_validate(holdout=False, wandb_track=True, cv_predict=False):\n",
    "    if wandb_track:\n",
    "        # wandb tracking\n",
    "        with wandb.init(project=project, name=model_name):\n",
    "            __cross_validate(holdout, wandb_track=wandb_track, cv_predict=cv_predict)\n",
    "    else:\n",
    "        __cross_validate(holdout, wandb_track=wandb_track, cv_predict=cv_predict)"
   ]
  },
  {
   "cell_type": "code",
   "execution_count": 37,
   "metadata": {},
   "outputs": [
    {
     "name": "stderr",
     "output_type": "stream",
     "text": [
      "Failed to detect the name of this notebook, you can set it manually with the WANDB_NOTEBOOK_NAME environment variable to enable code saving.\n",
      "\u001b[34m\u001b[1mwandb\u001b[0m: Currently logged in as: \u001b[33mk_loki\u001b[0m. Use \u001b[1m`wandb login --relogin`\u001b[0m to force relogin\n"
     ]
    },
    {
     "data": {
      "text/html": [
       "Tracking run with wandb version 0.13.2"
      ],
      "text/plain": [
       "<IPython.core.display.HTML object>"
      ]
     },
     "metadata": {},
     "output_type": "display_data"
    },
    {
     "data": {
      "text/html": [
       "Run data is saved locally in <code>d:\\Hacks\\re_new\\notebooks\\wandb\\run-20220907_235127-2zv0b1ez</code>"
      ],
      "text/plain": [
       "<IPython.core.display.HTML object>"
      ]
     },
     "metadata": {},
     "output_type": "display_data"
    },
    {
     "data": {
      "text/html": [
       "Syncing run <strong><a href=\"https://wandb.ai/k_loki/renew-machinehack/runs/2zv0b1ez\" target=\"_blank\">Xgb_3k_add_10</a></strong> to <a href=\"https://wandb.ai/k_loki/renew-machinehack\" target=\"_blank\">Weights & Biases</a> (<a href=\"https://wandb.me/run\" target=\"_blank\">docs</a>)<br/>"
      ],
      "text/plain": [
       "<IPython.core.display.HTML object>"
      ]
     },
     "metadata": {},
     "output_type": "display_data"
    },
    {
     "name": "stdout",
     "output_type": "stream",
     "text": [
      "Fold : 0\n",
      "(818643, 24) (818643,) (90961, 24) (90961,)\n",
      "Training Model...\n",
      "[23:51:37] WARNING: C:/Users/administrator/workspace/xgboost-win64_release_1.6.0/src/learner.cc:627: \n",
      "Parameters: { \"verbose\" } might not be used.\n",
      "\n",
      "  This could be a false alarm, with some parameters getting used by language bindings but\n",
      "  then being mistakenly passed down to XGBoost core, or some parameter actually being used\n",
      "  but getting flagged wrongly here. Please open an issue if you find any such cases.\n",
      "\n",
      "\n",
      "(818643, 24) (818643,) (90961, 24) (90961,)\n"
     ]
    },
    {
     "data": {
      "text/html": [
       "Waiting for W&B process to finish... <strong style=\"color:red\">(failed 1).</strong> Press Ctrl-C to abort syncing."
      ],
      "text/plain": [
       "<IPython.core.display.HTML object>"
      ]
     },
     "metadata": {},
     "output_type": "display_data"
    },
    {
     "data": {
      "application/vnd.jupyter.widget-view+json": {
       "model_id": "24d5544ed6fa4ee6ae9d78d4e8a3382a",
       "version_major": 2,
       "version_minor": 0
      },
      "text/plain": [
       "VBox(children=(Label(value='0.001 MB of 0.001 MB uploaded (0.000 MB deduped)\\r'), FloatProgress(value=1.0, max…"
      ]
     },
     "metadata": {},
     "output_type": "display_data"
    },
    {
     "data": {
      "text/html": [
       "Synced <strong style=\"color:#cdcd00\">Xgb_3k_add_10</strong>: <a href=\"https://wandb.ai/k_loki/renew-machinehack/runs/2zv0b1ez\" target=\"_blank\">https://wandb.ai/k_loki/renew-machinehack/runs/2zv0b1ez</a><br/>Synced 5 W&B file(s), 0 media file(s), 0 artifact file(s) and 0 other file(s)"
      ],
      "text/plain": [
       "<IPython.core.display.HTML object>"
      ]
     },
     "metadata": {},
     "output_type": "display_data"
    },
    {
     "data": {
      "text/html": [
       "Find logs at: <code>.\\wandb\\run-20220907_235127-2zv0b1ez\\logs</code>"
      ],
      "text/plain": [
       "<IPython.core.display.HTML object>"
      ]
     },
     "metadata": {},
     "output_type": "display_data"
    },
    {
     "ename": "ValueError",
     "evalue": "X has 28 features, but StandardScaler is expecting 24 features as input.",
     "output_type": "error",
     "traceback": [
      "\u001b[1;31m---------------------------------------------------------------------------\u001b[0m",
      "\u001b[1;31mValueError\u001b[0m                                Traceback (most recent call last)",
      "\u001b[1;32md:\\Hacks\\re_new\\notebooks\\ft_sel.ipynb Cell 40\u001b[0m in \u001b[0;36m<cell line: 2>\u001b[1;34m()\u001b[0m\n\u001b[0;32m      <a href='vscode-notebook-cell:/d%3A/Hacks/re_new/notebooks/ft_sel.ipynb#X54sZmlsZQ%3D%3D?line=0'>1</a>\u001b[0m model_name \u001b[39m=\u001b[39m \u001b[39m'\u001b[39m\u001b[39mXgb_3k_add_10\u001b[39m\u001b[39m'\u001b[39m\n\u001b[1;32m----> <a href='vscode-notebook-cell:/d%3A/Hacks/re_new/notebooks/ft_sel.ipynb#X54sZmlsZQ%3D%3D?line=1'>2</a>\u001b[0m cross_validate(holdout\u001b[39m=\u001b[39;49m\u001b[39mTrue\u001b[39;49;00m, wandb_track\u001b[39m=\u001b[39;49m\u001b[39mTrue\u001b[39;49;00m)\n",
      "\u001b[1;32md:\\Hacks\\re_new\\notebooks\\ft_sel.ipynb Cell 40\u001b[0m in \u001b[0;36mcross_validate\u001b[1;34m(holdout, wandb_track, cv_predict)\u001b[0m\n\u001b[0;32m     <a href='vscode-notebook-cell:/d%3A/Hacks/re_new/notebooks/ft_sel.ipynb#X54sZmlsZQ%3D%3D?line=83'>84</a>\u001b[0m \u001b[39mif\u001b[39;00m wandb_track:\n\u001b[0;32m     <a href='vscode-notebook-cell:/d%3A/Hacks/re_new/notebooks/ft_sel.ipynb#X54sZmlsZQ%3D%3D?line=84'>85</a>\u001b[0m     \u001b[39m# wandb tracking\u001b[39;00m\n\u001b[0;32m     <a href='vscode-notebook-cell:/d%3A/Hacks/re_new/notebooks/ft_sel.ipynb#X54sZmlsZQ%3D%3D?line=85'>86</a>\u001b[0m     \u001b[39mwith\u001b[39;00m wandb\u001b[39m.\u001b[39minit(project\u001b[39m=\u001b[39mproject, name\u001b[39m=\u001b[39mmodel_name):\n\u001b[1;32m---> <a href='vscode-notebook-cell:/d%3A/Hacks/re_new/notebooks/ft_sel.ipynb#X54sZmlsZQ%3D%3D?line=86'>87</a>\u001b[0m         __cross_validate(holdout, wandb_track\u001b[39m=\u001b[39;49mwandb_track, cv_predict\u001b[39m=\u001b[39;49mcv_predict)\n\u001b[0;32m     <a href='vscode-notebook-cell:/d%3A/Hacks/re_new/notebooks/ft_sel.ipynb#X54sZmlsZQ%3D%3D?line=87'>88</a>\u001b[0m \u001b[39melse\u001b[39;00m:\n\u001b[0;32m     <a href='vscode-notebook-cell:/d%3A/Hacks/re_new/notebooks/ft_sel.ipynb#X54sZmlsZQ%3D%3D?line=88'>89</a>\u001b[0m     __cross_validate(holdout, wandb_track\u001b[39m=\u001b[39mwandb_track, cv_predict\u001b[39m=\u001b[39mcv_predict)\n",
      "\u001b[1;32md:\\Hacks\\re_new\\notebooks\\ft_sel.ipynb Cell 40\u001b[0m in \u001b[0;36m__cross_validate\u001b[1;34m(holdout, cv_predict, wandb_track)\u001b[0m\n\u001b[0;32m     <a href='vscode-notebook-cell:/d%3A/Hacks/re_new/notebooks/ft_sel.ipynb#X54sZmlsZQ%3D%3D?line=36'>37</a>\u001b[0m X_val, y_val \u001b[39m=\u001b[39m val_fold\u001b[39m.\u001b[39mdrop(\n\u001b[0;32m     <a href='vscode-notebook-cell:/d%3A/Hacks/re_new/notebooks/ft_sel.ipynb#X54sZmlsZQ%3D%3D?line=37'>38</a>\u001b[0m     drop_cols, axis\u001b[39m=\u001b[39m\u001b[39m1\u001b[39m), val_fold\u001b[39m.\u001b[39mTarget\n\u001b[0;32m     <a href='vscode-notebook-cell:/d%3A/Hacks/re_new/notebooks/ft_sel.ipynb#X54sZmlsZQ%3D%3D?line=39'>40</a>\u001b[0m start \u001b[39m=\u001b[39m time\u001b[39m.\u001b[39mtime() \n\u001b[1;32m---> <a href='vscode-notebook-cell:/d%3A/Hacks/re_new/notebooks/ft_sel.ipynb#X54sZmlsZQ%3D%3D?line=40'>41</a>\u001b[0m model, train_score, val_score \u001b[39m=\u001b[39m train_and_eval(\n\u001b[0;32m     <a href='vscode-notebook-cell:/d%3A/Hacks/re_new/notebooks/ft_sel.ipynb#X54sZmlsZQ%3D%3D?line=41'>42</a>\u001b[0m     X_train, y_train, X_val, y_val)\n\u001b[0;32m     <a href='vscode-notebook-cell:/d%3A/Hacks/re_new/notebooks/ft_sel.ipynb#X54sZmlsZQ%3D%3D?line=42'>43</a>\u001b[0m end \u001b[39m=\u001b[39m time\u001b[39m.\u001b[39mtime()\n\u001b[0;32m     <a href='vscode-notebook-cell:/d%3A/Hacks/re_new/notebooks/ft_sel.ipynb#X54sZmlsZQ%3D%3D?line=43'>44</a>\u001b[0m \u001b[39mprint\u001b[39m(\u001b[39mf\u001b[39m\u001b[39m'\u001b[39m\u001b[39mTime taken: \u001b[39m\u001b[39m{\u001b[39;00mend \u001b[39m-\u001b[39m start\u001b[39m}\u001b[39;00m\u001b[39m'\u001b[39m)\n",
      "\u001b[1;32md:\\Hacks\\re_new\\notebooks\\ft_sel.ipynb Cell 40\u001b[0m in \u001b[0;36mtrain_and_eval\u001b[1;34m(X_train, y_train, X_val, y_val)\u001b[0m\n\u001b[0;32m      <a href='vscode-notebook-cell:/d%3A/Hacks/re_new/notebooks/ft_sel.ipynb#X54sZmlsZQ%3D%3D?line=4'>5</a>\u001b[0m model\u001b[39m.\u001b[39mfit(X_train, y_train)\n\u001b[0;32m      <a href='vscode-notebook-cell:/d%3A/Hacks/re_new/notebooks/ft_sel.ipynb#X54sZmlsZQ%3D%3D?line=5'>6</a>\u001b[0m \u001b[39mprint\u001b[39m(X_train\u001b[39m.\u001b[39mshape, y_train\u001b[39m.\u001b[39mshape, X_val\u001b[39m.\u001b[39mshape, y_val\u001b[39m.\u001b[39mshape)\n\u001b[1;32m----> <a href='vscode-notebook-cell:/d%3A/Hacks/re_new/notebooks/ft_sel.ipynb#X54sZmlsZQ%3D%3D?line=6'>7</a>\u001b[0m train_score \u001b[39m=\u001b[39m comp_score(model\u001b[39m.\u001b[39;49mpredict(X_train), y_train)\n\u001b[0;32m      <a href='vscode-notebook-cell:/d%3A/Hacks/re_new/notebooks/ft_sel.ipynb#X54sZmlsZQ%3D%3D?line=7'>8</a>\u001b[0m \u001b[39mprint\u001b[39m(\u001b[39m\"\u001b[39m\u001b[39mTraining MAPE: \u001b[39m\u001b[39m\"\u001b[39m, train_score)\n\u001b[0;32m     <a href='vscode-notebook-cell:/d%3A/Hacks/re_new/notebooks/ft_sel.ipynb#X54sZmlsZQ%3D%3D?line=9'>10</a>\u001b[0m \u001b[39mprint\u001b[39m(\u001b[39m'\u001b[39m\u001b[39mValidating Model..\u001b[39m\u001b[39m'\u001b[39m)\n",
      "File \u001b[1;32mc:\\Users\\kurma\\AppData\\Local\\Programs\\Python\\Python310\\lib\\site-packages\\sklearn\\pipeline.py:457\u001b[0m, in \u001b[0;36mPipeline.predict\u001b[1;34m(self, X, **predict_params)\u001b[0m\n\u001b[0;32m    455\u001b[0m Xt \u001b[39m=\u001b[39m X\n\u001b[0;32m    456\u001b[0m \u001b[39mfor\u001b[39;00m _, name, transform \u001b[39min\u001b[39;00m \u001b[39mself\u001b[39m\u001b[39m.\u001b[39m_iter(with_final\u001b[39m=\u001b[39m\u001b[39mFalse\u001b[39;00m):\n\u001b[1;32m--> 457\u001b[0m     Xt \u001b[39m=\u001b[39m transform\u001b[39m.\u001b[39;49mtransform(Xt)\n\u001b[0;32m    458\u001b[0m \u001b[39mreturn\u001b[39;00m \u001b[39mself\u001b[39m\u001b[39m.\u001b[39msteps[\u001b[39m-\u001b[39m\u001b[39m1\u001b[39m][\u001b[39m1\u001b[39m]\u001b[39m.\u001b[39mpredict(Xt, \u001b[39m*\u001b[39m\u001b[39m*\u001b[39mpredict_params)\n",
      "File \u001b[1;32mc:\\Users\\kurma\\AppData\\Local\\Programs\\Python\\Python310\\lib\\site-packages\\sklearn\\preprocessing\\_data.py:975\u001b[0m, in \u001b[0;36mStandardScaler.transform\u001b[1;34m(self, X, copy)\u001b[0m\n\u001b[0;32m    972\u001b[0m check_is_fitted(\u001b[39mself\u001b[39m)\n\u001b[0;32m    974\u001b[0m copy \u001b[39m=\u001b[39m copy \u001b[39mif\u001b[39;00m copy \u001b[39mis\u001b[39;00m \u001b[39mnot\u001b[39;00m \u001b[39mNone\u001b[39;00m \u001b[39melse\u001b[39;00m \u001b[39mself\u001b[39m\u001b[39m.\u001b[39mcopy\n\u001b[1;32m--> 975\u001b[0m X \u001b[39m=\u001b[39m \u001b[39mself\u001b[39;49m\u001b[39m.\u001b[39;49m_validate_data(\n\u001b[0;32m    976\u001b[0m     X,\n\u001b[0;32m    977\u001b[0m     reset\u001b[39m=\u001b[39;49m\u001b[39mFalse\u001b[39;49;00m,\n\u001b[0;32m    978\u001b[0m     accept_sparse\u001b[39m=\u001b[39;49m\u001b[39m\"\u001b[39;49m\u001b[39mcsr\u001b[39;49m\u001b[39m\"\u001b[39;49m,\n\u001b[0;32m    979\u001b[0m     copy\u001b[39m=\u001b[39;49mcopy,\n\u001b[0;32m    980\u001b[0m     dtype\u001b[39m=\u001b[39;49mFLOAT_DTYPES,\n\u001b[0;32m    981\u001b[0m     force_all_finite\u001b[39m=\u001b[39;49m\u001b[39m\"\u001b[39;49m\u001b[39mallow-nan\u001b[39;49m\u001b[39m\"\u001b[39;49m,\n\u001b[0;32m    982\u001b[0m )\n\u001b[0;32m    984\u001b[0m \u001b[39mif\u001b[39;00m sparse\u001b[39m.\u001b[39missparse(X):\n\u001b[0;32m    985\u001b[0m     \u001b[39mif\u001b[39;00m \u001b[39mself\u001b[39m\u001b[39m.\u001b[39mwith_mean:\n",
      "File \u001b[1;32mc:\\Users\\kurma\\AppData\\Local\\Programs\\Python\\Python310\\lib\\site-packages\\sklearn\\base.py:600\u001b[0m, in \u001b[0;36mBaseEstimator._validate_data\u001b[1;34m(self, X, y, reset, validate_separately, **check_params)\u001b[0m\n\u001b[0;32m    597\u001b[0m     out \u001b[39m=\u001b[39m X, y\n\u001b[0;32m    599\u001b[0m \u001b[39mif\u001b[39;00m \u001b[39mnot\u001b[39;00m no_val_X \u001b[39mand\u001b[39;00m check_params\u001b[39m.\u001b[39mget(\u001b[39m\"\u001b[39m\u001b[39mensure_2d\u001b[39m\u001b[39m\"\u001b[39m, \u001b[39mTrue\u001b[39;00m):\n\u001b[1;32m--> 600\u001b[0m     \u001b[39mself\u001b[39;49m\u001b[39m.\u001b[39;49m_check_n_features(X, reset\u001b[39m=\u001b[39;49mreset)\n\u001b[0;32m    602\u001b[0m \u001b[39mreturn\u001b[39;00m out\n",
      "File \u001b[1;32mc:\\Users\\kurma\\AppData\\Local\\Programs\\Python\\Python310\\lib\\site-packages\\sklearn\\base.py:400\u001b[0m, in \u001b[0;36mBaseEstimator._check_n_features\u001b[1;34m(self, X, reset)\u001b[0m\n\u001b[0;32m    397\u001b[0m     \u001b[39mreturn\u001b[39;00m\n\u001b[0;32m    399\u001b[0m \u001b[39mif\u001b[39;00m n_features \u001b[39m!=\u001b[39m \u001b[39mself\u001b[39m\u001b[39m.\u001b[39mn_features_in_:\n\u001b[1;32m--> 400\u001b[0m     \u001b[39mraise\u001b[39;00m \u001b[39mValueError\u001b[39;00m(\n\u001b[0;32m    401\u001b[0m         \u001b[39mf\u001b[39m\u001b[39m\"\u001b[39m\u001b[39mX has \u001b[39m\u001b[39m{\u001b[39;00mn_features\u001b[39m}\u001b[39;00m\u001b[39m features, but \u001b[39m\u001b[39m{\u001b[39;00m\u001b[39mself\u001b[39m\u001b[39m.\u001b[39m\u001b[39m__class__\u001b[39m\u001b[39m.\u001b[39m\u001b[39m__name__\u001b[39m\u001b[39m}\u001b[39;00m\u001b[39m \u001b[39m\u001b[39m\"\u001b[39m\n\u001b[0;32m    402\u001b[0m         \u001b[39mf\u001b[39m\u001b[39m\"\u001b[39m\u001b[39mis expecting \u001b[39m\u001b[39m{\u001b[39;00m\u001b[39mself\u001b[39m\u001b[39m.\u001b[39mn_features_in_\u001b[39m}\u001b[39;00m\u001b[39m features as input.\u001b[39m\u001b[39m\"\u001b[39m\n\u001b[0;32m    403\u001b[0m     )\n",
      "\u001b[1;31mValueError\u001b[0m: X has 28 features, but StandardScaler is expecting 24 features as input."
     ]
    }
   ],
   "source": [
    "model_name = 'Xgb_3k_add_10'\n",
    "cross_validate(holdout=True, wandb_track=True)"
   ]
  },
  {
   "cell_type": "code",
   "execution_count": 4,
   "metadata": {},
   "outputs": [
    {
     "data": {
      "text/plain": [
       "0.011114917824462698"
      ]
     },
     "execution_count": 4,
     "metadata": {},
     "output_type": "execute_result"
    }
   ],
   "source": [
    "# avg mape for rel_fts_v1 \n",
    "score = [0.01105228392097477, 0.011120003621454082, 0.011174543328309047, 0.011096411224224305, 0.01106832339962325, 0.01119513224812868, 0.01108963556414593, 0.01110345894554849, 0.011117898186473048, 0.011131487805745395]\n",
    "sum(score)/len(score)"
   ]
  },
  {
   "cell_type": "code",
   "execution_count": null,
   "metadata": {},
   "outputs": [],
   "source": []
  }
 ],
 "metadata": {
  "kernelspec": {
   "display_name": "Python 3.10.5 64-bit",
   "language": "python",
   "name": "python3"
  },
  "language_info": {
   "codemirror_mode": {
    "name": "ipython",
    "version": 3
   },
   "file_extension": ".py",
   "mimetype": "text/x-python",
   "name": "python",
   "nbconvert_exporter": "python",
   "pygments_lexer": "ipython3",
   "version": "3.10.5"
  },
  "orig_nbformat": 4,
  "vscode": {
   "interpreter": {
    "hash": "186db977f413ae6598820b658aed1651932768522d0652c07d949b3f5fb38b63"
   }
  }
 },
 "nbformat": 4,
 "nbformat_minor": 2
}
