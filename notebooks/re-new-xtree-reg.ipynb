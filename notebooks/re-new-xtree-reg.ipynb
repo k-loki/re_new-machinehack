{
 "cells": [
  {
   "cell_type": "markdown",
   "id": "3dfbad1b",
   "metadata": {
    "_cell_guid": "1690600d-a41a-41d1-92f6-1c807fc05c61",
    "_uuid": "96bf681f-434b-4f73-92c1-ec21411e870f",
    "jupyter": {
     "outputs_hidden": false
    },
    "papermill": {
     "duration": 0.007925,
     "end_time": "2022-09-11T17:57:13.024505",
     "exception": false,
     "start_time": "2022-09-11T17:57:13.016580",
     "status": "completed"
    },
    "tags": []
   },
   "source": [
    "# Config"
   ]
  },
  {
   "cell_type": "code",
   "execution_count": 1,
   "id": "e9b647d9",
   "metadata": {
    "execution": {
     "iopub.execute_input": "2022-09-11T17:57:13.039010Z",
     "iopub.status.busy": "2022-09-11T17:57:13.038617Z",
     "iopub.status.idle": "2022-09-11T17:57:13.050325Z",
     "shell.execute_reply": "2022-09-11T17:57:13.049397Z"
    },
    "papermill": {
     "duration": 0.021858,
     "end_time": "2022-09-11T17:57:13.052857",
     "exception": false,
     "start_time": "2022-09-11T17:57:13.030999",
     "status": "completed"
    },
    "tags": []
   },
   "outputs": [],
   "source": [
    "RAND = 4567\n",
    "\n",
    "# data\n",
    "train_data_path = \"../input/re-newmachinehack/ReNew_Participants_Data/train.csv\"\n",
    "test_data_path = \"../input/re-newmachinehack/ReNew_Participants_Data/test.csv\"\n",
    "\n",
    "N_FOLDS =  10\n",
    "\n",
    "model_name = \"xt-50-rel_fts_v1\"\n",
    "save_models = False\n",
    "desc = 'xt-50'\n",
    "\n",
    "cat_cols = ['turbine_id']\n",
    "\n",
    "# for wandb\n",
    "project = \"renew-machinehack\""
   ]
  },
  {
   "cell_type": "code",
   "execution_count": 2,
   "id": "801a7f8c",
   "metadata": {
    "execution": {
     "iopub.execute_input": "2022-09-11T17:57:13.068590Z",
     "iopub.status.busy": "2022-09-11T17:57:13.066909Z",
     "iopub.status.idle": "2022-09-11T17:57:14.257088Z",
     "shell.execute_reply": "2022-09-11T17:57:14.256143Z"
    },
    "papermill": {
     "duration": 1.199972,
     "end_time": "2022-09-11T17:57:14.259530",
     "exception": false,
     "start_time": "2022-09-11T17:57:13.059558",
     "status": "completed"
    },
    "tags": []
   },
   "outputs": [],
   "source": [
    "from sklearn.metrics import mean_absolute_percentage_error as mape\n",
    "def comp_score(y_true, y_pred):\n",
    "    return mape(y_true, y_pred)"
   ]
  },
  {
   "cell_type": "code",
   "execution_count": 3,
   "id": "720dea59",
   "metadata": {
    "execution": {
     "iopub.execute_input": "2022-09-11T17:57:14.272888Z",
     "iopub.status.busy": "2022-09-11T17:57:14.272545Z",
     "iopub.status.idle": "2022-09-11T17:57:14.607891Z",
     "shell.execute_reply": "2022-09-11T17:57:14.606668Z"
    },
    "papermill": {
     "duration": 0.344819,
     "end_time": "2022-09-11T17:57:14.610230",
     "exception": false,
     "start_time": "2022-09-11T17:57:14.265411",
     "status": "completed"
    },
    "tags": []
   },
   "outputs": [],
   "source": [
    "from kaggle_secrets import UserSecretsClient\n",
    "user_secrets = UserSecretsClient()\n",
    "wandb_login = user_secrets.get_secret(\"wandb key\")"
   ]
  },
  {
   "cell_type": "markdown",
   "id": "b3d2ff25",
   "metadata": {
    "_cell_guid": "1690600d-a41a-41d1-92f6-1c807fc05c61",
    "_uuid": "96bf681f-434b-4f73-92c1-ec21411e870f",
    "jupyter": {
     "outputs_hidden": false
    },
    "papermill": {
     "duration": 0.005434,
     "end_time": "2022-09-11T17:57:14.621489",
     "exception": false,
     "start_time": "2022-09-11T17:57:14.616055",
     "status": "completed"
    },
    "tags": []
   },
   "source": [
    "# Engine"
   ]
  },
  {
   "cell_type": "code",
   "execution_count": 4,
   "id": "8e3365d0",
   "metadata": {
    "execution": {
     "iopub.execute_input": "2022-09-11T17:57:14.634412Z",
     "iopub.status.busy": "2022-09-11T17:57:14.633894Z",
     "iopub.status.idle": "2022-09-11T17:57:15.715054Z",
     "shell.execute_reply": "2022-09-11T17:57:15.713553Z"
    },
    "papermill": {
     "duration": 1.090807,
     "end_time": "2022-09-11T17:57:15.717859",
     "exception": false,
     "start_time": "2022-09-11T17:57:14.627052",
     "status": "completed"
    },
    "tags": []
   },
   "outputs": [],
   "source": [
    "from catboost import CatBoostRegressor\n",
    "from category_encoders.target_encoder import TargetEncoder\n",
    "from sklearn.compose import make_column_transformer\n",
    "from sklearn.decomposition import PCA\n",
    "from sklearn.neighbors import KNeighborsRegressor\n",
    "from sklearn.pipeline import make_pipeline\n",
    "from sklearn.preprocessing import PolynomialFeatures, StandardScaler\n",
    "from xgboost import XGBRegressor\n",
    "from sklearn.ensemble import RandomForestRegressor, ExtraTreesRegressor"
   ]
  },
  {
   "cell_type": "code",
   "execution_count": 5,
   "id": "392cbfb4",
   "metadata": {
    "_cell_guid": "1690600d-a41a-41d1-92f6-1c807fc05c61",
    "_uuid": "96bf681f-434b-4f73-92c1-ec21411e870f",
    "collapsed": false,
    "execution": {
     "iopub.execute_input": "2022-09-11T17:57:15.731511Z",
     "iopub.status.busy": "2022-09-11T17:57:15.730990Z",
     "iopub.status.idle": "2022-09-11T17:57:15.737057Z",
     "shell.execute_reply": "2022-09-11T17:57:15.736113Z"
    },
    "jupyter": {
     "outputs_hidden": false
    },
    "papermill": {
     "duration": 0.015393,
     "end_time": "2022-09-11T17:57:15.739209",
     "exception": false,
     "start_time": "2022-09-11T17:57:15.723816",
     "status": "completed"
    },
    "tags": []
   },
   "outputs": [],
   "source": [
    "def get_model():\n",
    "    model = ExtraTreesRegressor(n_estimators=50, random_state=RAND, verbose=1, n_jobs=-1)\n",
    "#     model = XGBRegressor(tree_method='gpu_hist', random_state=RAND, n_estimators=1000, n_jobs=-1, verbose=False)\n",
    "    \n",
    "    tme = TargetEncoder()\n",
    "    # pf = PolynomialFeatures(degree=2)\n",
    "    # pca = PCA(n_components=10, random_state=config['RAND'])\n",
    "    scaler = StandardScaler()\n",
    "    ct = make_column_transformer(\n",
    "        (tme, cat_cols),\n",
    "        remainder = 'passthrough',\n",
    "        n_jobs= -1\n",
    "    )\n",
    "    model_pipe = make_pipeline(\n",
    "        ct,\n",
    "        scaler,\n",
    "        model\n",
    "    )\n",
    "    return model_pipe"
   ]
  },
  {
   "cell_type": "markdown",
   "id": "d4dbc54f",
   "metadata": {
    "papermill": {
     "duration": 0.005507,
     "end_time": "2022-09-11T17:57:15.750644",
     "exception": false,
     "start_time": "2022-09-11T17:57:15.745137",
     "status": "completed"
    },
    "tags": []
   },
   "source": [
    "# Train and Eval"
   ]
  },
  {
   "cell_type": "code",
   "execution_count": 6,
   "id": "1764cd43",
   "metadata": {
    "execution": {
     "iopub.execute_input": "2022-09-11T17:57:15.763838Z",
     "iopub.status.busy": "2022-09-11T17:57:15.763503Z",
     "iopub.status.idle": "2022-09-11T17:57:25.211912Z",
     "shell.execute_reply": "2022-09-11T17:57:25.210349Z"
    },
    "papermill": {
     "duration": 9.457925,
     "end_time": "2022-09-11T17:57:25.214432",
     "exception": false,
     "start_time": "2022-09-11T17:57:15.756507",
     "status": "completed"
    },
    "tags": []
   },
   "outputs": [
    {
     "name": "stderr",
     "output_type": "stream",
     "text": [
      "\u001b[34m\u001b[1mwandb\u001b[0m: W&B API key is configured. Use \u001b[1m`wandb login --relogin`\u001b[0m to force relogin\n",
      "\u001b[34m\u001b[1mwandb\u001b[0m: \u001b[33mWARNING\u001b[0m If you're specifying your api key in code, ensure this code is not shared publicly.\n",
      "\u001b[34m\u001b[1mwandb\u001b[0m: \u001b[33mWARNING\u001b[0m Consider setting the WANDB_API_KEY environment variable, or running `wandb login` from the command line.\n",
      "\u001b[34m\u001b[1mwandb\u001b[0m: Appending key for api.wandb.ai to your netrc file: /root/.netrc\n"
     ]
    },
    {
     "name": "stdout",
     "output_type": "stream",
     "text": [
      "xt-50-rel_fts_v1\n",
      "xt-50\n"
     ]
    }
   ],
   "source": [
    "import warnings\n",
    "warnings.filterwarnings('ignore')\n",
    "\n",
    "import numpy as np\n",
    "import argparse\n",
    "import wandb\n",
    "from joblib import dump\n",
    "import pandas as pd\n",
    "from sklearn.metrics import mean_squared_error\n",
    "from sklearn.model_selection import KFold\n",
    "import time\n",
    "np.random.seed(RAND)\n",
    "\n",
    "wandb.login(key = wandb_login)\n",
    "\n",
    "# Load configuration\n",
    "print(model_name)\n",
    "print(desc)\n",
    "\n",
    "# Load data\n",
    "train_data = pd.read_csv(train_data_path)\n",
    "test_data = pd.read_csv(test_data_path)"
   ]
  },
  {
   "cell_type": "code",
   "execution_count": 7,
   "id": "09697c11",
   "metadata": {
    "execution": {
     "iopub.execute_input": "2022-09-11T17:57:25.228852Z",
     "iopub.status.busy": "2022-09-11T17:57:25.228515Z",
     "iopub.status.idle": "2022-09-11T17:57:25.245134Z",
     "shell.execute_reply": "2022-09-11T17:57:25.243779Z"
    },
    "papermill": {
     "duration": 0.026897,
     "end_time": "2022-09-11T17:57:25.247715",
     "exception": false,
     "start_time": "2022-09-11T17:57:25.220818",
     "status": "completed"
    },
    "tags": []
   },
   "outputs": [
    {
     "data": {
      "text/plain": [
       "['active_power_calculated_by_converter',\n",
       " 'active_power_raw',\n",
       " 'ambient_temperature',\n",
       " 'generator_speed',\n",
       " 'generator_winding_temp_max',\n",
       " 'grid_power10min_average',\n",
       " 'nc1_inside_temp',\n",
       " 'nacelle_temp',\n",
       " 'reactice_power_calculated_by_converter',\n",
       " 'reactive_power',\n",
       " 'wind_direction_raw',\n",
       " 'wind_speed_raw',\n",
       " 'wind_speed_turbulence']"
      ]
     },
     "execution_count": 7,
     "metadata": {},
     "output_type": "execute_result"
    }
   ],
   "source": [
    "numeric_cols = [col for col in train_data.columns if train_data[col].dtype != 'object']\n",
    "numeric_cols = numeric_cols[:-1]\n",
    "numeric_cols"
   ]
  },
  {
   "cell_type": "code",
   "execution_count": 8,
   "id": "43afb617",
   "metadata": {
    "execution": {
     "iopub.execute_input": "2022-09-11T17:57:25.262804Z",
     "iopub.status.busy": "2022-09-11T17:57:25.262436Z",
     "iopub.status.idle": "2022-09-11T17:57:25.269492Z",
     "shell.execute_reply": "2022-09-11T17:57:25.268151Z"
    },
    "papermill": {
     "duration": 0.017618,
     "end_time": "2022-09-11T17:57:25.272097",
     "exception": false,
     "start_time": "2022-09-11T17:57:25.254479",
     "status": "completed"
    },
    "tags": []
   },
   "outputs": [
    {
     "data": {
      "text/plain": [
       "13"
      ]
     },
     "execution_count": 8,
     "metadata": {},
     "output_type": "execute_result"
    }
   ],
   "source": [
    "len(numeric_cols)"
   ]
  },
  {
   "cell_type": "code",
   "execution_count": 9,
   "id": "296bc60e",
   "metadata": {
    "execution": {
     "iopub.execute_input": "2022-09-11T17:57:25.287399Z",
     "iopub.status.busy": "2022-09-11T17:57:25.286967Z",
     "iopub.status.idle": "2022-09-11T17:57:37.408674Z",
     "shell.execute_reply": "2022-09-11T17:57:37.407637Z"
    },
    "papermill": {
     "duration": 12.132333,
     "end_time": "2022-09-11T17:57:37.410800",
     "exception": false,
     "start_time": "2022-09-11T17:57:25.278467",
     "status": "completed"
    },
    "tags": []
   },
   "outputs": [
    {
     "name": "stdout",
     "output_type": "stream",
     "text": [
      "\u001b[33mWARNING: Running pip as the 'root' user can result in broken permissions and conflicting behaviour with the system package manager. It is recommended to use a virtual environment instead: https://pip.pypa.io/warnings/venv\u001b[0m\u001b[33m\r\n",
      "\u001b[0m"
     ]
    }
   ],
   "source": [
    "! pip install feature_engine -q"
   ]
  },
  {
   "cell_type": "code",
   "execution_count": 10,
   "id": "a1f4fed1",
   "metadata": {
    "execution": {
     "iopub.execute_input": "2022-09-11T17:57:37.426149Z",
     "iopub.status.busy": "2022-09-11T17:57:37.425811Z",
     "iopub.status.idle": "2022-09-11T17:57:38.614748Z",
     "shell.execute_reply": "2022-09-11T17:57:38.612914Z"
    },
    "papermill": {
     "duration": 1.199059,
     "end_time": "2022-09-11T17:57:38.617160",
     "exception": false,
     "start_time": "2022-09-11T17:57:37.418101",
     "status": "completed"
    },
    "tags": []
   },
   "outputs": [],
   "source": [
    "train_data = train_data.where(train_data.values != 0, 0.0001)\n",
    "test_data = test_data.where(test_data.values != 0, 0.0001)"
   ]
  },
  {
   "cell_type": "code",
   "execution_count": 11,
   "id": "c28ee092",
   "metadata": {
    "execution": {
     "iopub.execute_input": "2022-09-11T17:57:38.632317Z",
     "iopub.status.busy": "2022-09-11T17:57:38.631985Z",
     "iopub.status.idle": "2022-09-11T17:57:45.292440Z",
     "shell.execute_reply": "2022-09-11T17:57:45.289307Z"
    },
    "papermill": {
     "duration": 6.6721,
     "end_time": "2022-09-11T17:57:45.296048",
     "exception": false,
     "start_time": "2022-09-11T17:57:38.623948",
     "status": "completed"
    },
    "tags": []
   },
   "outputs": [],
   "source": [
    "# generate realtive features\n",
    "from feature_engine.creation import RelativeFeatures\n",
    "rf = RelativeFeatures(variables=numeric_cols[:6], reference=numeric_cols[6:], func=['sub', 'mul', 'div'])\n",
    "train_data_trans = rf.fit_transform(train_data.drop(['timestamp','Target'], axis=1))\n",
    "test_data_trans = rf.transform(test_data)"
   ]
  },
  {
   "cell_type": "code",
   "execution_count": 12,
   "id": "56651a28",
   "metadata": {
    "execution": {
     "iopub.execute_input": "2022-09-11T17:57:45.313623Z",
     "iopub.status.busy": "2022-09-11T17:57:45.311975Z",
     "iopub.status.idle": "2022-09-11T17:57:45.353878Z",
     "shell.execute_reply": "2022-09-11T17:57:45.351969Z"
    },
    "papermill": {
     "duration": 0.05373,
     "end_time": "2022-09-11T17:57:45.356849",
     "exception": false,
     "start_time": "2022-09-11T17:57:45.303119",
     "status": "completed"
    },
    "tags": []
   },
   "outputs": [
    {
     "name": "stdout",
     "output_type": "stream",
     "text": [
      "<class 'pandas.core.frame.DataFrame'>\n",
      "RangeIndex: 909604 entries, 0 to 909603\n",
      "Columns: 140 entries, active_power_calculated_by_converter to grid_power10min_average_div_wind_speed_turbulence\n",
      "dtypes: float64(139), object(1)\n",
      "memory usage: 971.6+ MB\n",
      "None\n",
      "<class 'pandas.core.frame.DataFrame'>\n",
      "RangeIndex: 303202 entries, 0 to 303201\n",
      "Columns: 140 entries, active_power_calculated_by_converter to grid_power10min_average_div_wind_speed_turbulence\n",
      "dtypes: float64(139), object(1)\n",
      "memory usage: 323.9+ MB\n",
      "None\n"
     ]
    }
   ],
   "source": [
    "print(train_data_trans.info())\n",
    "print(test_data_trans.info())"
   ]
  },
  {
   "cell_type": "code",
   "execution_count": 13,
   "id": "8269cfa4",
   "metadata": {
    "execution": {
     "iopub.execute_input": "2022-09-11T17:57:45.373764Z",
     "iopub.status.busy": "2022-09-11T17:57:45.371845Z",
     "iopub.status.idle": "2022-09-11T17:57:45.382400Z",
     "shell.execute_reply": "2022-09-11T17:57:45.380701Z"
    },
    "papermill": {
     "duration": 0.020899,
     "end_time": "2022-09-11T17:57:45.384856",
     "exception": false,
     "start_time": "2022-09-11T17:57:45.363957",
     "status": "completed"
    },
    "tags": []
   },
   "outputs": [
    {
     "data": {
      "text/plain": [
       "False"
      ]
     },
     "execution_count": 13,
     "metadata": {},
     "output_type": "execute_result"
    }
   ],
   "source": [
    "'target' in train_data_trans.columns"
   ]
  },
  {
   "cell_type": "code",
   "execution_count": 14,
   "id": "b4c70553",
   "metadata": {
    "execution": {
     "iopub.execute_input": "2022-09-11T17:57:45.400061Z",
     "iopub.status.busy": "2022-09-11T17:57:45.399740Z",
     "iopub.status.idle": "2022-09-11T17:57:45.450329Z",
     "shell.execute_reply": "2022-09-11T17:57:45.448482Z"
    },
    "papermill": {
     "duration": 0.06129,
     "end_time": "2022-09-11T17:57:45.453147",
     "exception": false,
     "start_time": "2022-09-11T17:57:45.391857",
     "status": "completed"
    },
    "tags": []
   },
   "outputs": [],
   "source": [
    "train_data_trans['Target'] = train_data.Target\n",
    "train_data = train_data_trans\n",
    "test_data = test_data_trans"
   ]
  },
  {
   "cell_type": "code",
   "execution_count": 15,
   "id": "2dbe0da8",
   "metadata": {
    "execution": {
     "iopub.execute_input": "2022-09-11T17:57:45.473285Z",
     "iopub.status.busy": "2022-09-11T17:57:45.472447Z",
     "iopub.status.idle": "2022-09-11T17:57:45.497717Z",
     "shell.execute_reply": "2022-09-11T17:57:45.495916Z"
    },
    "papermill": {
     "duration": 0.038093,
     "end_time": "2022-09-11T17:57:45.500953",
     "exception": false,
     "start_time": "2022-09-11T17:57:45.462860",
     "status": "completed"
    },
    "tags": []
   },
   "outputs": [
    {
     "name": "stdout",
     "output_type": "stream",
     "text": [
      "<class 'pandas.core.frame.DataFrame'>\n",
      "RangeIndex: 909604 entries, 0 to 909603\n",
      "Columns: 141 entries, active_power_calculated_by_converter to Target\n",
      "dtypes: float64(140), object(1)\n",
      "memory usage: 978.5+ MB\n",
      "None\n",
      "<class 'pandas.core.frame.DataFrame'>\n",
      "RangeIndex: 303202 entries, 0 to 303201\n",
      "Columns: 140 entries, active_power_calculated_by_converter to grid_power10min_average_div_wind_speed_turbulence\n",
      "dtypes: float64(139), object(1)\n",
      "memory usage: 323.9+ MB\n",
      "None\n"
     ]
    }
   ],
   "source": [
    "print(train_data.info())\n",
    "print(test_data.info())"
   ]
  },
  {
   "cell_type": "code",
   "execution_count": 16,
   "id": "e17ee06e",
   "metadata": {
    "execution": {
     "iopub.execute_input": "2022-09-11T17:57:45.517594Z",
     "iopub.status.busy": "2022-09-11T17:57:45.517228Z",
     "iopub.status.idle": "2022-09-11T17:57:45.523823Z",
     "shell.execute_reply": "2022-09-11T17:57:45.522893Z"
    },
    "papermill": {
     "duration": 0.016908,
     "end_time": "2022-09-11T17:57:45.525830",
     "exception": false,
     "start_time": "2022-09-11T17:57:45.508922",
     "status": "completed"
    },
    "tags": []
   },
   "outputs": [
    {
     "data": {
      "text/plain": [
       "(False, False)"
      ]
     },
     "execution_count": 16,
     "metadata": {},
     "output_type": "execute_result"
    }
   ],
   "source": [
    "'timestamp' in train_data, 'timestamp' in test_data"
   ]
  },
  {
   "cell_type": "code",
   "execution_count": 17,
   "id": "a5a7032b",
   "metadata": {
    "execution": {
     "iopub.execute_input": "2022-09-11T17:57:45.541994Z",
     "iopub.status.busy": "2022-09-11T17:57:45.541641Z",
     "iopub.status.idle": "2022-09-11T17:57:45.547890Z",
     "shell.execute_reply": "2022-09-11T17:57:45.546821Z"
    },
    "papermill": {
     "duration": 0.016766,
     "end_time": "2022-09-11T17:57:45.549849",
     "exception": false,
     "start_time": "2022-09-11T17:57:45.533083",
     "status": "completed"
    },
    "tags": []
   },
   "outputs": [
    {
     "data": {
      "text/plain": [
       "(True, False)"
      ]
     },
     "execution_count": 17,
     "metadata": {},
     "output_type": "execute_result"
    }
   ],
   "source": [
    "'Target' in train_data.columns, 'Target' in test_data.columns"
   ]
  },
  {
   "cell_type": "code",
   "execution_count": 18,
   "id": "3441a6c5",
   "metadata": {
    "execution": {
     "iopub.execute_input": "2022-09-11T17:57:45.567161Z",
     "iopub.status.busy": "2022-09-11T17:57:45.566813Z",
     "iopub.status.idle": "2022-09-11T17:57:45.580948Z",
     "shell.execute_reply": "2022-09-11T17:57:45.579244Z"
    },
    "papermill": {
     "duration": 0.026089,
     "end_time": "2022-09-11T17:57:45.583397",
     "exception": false,
     "start_time": "2022-09-11T17:57:45.557308",
     "status": "completed"
    },
    "tags": []
   },
   "outputs": [],
   "source": [
    "cvpreds_test = np.zeros(shape=(len(test_data), N_FOLDS))\n",
    "cvpreds_train = np.zeros(shape=(len(train_data)))\n"
   ]
  },
  {
   "cell_type": "code",
   "execution_count": 19,
   "id": "89d0ea99",
   "metadata": {
    "execution": {
     "iopub.execute_input": "2022-09-11T17:57:45.599172Z",
     "iopub.status.busy": "2022-09-11T17:57:45.598832Z",
     "iopub.status.idle": "2022-09-11T20:23:22.655727Z",
     "shell.execute_reply": "2022-09-11T20:23:22.654161Z"
    },
    "papermill": {
     "duration": 8737.06838,
     "end_time": "2022-09-11T20:23:22.658792",
     "exception": false,
     "start_time": "2022-09-11T17:57:45.590412",
     "status": "completed"
    },
    "tags": []
   },
   "outputs": [
    {
     "name": "stdout",
     "output_type": "stream",
     "text": [
      "Pipeline(steps=[('columntransformer',\n",
      "                 ColumnTransformer(n_jobs=-1, remainder='passthrough',\n",
      "                                   transformers=[('targetencoder',\n",
      "                                                  TargetEncoder(),\n",
      "                                                  ['turbine_id'])])),\n",
      "                ('standardscaler', StandardScaler()),\n",
      "                ('extratreesregressor',\n",
      "                 ExtraTreesRegressor(n_estimators=50, n_jobs=-1,\n",
      "                                     random_state=4567, verbose=1))])\n",
      "Fold : 0\n",
      "training,..\n"
     ]
    },
    {
     "name": "stderr",
     "output_type": "stream",
     "text": [
      "[Parallel(n_jobs=-1)]: Using backend ThreadingBackend with 4 concurrent workers.\n",
      "[Parallel(n_jobs=-1)]: Done  42 tasks      | elapsed: 12.2min\n"
     ]
    },
    {
     "name": "stdout",
     "output_type": "stream",
     "text": [
      "validating...\n"
     ]
    },
    {
     "name": "stderr",
     "output_type": "stream",
     "text": [
      "[Parallel(n_jobs=-1)]: Done  50 out of  50 | elapsed: 14.0min finished\n",
      "[Parallel(n_jobs=4)]: Using backend ThreadingBackend with 4 concurrent workers.\n",
      "[Parallel(n_jobs=4)]: Done  42 tasks      | elapsed:    1.9s\n",
      "[Parallel(n_jobs=4)]: Done  50 out of  50 | elapsed:    2.3s finished\n"
     ]
    },
    {
     "name": "stdout",
     "output_type": "stream",
     "text": [
      "MAPE Score:  0.01105228392097477\n",
      "--------------------------------------------------------------------\n"
     ]
    },
    {
     "name": "stderr",
     "output_type": "stream",
     "text": [
      "[Parallel(n_jobs=4)]: Using backend ThreadingBackend with 4 concurrent workers.\n",
      "[Parallel(n_jobs=4)]: Done  42 tasks      | elapsed:    6.2s\n",
      "[Parallel(n_jobs=4)]: Done  50 out of  50 | elapsed:    7.2s finished\n"
     ]
    },
    {
     "name": "stdout",
     "output_type": "stream",
     "text": [
      "Fold : 1\n",
      "training,..\n"
     ]
    },
    {
     "name": "stderr",
     "output_type": "stream",
     "text": [
      "[Parallel(n_jobs=-1)]: Using backend ThreadingBackend with 4 concurrent workers.\n",
      "[Parallel(n_jobs=-1)]: Done  42 tasks      | elapsed: 11.7min\n"
     ]
    },
    {
     "name": "stdout",
     "output_type": "stream",
     "text": [
      "validating...\n"
     ]
    },
    {
     "name": "stderr",
     "output_type": "stream",
     "text": [
      "[Parallel(n_jobs=-1)]: Done  50 out of  50 | elapsed: 13.4min finished\n",
      "[Parallel(n_jobs=4)]: Using backend ThreadingBackend with 4 concurrent workers.\n",
      "[Parallel(n_jobs=4)]: Done  42 tasks      | elapsed:    1.9s\n",
      "[Parallel(n_jobs=4)]: Done  50 out of  50 | elapsed:    2.2s finished\n"
     ]
    },
    {
     "name": "stdout",
     "output_type": "stream",
     "text": [
      "MAPE Score:  0.011120003621454082\n",
      "--------------------------------------------------------------------\n"
     ]
    },
    {
     "name": "stderr",
     "output_type": "stream",
     "text": [
      "[Parallel(n_jobs=4)]: Using backend ThreadingBackend with 4 concurrent workers.\n",
      "[Parallel(n_jobs=4)]: Done  42 tasks      | elapsed:    5.8s\n",
      "[Parallel(n_jobs=4)]: Done  50 out of  50 | elapsed:    6.8s finished\n"
     ]
    },
    {
     "name": "stdout",
     "output_type": "stream",
     "text": [
      "Fold : 2\n",
      "training,..\n"
     ]
    },
    {
     "name": "stderr",
     "output_type": "stream",
     "text": [
      "[Parallel(n_jobs=-1)]: Using backend ThreadingBackend with 4 concurrent workers.\n",
      "[Parallel(n_jobs=-1)]: Done  42 tasks      | elapsed: 12.3min\n"
     ]
    },
    {
     "name": "stdout",
     "output_type": "stream",
     "text": [
      "validating...\n"
     ]
    },
    {
     "name": "stderr",
     "output_type": "stream",
     "text": [
      "[Parallel(n_jobs=-1)]: Done  50 out of  50 | elapsed: 14.3min finished\n",
      "[Parallel(n_jobs=4)]: Using backend ThreadingBackend with 4 concurrent workers.\n",
      "[Parallel(n_jobs=4)]: Done  42 tasks      | elapsed:    2.0s\n",
      "[Parallel(n_jobs=4)]: Done  50 out of  50 | elapsed:    2.3s finished\n"
     ]
    },
    {
     "name": "stdout",
     "output_type": "stream",
     "text": [
      "MAPE Score:  0.011174543328309047\n",
      "--------------------------------------------------------------------\n"
     ]
    },
    {
     "name": "stderr",
     "output_type": "stream",
     "text": [
      "[Parallel(n_jobs=4)]: Using backend ThreadingBackend with 4 concurrent workers.\n",
      "[Parallel(n_jobs=4)]: Done  42 tasks      | elapsed:    6.8s\n",
      "[Parallel(n_jobs=4)]: Done  50 out of  50 | elapsed:    7.9s finished\n"
     ]
    },
    {
     "name": "stdout",
     "output_type": "stream",
     "text": [
      "Fold : 3\n",
      "training,..\n"
     ]
    },
    {
     "name": "stderr",
     "output_type": "stream",
     "text": [
      "[Parallel(n_jobs=-1)]: Using backend ThreadingBackend with 4 concurrent workers.\n",
      "[Parallel(n_jobs=-1)]: Done  42 tasks      | elapsed: 12.4min\n"
     ]
    },
    {
     "name": "stdout",
     "output_type": "stream",
     "text": [
      "validating...\n"
     ]
    },
    {
     "name": "stderr",
     "output_type": "stream",
     "text": [
      "[Parallel(n_jobs=-1)]: Done  50 out of  50 | elapsed: 14.3min finished\n",
      "[Parallel(n_jobs=4)]: Using backend ThreadingBackend with 4 concurrent workers.\n",
      "[Parallel(n_jobs=4)]: Done  42 tasks      | elapsed:    1.9s\n",
      "[Parallel(n_jobs=4)]: Done  50 out of  50 | elapsed:    2.2s finished\n"
     ]
    },
    {
     "name": "stdout",
     "output_type": "stream",
     "text": [
      "MAPE Score:  0.011096411224224305\n",
      "--------------------------------------------------------------------\n"
     ]
    },
    {
     "name": "stderr",
     "output_type": "stream",
     "text": [
      "[Parallel(n_jobs=4)]: Using backend ThreadingBackend with 4 concurrent workers.\n",
      "[Parallel(n_jobs=4)]: Done  42 tasks      | elapsed:    6.2s\n",
      "[Parallel(n_jobs=4)]: Done  50 out of  50 | elapsed:    7.3s finished\n"
     ]
    },
    {
     "name": "stdout",
     "output_type": "stream",
     "text": [
      "Fold : 4\n",
      "training,..\n"
     ]
    },
    {
     "name": "stderr",
     "output_type": "stream",
     "text": [
      "[Parallel(n_jobs=-1)]: Using backend ThreadingBackend with 4 concurrent workers.\n",
      "[Parallel(n_jobs=-1)]: Done  42 tasks      | elapsed: 11.7min\n"
     ]
    },
    {
     "name": "stdout",
     "output_type": "stream",
     "text": [
      "validating...\n"
     ]
    },
    {
     "name": "stderr",
     "output_type": "stream",
     "text": [
      "[Parallel(n_jobs=-1)]: Done  50 out of  50 | elapsed: 13.5min finished\n",
      "[Parallel(n_jobs=4)]: Using backend ThreadingBackend with 4 concurrent workers.\n",
      "[Parallel(n_jobs=4)]: Done  42 tasks      | elapsed:    1.9s\n",
      "[Parallel(n_jobs=4)]: Done  50 out of  50 | elapsed:    2.2s finished\n"
     ]
    },
    {
     "name": "stdout",
     "output_type": "stream",
     "text": [
      "MAPE Score:  0.01106832339962325\n",
      "--------------------------------------------------------------------\n"
     ]
    },
    {
     "name": "stderr",
     "output_type": "stream",
     "text": [
      "[Parallel(n_jobs=4)]: Using backend ThreadingBackend with 4 concurrent workers.\n",
      "[Parallel(n_jobs=4)]: Done  42 tasks      | elapsed:    6.5s\n",
      "[Parallel(n_jobs=4)]: Done  50 out of  50 | elapsed:    7.5s finished\n"
     ]
    },
    {
     "name": "stdout",
     "output_type": "stream",
     "text": [
      "Fold : 5\n",
      "training,..\n"
     ]
    },
    {
     "name": "stderr",
     "output_type": "stream",
     "text": [
      "[Parallel(n_jobs=-1)]: Using backend ThreadingBackend with 4 concurrent workers.\n",
      "[Parallel(n_jobs=-1)]: Done  42 tasks      | elapsed: 12.1min\n"
     ]
    },
    {
     "name": "stdout",
     "output_type": "stream",
     "text": [
      "validating...\n"
     ]
    },
    {
     "name": "stderr",
     "output_type": "stream",
     "text": [
      "[Parallel(n_jobs=-1)]: Done  50 out of  50 | elapsed: 13.9min finished\n",
      "[Parallel(n_jobs=4)]: Using backend ThreadingBackend with 4 concurrent workers.\n",
      "[Parallel(n_jobs=4)]: Done  42 tasks      | elapsed:    2.4s\n",
      "[Parallel(n_jobs=4)]: Done  50 out of  50 | elapsed:    2.8s finished\n"
     ]
    },
    {
     "name": "stdout",
     "output_type": "stream",
     "text": [
      "MAPE Score:  0.01119513224812868\n",
      "--------------------------------------------------------------------\n"
     ]
    },
    {
     "name": "stderr",
     "output_type": "stream",
     "text": [
      "[Parallel(n_jobs=4)]: Using backend ThreadingBackend with 4 concurrent workers.\n",
      "[Parallel(n_jobs=4)]: Done  42 tasks      | elapsed:    6.3s\n",
      "[Parallel(n_jobs=4)]: Done  50 out of  50 | elapsed:    7.4s finished\n"
     ]
    },
    {
     "name": "stdout",
     "output_type": "stream",
     "text": [
      "Fold : 6\n",
      "training,..\n"
     ]
    },
    {
     "name": "stderr",
     "output_type": "stream",
     "text": [
      "[Parallel(n_jobs=-1)]: Using backend ThreadingBackend with 4 concurrent workers.\n",
      "[Parallel(n_jobs=-1)]: Done  42 tasks      | elapsed: 12.4min\n"
     ]
    },
    {
     "name": "stdout",
     "output_type": "stream",
     "text": [
      "validating...\n"
     ]
    },
    {
     "name": "stderr",
     "output_type": "stream",
     "text": [
      "[Parallel(n_jobs=-1)]: Done  50 out of  50 | elapsed: 14.3min finished\n",
      "[Parallel(n_jobs=4)]: Using backend ThreadingBackend with 4 concurrent workers.\n",
      "[Parallel(n_jobs=4)]: Done  42 tasks      | elapsed:    2.2s\n",
      "[Parallel(n_jobs=4)]: Done  50 out of  50 | elapsed:    2.6s finished\n"
     ]
    },
    {
     "name": "stdout",
     "output_type": "stream",
     "text": [
      "MAPE Score:  0.01108963556414593\n",
      "--------------------------------------------------------------------\n"
     ]
    },
    {
     "name": "stderr",
     "output_type": "stream",
     "text": [
      "[Parallel(n_jobs=4)]: Using backend ThreadingBackend with 4 concurrent workers.\n",
      "[Parallel(n_jobs=4)]: Done  42 tasks      | elapsed:    6.4s\n",
      "[Parallel(n_jobs=4)]: Done  50 out of  50 | elapsed:    7.5s finished\n"
     ]
    },
    {
     "name": "stdout",
     "output_type": "stream",
     "text": [
      "Fold : 7\n",
      "training,..\n"
     ]
    },
    {
     "name": "stderr",
     "output_type": "stream",
     "text": [
      "[Parallel(n_jobs=-1)]: Using backend ThreadingBackend with 4 concurrent workers.\n",
      "[Parallel(n_jobs=-1)]: Done  42 tasks      | elapsed: 13.1min\n"
     ]
    },
    {
     "name": "stdout",
     "output_type": "stream",
     "text": [
      "validating...\n"
     ]
    },
    {
     "name": "stderr",
     "output_type": "stream",
     "text": [
      "[Parallel(n_jobs=-1)]: Done  50 out of  50 | elapsed: 15.1min finished\n",
      "[Parallel(n_jobs=4)]: Using backend ThreadingBackend with 4 concurrent workers.\n",
      "[Parallel(n_jobs=4)]: Done  42 tasks      | elapsed:    1.9s\n",
      "[Parallel(n_jobs=4)]: Done  50 out of  50 | elapsed:    2.3s finished\n"
     ]
    },
    {
     "name": "stdout",
     "output_type": "stream",
     "text": [
      "MAPE Score:  0.01110345894554849\n",
      "--------------------------------------------------------------------\n"
     ]
    },
    {
     "name": "stderr",
     "output_type": "stream",
     "text": [
      "[Parallel(n_jobs=4)]: Using backend ThreadingBackend with 4 concurrent workers.\n",
      "[Parallel(n_jobs=4)]: Done  42 tasks      | elapsed:    6.4s\n",
      "[Parallel(n_jobs=4)]: Done  50 out of  50 | elapsed:    7.4s finished\n"
     ]
    },
    {
     "name": "stdout",
     "output_type": "stream",
     "text": [
      "Fold : 8\n",
      "training,..\n"
     ]
    },
    {
     "name": "stderr",
     "output_type": "stream",
     "text": [
      "[Parallel(n_jobs=-1)]: Using backend ThreadingBackend with 4 concurrent workers.\n",
      "[Parallel(n_jobs=-1)]: Done  42 tasks      | elapsed: 12.4min\n"
     ]
    },
    {
     "name": "stdout",
     "output_type": "stream",
     "text": [
      "validating...\n"
     ]
    },
    {
     "name": "stderr",
     "output_type": "stream",
     "text": [
      "[Parallel(n_jobs=-1)]: Done  50 out of  50 | elapsed: 14.3min finished\n",
      "[Parallel(n_jobs=4)]: Using backend ThreadingBackend with 4 concurrent workers.\n",
      "[Parallel(n_jobs=4)]: Done  42 tasks      | elapsed:    2.1s\n",
      "[Parallel(n_jobs=4)]: Done  50 out of  50 | elapsed:    2.4s finished\n"
     ]
    },
    {
     "name": "stdout",
     "output_type": "stream",
     "text": [
      "MAPE Score:  0.011117898186473048\n",
      "--------------------------------------------------------------------\n"
     ]
    },
    {
     "name": "stderr",
     "output_type": "stream",
     "text": [
      "[Parallel(n_jobs=4)]: Using backend ThreadingBackend with 4 concurrent workers.\n",
      "[Parallel(n_jobs=4)]: Done  42 tasks      | elapsed:    6.5s\n",
      "[Parallel(n_jobs=4)]: Done  50 out of  50 | elapsed:    7.6s finished\n"
     ]
    },
    {
     "name": "stdout",
     "output_type": "stream",
     "text": [
      "Fold : 9\n",
      "training,..\n"
     ]
    },
    {
     "name": "stderr",
     "output_type": "stream",
     "text": [
      "[Parallel(n_jobs=-1)]: Using backend ThreadingBackend with 4 concurrent workers.\n",
      "[Parallel(n_jobs=-1)]: Done  42 tasks      | elapsed: 12.7min\n"
     ]
    },
    {
     "name": "stdout",
     "output_type": "stream",
     "text": [
      "validating...\n"
     ]
    },
    {
     "name": "stderr",
     "output_type": "stream",
     "text": [
      "[Parallel(n_jobs=-1)]: Done  50 out of  50 | elapsed: 14.6min finished\n",
      "[Parallel(n_jobs=4)]: Using backend ThreadingBackend with 4 concurrent workers.\n",
      "[Parallel(n_jobs=4)]: Done  42 tasks      | elapsed:    1.9s\n",
      "[Parallel(n_jobs=4)]: Done  50 out of  50 | elapsed:    2.2s finished\n"
     ]
    },
    {
     "name": "stdout",
     "output_type": "stream",
     "text": [
      "MAPE Score:  0.011131487805745395\n",
      "--------------------------------------------------------------------\n"
     ]
    },
    {
     "name": "stderr",
     "output_type": "stream",
     "text": [
      "[Parallel(n_jobs=4)]: Using backend ThreadingBackend with 4 concurrent workers.\n",
      "[Parallel(n_jobs=4)]: Done  42 tasks      | elapsed:    6.6s\n",
      "[Parallel(n_jobs=4)]: Done  50 out of  50 | elapsed:    7.7s finished\n"
     ]
    }
   ],
   "source": [
    "model = get_model()\n",
    "print(model)\n",
    "#  eval on holdout test\n",
    "kf = KFold(n_splits=N_FOLDS, random_state=RAND, shuffle=True)\n",
    "for fold, (train_idx, val_idx) in enumerate(kf.split(train_data)):\n",
    "    print(f'Fold : {fold}')\n",
    "    \n",
    "    X_train, y_train = train_data.drop('Target', axis=1).iloc[train_idx], train_data['Target'].iloc[train_idx]\n",
    "    X_val, y_val = train_data.drop('Target', axis=1).iloc[val_idx], train_data['Target'].iloc[val_idx]\n",
    "    \n",
    "    print('training,..')\n",
    "    model.fit(X_train, y_train)\n",
    "    print('validating...')\n",
    "    preds = model.predict(X_val)\n",
    "    mape_score = comp_score(y_val, preds)\n",
    "    print('MAPE Score: ', mape_score)\n",
    "    print('--------------------------------------------------------------------')\n",
    "    \n",
    "    # test data predictions\n",
    "    cvpreds_test[:, fold] = model.predict(test_data)\n",
    "    cvpreds_train[val_idx] = preds\n",
    "    \n",
    "\n",
    "# ran in 1475 sec."
   ]
  },
  {
   "cell_type": "code",
   "execution_count": 20,
   "id": "5ec5f3bf",
   "metadata": {
    "execution": {
     "iopub.execute_input": "2022-09-11T20:23:22.688566Z",
     "iopub.status.busy": "2022-09-11T20:23:22.688146Z",
     "iopub.status.idle": "2022-09-11T20:23:24.731279Z",
     "shell.execute_reply": "2022-09-11T20:23:24.730148Z"
    },
    "papermill": {
     "duration": 2.061588,
     "end_time": "2022-09-11T20:23:24.733714",
     "exception": false,
     "start_time": "2022-09-11T20:23:22.672126",
     "status": "completed"
    },
    "tags": []
   },
   "outputs": [],
   "source": [
    "test_cv = pd.DataFrame(cvpreds_test.mean(axis=1), columns=['Target'])\n",
    "train_cv = pd.DataFrame(cvpreds_train, columns=['Target'])\n",
    "\n",
    "test_cv.to_csv('test_xt_50_rel_fts_v1_oof.csv', index=False)\n",
    "train_cv.to_csv('train_xt_50_rel_fts_v1_oof.csv', index=False)"
   ]
  },
  {
   "cell_type": "code",
   "execution_count": 21,
   "id": "a350c770",
   "metadata": {
    "execution": {
     "iopub.execute_input": "2022-09-11T20:23:24.764899Z",
     "iopub.status.busy": "2022-09-11T20:23:24.764466Z",
     "iopub.status.idle": "2022-09-11T20:23:24.769304Z",
     "shell.execute_reply": "2022-09-11T20:23:24.768520Z"
    },
    "papermill": {
     "duration": 0.023052,
     "end_time": "2022-09-11T20:23:24.770992",
     "exception": false,
     "start_time": "2022-09-11T20:23:24.747940",
     "status": "completed"
    },
    "tags": []
   },
   "outputs": [],
   "source": [
    "# model[2].feature_importances_"
   ]
  },
  {
   "cell_type": "code",
   "execution_count": null,
   "id": "eddc6d56",
   "metadata": {
    "papermill": {
     "duration": 0.013914,
     "end_time": "2022-09-11T20:23:24.798819",
     "exception": false,
     "start_time": "2022-09-11T20:23:24.784905",
     "status": "completed"
    },
    "tags": []
   },
   "outputs": [],
   "source": []
  },
  {
   "cell_type": "code",
   "execution_count": 22,
   "id": "ae693cd5",
   "metadata": {
    "execution": {
     "iopub.execute_input": "2022-09-11T20:23:24.828722Z",
     "iopub.status.busy": "2022-09-11T20:23:24.828080Z",
     "iopub.status.idle": "2022-09-11T20:23:24.834934Z",
     "shell.execute_reply": "2022-09-11T20:23:24.833537Z"
    },
    "papermill": {
     "duration": 0.0246,
     "end_time": "2022-09-11T20:23:24.837050",
     "exception": false,
     "start_time": "2022-09-11T20:23:24.812450",
     "status": "completed"
    },
    "tags": []
   },
   "outputs": [],
   "source": [
    "\n",
    "# def train_and_eval(model, X_train, y_train, X_val, y_val):\n",
    "#     print('Training Model...')\n",
    "#     model.fit(X_train, y_train)\n",
    "#     train_score = comp_score(model.predict(X_train), y_train)\n",
    "#     print(\"Training MAPE: \", train_score)\n",
    "\n",
    "#     print('Validating Model..')\n",
    "#     preds = model.predict(X_val)\n",
    "#     val_score = comp_score(y_val, preds)\n",
    "#     print(\"Validation MAPE: \", val_score)\n",
    "#     print(\"validation rmse: \", mean_squared_error(y_val, preds, squared=False))\n",
    "\n",
    "#     return model, train_score, val_score\n",
    "\n",
    "\n",
    "# def __cross_validate(holdout=False, cv_predict=False, wandb_track=True):\n",
    "#     cv_scores = []\n",
    "\n",
    "#     drop_cols = ['Target']\n",
    "#     model = get_model()\n",
    "\n",
    "    \n",
    "#     if cv_predict:\n",
    "#         cvpreds_test = np.zeros(shape=(len(test_data), N_FOLDS))\n",
    "#         cvpreds_train = np.zeros(shape=(len(train_data)))\n",
    "    \n",
    "#     kf = KFold(n_splits=N_FOLDS, random_state=RAND, shuffle=True)\n",
    "#     for fold, (train_idx, val_idx) in enumerate(kf.split(train_data)):\n",
    "#         print(f'Fold : {fold}')\n",
    "\n",
    "#         train_fold = train_data.iloc[train_idx]\n",
    "#         val_fold = train_data.iloc[val_idx]\n",
    "\n",
    "#         X_train, y_train = train_fold.drop(\n",
    "#             drop_cols, axis=1), train_fold.Target\n",
    "#         X_val, y_val = val_fold.drop(\n",
    "#             drop_cols, axis=1), val_fold.Target\n",
    "        \n",
    "#         start = time.time() \n",
    "#         model, train_score, val_score = train_and_eval(model,\n",
    "#             X_train, y_train, X_val, y_val)\n",
    "#         end = time.time()\n",
    "#         print(f'Time taken: {end - start}')\n",
    "\n",
    "#         if wandb_track:\n",
    "#             # wandb tracking\n",
    "#             wandb.log({\n",
    "#                 'fold': fold,\n",
    "#                 'Train_score': train_score,\n",
    "#                 'Val_score': val_score \n",
    "#             })\n",
    "\n",
    "#         cv_scores.append(val_score)\n",
    "\n",
    "#         if cv_predict:\n",
    "#             # save predictions for ensembling\n",
    "#             cvpreds_test[:, fold] = model.predict(test_data)\n",
    "#             cvpreds_train[val_idx] = model.predict(X_val)\n",
    "            \n",
    "#         print('----------------------------------------------------------')\n",
    "\n",
    "#         # save_model\n",
    "#         if save_models :\n",
    "#             dump(model, model_name + '_' + str(fold))\n",
    "#             print('Model saved')\n",
    "\n",
    "#         if holdout == True:\n",
    "#             break\n",
    "\n",
    "#     if cv_predict:\n",
    "#         print('Saving cross validated predictions...')\n",
    "#         test_cv = pd.DataFrame(cvpreds_test.mean(axis=1), columns=['Target'])\n",
    "#         train_cv = pd.DataFrame(cvpreds_train, columns=['Target'])\n",
    "#         print('Test shape: ', test_cv.shape)\n",
    "#         print('Train shape: ', train_cv.shape)\n",
    "#         test_cv.to_csv(f\"{model_name}_test_cv.csv\", index=False)\n",
    "#         train_cv.to_csv(f\"{model_name}_train_cv.csv\", index=False)\n",
    "\n",
    "#     print(\"AVG mape :\", np.array(cv_scores).mean())\n",
    "\n",
    "\n",
    "# def cross_validate(holdout=False, wandb_track=True, cv_predict=False):\n",
    "#     if wandb_track:\n",
    "#         # wandb tracking\n",
    "#         with wandb.init(project=project, name=model_name):\n",
    "#             __cross_validate(holdout, wandb_track=wandb_track, cv_predict=cv_predict)\n",
    "#     else:\n",
    "#         __cross_validate(holdout, wandb_track=wandb_track, cv_predict=cv_predict)"
   ]
  },
  {
   "cell_type": "code",
   "execution_count": 23,
   "id": "00b27ba8",
   "metadata": {
    "execution": {
     "iopub.execute_input": "2022-09-11T20:23:24.955477Z",
     "iopub.status.busy": "2022-09-11T20:23:24.955099Z",
     "iopub.status.idle": "2022-09-11T20:23:24.959881Z",
     "shell.execute_reply": "2022-09-11T20:23:24.958768Z"
    },
    "papermill": {
     "duration": 0.110836,
     "end_time": "2022-09-11T20:23:24.961639",
     "exception": false,
     "start_time": "2022-09-11T20:23:24.850803",
     "status": "completed"
    },
    "tags": []
   },
   "outputs": [],
   "source": [
    "# cross_validate(holdout=True, wandb_track=False, cv_predict=True)"
   ]
  },
  {
   "cell_type": "code",
   "execution_count": null,
   "id": "efe779c4",
   "metadata": {
    "papermill": {
     "duration": 0.013114,
     "end_time": "2022-09-11T20:23:24.988453",
     "exception": false,
     "start_time": "2022-09-11T20:23:24.975339",
     "status": "completed"
    },
    "tags": []
   },
   "outputs": [],
   "source": []
  }
 ],
 "metadata": {
  "kernelspec": {
   "display_name": "Python 3",
   "language": "python",
   "name": "python3"
  },
  "language_info": {
   "codemirror_mode": {
    "name": "ipython",
    "version": 3
   },
   "file_extension": ".py",
   "mimetype": "text/x-python",
   "name": "python",
   "nbconvert_exporter": "python",
   "pygments_lexer": "ipython3",
   "version": "3.7.12"
  },
  "papermill": {
   "default_parameters": {},
   "duration": 8783.500959,
   "end_time": "2022-09-11T20:23:27.938961",
   "environment_variables": {},
   "exception": null,
   "input_path": "__notebook__.ipynb",
   "output_path": "__notebook__.ipynb",
   "parameters": {},
   "start_time": "2022-09-11T17:57:04.438002",
   "version": "2.3.4"
  }
 },
 "nbformat": 4,
 "nbformat_minor": 5
}
