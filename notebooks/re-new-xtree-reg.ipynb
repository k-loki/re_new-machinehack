{
 "cells": [
  {
   "cell_type": "markdown",
   "id": "d92d95a5",
   "metadata": {
    "_cell_guid": "1690600d-a41a-41d1-92f6-1c807fc05c61",
    "_uuid": "96bf681f-434b-4f73-92c1-ec21411e870f",
    "jupyter": {
     "outputs_hidden": false
    },
    "papermill": {
     "duration": 0.006782,
     "end_time": "2022-09-13T08:03:46.818543",
     "exception": false,
     "start_time": "2022-09-13T08:03:46.811761",
     "status": "completed"
    },
    "tags": []
   },
   "source": [
    "# Config"
   ]
  },
  {
   "cell_type": "code",
   "execution_count": 1,
   "id": "f766cfc8",
   "metadata": {
    "execution": {
     "iopub.execute_input": "2022-09-13T08:03:46.832262Z",
     "iopub.status.busy": "2022-09-13T08:03:46.831407Z",
     "iopub.status.idle": "2022-09-13T08:03:46.842434Z",
     "shell.execute_reply": "2022-09-13T08:03:46.841571Z"
    },
    "papermill": {
     "duration": 0.020236,
     "end_time": "2022-09-13T08:03:46.844493",
     "exception": false,
     "start_time": "2022-09-13T08:03:46.824257",
     "status": "completed"
    },
    "tags": []
   },
   "outputs": [],
   "source": [
    "RAND = 4567\n",
    "\n",
    "# data\n",
    "train_data_path = \"../input/re-newmachinehack/ReNew_Participants_Data/train.csv\"\n",
    "test_data_path = \"../input/re-newmachinehack/ReNew_Participants_Data/test.csv\"\n",
    "\n",
    "N_FOLDS =  10\n",
    "\n",
    "model_name = \"xgb5k-rel_fts_v1\"\n",
    "save_models = False\n",
    "desc = 'xgb5k'\n",
    "\n",
    "cat_cols = ['turbine_id']\n",
    "\n",
    "# for wandb\n",
    "project = \"renew-machinehack\""
   ]
  },
  {
   "cell_type": "code",
   "execution_count": 2,
   "id": "837dc9c9",
   "metadata": {
    "execution": {
     "iopub.execute_input": "2022-09-13T08:03:46.857363Z",
     "iopub.status.busy": "2022-09-13T08:03:46.856443Z",
     "iopub.status.idle": "2022-09-13T08:03:47.813202Z",
     "shell.execute_reply": "2022-09-13T08:03:47.812196Z"
    },
    "papermill": {
     "duration": 0.965661,
     "end_time": "2022-09-13T08:03:47.815619",
     "exception": false,
     "start_time": "2022-09-13T08:03:46.849958",
     "status": "completed"
    },
    "tags": []
   },
   "outputs": [],
   "source": [
    "from sklearn.metrics import mean_absolute_percentage_error as mape\n",
    "def comp_score(y_true, y_pred):\n",
    "    return mape(y_true, y_pred)"
   ]
  },
  {
   "cell_type": "code",
   "execution_count": 3,
   "id": "8d7c1688",
   "metadata": {
    "execution": {
     "iopub.execute_input": "2022-09-13T08:03:47.828315Z",
     "iopub.status.busy": "2022-09-13T08:03:47.827954Z",
     "iopub.status.idle": "2022-09-13T08:03:48.065879Z",
     "shell.execute_reply": "2022-09-13T08:03:48.064876Z"
    },
    "papermill": {
     "duration": 0.246753,
     "end_time": "2022-09-13T08:03:48.068189",
     "exception": false,
     "start_time": "2022-09-13T08:03:47.821436",
     "status": "completed"
    },
    "tags": []
   },
   "outputs": [],
   "source": [
    "from kaggle_secrets import UserSecretsClient\n",
    "user_secrets = UserSecretsClient()\n",
    "wandb_login = user_secrets.get_secret(\"wandb key\")"
   ]
  },
  {
   "cell_type": "markdown",
   "id": "a239a29e",
   "metadata": {
    "_cell_guid": "1690600d-a41a-41d1-92f6-1c807fc05c61",
    "_uuid": "96bf681f-434b-4f73-92c1-ec21411e870f",
    "jupyter": {
     "outputs_hidden": false
    },
    "papermill": {
     "duration": 0.005317,
     "end_time": "2022-09-13T08:03:48.079558",
     "exception": false,
     "start_time": "2022-09-13T08:03:48.074241",
     "status": "completed"
    },
    "tags": []
   },
   "source": [
    "# Engine"
   ]
  },
  {
   "cell_type": "code",
   "execution_count": 4,
   "id": "d7e6f101",
   "metadata": {
    "execution": {
     "iopub.execute_input": "2022-09-13T08:03:48.092627Z",
     "iopub.status.busy": "2022-09-13T08:03:48.091687Z",
     "iopub.status.idle": "2022-09-13T08:03:48.845602Z",
     "shell.execute_reply": "2022-09-13T08:03:48.844446Z"
    },
    "papermill": {
     "duration": 0.763763,
     "end_time": "2022-09-13T08:03:48.848812",
     "exception": false,
     "start_time": "2022-09-13T08:03:48.085049",
     "status": "completed"
    },
    "tags": []
   },
   "outputs": [],
   "source": [
    "from catboost import CatBoostRegressor\n",
    "from category_encoders.target_encoder import TargetEncoder\n",
    "from sklearn.compose import make_column_transformer\n",
    "from sklearn.decomposition import PCA\n",
    "from sklearn.neighbors import KNeighborsRegressor\n",
    "from sklearn.pipeline import make_pipeline\n",
    "from sklearn.preprocessing import PolynomialFeatures, StandardScaler\n",
    "from xgboost import XGBRegressor\n",
    "from sklearn.ensemble import RandomForestRegressor, ExtraTreesRegressor\n",
    "from sklearn.linear_model import LinearRegression"
   ]
  },
  {
   "cell_type": "code",
   "execution_count": 5,
   "id": "f2ea2183",
   "metadata": {
    "_cell_guid": "1690600d-a41a-41d1-92f6-1c807fc05c61",
    "_uuid": "96bf681f-434b-4f73-92c1-ec21411e870f",
    "collapsed": false,
    "execution": {
     "iopub.execute_input": "2022-09-13T08:03:48.870399Z",
     "iopub.status.busy": "2022-09-13T08:03:48.869873Z",
     "iopub.status.idle": "2022-09-13T08:03:48.881850Z",
     "shell.execute_reply": "2022-09-13T08:03:48.880621Z"
    },
    "jupyter": {
     "outputs_hidden": false
    },
    "papermill": {
     "duration": 0.025254,
     "end_time": "2022-09-13T08:03:48.884429",
     "exception": false,
     "start_time": "2022-09-13T08:03:48.859175",
     "status": "completed"
    },
    "tags": []
   },
   "outputs": [],
   "source": [
    "def get_model():\n",
    "#     model = ExtraTreesRegressor(n_estimators=50, random_state=RAND, verbose=1, n_jobs=-1)\n",
    "    model = XGBRegressor(tree_method='gpu_hist', random_state=RAND, n_estimators=5000, n_jobs=-1, verbose=False)\n",
    "#     model = LinearRegression()\n",
    "    tme = TargetEncoder()\n",
    "    # pf = PolynomialFeatures(degree=2)\n",
    "    # pca = PCA(n_components=10, random_state=config['RAND'])\n",
    "    scaler = StandardScaler()\n",
    "    ct = make_column_transformer(\n",
    "        (tme, cat_cols),\n",
    "        remainder = 'passthrough',\n",
    "        n_jobs= -1\n",
    "    )\n",
    "    model_pipe = make_pipeline(\n",
    "        ct,\n",
    "        scaler,\n",
    "        model\n",
    "    )\n",
    "    return model_pipe"
   ]
  },
  {
   "cell_type": "markdown",
   "id": "087922a5",
   "metadata": {
    "papermill": {
     "duration": 0.008231,
     "end_time": "2022-09-13T08:03:48.901598",
     "exception": false,
     "start_time": "2022-09-13T08:03:48.893367",
     "status": "completed"
    },
    "tags": []
   },
   "source": [
    "# Train and Eval"
   ]
  },
  {
   "cell_type": "code",
   "execution_count": 6,
   "id": "eee005de",
   "metadata": {
    "execution": {
     "iopub.execute_input": "2022-09-13T08:03:48.921224Z",
     "iopub.status.busy": "2022-09-13T08:03:48.920538Z",
     "iopub.status.idle": "2022-09-13T08:03:56.770295Z",
     "shell.execute_reply": "2022-09-13T08:03:56.769241Z"
    },
    "papermill": {
     "duration": 7.862586,
     "end_time": "2022-09-13T08:03:56.772771",
     "exception": false,
     "start_time": "2022-09-13T08:03:48.910185",
     "status": "completed"
    },
    "tags": []
   },
   "outputs": [
    {
     "name": "stderr",
     "output_type": "stream",
     "text": [
      "\u001b[34m\u001b[1mwandb\u001b[0m: W&B API key is configured. Use \u001b[1m`wandb login --relogin`\u001b[0m to force relogin\n",
      "\u001b[34m\u001b[1mwandb\u001b[0m: \u001b[33mWARNING\u001b[0m If you're specifying your api key in code, ensure this code is not shared publicly.\n",
      "\u001b[34m\u001b[1mwandb\u001b[0m: \u001b[33mWARNING\u001b[0m Consider setting the WANDB_API_KEY environment variable, or running `wandb login` from the command line.\n",
      "\u001b[34m\u001b[1mwandb\u001b[0m: Appending key for api.wandb.ai to your netrc file: /root/.netrc\n"
     ]
    },
    {
     "name": "stdout",
     "output_type": "stream",
     "text": [
      "xgb5k-rel_fts_v1\n",
      "xgb5k\n"
     ]
    }
   ],
   "source": [
    "import warnings\n",
    "warnings.filterwarnings('ignore')\n",
    "\n",
    "import numpy as np\n",
    "import argparse\n",
    "import wandb\n",
    "from joblib import dump\n",
    "import pandas as pd\n",
    "from sklearn.metrics import mean_squared_error\n",
    "from sklearn.model_selection import KFold\n",
    "import time\n",
    "np.random.seed(RAND)\n",
    "\n",
    "wandb.login(key = wandb_login)\n",
    "\n",
    "# Load configuration\n",
    "print(model_name)\n",
    "print(desc)\n",
    "\n",
    "# Load data\n",
    "train_data = pd.read_csv(train_data_path)\n",
    "test_data = pd.read_csv(test_data_path)"
   ]
  },
  {
   "cell_type": "code",
   "execution_count": 7,
   "id": "abf7084d",
   "metadata": {
    "execution": {
     "iopub.execute_input": "2022-09-13T08:03:56.786666Z",
     "iopub.status.busy": "2022-09-13T08:03:56.786306Z",
     "iopub.status.idle": "2022-09-13T08:03:56.800477Z",
     "shell.execute_reply": "2022-09-13T08:03:56.799450Z"
    },
    "papermill": {
     "duration": 0.023486,
     "end_time": "2022-09-13T08:03:56.802451",
     "exception": false,
     "start_time": "2022-09-13T08:03:56.778965",
     "status": "completed"
    },
    "tags": []
   },
   "outputs": [
    {
     "data": {
      "text/plain": [
       "['active_power_calculated_by_converter',\n",
       " 'active_power_raw',\n",
       " 'ambient_temperature',\n",
       " 'generator_speed',\n",
       " 'generator_winding_temp_max',\n",
       " 'grid_power10min_average',\n",
       " 'nc1_inside_temp',\n",
       " 'nacelle_temp',\n",
       " 'reactice_power_calculated_by_converter',\n",
       " 'reactive_power',\n",
       " 'wind_direction_raw',\n",
       " 'wind_speed_raw',\n",
       " 'wind_speed_turbulence']"
      ]
     },
     "execution_count": 7,
     "metadata": {},
     "output_type": "execute_result"
    }
   ],
   "source": [
    "numeric_cols = [col for col in train_data.columns if train_data[col].dtype != 'object']\n",
    "numeric_cols = numeric_cols[:-1]\n",
    "numeric_cols"
   ]
  },
  {
   "cell_type": "code",
   "execution_count": 8,
   "id": "119fa375",
   "metadata": {
    "execution": {
     "iopub.execute_input": "2022-09-13T08:03:56.816851Z",
     "iopub.status.busy": "2022-09-13T08:03:56.816275Z",
     "iopub.status.idle": "2022-09-13T08:03:56.822158Z",
     "shell.execute_reply": "2022-09-13T08:03:56.821255Z"
    },
    "papermill": {
     "duration": 0.014638,
     "end_time": "2022-09-13T08:03:56.824070",
     "exception": false,
     "start_time": "2022-09-13T08:03:56.809432",
     "status": "completed"
    },
    "tags": []
   },
   "outputs": [
    {
     "data": {
      "text/plain": [
       "13"
      ]
     },
     "execution_count": 8,
     "metadata": {},
     "output_type": "execute_result"
    }
   ],
   "source": [
    "len(numeric_cols)"
   ]
  },
  {
   "cell_type": "code",
   "execution_count": 9,
   "id": "f77cc8ce",
   "metadata": {
    "execution": {
     "iopub.execute_input": "2022-09-13T08:03:56.839327Z",
     "iopub.status.busy": "2022-09-13T08:03:56.837467Z",
     "iopub.status.idle": "2022-09-13T08:04:08.835827Z",
     "shell.execute_reply": "2022-09-13T08:04:08.834600Z"
    },
    "papermill": {
     "duration": 12.008575,
     "end_time": "2022-09-13T08:04:08.838449",
     "exception": false,
     "start_time": "2022-09-13T08:03:56.829874",
     "status": "completed"
    },
    "tags": []
   },
   "outputs": [
    {
     "name": "stdout",
     "output_type": "stream",
     "text": [
      "\u001b[33mWARNING: Running pip as the 'root' user can result in broken permissions and conflicting behaviour with the system package manager. It is recommended to use a virtual environment instead: https://pip.pypa.io/warnings/venv\u001b[0m\u001b[33m\r\n",
      "\u001b[0m"
     ]
    }
   ],
   "source": [
    "! pip install feature_engine -q"
   ]
  },
  {
   "cell_type": "code",
   "execution_count": 10,
   "id": "65873118",
   "metadata": {
    "execution": {
     "iopub.execute_input": "2022-09-13T08:04:08.852901Z",
     "iopub.status.busy": "2022-09-13T08:04:08.852187Z",
     "iopub.status.idle": "2022-09-13T08:04:10.463616Z",
     "shell.execute_reply": "2022-09-13T08:04:10.462641Z"
    },
    "papermill": {
     "duration": 1.621278,
     "end_time": "2022-09-13T08:04:10.466177",
     "exception": false,
     "start_time": "2022-09-13T08:04:08.844899",
     "status": "completed"
    },
    "tags": []
   },
   "outputs": [],
   "source": [
    "train_data = train_data.where(train_data.values != 0, 0.0001)\n",
    "test_data = test_data.where(test_data.values != 0, 0.0001)"
   ]
  },
  {
   "cell_type": "code",
   "execution_count": 11,
   "id": "fa99b52f",
   "metadata": {
    "execution": {
     "iopub.execute_input": "2022-09-13T08:04:10.481452Z",
     "iopub.status.busy": "2022-09-13T08:04:10.479792Z",
     "iopub.status.idle": "2022-09-13T08:04:21.636461Z",
     "shell.execute_reply": "2022-09-13T08:04:21.635452Z"
    },
    "papermill": {
     "duration": 11.16671,
     "end_time": "2022-09-13T08:04:21.639113",
     "exception": false,
     "start_time": "2022-09-13T08:04:10.472403",
     "status": "completed"
    },
    "tags": []
   },
   "outputs": [],
   "source": [
    "# generate realtive features\n",
    "from feature_engine.creation import RelativeFeatures\n",
    "rf = RelativeFeatures(variables=numeric_cols[:6], reference=numeric_cols[6:], func=['sub', 'mul', 'div'])\n",
    "train_data_trans = rf.fit_transform(train_data.drop(['timestamp','Target'], axis=1))\n",
    "test_data_trans = rf.transform(test_data)"
   ]
  },
  {
   "cell_type": "code",
   "execution_count": 12,
   "id": "6a5d48fd",
   "metadata": {
    "execution": {
     "iopub.execute_input": "2022-09-13T08:04:21.653102Z",
     "iopub.status.busy": "2022-09-13T08:04:21.652750Z",
     "iopub.status.idle": "2022-09-13T08:04:21.683229Z",
     "shell.execute_reply": "2022-09-13T08:04:21.682144Z"
    },
    "papermill": {
     "duration": 0.041746,
     "end_time": "2022-09-13T08:04:21.687356",
     "exception": false,
     "start_time": "2022-09-13T08:04:21.645610",
     "status": "completed"
    },
    "tags": []
   },
   "outputs": [
    {
     "name": "stdout",
     "output_type": "stream",
     "text": [
      "<class 'pandas.core.frame.DataFrame'>\n",
      "RangeIndex: 909604 entries, 0 to 909603\n",
      "Columns: 140 entries, active_power_calculated_by_converter to grid_power10min_average_div_wind_speed_turbulence\n",
      "dtypes: float64(139), object(1)\n",
      "memory usage: 971.6+ MB\n",
      "None\n",
      "<class 'pandas.core.frame.DataFrame'>\n",
      "RangeIndex: 303202 entries, 0 to 303201\n",
      "Columns: 140 entries, active_power_calculated_by_converter to grid_power10min_average_div_wind_speed_turbulence\n",
      "dtypes: float64(139), object(1)\n",
      "memory usage: 323.9+ MB\n",
      "None\n"
     ]
    }
   ],
   "source": [
    "print(train_data_trans.info())\n",
    "print(test_data_trans.info())"
   ]
  },
  {
   "cell_type": "code",
   "execution_count": 13,
   "id": "5d68f76f",
   "metadata": {
    "execution": {
     "iopub.execute_input": "2022-09-13T08:04:21.703077Z",
     "iopub.status.busy": "2022-09-13T08:04:21.702572Z",
     "iopub.status.idle": "2022-09-13T08:04:21.715401Z",
     "shell.execute_reply": "2022-09-13T08:04:21.714175Z"
    },
    "papermill": {
     "duration": 0.024736,
     "end_time": "2022-09-13T08:04:21.718833",
     "exception": false,
     "start_time": "2022-09-13T08:04:21.694097",
     "status": "completed"
    },
    "tags": []
   },
   "outputs": [
    {
     "data": {
      "text/plain": [
       "False"
      ]
     },
     "execution_count": 13,
     "metadata": {},
     "output_type": "execute_result"
    }
   ],
   "source": [
    "'target' in train_data_trans.columns"
   ]
  },
  {
   "cell_type": "code",
   "execution_count": 14,
   "id": "2a4f9b0a",
   "metadata": {
    "execution": {
     "iopub.execute_input": "2022-09-13T08:04:21.745368Z",
     "iopub.status.busy": "2022-09-13T08:04:21.744744Z",
     "iopub.status.idle": "2022-09-13T08:04:21.790031Z",
     "shell.execute_reply": "2022-09-13T08:04:21.788631Z"
    },
    "papermill": {
     "duration": 0.061743,
     "end_time": "2022-09-13T08:04:21.793293",
     "exception": false,
     "start_time": "2022-09-13T08:04:21.731550",
     "status": "completed"
    },
    "tags": []
   },
   "outputs": [],
   "source": [
    "train_data_trans['Target'] = train_data.Target\n",
    "train_data = train_data_trans\n",
    "test_data = test_data_trans"
   ]
  },
  {
   "cell_type": "code",
   "execution_count": 15,
   "id": "eb84e3f5",
   "metadata": {
    "execution": {
     "iopub.execute_input": "2022-09-13T08:04:21.820078Z",
     "iopub.status.busy": "2022-09-13T08:04:21.819571Z",
     "iopub.status.idle": "2022-09-13T08:04:21.850688Z",
     "shell.execute_reply": "2022-09-13T08:04:21.848938Z"
    },
    "papermill": {
     "duration": 0.052614,
     "end_time": "2022-09-13T08:04:21.854569",
     "exception": false,
     "start_time": "2022-09-13T08:04:21.801955",
     "status": "completed"
    },
    "tags": []
   },
   "outputs": [
    {
     "name": "stdout",
     "output_type": "stream",
     "text": [
      "<class 'pandas.core.frame.DataFrame'>\n",
      "RangeIndex: 909604 entries, 0 to 909603\n",
      "Columns: 141 entries, active_power_calculated_by_converter to Target\n",
      "dtypes: float64(140), object(1)\n",
      "memory usage: 978.5+ MB\n",
      "None\n",
      "<class 'pandas.core.frame.DataFrame'>\n",
      "RangeIndex: 303202 entries, 0 to 303201\n",
      "Columns: 140 entries, active_power_calculated_by_converter to grid_power10min_average_div_wind_speed_turbulence\n",
      "dtypes: float64(139), object(1)\n",
      "memory usage: 323.9+ MB\n",
      "None\n"
     ]
    }
   ],
   "source": [
    "print(train_data.info())\n",
    "print(test_data.info())"
   ]
  },
  {
   "cell_type": "code",
   "execution_count": 16,
   "id": "6321f9ab",
   "metadata": {
    "execution": {
     "iopub.execute_input": "2022-09-13T08:04:21.874578Z",
     "iopub.status.busy": "2022-09-13T08:04:21.874169Z",
     "iopub.status.idle": "2022-09-13T08:04:21.881699Z",
     "shell.execute_reply": "2022-09-13T08:04:21.880588Z"
    },
    "papermill": {
     "duration": 0.024676,
     "end_time": "2022-09-13T08:04:21.888047",
     "exception": false,
     "start_time": "2022-09-13T08:04:21.863371",
     "status": "completed"
    },
    "tags": []
   },
   "outputs": [
    {
     "data": {
      "text/plain": [
       "(False, False)"
      ]
     },
     "execution_count": 16,
     "metadata": {},
     "output_type": "execute_result"
    }
   ],
   "source": [
    "'timestamp' in train_data, 'timestamp' in test_data"
   ]
  },
  {
   "cell_type": "code",
   "execution_count": 17,
   "id": "e8427627",
   "metadata": {
    "execution": {
     "iopub.execute_input": "2022-09-13T08:04:21.910922Z",
     "iopub.status.busy": "2022-09-13T08:04:21.910500Z",
     "iopub.status.idle": "2022-09-13T08:04:21.918237Z",
     "shell.execute_reply": "2022-09-13T08:04:21.916948Z"
    },
    "papermill": {
     "duration": 0.023571,
     "end_time": "2022-09-13T08:04:21.922448",
     "exception": false,
     "start_time": "2022-09-13T08:04:21.898877",
     "status": "completed"
    },
    "tags": []
   },
   "outputs": [
    {
     "data": {
      "text/plain": [
       "(True, False)"
      ]
     },
     "execution_count": 17,
     "metadata": {},
     "output_type": "execute_result"
    }
   ],
   "source": [
    "'Target' in train_data.columns, 'Target' in test_data.columns"
   ]
  },
  {
   "cell_type": "code",
   "execution_count": 18,
   "id": "7224debe",
   "metadata": {
    "execution": {
     "iopub.execute_input": "2022-09-13T08:04:21.943167Z",
     "iopub.status.busy": "2022-09-13T08:04:21.942815Z",
     "iopub.status.idle": "2022-09-13T08:04:21.953956Z",
     "shell.execute_reply": "2022-09-13T08:04:21.952975Z"
    },
    "papermill": {
     "duration": 0.024588,
     "end_time": "2022-09-13T08:04:21.956593",
     "exception": false,
     "start_time": "2022-09-13T08:04:21.932005",
     "status": "completed"
    },
    "tags": []
   },
   "outputs": [],
   "source": [
    "cvpreds_test = np.zeros(shape=(len(test_data), N_FOLDS))\n",
    "cvpreds_train = np.zeros(shape=(len(train_data)))\n"
   ]
  },
  {
   "cell_type": "code",
   "execution_count": 19,
   "id": "123c9275",
   "metadata": {
    "execution": {
     "iopub.execute_input": "2022-09-13T08:04:22.001899Z",
     "iopub.status.busy": "2022-09-13T08:04:22.001431Z",
     "iopub.status.idle": "2022-09-13T08:28:57.577304Z",
     "shell.execute_reply": "2022-09-13T08:28:57.570973Z"
    },
    "papermill": {
     "duration": 1475.612915,
     "end_time": "2022-09-13T08:28:57.579546",
     "exception": false,
     "start_time": "2022-09-13T08:04:21.966631",
     "status": "completed"
    },
    "tags": []
   },
   "outputs": [
    {
     "name": "stdout",
     "output_type": "stream",
     "text": [
      "Pipeline(steps=[('columntransformer',\n",
      "                 ColumnTransformer(n_jobs=-1, remainder='passthrough',\n",
      "                                   transformers=[('targetencoder',\n",
      "                                                  TargetEncoder(),\n",
      "                                                  ['turbine_id'])])),\n",
      "                ('standardscaler', StandardScaler()),\n",
      "                ('xgbregressor',\n",
      "                 XGBRegressor(base_score=None, booster=None, callbacks=None,\n",
      "                              colsample_bylevel=None, colsample_bynode=None,\n",
      "                              colsample_bytree=None, early_stopping_roun...\n",
      "                              gamma=None, gpu_id=None, grow_policy=None,\n",
      "                              importance_type=None,\n",
      "                              interaction_constraints=None, learning_rate=None,\n",
      "                              max_bin=None, max_cat_to_onehot=None,\n",
      "                              max_delta_step=None, max_depth=None,\n",
      "                              max_leaves=None, min_child_weight=None,\n",
      "                              missing=nan, monotone_constraints=None,\n",
      "                              n_estimators=5000, n_jobs=-1,\n",
      "                              num_parallel_tree=None, predictor=None,\n",
      "                              random_state=4567, reg_alpha=None,\n",
      "                              reg_lambda=None, ...))])\n",
      "Fold : 0\n",
      "training,..\n",
      "[08:04:41] WARNING: ../src/learner.cc:627: \n",
      "Parameters: { \"verbose\" } might not be used.\n",
      "\n",
      "  This could be a false alarm, with some parameters getting used by language bindings but\n",
      "  then being mistakenly passed down to XGBoost core, or some parameter actually being used\n",
      "  but getting flagged wrongly here. Please open an issue if you find any such cases.\n",
      "\n",
      "\n",
      "validating...\n",
      "MAPE Score:  0.014634641055709049\n",
      "--------------------------------------------------------------------\n",
      "Fold : 1\n",
      "training,..\n",
      "[08:07:09] WARNING: ../src/learner.cc:627: \n",
      "Parameters: { \"verbose\" } might not be used.\n",
      "\n",
      "  This could be a false alarm, with some parameters getting used by language bindings but\n",
      "  then being mistakenly passed down to XGBoost core, or some parameter actually being used\n",
      "  but getting flagged wrongly here. Please open an issue if you find any such cases.\n",
      "\n",
      "\n",
      "validating...\n",
      "MAPE Score:  0.014744476643534088\n",
      "--------------------------------------------------------------------\n",
      "Fold : 2\n",
      "training,..\n",
      "[08:09:36] WARNING: ../src/learner.cc:627: \n",
      "Parameters: { \"verbose\" } might not be used.\n",
      "\n",
      "  This could be a false alarm, with some parameters getting used by language bindings but\n",
      "  then being mistakenly passed down to XGBoost core, or some parameter actually being used\n",
      "  but getting flagged wrongly here. Please open an issue if you find any such cases.\n",
      "\n",
      "\n",
      "validating...\n",
      "MAPE Score:  0.014678410668550312\n",
      "--------------------------------------------------------------------\n",
      "Fold : 3\n",
      "training,..\n",
      "[08:12:03] WARNING: ../src/learner.cc:627: \n",
      "Parameters: { \"verbose\" } might not be used.\n",
      "\n",
      "  This could be a false alarm, with some parameters getting used by language bindings but\n",
      "  then being mistakenly passed down to XGBoost core, or some parameter actually being used\n",
      "  but getting flagged wrongly here. Please open an issue if you find any such cases.\n",
      "\n",
      "\n",
      "validating...\n",
      "MAPE Score:  0.014771410225083183\n",
      "--------------------------------------------------------------------\n",
      "Fold : 4\n",
      "training,..\n",
      "[08:14:30] WARNING: ../src/learner.cc:627: \n",
      "Parameters: { \"verbose\" } might not be used.\n",
      "\n",
      "  This could be a false alarm, with some parameters getting used by language bindings but\n",
      "  then being mistakenly passed down to XGBoost core, or some parameter actually being used\n",
      "  but getting flagged wrongly here. Please open an issue if you find any such cases.\n",
      "\n",
      "\n",
      "validating...\n",
      "MAPE Score:  0.014715835036302837\n",
      "--------------------------------------------------------------------\n",
      "Fold : 5\n",
      "training,..\n",
      "[08:16:56] WARNING: ../src/learner.cc:627: \n",
      "Parameters: { \"verbose\" } might not be used.\n",
      "\n",
      "  This could be a false alarm, with some parameters getting used by language bindings but\n",
      "  then being mistakenly passed down to XGBoost core, or some parameter actually being used\n",
      "  but getting flagged wrongly here. Please open an issue if you find any such cases.\n",
      "\n",
      "\n",
      "validating...\n",
      "MAPE Score:  0.014735118030011493\n",
      "--------------------------------------------------------------------\n",
      "Fold : 6\n",
      "training,..\n",
      "[08:19:22] WARNING: ../src/learner.cc:627: \n",
      "Parameters: { \"verbose\" } might not be used.\n",
      "\n",
      "  This could be a false alarm, with some parameters getting used by language bindings but\n",
      "  then being mistakenly passed down to XGBoost core, or some parameter actually being used\n",
      "  but getting flagged wrongly here. Please open an issue if you find any such cases.\n",
      "\n",
      "\n",
      "validating...\n",
      "MAPE Score:  0.014726575084944946\n",
      "--------------------------------------------------------------------\n",
      "Fold : 7\n",
      "training,..\n",
      "[08:21:50] WARNING: ../src/learner.cc:627: \n",
      "Parameters: { \"verbose\" } might not be used.\n",
      "\n",
      "  This could be a false alarm, with some parameters getting used by language bindings but\n",
      "  then being mistakenly passed down to XGBoost core, or some parameter actually being used\n",
      "  but getting flagged wrongly here. Please open an issue if you find any such cases.\n",
      "\n",
      "\n",
      "validating...\n",
      "MAPE Score:  0.014704856270356666\n",
      "--------------------------------------------------------------------\n",
      "Fold : 8\n",
      "training,..\n",
      "[08:24:17] WARNING: ../src/learner.cc:627: \n",
      "Parameters: { \"verbose\" } might not be used.\n",
      "\n",
      "  This could be a false alarm, with some parameters getting used by language bindings but\n",
      "  then being mistakenly passed down to XGBoost core, or some parameter actually being used\n",
      "  but getting flagged wrongly here. Please open an issue if you find any such cases.\n",
      "\n",
      "\n",
      "validating...\n",
      "MAPE Score:  0.014705275099711219\n",
      "--------------------------------------------------------------------\n",
      "Fold : 9\n",
      "training,..\n",
      "[08:26:44] WARNING: ../src/learner.cc:627: \n",
      "Parameters: { \"verbose\" } might not be used.\n",
      "\n",
      "  This could be a false alarm, with some parameters getting used by language bindings but\n",
      "  then being mistakenly passed down to XGBoost core, or some parameter actually being used\n",
      "  but getting flagged wrongly here. Please open an issue if you find any such cases.\n",
      "\n",
      "\n",
      "validating...\n",
      "MAPE Score:  0.014706114213215677\n",
      "--------------------------------------------------------------------\n"
     ]
    }
   ],
   "source": [
    "model = get_model()\n",
    "print(model)\n",
    "#  eval on holdout test\n",
    "kf = KFold(n_splits=N_FOLDS, random_state=RAND, shuffle=True)\n",
    "for fold, (train_idx, val_idx) in enumerate(kf.split(train_data)):\n",
    "    print(f'Fold : {fold}')\n",
    "    \n",
    "    X_train, y_train = train_data.drop('Target', axis=1).iloc[train_idx], train_data['Target'].iloc[train_idx]\n",
    "    X_val, y_val = train_data.drop('Target', axis=1).iloc[val_idx], train_data['Target'].iloc[val_idx]\n",
    "    \n",
    "    print('training,..')\n",
    "    model.fit(X_train, y_train)\n",
    "    print('validating...')\n",
    "    preds = model.predict(X_val)\n",
    "    mape_score = comp_score(y_val, preds)\n",
    "    print('MAPE Score: ', mape_score)\n",
    "    \n",
    "    # test data predictions\n",
    "    cvpreds_test[:, fold] = model.predict(test_data)\n",
    "    cvpreds_train[val_idx] = preds\n",
    "    print('--------------------------------------------------------------------')\n",
    "\n",
    "\n",
    "# ran in 1475 sec."
   ]
  },
  {
   "cell_type": "code",
   "execution_count": 20,
   "id": "b12ef3ff",
   "metadata": {
    "execution": {
     "iopub.execute_input": "2022-09-13T08:28:57.600881Z",
     "iopub.status.busy": "2022-09-13T08:28:57.599436Z",
     "iopub.status.idle": "2022-09-13T08:28:59.786999Z",
     "shell.execute_reply": "2022-09-13T08:28:59.785968Z"
    },
    "papermill": {
     "duration": 2.200606,
     "end_time": "2022-09-13T08:28:59.789655",
     "exception": false,
     "start_time": "2022-09-13T08:28:57.589049",
     "status": "completed"
    },
    "tags": []
   },
   "outputs": [],
   "source": [
    "test_cv = pd.DataFrame(cvpreds_test.mean(axis=1), columns=['Target'])\n",
    "train_cv = pd.DataFrame(cvpreds_train, columns=['Target'])\n",
    "\n",
    "test_cv.to_csv('test_lr_rel_fts_v1_oof.csv', index=False)\n",
    "train_cv.to_csv('train_lr_rel_fts_v1_oof.csv', index=False)"
   ]
  },
  {
   "cell_type": "code",
   "execution_count": 21,
   "id": "36f44a48",
   "metadata": {
    "execution": {
     "iopub.execute_input": "2022-09-13T08:28:59.810510Z",
     "iopub.status.busy": "2022-09-13T08:28:59.809925Z",
     "iopub.status.idle": "2022-09-13T08:28:59.814327Z",
     "shell.execute_reply": "2022-09-13T08:28:59.813269Z"
    },
    "papermill": {
     "duration": 0.01728,
     "end_time": "2022-09-13T08:28:59.816793",
     "exception": false,
     "start_time": "2022-09-13T08:28:59.799513",
     "status": "completed"
    },
    "tags": []
   },
   "outputs": [],
   "source": [
    "# model[2].feature_importances_"
   ]
  },
  {
   "cell_type": "code",
   "execution_count": null,
   "id": "2846ce91",
   "metadata": {
    "papermill": {
     "duration": 0.009106,
     "end_time": "2022-09-13T08:28:59.835071",
     "exception": false,
     "start_time": "2022-09-13T08:28:59.825965",
     "status": "completed"
    },
    "tags": []
   },
   "outputs": [],
   "source": []
  },
  {
   "cell_type": "code",
   "execution_count": 22,
   "id": "49ae7436",
   "metadata": {
    "execution": {
     "iopub.execute_input": "2022-09-13T08:28:59.855688Z",
     "iopub.status.busy": "2022-09-13T08:28:59.854929Z",
     "iopub.status.idle": "2022-09-13T08:28:59.862287Z",
     "shell.execute_reply": "2022-09-13T08:28:59.861256Z"
    },
    "papermill": {
     "duration": 0.019969,
     "end_time": "2022-09-13T08:28:59.864292",
     "exception": false,
     "start_time": "2022-09-13T08:28:59.844323",
     "status": "completed"
    },
    "tags": []
   },
   "outputs": [],
   "source": [
    "\n",
    "# def train_and_eval(model, X_train, y_train, X_val, y_val):\n",
    "#     print('Training Model...')\n",
    "#     model.fit(X_train, y_train)\n",
    "#     train_score = comp_score(model.predict(X_train), y_train)\n",
    "#     print(\"Training MAPE: \", train_score)\n",
    "\n",
    "#     print('Validating Model..')\n",
    "#     preds = model.predict(X_val)\n",
    "#     val_score = comp_score(y_val, preds)\n",
    "#     print(\"Validation MAPE: \", val_score)\n",
    "#     print(\"validation rmse: \", mean_squared_error(y_val, preds, squared=False))\n",
    "\n",
    "#     return model, train_score, val_score\n",
    "\n",
    "\n",
    "# def __cross_validate(holdout=False, cv_predict=False, wandb_track=True):\n",
    "#     cv_scores = []\n",
    "\n",
    "#     drop_cols = ['Target']\n",
    "#     model = get_model()\n",
    "\n",
    "    \n",
    "#     if cv_predict:\n",
    "#         cvpreds_test = np.zeros(shape=(len(test_data), N_FOLDS))\n",
    "#         cvpreds_train = np.zeros(shape=(len(train_data)))\n",
    "    \n",
    "#     kf = KFold(n_splits=N_FOLDS, random_state=RAND, shuffle=True)\n",
    "#     for fold, (train_idx, val_idx) in enumerate(kf.split(train_data)):\n",
    "#         print(f'Fold : {fold}')\n",
    "\n",
    "#         train_fold = train_data.iloc[train_idx]\n",
    "#         val_fold = train_data.iloc[val_idx]\n",
    "\n",
    "#         X_train, y_train = train_fold.drop(\n",
    "#             drop_cols, axis=1), train_fold.Target\n",
    "#         X_val, y_val = val_fold.drop(\n",
    "#             drop_cols, axis=1), val_fold.Target\n",
    "        \n",
    "#         start = time.time() \n",
    "#         model, train_score, val_score = train_and_eval(model,\n",
    "#             X_train, y_train, X_val, y_val)\n",
    "#         end = time.time()\n",
    "#         print(f'Time taken: {end - start}')\n",
    "\n",
    "#         if wandb_track:\n",
    "#             # wandb tracking\n",
    "#             wandb.log({\n",
    "#                 'fold': fold,\n",
    "#                 'Train_score': train_score,\n",
    "#                 'Val_score': val_score \n",
    "#             })\n",
    "\n",
    "#         cv_scores.append(val_score)\n",
    "\n",
    "#         if cv_predict:\n",
    "#             # save predictions for ensembling\n",
    "#             cvpreds_test[:, fold] = model.predict(test_data)\n",
    "#             cvpreds_train[val_idx] = model.predict(X_val)\n",
    "            \n",
    "#         print('----------------------------------------------------------')\n",
    "\n",
    "#         # save_model\n",
    "#         if save_models :\n",
    "#             dump(model, model_name + '_' + str(fold))\n",
    "#             print('Model saved')\n",
    "\n",
    "#         if holdout == True:\n",
    "#             break\n",
    "\n",
    "#     if cv_predict:\n",
    "#         print('Saving cross validated predictions...')\n",
    "#         test_cv = pd.DataFrame(cvpreds_test.mean(axis=1), columns=['Target'])\n",
    "#         train_cv = pd.DataFrame(cvpreds_train, columns=['Target'])\n",
    "#         print('Test shape: ', test_cv.shape)\n",
    "#         print('Train shape: ', train_cv.shape)\n",
    "#         test_cv.to_csv(f\"{model_name}_test_cv.csv\", index=False)\n",
    "#         train_cv.to_csv(f\"{model_name}_train_cv.csv\", index=False)\n",
    "\n",
    "#     print(\"AVG mape :\", np.array(cv_scores).mean())\n",
    "\n",
    "\n",
    "# def cross_validate(holdout=False, wandb_track=True, cv_predict=False):\n",
    "#     if wandb_track:\n",
    "#         # wandb tracking\n",
    "#         with wandb.init(project=project, name=model_name):\n",
    "#             __cross_validate(holdout, wandb_track=wandb_track, cv_predict=cv_predict)\n",
    "#     else:\n",
    "#         __cross_validate(holdout, wandb_track=wandb_track, cv_predict=cv_predict)"
   ]
  },
  {
   "cell_type": "code",
   "execution_count": 23,
   "id": "cb6d9d44",
   "metadata": {
    "execution": {
     "iopub.execute_input": "2022-09-13T08:28:59.883620Z",
     "iopub.status.busy": "2022-09-13T08:28:59.883279Z",
     "iopub.status.idle": "2022-09-13T08:28:59.888135Z",
     "shell.execute_reply": "2022-09-13T08:28:59.887032Z"
    },
    "papermill": {
     "duration": 0.016949,
     "end_time": "2022-09-13T08:28:59.890067",
     "exception": false,
     "start_time": "2022-09-13T08:28:59.873118",
     "status": "completed"
    },
    "tags": []
   },
   "outputs": [],
   "source": [
    "# cross_validate(holdout=True, wandb_track=False, cv_predict=True)"
   ]
  },
  {
   "cell_type": "code",
   "execution_count": null,
   "id": "5e051207",
   "metadata": {
    "papermill": {
     "duration": 0.008695,
     "end_time": "2022-09-13T08:28:59.907582",
     "exception": false,
     "start_time": "2022-09-13T08:28:59.898887",
     "status": "completed"
    },
    "tags": []
   },
   "outputs": [],
   "source": []
  }
 ],
 "metadata": {
  "kernelspec": {
   "display_name": "Python 3",
   "language": "python",
   "name": "python3"
  },
  "language_info": {
   "codemirror_mode": {
    "name": "ipython",
    "version": 3
   },
   "file_extension": ".py",
   "mimetype": "text/x-python",
   "name": "python",
   "nbconvert_exporter": "python",
   "pygments_lexer": "ipython3",
   "version": "3.7.12"
  },
  "papermill": {
   "default_parameters": {},
   "duration": 1523.667525,
   "end_time": "2022-09-13T08:29:02.765639",
   "environment_variables": {},
   "exception": null,
   "input_path": "__notebook__.ipynb",
   "output_path": "__notebook__.ipynb",
   "parameters": {},
   "start_time": "2022-09-13T08:03:39.098114",
   "version": "2.3.4"
  }
 },
 "nbformat": 4,
 "nbformat_minor": 5
}
