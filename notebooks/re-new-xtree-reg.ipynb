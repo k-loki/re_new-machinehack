{
 "cells": [
  {
   "cell_type": "markdown",
   "id": "9810e043",
   "metadata": {
    "_cell_guid": "1690600d-a41a-41d1-92f6-1c807fc05c61",
    "_uuid": "96bf681f-434b-4f73-92c1-ec21411e870f",
    "jupyter": {
     "outputs_hidden": false
    },
    "papermill": {
     "duration": 0.010726,
     "end_time": "2022-09-06T02:35:17.256516",
     "exception": false,
     "start_time": "2022-09-06T02:35:17.245790",
     "status": "completed"
    },
    "tags": []
   },
   "source": [
    "# Config"
   ]
  },
  {
   "cell_type": "code",
   "execution_count": 1,
   "id": "84e4b415",
   "metadata": {
    "execution": {
     "iopub.execute_input": "2022-09-06T02:35:17.275046Z",
     "iopub.status.busy": "2022-09-06T02:35:17.274383Z",
     "iopub.status.idle": "2022-09-06T02:35:17.291835Z",
     "shell.execute_reply": "2022-09-06T02:35:17.288652Z"
    },
    "papermill": {
     "duration": 0.030466,
     "end_time": "2022-09-06T02:35:17.294553",
     "exception": false,
     "start_time": "2022-09-06T02:35:17.264087",
     "status": "completed"
    },
    "tags": []
   },
   "outputs": [],
   "source": [
    "RAND = 4567\n",
    "\n",
    "# data\n",
    "train_data_path = \"../input/re-newmachinehack/ReNew_Participants_Data/train.csv\"\n",
    "test_data_path = \"../input/re-newmachinehack/ReNew_Participants_Data/test.csv\"\n",
    "\n",
    "N_FOLDS =  10\n",
    "\n",
    "model_name = \"xt-50\"\n",
    "save_models = True\n",
    "desc = 'xt-50 with all possible realtive features'\n",
    "\n",
    "cat_cols = ['turbine_id']\n",
    "\n",
    "# for wandb\n",
    "project = \"renew-machinehack\""
   ]
  },
  {
   "cell_type": "code",
   "execution_count": 2,
   "id": "49cccbb0",
   "metadata": {
    "execution": {
     "iopub.execute_input": "2022-09-06T02:35:17.314024Z",
     "iopub.status.busy": "2022-09-06T02:35:17.313274Z",
     "iopub.status.idle": "2022-09-06T02:35:18.647483Z",
     "shell.execute_reply": "2022-09-06T02:35:18.646445Z"
    },
    "papermill": {
     "duration": 1.345917,
     "end_time": "2022-09-06T02:35:18.650089",
     "exception": false,
     "start_time": "2022-09-06T02:35:17.304172",
     "status": "completed"
    },
    "tags": []
   },
   "outputs": [],
   "source": [
    "from sklearn.metrics import mean_absolute_percentage_error as mape\n",
    "def comp_score(y_true, y_pred):\n",
    "    return mape(y_true, y_pred)"
   ]
  },
  {
   "cell_type": "code",
   "execution_count": 3,
   "id": "d947a187",
   "metadata": {
    "execution": {
     "iopub.execute_input": "2022-09-06T02:35:18.665555Z",
     "iopub.status.busy": "2022-09-06T02:35:18.665052Z",
     "iopub.status.idle": "2022-09-06T02:35:18.930325Z",
     "shell.execute_reply": "2022-09-06T02:35:18.929066Z"
    },
    "papermill": {
     "duration": 0.276748,
     "end_time": "2022-09-06T02:35:18.933460",
     "exception": false,
     "start_time": "2022-09-06T02:35:18.656712",
     "status": "completed"
    },
    "tags": []
   },
   "outputs": [],
   "source": [
    "from kaggle_secrets import UserSecretsClient\n",
    "user_secrets = UserSecretsClient()\n",
    "wandb_login = user_secrets.get_secret(\"wandb key\")"
   ]
  },
  {
   "cell_type": "markdown",
   "id": "a8c601ac",
   "metadata": {
    "_cell_guid": "1690600d-a41a-41d1-92f6-1c807fc05c61",
    "_uuid": "96bf681f-434b-4f73-92c1-ec21411e870f",
    "jupyter": {
     "outputs_hidden": false
    },
    "papermill": {
     "duration": 0.006511,
     "end_time": "2022-09-06T02:35:18.946995",
     "exception": false,
     "start_time": "2022-09-06T02:35:18.940484",
     "status": "completed"
    },
    "tags": []
   },
   "source": [
    "# Engine"
   ]
  },
  {
   "cell_type": "code",
   "execution_count": 4,
   "id": "f60593bf",
   "metadata": {
    "execution": {
     "iopub.execute_input": "2022-09-06T02:35:18.963189Z",
     "iopub.status.busy": "2022-09-06T02:35:18.962455Z",
     "iopub.status.idle": "2022-09-06T02:35:19.943409Z",
     "shell.execute_reply": "2022-09-06T02:35:19.942104Z"
    },
    "papermill": {
     "duration": 0.992916,
     "end_time": "2022-09-06T02:35:19.946656",
     "exception": false,
     "start_time": "2022-09-06T02:35:18.953740",
     "status": "completed"
    },
    "tags": []
   },
   "outputs": [],
   "source": [
    "from catboost import CatBoostRegressor\n",
    "from category_encoders.target_encoder import TargetEncoder\n",
    "from sklearn.compose import make_column_transformer\n",
    "from sklearn.decomposition import PCA\n",
    "from sklearn.neighbors import KNeighborsRegressor\n",
    "from sklearn.pipeline import make_pipeline\n",
    "from sklearn.preprocessing import PolynomialFeatures, StandardScaler\n",
    "from xgboost import XGBRegressor\n",
    "from sklearn.ensemble import RandomForestRegressor, ExtraTreesRegressor"
   ]
  },
  {
   "cell_type": "code",
   "execution_count": 5,
   "id": "02795d36",
   "metadata": {
    "_cell_guid": "1690600d-a41a-41d1-92f6-1c807fc05c61",
    "_uuid": "96bf681f-434b-4f73-92c1-ec21411e870f",
    "collapsed": false,
    "execution": {
     "iopub.execute_input": "2022-09-06T02:35:19.964730Z",
     "iopub.status.busy": "2022-09-06T02:35:19.964286Z",
     "iopub.status.idle": "2022-09-06T02:35:19.970991Z",
     "shell.execute_reply": "2022-09-06T02:35:19.969897Z"
    },
    "jupyter": {
     "outputs_hidden": false
    },
    "papermill": {
     "duration": 0.018195,
     "end_time": "2022-09-06T02:35:19.973295",
     "exception": false,
     "start_time": "2022-09-06T02:35:19.955100",
     "status": "completed"
    },
    "tags": []
   },
   "outputs": [],
   "source": [
    "def get_model():\n",
    "    model = ExtraTreesRegressor(n_estimators=50, random_state=RAND, verbose=1, n_jobs=-1)\n",
    "\n",
    "    tme = TargetEncoder()\n",
    "    # pf = PolynomialFeatures(degree=2)\n",
    "    # pca = PCA(n_components=10, random_state=config['RAND'])\n",
    "    scaler = StandardScaler()\n",
    "    ct = make_column_transformer(\n",
    "        (tme, cat_cols),\n",
    "        remainder = 'passthrough',\n",
    "        n_jobs= -1\n",
    "    )\n",
    "    model_pipe = make_pipeline(\n",
    "        ct,\n",
    "        scaler,\n",
    "        model\n",
    "    )\n",
    "    return model_pipe"
   ]
  },
  {
   "cell_type": "markdown",
   "id": "9c61c135",
   "metadata": {
    "papermill": {
     "duration": 0.006535,
     "end_time": "2022-09-06T02:35:19.987275",
     "exception": false,
     "start_time": "2022-09-06T02:35:19.980740",
     "status": "completed"
    },
    "tags": []
   },
   "source": [
    "# Train and Eval"
   ]
  },
  {
   "cell_type": "code",
   "execution_count": 6,
   "id": "199da446",
   "metadata": {
    "execution": {
     "iopub.execute_input": "2022-09-06T02:35:20.003300Z",
     "iopub.status.busy": "2022-09-06T02:35:20.002882Z",
     "iopub.status.idle": "2022-09-06T02:35:29.376828Z",
     "shell.execute_reply": "2022-09-06T02:35:29.375350Z"
    },
    "papermill": {
     "duration": 9.385926,
     "end_time": "2022-09-06T02:35:29.380038",
     "exception": false,
     "start_time": "2022-09-06T02:35:19.994112",
     "status": "completed"
    },
    "tags": []
   },
   "outputs": [
    {
     "name": "stderr",
     "output_type": "stream",
     "text": [
      "\u001b[34m\u001b[1mwandb\u001b[0m: W&B API key is configured. Use \u001b[1m`wandb login --relogin`\u001b[0m to force relogin\n",
      "\u001b[34m\u001b[1mwandb\u001b[0m: \u001b[33mWARNING\u001b[0m If you're specifying your api key in code, ensure this code is not shared publicly.\n",
      "\u001b[34m\u001b[1mwandb\u001b[0m: \u001b[33mWARNING\u001b[0m Consider setting the WANDB_API_KEY environment variable, or running `wandb login` from the command line.\n",
      "\u001b[34m\u001b[1mwandb\u001b[0m: Appending key for api.wandb.ai to your netrc file: /root/.netrc\n"
     ]
    },
    {
     "name": "stdout",
     "output_type": "stream",
     "text": [
      "xt-50\n",
      "xt-50 with all possible realtive features\n"
     ]
    }
   ],
   "source": [
    "import warnings\n",
    "warnings.filterwarnings('ignore')\n",
    "\n",
    "import numpy as np\n",
    "import argparse\n",
    "import wandb\n",
    "from joblib import dump\n",
    "import pandas as pd\n",
    "from sklearn.metrics import mean_squared_error\n",
    "from sklearn.model_selection import KFold\n",
    "import time\n",
    "np.random.seed(RAND)\n",
    "\n",
    "wandb.login(key = wandb_login)\n",
    "\n",
    "# Load configuration\n",
    "print(model_name)\n",
    "print(desc)\n",
    "\n",
    "# Load data\n",
    "train_data = pd.read_csv(train_data_path)\n",
    "test_data = pd.read_csv(test_data_path)"
   ]
  },
  {
   "cell_type": "code",
   "execution_count": 7,
   "id": "d5143547",
   "metadata": {
    "execution": {
     "iopub.execute_input": "2022-09-06T02:35:29.396581Z",
     "iopub.status.busy": "2022-09-06T02:35:29.396088Z",
     "iopub.status.idle": "2022-09-06T02:35:29.416669Z",
     "shell.execute_reply": "2022-09-06T02:35:29.415265Z"
    },
    "papermill": {
     "duration": 0.032408,
     "end_time": "2022-09-06T02:35:29.419793",
     "exception": false,
     "start_time": "2022-09-06T02:35:29.387385",
     "status": "completed"
    },
    "tags": []
   },
   "outputs": [
    {
     "data": {
      "text/plain": [
       "['active_power_calculated_by_converter',\n",
       " 'active_power_raw',\n",
       " 'ambient_temperature',\n",
       " 'generator_speed',\n",
       " 'generator_winding_temp_max',\n",
       " 'grid_power10min_average',\n",
       " 'nc1_inside_temp',\n",
       " 'nacelle_temp',\n",
       " 'reactice_power_calculated_by_converter',\n",
       " 'reactive_power',\n",
       " 'wind_direction_raw',\n",
       " 'wind_speed_raw',\n",
       " 'wind_speed_turbulence']"
      ]
     },
     "execution_count": 7,
     "metadata": {},
     "output_type": "execute_result"
    }
   ],
   "source": [
    "numeric_cols = [col for col in train_data.columns if train_data[col].dtype != 'object']\n",
    "numeric_cols = numeric_cols[:-1]\n",
    "numeric_cols"
   ]
  },
  {
   "cell_type": "code",
   "execution_count": 8,
   "id": "d8f5fac4",
   "metadata": {
    "execution": {
     "iopub.execute_input": "2022-09-06T02:35:29.436638Z",
     "iopub.status.busy": "2022-09-06T02:35:29.436225Z",
     "iopub.status.idle": "2022-09-06T02:35:29.447987Z",
     "shell.execute_reply": "2022-09-06T02:35:29.446767Z"
    },
    "papermill": {
     "duration": 0.024017,
     "end_time": "2022-09-06T02:35:29.451434",
     "exception": false,
     "start_time": "2022-09-06T02:35:29.427417",
     "status": "completed"
    },
    "tags": []
   },
   "outputs": [
    {
     "data": {
      "text/plain": [
       "13"
      ]
     },
     "execution_count": 8,
     "metadata": {},
     "output_type": "execute_result"
    }
   ],
   "source": [
    "len(numeric_cols)"
   ]
  },
  {
   "cell_type": "code",
   "execution_count": 9,
   "id": "927fcfbf",
   "metadata": {
    "execution": {
     "iopub.execute_input": "2022-09-06T02:35:29.469477Z",
     "iopub.status.busy": "2022-09-06T02:35:29.468382Z",
     "iopub.status.idle": "2022-09-06T02:35:43.972013Z",
     "shell.execute_reply": "2022-09-06T02:35:43.970289Z"
    },
    "papermill": {
     "duration": 14.51606,
     "end_time": "2022-09-06T02:35:43.975434",
     "exception": false,
     "start_time": "2022-09-06T02:35:29.459374",
     "status": "completed"
    },
    "tags": []
   },
   "outputs": [
    {
     "name": "stdout",
     "output_type": "stream",
     "text": [
      "\u001b[33mWARNING: Running pip as the 'root' user can result in broken permissions and conflicting behaviour with the system package manager. It is recommended to use a virtual environment instead: https://pip.pypa.io/warnings/venv\u001b[0m\u001b[33m\r\n",
      "\u001b[0m"
     ]
    }
   ],
   "source": [
    "! pip install feature_engine -q"
   ]
  },
  {
   "cell_type": "code",
   "execution_count": 10,
   "id": "28c6720c",
   "metadata": {
    "execution": {
     "iopub.execute_input": "2022-09-06T02:35:43.994847Z",
     "iopub.status.busy": "2022-09-06T02:35:43.994327Z",
     "iopub.status.idle": "2022-09-06T02:35:46.183795Z",
     "shell.execute_reply": "2022-09-06T02:35:46.182525Z"
    },
    "papermill": {
     "duration": 2.202202,
     "end_time": "2022-09-06T02:35:46.186593",
     "exception": false,
     "start_time": "2022-09-06T02:35:43.984391",
     "status": "completed"
    },
    "tags": []
   },
   "outputs": [],
   "source": [
    "train_data = train_data.where(train_data.values != 0, 0.0001)\n",
    "test_data = test_data.where(test_data.values != 0, 0.0001)"
   ]
  },
  {
   "cell_type": "code",
   "execution_count": 11,
   "id": "753de671",
   "metadata": {
    "execution": {
     "iopub.execute_input": "2022-09-06T02:35:46.202526Z",
     "iopub.status.busy": "2022-09-06T02:35:46.202102Z",
     "iopub.status.idle": "2022-09-06T02:35:59.499550Z",
     "shell.execute_reply": "2022-09-06T02:35:59.498109Z"
    },
    "papermill": {
     "duration": 13.308898,
     "end_time": "2022-09-06T02:35:59.502547",
     "exception": false,
     "start_time": "2022-09-06T02:35:46.193649",
     "status": "completed"
    },
    "tags": []
   },
   "outputs": [],
   "source": [
    "### generate realtive features\n",
    "from feature_engine.creation import RelativeFeatures\n",
    "rf = RelativeFeatures(variables=numeric_cols[:6], reference=numeric_cols[7:], func=['sub', 'mul', 'div'])\n",
    "train_data_trans = rf.fit_transform(train_data.drop(['timestamp','Target'], axis=1))\n",
    "test_data_trans = rf.transform(test_data)"
   ]
  },
  {
   "cell_type": "code",
   "execution_count": 12,
   "id": "9c673652",
   "metadata": {
    "execution": {
     "iopub.execute_input": "2022-09-06T02:35:59.519463Z",
     "iopub.status.busy": "2022-09-06T02:35:59.518971Z",
     "iopub.status.idle": "2022-09-06T02:35:59.554564Z",
     "shell.execute_reply": "2022-09-06T02:35:59.552920Z"
    },
    "papermill": {
     "duration": 0.048006,
     "end_time": "2022-09-06T02:35:59.557756",
     "exception": false,
     "start_time": "2022-09-06T02:35:59.509750",
     "status": "completed"
    },
    "tags": []
   },
   "outputs": [
    {
     "name": "stdout",
     "output_type": "stream",
     "text": [
      "<class 'pandas.core.frame.DataFrame'>\n",
      "RangeIndex: 909604 entries, 0 to 909603\n",
      "Columns: 122 entries, active_power_calculated_by_converter to grid_power10min_average_div_wind_speed_turbulence\n",
      "dtypes: float64(121), object(1)\n",
      "memory usage: 846.6+ MB\n",
      "None\n",
      "<class 'pandas.core.frame.DataFrame'>\n",
      "RangeIndex: 303202 entries, 0 to 303201\n",
      "Columns: 122 entries, active_power_calculated_by_converter to grid_power10min_average_div_wind_speed_turbulence\n",
      "dtypes: float64(121), object(1)\n",
      "memory usage: 282.2+ MB\n",
      "None\n"
     ]
    }
   ],
   "source": [
    "print(train_data_trans.info())\n",
    "print(test_data_trans.info())"
   ]
  },
  {
   "cell_type": "code",
   "execution_count": 13,
   "id": "8aff09d3",
   "metadata": {
    "execution": {
     "iopub.execute_input": "2022-09-06T02:35:59.574104Z",
     "iopub.status.busy": "2022-09-06T02:35:59.573660Z",
     "iopub.status.idle": "2022-09-06T02:35:59.603200Z",
     "shell.execute_reply": "2022-09-06T02:35:59.601596Z"
    },
    "papermill": {
     "duration": 0.0414,
     "end_time": "2022-09-06T02:35:59.606423",
     "exception": false,
     "start_time": "2022-09-06T02:35:59.565023",
     "status": "completed"
    },
    "tags": []
   },
   "outputs": [],
   "source": [
    "train_data_trans['Target'] = train_data.Target\n",
    "train_data = train_data_trans\n",
    "test_data = test_data_trans"
   ]
  },
  {
   "cell_type": "code",
   "execution_count": 14,
   "id": "c1467cfa",
   "metadata": {
    "execution": {
     "iopub.execute_input": "2022-09-06T02:35:59.623261Z",
     "iopub.status.busy": "2022-09-06T02:35:59.622874Z",
     "iopub.status.idle": "2022-09-06T02:35:59.642158Z",
     "shell.execute_reply": "2022-09-06T02:35:59.641152Z"
    },
    "papermill": {
     "duration": 0.03032,
     "end_time": "2022-09-06T02:35:59.644403",
     "exception": false,
     "start_time": "2022-09-06T02:35:59.614083",
     "status": "completed"
    },
    "tags": []
   },
   "outputs": [],
   "source": [
    "def train_and_eval(X_train, y_train, X_val, y_val):\n",
    "    print('Training Model...')\n",
    "    model = get_model()\n",
    "    model.fit(X_train, y_train)\n",
    "    train_score = comp_score(model.predict(X_train), y_train)\n",
    "    print(\"Training MAPE: \", train_score)\n",
    "\n",
    "    print('Validating Model..')\n",
    "    preds = model.predict(X_val)\n",
    "    val_score = comp_score(y_val, preds)\n",
    "    print(\"Validation MAPE: \", val_score)\n",
    "    print(\"validation rmse: \", mean_squared_error(y_val, preds, squared=False))\n",
    "\n",
    "    return model, train_score, val_score\n",
    "\n",
    "\n",
    "def __cross_validate(holdout=False, cv_predict=False, wandb_track=True):\n",
    "    cv_scores = []\n",
    "\n",
    "    drop_cols = ['Target']\n",
    "    \n",
    "    if cv_predict:\n",
    "        cvpreds_test = np.zeros(shape=(len(test_data), N_FOLDS))\n",
    "        cvpreds_train = np.zeros(shape=(len(train_data)))\n",
    "    \n",
    "    kf = KFold(n_splits=N_FOLDS, random_state=RAND, shuffle=True)\n",
    "    for fold, (train_idx, val_idx) in enumerate(kf.split(train_data)):\n",
    "        print(f'Fold : {fold}')\n",
    "\n",
    "        train_fold = train_data.iloc[train_idx]\n",
    "        val_fold = train_data.iloc[val_idx]\n",
    "\n",
    "        X_train, y_train = train_fold.drop(\n",
    "            drop_cols, axis=1), train_fold.Target\n",
    "        X_val, y_val = val_fold.drop(\n",
    "            drop_cols, axis=1), val_fold.Target\n",
    "        \n",
    "        start = time.time() \n",
    "        model, train_score, val_score = train_and_eval(\n",
    "            X_train, y_train, X_val, y_val)\n",
    "        end = time.time()\n",
    "        print(f'Time taken: {end - start}')\n",
    "\n",
    "        if wandb_track:\n",
    "            # wandb tracking\n",
    "            wandb.log({\n",
    "                'fold': fold,\n",
    "                'Train_score': train_score,\n",
    "                'Val_score': val_score \n",
    "            })\n",
    "\n",
    "        cv_scores.append(val_score)\n",
    "\n",
    "        if cv_predict:\n",
    "            # save predictions for ensembling\n",
    "            cvpreds_test[:, fold] = model.predict(test_data, axis=1)\n",
    "            cvpreds_train[val_idx] = model.predict(X_val)\n",
    "            \n",
    "        print('----------------------------------------------------------')\n",
    "\n",
    "        # save_model\n",
    "        if save_models :\n",
    "            dump(model, model_name + '_' + str(fold))\n",
    "            print('Model saved')\n",
    "\n",
    "        if holdout == True:\n",
    "            break\n",
    "\n",
    "    if cv_predict:\n",
    "        print('Saving cross validated predictions...')\n",
    "        test_cv = pd.DataFrame(cvpreds_test.mean(axis=1), columns=['Target'])\n",
    "        train_cv = pd.DataFrame(cvpreds_train, columns=['Target'])\n",
    "        print('Test shape: ', test_cv.shape)\n",
    "        print('Train shape: ', train_cv.shape)\n",
    "        test_cv.to_csv(f\"{model_name}_test_cv.csv\", index=False)\n",
    "        train_cv.to_csv(f\"{model_name}_train_cv.csv\", index=False)\n",
    "\n",
    "    print(\"AVG mape :\", np.array(cv_scores).mean())\n",
    "\n",
    "\n",
    "def cross_validate(holdout=False, wandb_track=True, cv_predict=False):\n",
    "    if wandb_track:\n",
    "        # wandb tracking\n",
    "        with wandb.init(project=project, name=model_name):\n",
    "            __cross_validate(holdout, wandb_track=wandb_track, cv_predict=cv_predict)\n",
    "    else:\n",
    "        __cross_validate(holdout, wandb_track=wandb_track, cv_predict=cv_predict)"
   ]
  },
  {
   "cell_type": "code",
   "execution_count": 15,
   "id": "95a6ce63",
   "metadata": {
    "execution": {
     "iopub.execute_input": "2022-09-06T02:35:59.661211Z",
     "iopub.status.busy": "2022-09-06T02:35:59.660765Z",
     "iopub.status.idle": "2022-09-06T02:35:59.952597Z",
     "shell.execute_reply": "2022-09-06T02:35:59.951332Z"
    },
    "papermill": {
     "duration": 0.303682,
     "end_time": "2022-09-06T02:35:59.955393",
     "exception": false,
     "start_time": "2022-09-06T02:35:59.651711",
     "status": "completed"
    },
    "tags": []
   },
   "outputs": [
    {
     "data": {
      "text/plain": [
       "active_power_calculated_by_converter                    0\n",
       "active_power_raw                                        0\n",
       "ambient_temperature                                     0\n",
       "generator_speed                                         0\n",
       "generator_winding_temp_max                              0\n",
       "                                                       ..\n",
       "ambient_temperature_div_wind_speed_turbulence           0\n",
       "generator_speed_div_wind_speed_turbulence               0\n",
       "generator_winding_temp_max_div_wind_speed_turbulence    0\n",
       "grid_power10min_average_div_wind_speed_turbulence       0\n",
       "Target                                                  0\n",
       "Length: 123, dtype: int64"
      ]
     },
     "execution_count": 15,
     "metadata": {},
     "output_type": "execute_result"
    }
   ],
   "source": [
    "train_data.isna().sum()"
   ]
  },
  {
   "cell_type": "code",
   "execution_count": 16,
   "id": "29391256",
   "metadata": {
    "execution": {
     "iopub.execute_input": "2022-09-06T02:35:59.972786Z",
     "iopub.status.busy": "2022-09-06T02:35:59.972291Z",
     "iopub.status.idle": "2022-09-06T02:36:00.088381Z",
     "shell.execute_reply": "2022-09-06T02:36:00.086819Z"
    },
    "papermill": {
     "duration": 0.127906,
     "end_time": "2022-09-06T02:36:00.091084",
     "exception": false,
     "start_time": "2022-09-06T02:35:59.963178",
     "status": "completed"
    },
    "tags": []
   },
   "outputs": [
    {
     "data": {
      "text/plain": [
       "active_power_calculated_by_converter                    0\n",
       "active_power_raw                                        0\n",
       "ambient_temperature                                     0\n",
       "generator_speed                                         0\n",
       "generator_winding_temp_max                              0\n",
       "                                                       ..\n",
       "active_power_raw_div_wind_speed_turbulence              0\n",
       "ambient_temperature_div_wind_speed_turbulence           0\n",
       "generator_speed_div_wind_speed_turbulence               0\n",
       "generator_winding_temp_max_div_wind_speed_turbulence    0\n",
       "grid_power10min_average_div_wind_speed_turbulence       0\n",
       "Length: 122, dtype: int64"
      ]
     },
     "execution_count": 16,
     "metadata": {},
     "output_type": "execute_result"
    }
   ],
   "source": [
    "test_data.isna().sum()"
   ]
  },
  {
   "cell_type": "code",
   "execution_count": 17,
   "id": "b90301e6",
   "metadata": {
    "execution": {
     "iopub.execute_input": "2022-09-06T02:36:00.108691Z",
     "iopub.status.busy": "2022-09-06T02:36:00.108212Z",
     "iopub.status.idle": "2022-09-06T02:50:51.868252Z",
     "shell.execute_reply": "2022-09-06T02:50:51.866787Z"
    },
    "papermill": {
     "duration": 891.772471,
     "end_time": "2022-09-06T02:50:51.871229",
     "exception": false,
     "start_time": "2022-09-06T02:36:00.098758",
     "status": "completed"
    },
    "tags": []
   },
   "outputs": [
    {
     "name": "stderr",
     "output_type": "stream",
     "text": [
      "\u001b[34m\u001b[1mwandb\u001b[0m: Currently logged in as: \u001b[33mk_loki\u001b[0m. Use \u001b[1m`wandb login --relogin`\u001b[0m to force relogin\n"
     ]
    },
    {
     "data": {
      "text/html": [
       "wandb version 0.13.2 is available!  To upgrade, please run:\n",
       " $ pip install wandb --upgrade"
      ],
      "text/plain": [
       "<IPython.core.display.HTML object>"
      ]
     },
     "metadata": {},
     "output_type": "display_data"
    },
    {
     "data": {
      "text/html": [
       "Tracking run with wandb version 0.12.21"
      ],
      "text/plain": [
       "<IPython.core.display.HTML object>"
      ]
     },
     "metadata": {},
     "output_type": "display_data"
    },
    {
     "data": {
      "text/html": [
       "Run data is saved locally in <code>/kaggle/working/wandb/run-20220906_023600-3p622vcv</code>"
      ],
      "text/plain": [
       "<IPython.core.display.HTML object>"
      ]
     },
     "metadata": {},
     "output_type": "display_data"
    },
    {
     "data": {
      "text/html": [
       "Syncing run <strong><a href=\"https://wandb.ai/k_loki/renew-machinehack/runs/3p622vcv\" target=\"_blank\">xt-50</a></strong> to <a href=\"https://wandb.ai/k_loki/renew-machinehack\" target=\"_blank\">Weights & Biases</a> (<a href=\"https://wandb.me/run\" target=\"_blank\">docs</a>)<br/>"
      ],
      "text/plain": [
       "<IPython.core.display.HTML object>"
      ]
     },
     "metadata": {},
     "output_type": "display_data"
    },
    {
     "name": "stdout",
     "output_type": "stream",
     "text": [
      "Fold : 0\n",
      "Training Model...\n"
     ]
    },
    {
     "name": "stderr",
     "output_type": "stream",
     "text": [
      "[Parallel(n_jobs=-1)]: Using backend ThreadingBackend with 4 concurrent workers.\n",
      "[Parallel(n_jobs=-1)]: Done  42 tasks      | elapsed: 11.7min\n",
      "[Parallel(n_jobs=-1)]: Done  50 out of  50 | elapsed: 13.4min finished\n",
      "[Parallel(n_jobs=4)]: Using backend ThreadingBackend with 4 concurrent workers.\n",
      "[Parallel(n_jobs=4)]: Done  42 tasks      | elapsed:   19.9s\n",
      "[Parallel(n_jobs=4)]: Done  50 out of  50 | elapsed:   23.4s finished\n"
     ]
    },
    {
     "name": "stdout",
     "output_type": "stream",
     "text": [
      "Training MAPE:  2.1410991885772587e-13\n",
      "Validating Model..\n"
     ]
    },
    {
     "name": "stderr",
     "output_type": "stream",
     "text": [
      "[Parallel(n_jobs=4)]: Using backend ThreadingBackend with 4 concurrent workers.\n",
      "[Parallel(n_jobs=4)]: Done  42 tasks      | elapsed:    2.0s\n",
      "[Parallel(n_jobs=4)]: Done  50 out of  50 | elapsed:    2.3s finished\n"
     ]
    },
    {
     "name": "stdout",
     "output_type": "stream",
     "text": [
      "Validation MAPE:  0.012407550940410132\n",
      "validation rmse:  0.9706683687424714\n",
      "Time taken: 857.920214176178\n",
      "----------------------------------------------------------\n",
      "Model saved\n",
      "AVG mape : 0.012407550940410132\n"
     ]
    },
    {
     "data": {
      "text/html": [
       "Waiting for W&B process to finish... <strong style=\"color:green\">(success).</strong>"
      ],
      "text/plain": [
       "<IPython.core.display.HTML object>"
      ]
     },
     "metadata": {},
     "output_type": "display_data"
    },
    {
     "data": {
      "application/vnd.jupyter.widget-view+json": {
       "model_id": "5c35814bfbbb40dc9d14d7ca4797793e",
       "version_major": 2,
       "version_minor": 0
      },
      "text/plain": [
       "VBox(children=(Label(value='0.000 MB of 0.000 MB uploaded (0.000 MB deduped)\\r'), FloatProgress(value=1.0, max…"
      ]
     },
     "metadata": {},
     "output_type": "display_data"
    },
    {
     "data": {
      "text/html": [
       "<style>\n",
       "    table.wandb td:nth-child(1) { padding: 0 10px; text-align: left ; width: auto;} td:nth-child(2) {text-align: left ; width: 100%}\n",
       "    .wandb-row { display: flex; flex-direction: row; flex-wrap: wrap; justify-content: flex-start; width: 100% }\n",
       "    .wandb-col { display: flex; flex-direction: column; flex-basis: 100%; flex: 1; padding: 10px; }\n",
       "    </style>\n",
       "<div class=\"wandb-row\"><div class=\"wandb-col\"><h3>Run history:</h3><br/><table class=\"wandb\"><tr><td>Train_score</td><td>▁</td></tr><tr><td>Val_score</td><td>▁</td></tr><tr><td>fold</td><td>▁</td></tr></table><br/></div><div class=\"wandb-col\"><h3>Run summary:</h3><br/><table class=\"wandb\"><tr><td>Train_score</td><td>0.0</td></tr><tr><td>Val_score</td><td>0.01241</td></tr><tr><td>fold</td><td>0</td></tr></table><br/></div></div>"
      ],
      "text/plain": [
       "<IPython.core.display.HTML object>"
      ]
     },
     "metadata": {},
     "output_type": "display_data"
    },
    {
     "data": {
      "text/html": [
       "Synced <strong style=\"color:#cdcd00\">xt-50</strong>: <a href=\"https://wandb.ai/k_loki/renew-machinehack/runs/3p622vcv\" target=\"_blank\">https://wandb.ai/k_loki/renew-machinehack/runs/3p622vcv</a><br/>Synced 6 W&B file(s), 0 media file(s), 0 artifact file(s) and 0 other file(s)"
      ],
      "text/plain": [
       "<IPython.core.display.HTML object>"
      ]
     },
     "metadata": {},
     "output_type": "display_data"
    },
    {
     "data": {
      "text/html": [
       "Find logs at: <code>./wandb/run-20220906_023600-3p622vcv/logs</code>"
      ],
      "text/plain": [
       "<IPython.core.display.HTML object>"
      ]
     },
     "metadata": {},
     "output_type": "display_data"
    }
   ],
   "source": [
    "cross_validate(holdout=True, wandb_track=True, cv_predict=False)"
   ]
  },
  {
   "cell_type": "code",
   "execution_count": 18,
   "id": "e1e9bb8d",
   "metadata": {
    "execution": {
     "iopub.execute_input": "2022-09-06T02:50:51.895409Z",
     "iopub.status.busy": "2022-09-06T02:50:51.894526Z",
     "iopub.status.idle": "2022-09-06T02:50:51.900226Z",
     "shell.execute_reply": "2022-09-06T02:50:51.899301Z"
    },
    "papermill": {
     "duration": 0.020902,
     "end_time": "2022-09-06T02:50:51.902508",
     "exception": false,
     "start_time": "2022-09-06T02:50:51.881606",
     "status": "completed"
    },
    "tags": []
   },
   "outputs": [],
   "source": [
    "# 0.002220101025228674"
   ]
  },
  {
   "cell_type": "code",
   "execution_count": null,
   "id": "4b0f80f6",
   "metadata": {
    "papermill": {
     "duration": 0.009476,
     "end_time": "2022-09-06T02:50:51.921914",
     "exception": false,
     "start_time": "2022-09-06T02:50:51.912438",
     "status": "completed"
    },
    "tags": []
   },
   "outputs": [],
   "source": []
  },
  {
   "cell_type": "code",
   "execution_count": null,
   "id": "9bdf3f0b",
   "metadata": {
    "papermill": {
     "duration": 0.009459,
     "end_time": "2022-09-06T02:50:51.941170",
     "exception": false,
     "start_time": "2022-09-06T02:50:51.931711",
     "status": "completed"
    },
    "tags": []
   },
   "outputs": [],
   "source": []
  },
  {
   "cell_type": "code",
   "execution_count": null,
   "id": "2fd84f22",
   "metadata": {
    "papermill": {
     "duration": 0.009421,
     "end_time": "2022-09-06T02:50:51.960396",
     "exception": false,
     "start_time": "2022-09-06T02:50:51.950975",
     "status": "completed"
    },
    "tags": []
   },
   "outputs": [],
   "source": []
  },
  {
   "cell_type": "code",
   "execution_count": null,
   "id": "1fa9d831",
   "metadata": {
    "papermill": {
     "duration": 0.009258,
     "end_time": "2022-09-06T02:50:51.979382",
     "exception": false,
     "start_time": "2022-09-06T02:50:51.970124",
     "status": "completed"
    },
    "tags": []
   },
   "outputs": [],
   "source": []
  },
  {
   "cell_type": "code",
   "execution_count": null,
   "id": "2d79beec",
   "metadata": {
    "papermill": {
     "duration": 0.009224,
     "end_time": "2022-09-06T02:50:51.998367",
     "exception": false,
     "start_time": "2022-09-06T02:50:51.989143",
     "status": "completed"
    },
    "tags": []
   },
   "outputs": [],
   "source": []
  },
  {
   "cell_type": "code",
   "execution_count": null,
   "id": "71e2a354",
   "metadata": {
    "papermill": {
     "duration": 0.009645,
     "end_time": "2022-09-06T02:50:52.018121",
     "exception": false,
     "start_time": "2022-09-06T02:50:52.008476",
     "status": "completed"
    },
    "tags": []
   },
   "outputs": [],
   "source": []
  },
  {
   "cell_type": "code",
   "execution_count": null,
   "id": "50e12d8e",
   "metadata": {
    "papermill": {
     "duration": 0.009368,
     "end_time": "2022-09-06T02:50:52.037395",
     "exception": false,
     "start_time": "2022-09-06T02:50:52.028027",
     "status": "completed"
    },
    "tags": []
   },
   "outputs": [],
   "source": []
  }
 ],
 "metadata": {
  "kernelspec": {
   "display_name": "Python 3",
   "language": "python",
   "name": "python3"
  },
  "language_info": {
   "codemirror_mode": {
    "name": "ipython",
    "version": 3
   },
   "file_extension": ".py",
   "mimetype": "text/x-python",
   "name": "python",
   "nbconvert_exporter": "python",
   "pygments_lexer": "ipython3",
   "version": "3.7.12"
  },
  "papermill": {
   "default_parameters": {},
   "duration": 948.000179,
   "end_time": "2022-09-06T02:50:54.674796",
   "environment_variables": {},
   "exception": null,
   "input_path": "__notebook__.ipynb",
   "output_path": "__notebook__.ipynb",
   "parameters": {},
   "start_time": "2022-09-06T02:35:06.674617",
   "version": "2.3.4"
  },
  "widgets": {
   "application/vnd.jupyter.widget-state+json": {
    "state": {
     "09468f41c6e84095aef734ba9a7481c8": {
      "model_module": "@jupyter-widgets/controls",
      "model_module_version": "1.5.0",
      "model_name": "LabelModel",
      "state": {
       "_dom_classes": [],
       "_model_module": "@jupyter-widgets/controls",
       "_model_module_version": "1.5.0",
       "_model_name": "LabelModel",
       "_view_count": null,
       "_view_module": "@jupyter-widgets/controls",
       "_view_module_version": "1.5.0",
       "_view_name": "LabelView",
       "description": "",
       "description_tooltip": null,
       "layout": "IPY_MODEL_7def0aa1671349b292fadbaefeda9bf5",
       "placeholder": "​",
       "style": "IPY_MODEL_f7e6951da6f441f7bbe4f28193615e7b",
       "value": ""
      }
     },
     "0dad5b092f094a4ea6a1210b30f7288c": {
      "model_module": "@jupyter-widgets/base",
      "model_module_version": "1.2.0",
      "model_name": "LayoutModel",
      "state": {
       "_model_module": "@jupyter-widgets/base",
       "_model_module_version": "1.2.0",
       "_model_name": "LayoutModel",
       "_view_count": null,
       "_view_module": "@jupyter-widgets/base",
       "_view_module_version": "1.2.0",
       "_view_name": "LayoutView",
       "align_content": null,
       "align_items": null,
       "align_self": null,
       "border": null,
       "bottom": null,
       "display": null,
       "flex": null,
       "flex_flow": null,
       "grid_area": null,
       "grid_auto_columns": null,
       "grid_auto_flow": null,
       "grid_auto_rows": null,
       "grid_column": null,
       "grid_gap": null,
       "grid_row": null,
       "grid_template_areas": null,
       "grid_template_columns": null,
       "grid_template_rows": null,
       "height": null,
       "justify_content": null,
       "justify_items": null,
       "left": null,
       "margin": null,
       "max_height": null,
       "max_width": null,
       "min_height": null,
       "min_width": null,
       "object_fit": null,
       "object_position": null,
       "order": null,
       "overflow": null,
       "overflow_x": null,
       "overflow_y": null,
       "padding": null,
       "right": null,
       "top": null,
       "visibility": null,
       "width": null
      }
     },
     "130e2682a34146049484016b04c531b8": {
      "model_module": "@jupyter-widgets/controls",
      "model_module_version": "1.5.0",
      "model_name": "FloatProgressModel",
      "state": {
       "_dom_classes": [],
       "_model_module": "@jupyter-widgets/controls",
       "_model_module_version": "1.5.0",
       "_model_name": "FloatProgressModel",
       "_view_count": null,
       "_view_module": "@jupyter-widgets/controls",
       "_view_module_version": "1.5.0",
       "_view_name": "ProgressView",
       "bar_style": "",
       "description": "",
       "description_tooltip": null,
       "layout": "IPY_MODEL_2caf5870d0914254a27d284ea6694df0",
       "max": 1.0,
       "min": 0.0,
       "orientation": "horizontal",
       "style": "IPY_MODEL_e13f128facdf426dadf4e1cb32e20175",
       "value": 1.0
      }
     },
     "14911a2477d449d284497d550377434c": {
      "model_module": "@jupyter-widgets/base",
      "model_module_version": "1.2.0",
      "model_name": "LayoutModel",
      "state": {
       "_model_module": "@jupyter-widgets/base",
       "_model_module_version": "1.2.0",
       "_model_name": "LayoutModel",
       "_view_count": null,
       "_view_module": "@jupyter-widgets/base",
       "_view_module_version": "1.2.0",
       "_view_name": "LayoutView",
       "align_content": null,
       "align_items": null,
       "align_self": null,
       "border": null,
       "bottom": null,
       "display": null,
       "flex": null,
       "flex_flow": null,
       "grid_area": null,
       "grid_auto_columns": null,
       "grid_auto_flow": null,
       "grid_auto_rows": null,
       "grid_column": null,
       "grid_gap": null,
       "grid_row": null,
       "grid_template_areas": null,
       "grid_template_columns": null,
       "grid_template_rows": null,
       "height": null,
       "justify_content": null,
       "justify_items": null,
       "left": null,
       "margin": null,
       "max_height": null,
       "max_width": null,
       "min_height": null,
       "min_width": null,
       "object_fit": null,
       "object_position": null,
       "order": null,
       "overflow": null,
       "overflow_x": null,
       "overflow_y": null,
       "padding": null,
       "right": null,
       "top": null,
       "visibility": null,
       "width": null
      }
     },
     "2caf5870d0914254a27d284ea6694df0": {
      "model_module": "@jupyter-widgets/base",
      "model_module_version": "1.2.0",
      "model_name": "LayoutModel",
      "state": {
       "_model_module": "@jupyter-widgets/base",
       "_model_module_version": "1.2.0",
       "_model_name": "LayoutModel",
       "_view_count": null,
       "_view_module": "@jupyter-widgets/base",
       "_view_module_version": "1.2.0",
       "_view_name": "LayoutView",
       "align_content": null,
       "align_items": null,
       "align_self": null,
       "border": null,
       "bottom": null,
       "display": null,
       "flex": null,
       "flex_flow": null,
       "grid_area": null,
       "grid_auto_columns": null,
       "grid_auto_flow": null,
       "grid_auto_rows": null,
       "grid_column": null,
       "grid_gap": null,
       "grid_row": null,
       "grid_template_areas": null,
       "grid_template_columns": null,
       "grid_template_rows": null,
       "height": null,
       "justify_content": null,
       "justify_items": null,
       "left": null,
       "margin": null,
       "max_height": null,
       "max_width": null,
       "min_height": null,
       "min_width": null,
       "object_fit": null,
       "object_position": null,
       "order": null,
       "overflow": null,
       "overflow_x": null,
       "overflow_y": null,
       "padding": null,
       "right": null,
       "top": null,
       "visibility": null,
       "width": null
      }
     },
     "5c35814bfbbb40dc9d14d7ca4797793e": {
      "model_module": "@jupyter-widgets/controls",
      "model_module_version": "1.5.0",
      "model_name": "VBoxModel",
      "state": {
       "_dom_classes": [],
       "_model_module": "@jupyter-widgets/controls",
       "_model_module_version": "1.5.0",
       "_model_name": "VBoxModel",
       "_view_count": null,
       "_view_module": "@jupyter-widgets/controls",
       "_view_module_version": "1.5.0",
       "_view_name": "VBoxView",
       "box_style": "",
       "children": [
        "IPY_MODEL_a36fdf9c084f402f8c5b17a67bb1a387",
        "IPY_MODEL_130e2682a34146049484016b04c531b8"
       ],
       "layout": "IPY_MODEL_14911a2477d449d284497d550377434c"
      }
     },
     "6c8c45217d924298969f8ffefe5686a4": {
      "model_module": "@jupyter-widgets/controls",
      "model_module_version": "1.5.0",
      "model_name": "ProgressStyleModel",
      "state": {
       "_model_module": "@jupyter-widgets/controls",
       "_model_module_version": "1.5.0",
       "_model_name": "ProgressStyleModel",
       "_view_count": null,
       "_view_module": "@jupyter-widgets/base",
       "_view_module_version": "1.2.0",
       "_view_name": "StyleView",
       "bar_color": null,
       "description_width": ""
      }
     },
     "7def0aa1671349b292fadbaefeda9bf5": {
      "model_module": "@jupyter-widgets/base",
      "model_module_version": "1.2.0",
      "model_name": "LayoutModel",
      "state": {
       "_model_module": "@jupyter-widgets/base",
       "_model_module_version": "1.2.0",
       "_model_name": "LayoutModel",
       "_view_count": null,
       "_view_module": "@jupyter-widgets/base",
       "_view_module_version": "1.2.0",
       "_view_name": "LayoutView",
       "align_content": null,
       "align_items": null,
       "align_self": null,
       "border": null,
       "bottom": null,
       "display": null,
       "flex": null,
       "flex_flow": null,
       "grid_area": null,
       "grid_auto_columns": null,
       "grid_auto_flow": null,
       "grid_auto_rows": null,
       "grid_column": null,
       "grid_gap": null,
       "grid_row": null,
       "grid_template_areas": null,
       "grid_template_columns": null,
       "grid_template_rows": null,
       "height": null,
       "justify_content": null,
       "justify_items": null,
       "left": null,
       "margin": null,
       "max_height": null,
       "max_width": null,
       "min_height": null,
       "min_width": null,
       "object_fit": null,
       "object_position": null,
       "order": null,
       "overflow": null,
       "overflow_x": null,
       "overflow_y": null,
       "padding": null,
       "right": null,
       "top": null,
       "visibility": null,
       "width": null
      }
     },
     "9b647912b3a244f38446a92c6533d241": {
      "model_module": "@jupyter-widgets/controls",
      "model_module_version": "1.5.0",
      "model_name": "VBoxModel",
      "state": {
       "_dom_classes": [],
       "_model_module": "@jupyter-widgets/controls",
       "_model_module_version": "1.5.0",
       "_model_name": "VBoxModel",
       "_view_count": null,
       "_view_module": "@jupyter-widgets/controls",
       "_view_module_version": "1.5.0",
       "_view_name": "VBoxView",
       "box_style": "",
       "children": [
        "IPY_MODEL_09468f41c6e84095aef734ba9a7481c8",
        "IPY_MODEL_ae0d25e2cab84bed9b5af43d727a9079"
       ],
       "layout": "IPY_MODEL_0dad5b092f094a4ea6a1210b30f7288c"
      }
     },
     "a36fdf9c084f402f8c5b17a67bb1a387": {
      "model_module": "@jupyter-widgets/controls",
      "model_module_version": "1.5.0",
      "model_name": "LabelModel",
      "state": {
       "_dom_classes": [],
       "_model_module": "@jupyter-widgets/controls",
       "_model_module_version": "1.5.0",
       "_model_name": "LabelModel",
       "_view_count": null,
       "_view_module": "@jupyter-widgets/controls",
       "_view_module_version": "1.5.0",
       "_view_name": "LabelView",
       "description": "",
       "description_tooltip": null,
       "layout": "IPY_MODEL_c730be13a63044ca80e1490da97493cc",
       "placeholder": "​",
       "style": "IPY_MODEL_c4562fb11b9941dbb2b9bcdebbfd7ebf",
       "value": "0.039 MB of 0.039 MB uploaded (0.000 MB deduped)\r"
      }
     },
     "ae0d25e2cab84bed9b5af43d727a9079": {
      "model_module": "@jupyter-widgets/controls",
      "model_module_version": "1.5.0",
      "model_name": "FloatProgressModel",
      "state": {
       "_dom_classes": [],
       "_model_module": "@jupyter-widgets/controls",
       "_model_module_version": "1.5.0",
       "_model_name": "FloatProgressModel",
       "_view_count": null,
       "_view_module": "@jupyter-widgets/controls",
       "_view_module_version": "1.5.0",
       "_view_name": "ProgressView",
       "bar_style": "",
       "description": "",
       "description_tooltip": null,
       "layout": "IPY_MODEL_fd89ef87a02f47008de16dd80b5167b6",
       "max": 1.0,
       "min": 0.0,
       "orientation": "horizontal",
       "style": "IPY_MODEL_6c8c45217d924298969f8ffefe5686a4",
       "value": 0.0
      }
     },
     "c4562fb11b9941dbb2b9bcdebbfd7ebf": {
      "model_module": "@jupyter-widgets/controls",
      "model_module_version": "1.5.0",
      "model_name": "DescriptionStyleModel",
      "state": {
       "_model_module": "@jupyter-widgets/controls",
       "_model_module_version": "1.5.0",
       "_model_name": "DescriptionStyleModel",
       "_view_count": null,
       "_view_module": "@jupyter-widgets/base",
       "_view_module_version": "1.2.0",
       "_view_name": "StyleView",
       "description_width": ""
      }
     },
     "c730be13a63044ca80e1490da97493cc": {
      "model_module": "@jupyter-widgets/base",
      "model_module_version": "1.2.0",
      "model_name": "LayoutModel",
      "state": {
       "_model_module": "@jupyter-widgets/base",
       "_model_module_version": "1.2.0",
       "_model_name": "LayoutModel",
       "_view_count": null,
       "_view_module": "@jupyter-widgets/base",
       "_view_module_version": "1.2.0",
       "_view_name": "LayoutView",
       "align_content": null,
       "align_items": null,
       "align_self": null,
       "border": null,
       "bottom": null,
       "display": null,
       "flex": null,
       "flex_flow": null,
       "grid_area": null,
       "grid_auto_columns": null,
       "grid_auto_flow": null,
       "grid_auto_rows": null,
       "grid_column": null,
       "grid_gap": null,
       "grid_row": null,
       "grid_template_areas": null,
       "grid_template_columns": null,
       "grid_template_rows": null,
       "height": null,
       "justify_content": null,
       "justify_items": null,
       "left": null,
       "margin": null,
       "max_height": null,
       "max_width": null,
       "min_height": null,
       "min_width": null,
       "object_fit": null,
       "object_position": null,
       "order": null,
       "overflow": null,
       "overflow_x": null,
       "overflow_y": null,
       "padding": null,
       "right": null,
       "top": null,
       "visibility": null,
       "width": null
      }
     },
     "e13f128facdf426dadf4e1cb32e20175": {
      "model_module": "@jupyter-widgets/controls",
      "model_module_version": "1.5.0",
      "model_name": "ProgressStyleModel",
      "state": {
       "_model_module": "@jupyter-widgets/controls",
       "_model_module_version": "1.5.0",
       "_model_name": "ProgressStyleModel",
       "_view_count": null,
       "_view_module": "@jupyter-widgets/base",
       "_view_module_version": "1.2.0",
       "_view_name": "StyleView",
       "bar_color": null,
       "description_width": ""
      }
     },
     "f7e6951da6f441f7bbe4f28193615e7b": {
      "model_module": "@jupyter-widgets/controls",
      "model_module_version": "1.5.0",
      "model_name": "DescriptionStyleModel",
      "state": {
       "_model_module": "@jupyter-widgets/controls",
       "_model_module_version": "1.5.0",
       "_model_name": "DescriptionStyleModel",
       "_view_count": null,
       "_view_module": "@jupyter-widgets/base",
       "_view_module_version": "1.2.0",
       "_view_name": "StyleView",
       "description_width": ""
      }
     },
     "fd89ef87a02f47008de16dd80b5167b6": {
      "model_module": "@jupyter-widgets/base",
      "model_module_version": "1.2.0",
      "model_name": "LayoutModel",
      "state": {
       "_model_module": "@jupyter-widgets/base",
       "_model_module_version": "1.2.0",
       "_model_name": "LayoutModel",
       "_view_count": null,
       "_view_module": "@jupyter-widgets/base",
       "_view_module_version": "1.2.0",
       "_view_name": "LayoutView",
       "align_content": null,
       "align_items": null,
       "align_self": null,
       "border": null,
       "bottom": null,
       "display": null,
       "flex": null,
       "flex_flow": null,
       "grid_area": null,
       "grid_auto_columns": null,
       "grid_auto_flow": null,
       "grid_auto_rows": null,
       "grid_column": null,
       "grid_gap": null,
       "grid_row": null,
       "grid_template_areas": null,
       "grid_template_columns": null,
       "grid_template_rows": null,
       "height": null,
       "justify_content": null,
       "justify_items": null,
       "left": null,
       "margin": null,
       "max_height": null,
       "max_width": null,
       "min_height": null,
       "min_width": null,
       "object_fit": null,
       "object_position": null,
       "order": null,
       "overflow": null,
       "overflow_x": null,
       "overflow_y": null,
       "padding": null,
       "right": null,
       "top": null,
       "visibility": null,
       "width": null
      }
     }
    },
    "version_major": 2,
    "version_minor": 0
   }
  }
 },
 "nbformat": 4,
 "nbformat_minor": 5
}
