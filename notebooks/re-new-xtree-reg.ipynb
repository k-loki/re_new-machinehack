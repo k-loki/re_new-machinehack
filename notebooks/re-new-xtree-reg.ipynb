{
 "cells": [
  {
   "cell_type": "markdown",
   "id": "161d62c4",
   "metadata": {
    "_cell_guid": "1690600d-a41a-41d1-92f6-1c807fc05c61",
    "_uuid": "96bf681f-434b-4f73-92c1-ec21411e870f",
    "jupyter": {
     "outputs_hidden": false
    },
    "papermill": {
     "duration": 0.008572,
     "end_time": "2022-09-12T06:15:44.342491",
     "exception": false,
     "start_time": "2022-09-12T06:15:44.333919",
     "status": "completed"
    },
    "tags": []
   },
   "source": [
    "# Config"
   ]
  },
  {
   "cell_type": "code",
   "execution_count": 1,
   "id": "e5a9f149",
   "metadata": {
    "execution": {
     "iopub.execute_input": "2022-09-12T06:15:44.359389Z",
     "iopub.status.busy": "2022-09-12T06:15:44.358691Z",
     "iopub.status.idle": "2022-09-12T06:15:44.370735Z",
     "shell.execute_reply": "2022-09-12T06:15:44.369813Z"
    },
    "papermill": {
     "duration": 0.023411,
     "end_time": "2022-09-12T06:15:44.373312",
     "exception": false,
     "start_time": "2022-09-12T06:15:44.349901",
     "status": "completed"
    },
    "tags": []
   },
   "outputs": [],
   "source": [
    "RAND = 4567\n",
    "\n",
    "# data\n",
    "train_data_path = \"../input/re-newmachinehack/ReNew_Participants_Data/train.csv\"\n",
    "test_data_path = \"../input/re-newmachinehack/ReNew_Participants_Data/test.csv\"\n",
    "\n",
    "N_FOLDS =  10\n",
    "\n",
    "model_name = \"lr-rel_fts_v1\"\n",
    "save_models = False\n",
    "desc = 'lr'\n",
    "\n",
    "cat_cols = ['turbine_id']\n",
    "\n",
    "# for wandb\n",
    "project = \"renew-machinehack\""
   ]
  },
  {
   "cell_type": "code",
   "execution_count": 2,
   "id": "2f8c5b29",
   "metadata": {
    "execution": {
     "iopub.execute_input": "2022-09-12T06:15:44.389466Z",
     "iopub.status.busy": "2022-09-12T06:15:44.388844Z",
     "iopub.status.idle": "2022-09-12T06:15:45.657914Z",
     "shell.execute_reply": "2022-09-12T06:15:45.656676Z"
    },
    "papermill": {
     "duration": 1.281119,
     "end_time": "2022-09-12T06:15:45.661516",
     "exception": false,
     "start_time": "2022-09-12T06:15:44.380397",
     "status": "completed"
    },
    "tags": []
   },
   "outputs": [],
   "source": [
    "from sklearn.metrics import mean_absolute_percentage_error as mape\n",
    "def comp_score(y_true, y_pred):\n",
    "    return mape(y_true, y_pred)"
   ]
  },
  {
   "cell_type": "code",
   "execution_count": 3,
   "id": "7d5068ce",
   "metadata": {
    "execution": {
     "iopub.execute_input": "2022-09-12T06:15:45.678983Z",
     "iopub.status.busy": "2022-09-12T06:15:45.678551Z",
     "iopub.status.idle": "2022-09-12T06:15:46.179546Z",
     "shell.execute_reply": "2022-09-12T06:15:46.178464Z"
    },
    "papermill": {
     "duration": 0.512004,
     "end_time": "2022-09-12T06:15:46.182199",
     "exception": false,
     "start_time": "2022-09-12T06:15:45.670195",
     "status": "completed"
    },
    "tags": []
   },
   "outputs": [],
   "source": [
    "from kaggle_secrets import UserSecretsClient\n",
    "user_secrets = UserSecretsClient()\n",
    "wandb_login = user_secrets.get_secret(\"wandb key\")"
   ]
  },
  {
   "cell_type": "markdown",
   "id": "16f4531f",
   "metadata": {
    "_cell_guid": "1690600d-a41a-41d1-92f6-1c807fc05c61",
    "_uuid": "96bf681f-434b-4f73-92c1-ec21411e870f",
    "jupyter": {
     "outputs_hidden": false
    },
    "papermill": {
     "duration": 0.00682,
     "end_time": "2022-09-12T06:15:46.196192",
     "exception": false,
     "start_time": "2022-09-12T06:15:46.189372",
     "status": "completed"
    },
    "tags": []
   },
   "source": [
    "# Engine"
   ]
  },
  {
   "cell_type": "code",
   "execution_count": 4,
   "id": "5ddc531b",
   "metadata": {
    "execution": {
     "iopub.execute_input": "2022-09-12T06:15:46.212083Z",
     "iopub.status.busy": "2022-09-12T06:15:46.211556Z",
     "iopub.status.idle": "2022-09-12T06:15:47.253528Z",
     "shell.execute_reply": "2022-09-12T06:15:47.252158Z"
    },
    "papermill": {
     "duration": 1.05315,
     "end_time": "2022-09-12T06:15:47.256315",
     "exception": false,
     "start_time": "2022-09-12T06:15:46.203165",
     "status": "completed"
    },
    "tags": []
   },
   "outputs": [],
   "source": [
    "from catboost import CatBoostRegressor\n",
    "from category_encoders.target_encoder import TargetEncoder\n",
    "from sklearn.compose import make_column_transformer\n",
    "from sklearn.decomposition import PCA\n",
    "from sklearn.neighbors import KNeighborsRegressor\n",
    "from sklearn.pipeline import make_pipeline\n",
    "from sklearn.preprocessing import PolynomialFeatures, StandardScaler\n",
    "from xgboost import XGBRegressor\n",
    "from sklearn.ensemble import RandomForestRegressor, ExtraTreesRegressor\n",
    "from sklearn.linear_model import LinearRegression"
   ]
  },
  {
   "cell_type": "code",
   "execution_count": 5,
   "id": "65f9fbc0",
   "metadata": {
    "_cell_guid": "1690600d-a41a-41d1-92f6-1c807fc05c61",
    "_uuid": "96bf681f-434b-4f73-92c1-ec21411e870f",
    "collapsed": false,
    "execution": {
     "iopub.execute_input": "2022-09-12T06:15:47.273096Z",
     "iopub.status.busy": "2022-09-12T06:15:47.271744Z",
     "iopub.status.idle": "2022-09-12T06:15:47.278438Z",
     "shell.execute_reply": "2022-09-12T06:15:47.277513Z"
    },
    "jupyter": {
     "outputs_hidden": false
    },
    "papermill": {
     "duration": 0.01742,
     "end_time": "2022-09-12T06:15:47.280805",
     "exception": false,
     "start_time": "2022-09-12T06:15:47.263385",
     "status": "completed"
    },
    "tags": []
   },
   "outputs": [],
   "source": [
    "def get_model():\n",
    "#     model = ExtraTreesRegressor(n_estimators=50, random_state=RAND, verbose=1, n_jobs=-1)\n",
    "#     model = XGBRegressor(tree_method='gpu_hist', random_state=RAND, n_estimators=1000, n_jobs=-1, verbose=False)\n",
    "    model = LinearRegression()\n",
    "    tme = TargetEncoder()\n",
    "    # pf = PolynomialFeatures(degree=2)\n",
    "    # pca = PCA(n_components=10, random_state=config['RAND'])\n",
    "    scaler = StandardScaler()\n",
    "    ct = make_column_transformer(\n",
    "        (tme, cat_cols),\n",
    "        remainder = 'passthrough',\n",
    "        n_jobs= -1\n",
    "    )\n",
    "    model_pipe = make_pipeline(\n",
    "        ct,\n",
    "        scaler,\n",
    "        model\n",
    "    )\n",
    "    return model_pipe"
   ]
  },
  {
   "cell_type": "markdown",
   "id": "2a956616",
   "metadata": {
    "papermill": {
     "duration": 0.006905,
     "end_time": "2022-09-12T06:15:47.295225",
     "exception": false,
     "start_time": "2022-09-12T06:15:47.288320",
     "status": "completed"
    },
    "tags": []
   },
   "source": [
    "# Train and Eval"
   ]
  },
  {
   "cell_type": "code",
   "execution_count": 6,
   "id": "064f56d3",
   "metadata": {
    "execution": {
     "iopub.execute_input": "2022-09-12T06:15:47.311971Z",
     "iopub.status.busy": "2022-09-12T06:15:47.310883Z",
     "iopub.status.idle": "2022-09-12T06:15:57.345919Z",
     "shell.execute_reply": "2022-09-12T06:15:57.344557Z"
    },
    "papermill": {
     "duration": 10.046507,
     "end_time": "2022-09-12T06:15:57.348782",
     "exception": false,
     "start_time": "2022-09-12T06:15:47.302275",
     "status": "completed"
    },
    "tags": []
   },
   "outputs": [
    {
     "name": "stderr",
     "output_type": "stream",
     "text": [
      "\u001b[34m\u001b[1mwandb\u001b[0m: W&B API key is configured. Use \u001b[1m`wandb login --relogin`\u001b[0m to force relogin\n",
      "\u001b[34m\u001b[1mwandb\u001b[0m: \u001b[33mWARNING\u001b[0m If you're specifying your api key in code, ensure this code is not shared publicly.\n",
      "\u001b[34m\u001b[1mwandb\u001b[0m: \u001b[33mWARNING\u001b[0m Consider setting the WANDB_API_KEY environment variable, or running `wandb login` from the command line.\n",
      "\u001b[34m\u001b[1mwandb\u001b[0m: Appending key for api.wandb.ai to your netrc file: /root/.netrc\n"
     ]
    },
    {
     "name": "stdout",
     "output_type": "stream",
     "text": [
      "lr-rel_fts_v1\n",
      "lr\n"
     ]
    }
   ],
   "source": [
    "import warnings\n",
    "warnings.filterwarnings('ignore')\n",
    "\n",
    "import numpy as np\n",
    "import argparse\n",
    "import wandb\n",
    "from joblib import dump\n",
    "import pandas as pd\n",
    "from sklearn.metrics import mean_squared_error\n",
    "from sklearn.model_selection import KFold\n",
    "import time\n",
    "np.random.seed(RAND)\n",
    "\n",
    "wandb.login(key = wandb_login)\n",
    "\n",
    "# Load configuration\n",
    "print(model_name)\n",
    "print(desc)\n",
    "\n",
    "# Load data\n",
    "train_data = pd.read_csv(train_data_path)\n",
    "test_data = pd.read_csv(test_data_path)"
   ]
  },
  {
   "cell_type": "code",
   "execution_count": 7,
   "id": "181c08d9",
   "metadata": {
    "execution": {
     "iopub.execute_input": "2022-09-12T06:15:57.365301Z",
     "iopub.status.busy": "2022-09-12T06:15:57.364812Z",
     "iopub.status.idle": "2022-09-12T06:15:57.382954Z",
     "shell.execute_reply": "2022-09-12T06:15:57.381711Z"
    },
    "papermill": {
     "duration": 0.029253,
     "end_time": "2022-09-12T06:15:57.385435",
     "exception": false,
     "start_time": "2022-09-12T06:15:57.356182",
     "status": "completed"
    },
    "tags": []
   },
   "outputs": [
    {
     "data": {
      "text/plain": [
       "['active_power_calculated_by_converter',\n",
       " 'active_power_raw',\n",
       " 'ambient_temperature',\n",
       " 'generator_speed',\n",
       " 'generator_winding_temp_max',\n",
       " 'grid_power10min_average',\n",
       " 'nc1_inside_temp',\n",
       " 'nacelle_temp',\n",
       " 'reactice_power_calculated_by_converter',\n",
       " 'reactive_power',\n",
       " 'wind_direction_raw',\n",
       " 'wind_speed_raw',\n",
       " 'wind_speed_turbulence']"
      ]
     },
     "execution_count": 7,
     "metadata": {},
     "output_type": "execute_result"
    }
   ],
   "source": [
    "numeric_cols = [col for col in train_data.columns if train_data[col].dtype != 'object']\n",
    "numeric_cols = numeric_cols[:-1]\n",
    "numeric_cols"
   ]
  },
  {
   "cell_type": "code",
   "execution_count": 8,
   "id": "262a209e",
   "metadata": {
    "execution": {
     "iopub.execute_input": "2022-09-12T06:15:57.402338Z",
     "iopub.status.busy": "2022-09-12T06:15:57.401917Z",
     "iopub.status.idle": "2022-09-12T06:15:57.409947Z",
     "shell.execute_reply": "2022-09-12T06:15:57.408748Z"
    },
    "papermill": {
     "duration": 0.019426,
     "end_time": "2022-09-12T06:15:57.412421",
     "exception": false,
     "start_time": "2022-09-12T06:15:57.392995",
     "status": "completed"
    },
    "tags": []
   },
   "outputs": [
    {
     "data": {
      "text/plain": [
       "13"
      ]
     },
     "execution_count": 8,
     "metadata": {},
     "output_type": "execute_result"
    }
   ],
   "source": [
    "len(numeric_cols)"
   ]
  },
  {
   "cell_type": "code",
   "execution_count": 9,
   "id": "3b1f29ac",
   "metadata": {
    "execution": {
     "iopub.execute_input": "2022-09-12T06:15:57.429008Z",
     "iopub.status.busy": "2022-09-12T06:15:57.428591Z",
     "iopub.status.idle": "2022-09-12T06:16:12.823220Z",
     "shell.execute_reply": "2022-09-12T06:16:12.821547Z"
    },
    "papermill": {
     "duration": 15.406069,
     "end_time": "2022-09-12T06:16:12.825955",
     "exception": false,
     "start_time": "2022-09-12T06:15:57.419886",
     "status": "completed"
    },
    "tags": []
   },
   "outputs": [
    {
     "name": "stdout",
     "output_type": "stream",
     "text": [
      "\u001b[33mWARNING: Running pip as the 'root' user can result in broken permissions and conflicting behaviour with the system package manager. It is recommended to use a virtual environment instead: https://pip.pypa.io/warnings/venv\u001b[0m\u001b[33m\r\n",
      "\u001b[0m"
     ]
    }
   ],
   "source": [
    "! pip install feature_engine -q"
   ]
  },
  {
   "cell_type": "code",
   "execution_count": 10,
   "id": "6aa13ad6",
   "metadata": {
    "execution": {
     "iopub.execute_input": "2022-09-12T06:16:12.844543Z",
     "iopub.status.busy": "2022-09-12T06:16:12.843735Z",
     "iopub.status.idle": "2022-09-12T06:16:14.750543Z",
     "shell.execute_reply": "2022-09-12T06:16:14.749286Z"
    },
    "papermill": {
     "duration": 1.918735,
     "end_time": "2022-09-12T06:16:14.753321",
     "exception": false,
     "start_time": "2022-09-12T06:16:12.834586",
     "status": "completed"
    },
    "tags": []
   },
   "outputs": [],
   "source": [
    "train_data = train_data.where(train_data.values != 0, 0.0001)\n",
    "test_data = test_data.where(test_data.values != 0, 0.0001)"
   ]
  },
  {
   "cell_type": "code",
   "execution_count": 11,
   "id": "8c458250",
   "metadata": {
    "execution": {
     "iopub.execute_input": "2022-09-12T06:16:14.770491Z",
     "iopub.status.busy": "2022-09-12T06:16:14.770067Z",
     "iopub.status.idle": "2022-09-12T06:16:30.963251Z",
     "shell.execute_reply": "2022-09-12T06:16:30.960527Z"
    },
    "papermill": {
     "duration": 16.208078,
     "end_time": "2022-09-12T06:16:30.969098",
     "exception": false,
     "start_time": "2022-09-12T06:16:14.761020",
     "status": "completed"
    },
    "tags": []
   },
   "outputs": [],
   "source": [
    "# generate realtive features\n",
    "from feature_engine.creation import RelativeFeatures\n",
    "rf = RelativeFeatures(variables=numeric_cols[:6], reference=numeric_cols[6:], func=['sub', 'mul', 'div'])\n",
    "train_data_trans = rf.fit_transform(train_data.drop(['timestamp','Target'], axis=1))\n",
    "test_data_trans = rf.transform(test_data)"
   ]
  },
  {
   "cell_type": "code",
   "execution_count": 12,
   "id": "54a53a51",
   "metadata": {
    "execution": {
     "iopub.execute_input": "2022-09-12T06:16:30.990423Z",
     "iopub.status.busy": "2022-09-12T06:16:30.989887Z",
     "iopub.status.idle": "2022-09-12T06:16:31.034547Z",
     "shell.execute_reply": "2022-09-12T06:16:31.033096Z"
    },
    "papermill": {
     "duration": 0.057356,
     "end_time": "2022-09-12T06:16:31.037109",
     "exception": false,
     "start_time": "2022-09-12T06:16:30.979753",
     "status": "completed"
    },
    "tags": []
   },
   "outputs": [
    {
     "name": "stdout",
     "output_type": "stream",
     "text": [
      "<class 'pandas.core.frame.DataFrame'>\n",
      "RangeIndex: 909604 entries, 0 to 909603\n",
      "Columns: 140 entries, active_power_calculated_by_converter to grid_power10min_average_div_wind_speed_turbulence\n",
      "dtypes: float64(139), object(1)\n",
      "memory usage: 971.6+ MB\n",
      "None\n",
      "<class 'pandas.core.frame.DataFrame'>\n",
      "RangeIndex: 303202 entries, 0 to 303201\n",
      "Columns: 140 entries, active_power_calculated_by_converter to grid_power10min_average_div_wind_speed_turbulence\n",
      "dtypes: float64(139), object(1)\n",
      "memory usage: 323.9+ MB\n",
      "None\n"
     ]
    }
   ],
   "source": [
    "print(train_data_trans.info())\n",
    "print(test_data_trans.info())"
   ]
  },
  {
   "cell_type": "code",
   "execution_count": 13,
   "id": "70aa7c1c",
   "metadata": {
    "execution": {
     "iopub.execute_input": "2022-09-12T06:16:31.054651Z",
     "iopub.status.busy": "2022-09-12T06:16:31.053986Z",
     "iopub.status.idle": "2022-09-12T06:16:31.063198Z",
     "shell.execute_reply": "2022-09-12T06:16:31.062242Z"
    },
    "papermill": {
     "duration": 0.020779,
     "end_time": "2022-09-12T06:16:31.065660",
     "exception": false,
     "start_time": "2022-09-12T06:16:31.044881",
     "status": "completed"
    },
    "tags": []
   },
   "outputs": [
    {
     "data": {
      "text/plain": [
       "False"
      ]
     },
     "execution_count": 13,
     "metadata": {},
     "output_type": "execute_result"
    }
   ],
   "source": [
    "'target' in train_data_trans.columns"
   ]
  },
  {
   "cell_type": "code",
   "execution_count": 14,
   "id": "a0c54dab",
   "metadata": {
    "execution": {
     "iopub.execute_input": "2022-09-12T06:16:31.083296Z",
     "iopub.status.busy": "2022-09-12T06:16:31.082897Z",
     "iopub.status.idle": "2022-09-12T06:16:31.129180Z",
     "shell.execute_reply": "2022-09-12T06:16:31.127878Z"
    },
    "papermill": {
     "duration": 0.05862,
     "end_time": "2022-09-12T06:16:31.132205",
     "exception": false,
     "start_time": "2022-09-12T06:16:31.073585",
     "status": "completed"
    },
    "tags": []
   },
   "outputs": [],
   "source": [
    "train_data_trans['Target'] = train_data.Target\n",
    "train_data = train_data_trans\n",
    "test_data = test_data_trans"
   ]
  },
  {
   "cell_type": "code",
   "execution_count": 15,
   "id": "a434533b",
   "metadata": {
    "execution": {
     "iopub.execute_input": "2022-09-12T06:16:31.150032Z",
     "iopub.status.busy": "2022-09-12T06:16:31.149565Z",
     "iopub.status.idle": "2022-09-12T06:16:31.168525Z",
     "shell.execute_reply": "2022-09-12T06:16:31.167234Z"
    },
    "papermill": {
     "duration": 0.031292,
     "end_time": "2022-09-12T06:16:31.171478",
     "exception": false,
     "start_time": "2022-09-12T06:16:31.140186",
     "status": "completed"
    },
    "tags": []
   },
   "outputs": [
    {
     "name": "stdout",
     "output_type": "stream",
     "text": [
      "<class 'pandas.core.frame.DataFrame'>\n",
      "RangeIndex: 909604 entries, 0 to 909603\n",
      "Columns: 141 entries, active_power_calculated_by_converter to Target\n",
      "dtypes: float64(140), object(1)\n",
      "memory usage: 978.5+ MB\n",
      "None\n",
      "<class 'pandas.core.frame.DataFrame'>\n",
      "RangeIndex: 303202 entries, 0 to 303201\n",
      "Columns: 140 entries, active_power_calculated_by_converter to grid_power10min_average_div_wind_speed_turbulence\n",
      "dtypes: float64(139), object(1)\n",
      "memory usage: 323.9+ MB\n",
      "None\n"
     ]
    }
   ],
   "source": [
    "print(train_data.info())\n",
    "print(test_data.info())"
   ]
  },
  {
   "cell_type": "code",
   "execution_count": 16,
   "id": "beaa59b1",
   "metadata": {
    "execution": {
     "iopub.execute_input": "2022-09-12T06:16:31.188769Z",
     "iopub.status.busy": "2022-09-12T06:16:31.188366Z",
     "iopub.status.idle": "2022-09-12T06:16:31.195974Z",
     "shell.execute_reply": "2022-09-12T06:16:31.194726Z"
    },
    "papermill": {
     "duration": 0.018919,
     "end_time": "2022-09-12T06:16:31.198291",
     "exception": false,
     "start_time": "2022-09-12T06:16:31.179372",
     "status": "completed"
    },
    "tags": []
   },
   "outputs": [
    {
     "data": {
      "text/plain": [
       "(False, False)"
      ]
     },
     "execution_count": 16,
     "metadata": {},
     "output_type": "execute_result"
    }
   ],
   "source": [
    "'timestamp' in train_data, 'timestamp' in test_data"
   ]
  },
  {
   "cell_type": "code",
   "execution_count": 17,
   "id": "8bf099da",
   "metadata": {
    "execution": {
     "iopub.execute_input": "2022-09-12T06:16:31.216434Z",
     "iopub.status.busy": "2022-09-12T06:16:31.215335Z",
     "iopub.status.idle": "2022-09-12T06:16:31.223415Z",
     "shell.execute_reply": "2022-09-12T06:16:31.222344Z"
    },
    "papermill": {
     "duration": 0.019595,
     "end_time": "2022-09-12T06:16:31.225725",
     "exception": false,
     "start_time": "2022-09-12T06:16:31.206130",
     "status": "completed"
    },
    "tags": []
   },
   "outputs": [
    {
     "data": {
      "text/plain": [
       "(True, False)"
      ]
     },
     "execution_count": 17,
     "metadata": {},
     "output_type": "execute_result"
    }
   ],
   "source": [
    "'Target' in train_data.columns, 'Target' in test_data.columns"
   ]
  },
  {
   "cell_type": "code",
   "execution_count": 18,
   "id": "7d5181bd",
   "metadata": {
    "execution": {
     "iopub.execute_input": "2022-09-12T06:16:31.244153Z",
     "iopub.status.busy": "2022-09-12T06:16:31.243341Z",
     "iopub.status.idle": "2022-09-12T06:16:31.254537Z",
     "shell.execute_reply": "2022-09-12T06:16:31.253180Z"
    },
    "papermill": {
     "duration": 0.02331,
     "end_time": "2022-09-12T06:16:31.257204",
     "exception": false,
     "start_time": "2022-09-12T06:16:31.233894",
     "status": "completed"
    },
    "tags": []
   },
   "outputs": [],
   "source": [
    "cvpreds_test = np.zeros(shape=(len(test_data), N_FOLDS))\n",
    "cvpreds_train = np.zeros(shape=(len(train_data)))\n"
   ]
  },
  {
   "cell_type": "code",
   "execution_count": 19,
   "id": "e6c40dad",
   "metadata": {
    "execution": {
     "iopub.execute_input": "2022-09-12T06:16:31.276119Z",
     "iopub.status.busy": "2022-09-12T06:16:31.275669Z",
     "iopub.status.idle": "2022-09-12T06:20:20.696242Z",
     "shell.execute_reply": "2022-09-12T06:20:20.693857Z"
    },
    "papermill": {
     "duration": 229.435673,
     "end_time": "2022-09-12T06:20:20.701068",
     "exception": false,
     "start_time": "2022-09-12T06:16:31.265395",
     "status": "completed"
    },
    "tags": []
   },
   "outputs": [
    {
     "name": "stdout",
     "output_type": "stream",
     "text": [
      "Pipeline(steps=[('columntransformer',\n",
      "                 ColumnTransformer(n_jobs=-1, remainder='passthrough',\n",
      "                                   transformers=[('targetencoder',\n",
      "                                                  TargetEncoder(),\n",
      "                                                  ['turbine_id'])])),\n",
      "                ('standardscaler', StandardScaler()),\n",
      "                ('linearregression', LinearRegression())])\n",
      "Fold : 0\n",
      "training,..\n",
      "validating...\n",
      "MAPE Score:  0.025506144259611403\n",
      "--------------------------------------------------------------------\n",
      "Fold : 1\n",
      "training,..\n",
      "validating...\n",
      "MAPE Score:  0.02564579501314742\n",
      "--------------------------------------------------------------------\n",
      "Fold : 2\n",
      "training,..\n",
      "validating...\n",
      "MAPE Score:  0.03477561386859414\n",
      "--------------------------------------------------------------------\n",
      "Fold : 3\n",
      "training,..\n",
      "validating...\n",
      "MAPE Score:  0.025848497293301947\n",
      "--------------------------------------------------------------------\n",
      "Fold : 4\n",
      "training,..\n",
      "validating...\n",
      "MAPE Score:  0.025725570371689016\n",
      "--------------------------------------------------------------------\n",
      "Fold : 5\n",
      "training,..\n",
      "validating...\n",
      "MAPE Score:  0.02573145786356847\n",
      "--------------------------------------------------------------------\n",
      "Fold : 6\n",
      "training,..\n",
      "validating...\n",
      "MAPE Score:  0.025735583459993265\n",
      "--------------------------------------------------------------------\n",
      "Fold : 7\n",
      "training,..\n",
      "validating...\n",
      "MAPE Score:  0.025739041119789696\n",
      "--------------------------------------------------------------------\n",
      "Fold : 8\n",
      "training,..\n",
      "validating...\n",
      "MAPE Score:  0.025648085557746347\n",
      "--------------------------------------------------------------------\n",
      "Fold : 9\n",
      "training,..\n",
      "validating...\n",
      "MAPE Score:  0.025803666502204843\n",
      "--------------------------------------------------------------------\n"
     ]
    }
   ],
   "source": [
    "model = get_model()\n",
    "print(model)\n",
    "#  eval on holdout test\n",
    "kf = KFold(n_splits=N_FOLDS, random_state=RAND, shuffle=True)\n",
    "for fold, (train_idx, val_idx) in enumerate(kf.split(train_data)):\n",
    "    print(f'Fold : {fold}')\n",
    "    \n",
    "    X_train, y_train = train_data.drop('Target', axis=1).iloc[train_idx], train_data['Target'].iloc[train_idx]\n",
    "    X_val, y_val = train_data.drop('Target', axis=1).iloc[val_idx], train_data['Target'].iloc[val_idx]\n",
    "    \n",
    "    print('training,..')\n",
    "    model.fit(X_train, y_train)\n",
    "    print('validating...')\n",
    "    preds = model.predict(X_val)\n",
    "    mape_score = comp_score(y_val, preds)\n",
    "    print('MAPE Score: ', mape_score)\n",
    "    \n",
    "    # test data predictions\n",
    "    cvpreds_test[:, fold] = model.predict(test_data)\n",
    "    cvpreds_train[val_idx] = preds\n",
    "    print('--------------------------------------------------------------------')\n",
    "\n",
    "\n",
    "# ran in 1475 sec."
   ]
  },
  {
   "cell_type": "code",
   "execution_count": 20,
   "id": "458a52a9",
   "metadata": {
    "execution": {
     "iopub.execute_input": "2022-09-12T06:20:20.737366Z",
     "iopub.status.busy": "2022-09-12T06:20:20.736721Z",
     "iopub.status.idle": "2022-09-12T06:20:23.546054Z",
     "shell.execute_reply": "2022-09-12T06:20:23.544723Z"
    },
    "papermill": {
     "duration": 2.831653,
     "end_time": "2022-09-12T06:20:23.549636",
     "exception": false,
     "start_time": "2022-09-12T06:20:20.717983",
     "status": "completed"
    },
    "tags": []
   },
   "outputs": [],
   "source": [
    "test_cv = pd.DataFrame(cvpreds_test.mean(axis=1), columns=['Target'])\n",
    "train_cv = pd.DataFrame(cvpreds_train, columns=['Target'])\n",
    "\n",
    "test_cv.to_csv('test_lr_rel_fts_v1_oof.csv', index=False)\n",
    "train_cv.to_csv('train_lr_rel_fts_v1_oof.csv', index=False)"
   ]
  },
  {
   "cell_type": "code",
   "execution_count": 21,
   "id": "ea6b0383",
   "metadata": {
    "execution": {
     "iopub.execute_input": "2022-09-12T06:20:23.573613Z",
     "iopub.status.busy": "2022-09-12T06:20:23.572645Z",
     "iopub.status.idle": "2022-09-12T06:20:23.578807Z",
     "shell.execute_reply": "2022-09-12T06:20:23.577569Z"
    },
    "papermill": {
     "duration": 0.02063,
     "end_time": "2022-09-12T06:20:23.581502",
     "exception": false,
     "start_time": "2022-09-12T06:20:23.560872",
     "status": "completed"
    },
    "tags": []
   },
   "outputs": [],
   "source": [
    "# model[2].feature_importances_"
   ]
  },
  {
   "cell_type": "code",
   "execution_count": null,
   "id": "67447be1",
   "metadata": {
    "papermill": {
     "duration": 0.010882,
     "end_time": "2022-09-12T06:20:23.602903",
     "exception": false,
     "start_time": "2022-09-12T06:20:23.592021",
     "status": "completed"
    },
    "tags": []
   },
   "outputs": [],
   "source": []
  },
  {
   "cell_type": "code",
   "execution_count": 22,
   "id": "a1b66295",
   "metadata": {
    "execution": {
     "iopub.execute_input": "2022-09-12T06:20:23.625965Z",
     "iopub.status.busy": "2022-09-12T06:20:23.625527Z",
     "iopub.status.idle": "2022-09-12T06:20:23.632443Z",
     "shell.execute_reply": "2022-09-12T06:20:23.631500Z"
    },
    "papermill": {
     "duration": 0.021717,
     "end_time": "2022-09-12T06:20:23.635055",
     "exception": false,
     "start_time": "2022-09-12T06:20:23.613338",
     "status": "completed"
    },
    "tags": []
   },
   "outputs": [],
   "source": [
    "\n",
    "# def train_and_eval(model, X_train, y_train, X_val, y_val):\n",
    "#     print('Training Model...')\n",
    "#     model.fit(X_train, y_train)\n",
    "#     train_score = comp_score(model.predict(X_train), y_train)\n",
    "#     print(\"Training MAPE: \", train_score)\n",
    "\n",
    "#     print('Validating Model..')\n",
    "#     preds = model.predict(X_val)\n",
    "#     val_score = comp_score(y_val, preds)\n",
    "#     print(\"Validation MAPE: \", val_score)\n",
    "#     print(\"validation rmse: \", mean_squared_error(y_val, preds, squared=False))\n",
    "\n",
    "#     return model, train_score, val_score\n",
    "\n",
    "\n",
    "# def __cross_validate(holdout=False, cv_predict=False, wandb_track=True):\n",
    "#     cv_scores = []\n",
    "\n",
    "#     drop_cols = ['Target']\n",
    "#     model = get_model()\n",
    "\n",
    "    \n",
    "#     if cv_predict:\n",
    "#         cvpreds_test = np.zeros(shape=(len(test_data), N_FOLDS))\n",
    "#         cvpreds_train = np.zeros(shape=(len(train_data)))\n",
    "    \n",
    "#     kf = KFold(n_splits=N_FOLDS, random_state=RAND, shuffle=True)\n",
    "#     for fold, (train_idx, val_idx) in enumerate(kf.split(train_data)):\n",
    "#         print(f'Fold : {fold}')\n",
    "\n",
    "#         train_fold = train_data.iloc[train_idx]\n",
    "#         val_fold = train_data.iloc[val_idx]\n",
    "\n",
    "#         X_train, y_train = train_fold.drop(\n",
    "#             drop_cols, axis=1), train_fold.Target\n",
    "#         X_val, y_val = val_fold.drop(\n",
    "#             drop_cols, axis=1), val_fold.Target\n",
    "        \n",
    "#         start = time.time() \n",
    "#         model, train_score, val_score = train_and_eval(model,\n",
    "#             X_train, y_train, X_val, y_val)\n",
    "#         end = time.time()\n",
    "#         print(f'Time taken: {end - start}')\n",
    "\n",
    "#         if wandb_track:\n",
    "#             # wandb tracking\n",
    "#             wandb.log({\n",
    "#                 'fold': fold,\n",
    "#                 'Train_score': train_score,\n",
    "#                 'Val_score': val_score \n",
    "#             })\n",
    "\n",
    "#         cv_scores.append(val_score)\n",
    "\n",
    "#         if cv_predict:\n",
    "#             # save predictions for ensembling\n",
    "#             cvpreds_test[:, fold] = model.predict(test_data)\n",
    "#             cvpreds_train[val_idx] = model.predict(X_val)\n",
    "            \n",
    "#         print('----------------------------------------------------------')\n",
    "\n",
    "#         # save_model\n",
    "#         if save_models :\n",
    "#             dump(model, model_name + '_' + str(fold))\n",
    "#             print('Model saved')\n",
    "\n",
    "#         if holdout == True:\n",
    "#             break\n",
    "\n",
    "#     if cv_predict:\n",
    "#         print('Saving cross validated predictions...')\n",
    "#         test_cv = pd.DataFrame(cvpreds_test.mean(axis=1), columns=['Target'])\n",
    "#         train_cv = pd.DataFrame(cvpreds_train, columns=['Target'])\n",
    "#         print('Test shape: ', test_cv.shape)\n",
    "#         print('Train shape: ', train_cv.shape)\n",
    "#         test_cv.to_csv(f\"{model_name}_test_cv.csv\", index=False)\n",
    "#         train_cv.to_csv(f\"{model_name}_train_cv.csv\", index=False)\n",
    "\n",
    "#     print(\"AVG mape :\", np.array(cv_scores).mean())\n",
    "\n",
    "\n",
    "# def cross_validate(holdout=False, wandb_track=True, cv_predict=False):\n",
    "#     if wandb_track:\n",
    "#         # wandb tracking\n",
    "#         with wandb.init(project=project, name=model_name):\n",
    "#             __cross_validate(holdout, wandb_track=wandb_track, cv_predict=cv_predict)\n",
    "#     else:\n",
    "#         __cross_validate(holdout, wandb_track=wandb_track, cv_predict=cv_predict)"
   ]
  },
  {
   "cell_type": "code",
   "execution_count": 23,
   "id": "5ed8cb80",
   "metadata": {
    "execution": {
     "iopub.execute_input": "2022-09-12T06:20:23.658241Z",
     "iopub.status.busy": "2022-09-12T06:20:23.657326Z",
     "iopub.status.idle": "2022-09-12T06:20:23.662311Z",
     "shell.execute_reply": "2022-09-12T06:20:23.661294Z"
    },
    "papermill": {
     "duration": 0.019063,
     "end_time": "2022-09-12T06:20:23.664645",
     "exception": false,
     "start_time": "2022-09-12T06:20:23.645582",
     "status": "completed"
    },
    "tags": []
   },
   "outputs": [],
   "source": [
    "# cross_validate(holdout=True, wandb_track=False, cv_predict=True)"
   ]
  },
  {
   "cell_type": "code",
   "execution_count": null,
   "id": "70767d08",
   "metadata": {
    "papermill": {
     "duration": 0.010195,
     "end_time": "2022-09-12T06:20:23.685467",
     "exception": false,
     "start_time": "2022-09-12T06:20:23.675272",
     "status": "completed"
    },
    "tags": []
   },
   "outputs": [],
   "source": []
  }
 ],
 "metadata": {
  "kernelspec": {
   "display_name": "Python 3",
   "language": "python",
   "name": "python3"
  },
  "language_info": {
   "codemirror_mode": {
    "name": "ipython",
    "version": 3
   },
   "file_extension": ".py",
   "mimetype": "text/x-python",
   "name": "python",
   "nbconvert_exporter": "python",
   "pygments_lexer": "ipython3",
   "version": "3.7.12"
  },
  "papermill": {
   "default_parameters": {},
   "duration": 291.631943,
   "end_time": "2022-09-12T06:20:26.420552",
   "environment_variables": {},
   "exception": null,
   "input_path": "__notebook__.ipynb",
   "output_path": "__notebook__.ipynb",
   "parameters": {},
   "start_time": "2022-09-12T06:15:34.788609",
   "version": "2.3.4"
  }
 },
 "nbformat": 4,
 "nbformat_minor": 5
}
