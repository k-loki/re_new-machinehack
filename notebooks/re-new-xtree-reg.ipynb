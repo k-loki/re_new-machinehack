{
 "cells": [
  {
   "cell_type": "markdown",
   "id": "30b37643",
   "metadata": {
    "_cell_guid": "1690600d-a41a-41d1-92f6-1c807fc05c61",
    "_uuid": "96bf681f-434b-4f73-92c1-ec21411e870f",
    "jupyter": {
     "outputs_hidden": false
    },
    "papermill": {
     "duration": 0.006106,
     "end_time": "2022-08-31T19:35:13.442958",
     "exception": false,
     "start_time": "2022-08-31T19:35:13.436852",
     "status": "completed"
    },
    "tags": []
   },
   "source": [
    "# Config"
   ]
  },
  {
   "cell_type": "code",
   "execution_count": 1,
   "id": "7b15b9a6",
   "metadata": {
    "execution": {
     "iopub.execute_input": "2022-08-31T19:35:13.454041Z",
     "iopub.status.busy": "2022-08-31T19:35:13.453446Z",
     "iopub.status.idle": "2022-08-31T19:35:13.468297Z",
     "shell.execute_reply": "2022-08-31T19:35:13.467384Z"
    },
    "papermill": {
     "duration": 0.023247,
     "end_time": "2022-08-31T19:35:13.470846",
     "exception": false,
     "start_time": "2022-08-31T19:35:13.447599",
     "status": "completed"
    },
    "tags": []
   },
   "outputs": [],
   "source": [
    "RAND = 4567\n",
    "\n",
    "# data\n",
    "train_data_path = \"../input/re-newmachinehack/ReNew_Participants_Data/train.csv\"\n",
    "test_data_path = \"../input/re-newmachinehack/ReNew_Participants_Data/test.csv\"\n",
    "test_timestamp_path = '../input/renew-test-timestamp/test_timestamp.csv'\n",
    "\n",
    "N_FOLDS =  10\n",
    "\n",
    "model_name = \"extratree-55-T1\"\n",
    "desc = 'extra tree 55 on train_T1'\n",
    "\n",
    "cat_cols = ['turbine_id', 'mmtt']\n",
    "\n",
    "# for wandb\n",
    "project = \"renew-machinehack\""
   ]
  },
  {
   "cell_type": "code",
   "execution_count": 2,
   "id": "8596df86",
   "metadata": {
    "execution": {
     "iopub.execute_input": "2022-08-31T19:35:13.481479Z",
     "iopub.status.busy": "2022-08-31T19:35:13.480723Z",
     "iopub.status.idle": "2022-08-31T19:35:14.655057Z",
     "shell.execute_reply": "2022-08-31T19:35:14.653825Z"
    },
    "papermill": {
     "duration": 1.182846,
     "end_time": "2022-08-31T19:35:14.657948",
     "exception": false,
     "start_time": "2022-08-31T19:35:13.475102",
     "status": "completed"
    },
    "tags": []
   },
   "outputs": [],
   "source": [
    "from sklearn.metrics import mean_absolute_percentage_error as mape\n",
    "def comp_score(y_true, y_pred):\n",
    "    return mape(y_true, y_pred)"
   ]
  },
  {
   "cell_type": "code",
   "execution_count": 3,
   "id": "c398d5b5",
   "metadata": {
    "execution": {
     "iopub.execute_input": "2022-08-31T19:35:14.668688Z",
     "iopub.status.busy": "2022-08-31T19:35:14.667918Z",
     "iopub.status.idle": "2022-08-31T19:35:15.180524Z",
     "shell.execute_reply": "2022-08-31T19:35:15.179307Z"
    },
    "papermill": {
     "duration": 0.521023,
     "end_time": "2022-08-31T19:35:15.183390",
     "exception": false,
     "start_time": "2022-08-31T19:35:14.662367",
     "status": "completed"
    },
    "tags": []
   },
   "outputs": [],
   "source": [
    "from kaggle_secrets import UserSecretsClient\n",
    "user_secrets = UserSecretsClient()\n",
    "wandb_login = user_secrets.get_secret(\"wandb key\")"
   ]
  },
  {
   "cell_type": "markdown",
   "id": "4d976d5f",
   "metadata": {
    "_cell_guid": "1690600d-a41a-41d1-92f6-1c807fc05c61",
    "_uuid": "96bf681f-434b-4f73-92c1-ec21411e870f",
    "jupyter": {
     "outputs_hidden": false
    },
    "papermill": {
     "duration": 0.0042,
     "end_time": "2022-08-31T19:35:15.191979",
     "exception": false,
     "start_time": "2022-08-31T19:35:15.187779",
     "status": "completed"
    },
    "tags": []
   },
   "source": [
    "# Engine"
   ]
  },
  {
   "cell_type": "code",
   "execution_count": 4,
   "id": "e681e4d4",
   "metadata": {
    "execution": {
     "iopub.execute_input": "2022-08-31T19:35:15.202468Z",
     "iopub.status.busy": "2022-08-31T19:35:15.202023Z",
     "iopub.status.idle": "2022-08-31T19:35:16.118901Z",
     "shell.execute_reply": "2022-08-31T19:35:16.117922Z"
    },
    "papermill": {
     "duration": 0.925288,
     "end_time": "2022-08-31T19:35:16.121425",
     "exception": false,
     "start_time": "2022-08-31T19:35:15.196137",
     "status": "completed"
    },
    "tags": []
   },
   "outputs": [],
   "source": [
    "from catboost import CatBoostRegressor\n",
    "from category_encoders.target_encoder import TargetEncoder\n",
    "from sklearn.compose import make_column_transformer\n",
    "from sklearn.decomposition import PCA\n",
    "from sklearn.neighbors import KNeighborsRegressor\n",
    "from sklearn.pipeline import make_pipeline\n",
    "from sklearn.preprocessing import PolynomialFeatures, StandardScaler\n",
    "from xgboost import XGBRegressor\n",
    "from sklearn.ensemble import RandomForestRegressor, ExtraTreesRegressor"
   ]
  },
  {
   "cell_type": "code",
   "execution_count": 5,
   "id": "47f2bd04",
   "metadata": {
    "_cell_guid": "1690600d-a41a-41d1-92f6-1c807fc05c61",
    "_uuid": "96bf681f-434b-4f73-92c1-ec21411e870f",
    "collapsed": false,
    "execution": {
     "iopub.execute_input": "2022-08-31T19:35:16.132382Z",
     "iopub.status.busy": "2022-08-31T19:35:16.131162Z",
     "iopub.status.idle": "2022-08-31T19:35:16.137615Z",
     "shell.execute_reply": "2022-08-31T19:35:16.136726Z"
    },
    "jupyter": {
     "outputs_hidden": false
    },
    "papermill": {
     "duration": 0.014086,
     "end_time": "2022-08-31T19:35:16.139863",
     "exception": false,
     "start_time": "2022-08-31T19:35:16.125777",
     "status": "completed"
    },
    "tags": []
   },
   "outputs": [],
   "source": [
    "def get_model():\n",
    "    model = ExtraTreesRegressor(n_estimators=55, random_state=RAND, verbose=1, n_jobs=-1)\n",
    "\n",
    "    tme = TargetEncoder()\n",
    "    # pf = PolynomialFeatures(degree=2)\n",
    "    # pca = PCA(n_components=10, random_state=config['RAND'])\n",
    "    # scaler = StandardScaler()\n",
    "    ct = make_column_transformer(\n",
    "        (tme, cat_cols),\n",
    "        remainder = 'passthrough',\n",
    "        n_jobs= -1\n",
    "    )\n",
    "    model_pipe = make_pipeline(\n",
    "        ct,\n",
    "        model\n",
    "    )\n",
    "    return model_pipe"
   ]
  },
  {
   "cell_type": "markdown",
   "id": "4958766b",
   "metadata": {
    "papermill": {
     "duration": 0.003849,
     "end_time": "2022-08-31T19:35:16.147914",
     "exception": false,
     "start_time": "2022-08-31T19:35:16.144065",
     "status": "completed"
    },
    "tags": []
   },
   "source": [
    "# Train and Eval"
   ]
  },
  {
   "cell_type": "code",
   "execution_count": 6,
   "id": "932c5bae",
   "metadata": {
    "execution": {
     "iopub.execute_input": "2022-08-31T19:35:16.158803Z",
     "iopub.status.busy": "2022-08-31T19:35:16.157732Z",
     "iopub.status.idle": "2022-08-31T19:35:25.206032Z",
     "shell.execute_reply": "2022-08-31T19:35:25.204764Z"
    },
    "papermill": {
     "duration": 9.056615,
     "end_time": "2022-08-31T19:35:25.208775",
     "exception": false,
     "start_time": "2022-08-31T19:35:16.152160",
     "status": "completed"
    },
    "tags": []
   },
   "outputs": [
    {
     "name": "stderr",
     "output_type": "stream",
     "text": [
      "\u001b[34m\u001b[1mwandb\u001b[0m: W&B API key is configured. Use \u001b[1m`wandb login --relogin`\u001b[0m to force relogin\n",
      "\u001b[34m\u001b[1mwandb\u001b[0m: \u001b[33mWARNING\u001b[0m If you're specifying your api key in code, ensure this code is not shared publicly.\n",
      "\u001b[34m\u001b[1mwandb\u001b[0m: \u001b[33mWARNING\u001b[0m Consider setting the WANDB_API_KEY environment variable, or running `wandb login` from the command line.\n",
      "\u001b[34m\u001b[1mwandb\u001b[0m: Appending key for api.wandb.ai to your netrc file: /root/.netrc\n"
     ]
    },
    {
     "name": "stdout",
     "output_type": "stream",
     "text": [
      "extratree-55-T1\n",
      "extra tree 55 on train_T1\n"
     ]
    }
   ],
   "source": [
    "import warnings\n",
    "warnings.filterwarnings('ignore')\n",
    "\n",
    "import numpy as np\n",
    "import argparse\n",
    "import wandb\n",
    "from joblib import dump\n",
    "import pandas as pd\n",
    "from sklearn.metrics import mean_squared_error\n",
    "from sklearn.model_selection import KFold\n",
    "import time\n",
    "np.random.seed(RAND)\n",
    "\n",
    "wandb.login(key = wandb_login)\n",
    "\n",
    "# Load configuration\n",
    "print(model_name)\n",
    "print(desc)\n",
    "\n",
    "# Load data\n",
    "train_data = pd.read_csv(train_data_path)\n",
    "test_data = pd.read_csv(test_data_path)\n",
    "test_timestamp = pd.read_csv(test_timestamp_path)\n",
    "test_data['timestamp'] = test_timestamp"
   ]
  },
  {
   "cell_type": "code",
   "execution_count": 7,
   "id": "50c39c65",
   "metadata": {
    "execution": {
     "iopub.execute_input": "2022-08-31T19:35:25.220213Z",
     "iopub.status.busy": "2022-08-31T19:35:25.219327Z",
     "iopub.status.idle": "2022-08-31T19:35:25.226728Z",
     "shell.execute_reply": "2022-08-31T19:35:25.225424Z"
    },
    "papermill": {
     "duration": 0.01571,
     "end_time": "2022-08-31T19:35:25.229096",
     "exception": false,
     "start_time": "2022-08-31T19:35:25.213386",
     "status": "completed"
    },
    "tags": []
   },
   "outputs": [],
   "source": [
    "# ft-eng\n",
    "# add new features\n",
    "def add_features(df):\n",
    "    df['timestamp'] = pd.to_datetime(df.timestamp)\n",
    "    df['month'] = df.timestamp.dt.month\n",
    "    df['hour'] = df.timestamp.dt.hour\n",
    "    df['dayofweek'] = df.timestamp.dt.dayofweek\n",
    "    df['dayofmonth'] = df.timestamp.dt.day\n",
    "    df['mmtt'] = df['month'].astype(str) + '_' + df['turbine_id']\n",
    "    return df"
   ]
  },
  {
   "cell_type": "code",
   "execution_count": 8,
   "id": "5b8e1a7e",
   "metadata": {
    "execution": {
     "iopub.execute_input": "2022-08-31T19:35:25.240273Z",
     "iopub.status.busy": "2022-08-31T19:35:25.239895Z",
     "iopub.status.idle": "2022-08-31T19:35:27.039890Z",
     "shell.execute_reply": "2022-08-31T19:35:27.038623Z"
    },
    "papermill": {
     "duration": 1.808743,
     "end_time": "2022-08-31T19:35:27.042686",
     "exception": false,
     "start_time": "2022-08-31T19:35:25.233943",
     "status": "completed"
    },
    "tags": []
   },
   "outputs": [],
   "source": [
    "train_data = add_features(train_data)\n",
    "test_data = add_features(test_data)"
   ]
  },
  {
   "cell_type": "code",
   "execution_count": 9,
   "id": "b567da65",
   "metadata": {
    "execution": {
     "iopub.execute_input": "2022-08-31T19:35:27.053879Z",
     "iopub.status.busy": "2022-08-31T19:35:27.053426Z",
     "iopub.status.idle": "2022-08-31T19:35:27.072616Z",
     "shell.execute_reply": "2022-08-31T19:35:27.071405Z"
    },
    "papermill": {
     "duration": 0.027835,
     "end_time": "2022-08-31T19:35:27.075144",
     "exception": false,
     "start_time": "2022-08-31T19:35:27.047309",
     "status": "completed"
    },
    "tags": []
   },
   "outputs": [],
   "source": [
    "def train_and_eval(X_train, y_train, X_val, y_val):\n",
    "    print('Training Model...')\n",
    "    model = get_model()\n",
    "    model.fit(X_train, y_train)\n",
    "    train_score = comp_score(model.predict(X_train), y_train)\n",
    "    print(\"Training MAPE: \", train_score)\n",
    "\n",
    "    print('Validating Model..')\n",
    "    preds = model.predict(X_val)\n",
    "    val_score = comp_score(y_val, preds)\n",
    "    print(\"Validation MAPE: \", val_score)\n",
    "    print(\"validation rmse: \", mean_squared_error(y_val, preds, squared=False))\n",
    "\n",
    "    return model, train_score, val_score\n",
    "\n",
    "\n",
    "def __cross_validate(holdout=False, cv_predict=False, wandb_track=True):\n",
    "    cv_scores = []\n",
    "\n",
    "    drop_cols = ['timestamp', 'Target']\n",
    "    \n",
    "    if cv_predict:\n",
    "        cvpreds_test = np.zeros(shape=(len(test_data), N_FOLDS))\n",
    "        cvpreds_train = np.zeros(shape=(len(train_data)))\n",
    "    \n",
    "    kf = KFold(n_splits=N_FOLDS, random_state=RAND, shuffle=True)\n",
    "    for fold, (train_idx, val_idx) in enumerate(kf.split(train_data)):\n",
    "        print(f'Fold : {fold}')\n",
    "\n",
    "        train_fold = train_data.iloc[train_idx]\n",
    "        val_fold = train_data.iloc[val_idx]\n",
    "\n",
    "        X_train, y_train = train_fold.drop(\n",
    "            drop_cols, axis=1), train_fold.Target\n",
    "        X_val, y_val = val_fold.drop(\n",
    "            drop_cols, axis=1), val_fold.Target\n",
    "        \n",
    "        start = time.time() \n",
    "        model, train_score, val_score = train_and_eval(\n",
    "            X_train, y_train, X_val, y_val)\n",
    "        end = time.time()\n",
    "        print(f'Time taken: {end - start}')\n",
    "\n",
    "        if wandb_track:\n",
    "            # wandb tracking\n",
    "            wandb.log({\n",
    "                'fold': fold,\n",
    "                'Train_score': train_score,\n",
    "                'Val_score': val_score \n",
    "            })\n",
    "\n",
    "        cv_scores.append(val_score)\n",
    "\n",
    "        if cv_predict:\n",
    "            # save predictions for ensembling\n",
    "            cvpreds_test[:, fold] = model.predict(test_data.drop(['timestamp'], axis=1))\n",
    "            cvpreds_train[val_idx] = model.predict(X_val)\n",
    "            \n",
    "        print('----------------------------------------------------------')\n",
    "\n",
    "        # # save_model\n",
    "        # if config[\"save_models\"] :\n",
    "        #     dump(model, config['save_model_to'] + '/' +  config['model_name'] + '_' + str(fold))\n",
    "        #     print('Model saved')\n",
    "\n",
    "        if holdout == True:\n",
    "            break\n",
    "\n",
    "    if cv_predict:\n",
    "        print('Saving cross validated predictions...')\n",
    "        test_cv = pd.DataFrame(cvpreds_test.mean(axis=1), columns=['Target'])\n",
    "        train_cv = pd.DataFrame(cvpreds_train, columns=['Target'])\n",
    "        print('Test shape: ', test_cv.shape)\n",
    "        print('Train shape: ', train_cv.shape)\n",
    "        test_cv.to_csv(f\"{model_name}_test_cv.csv\", index=False)\n",
    "        train_cv.to_csv(f\"{model_name}_train_cv.csv\", index=False)\n",
    "\n",
    "    print(\"AVG mape :\", np.array(cv_scores).mean())\n",
    "\n",
    "\n",
    "def cross_validate(holdout=False, wandb_track=True, cv_predict=False):\n",
    "    if wandb_track:\n",
    "        # wandb tracking\n",
    "        with wandb.init(project=project, name=model_name):\n",
    "            __cross_validate(holdout, wandb_track=wandb_track, cv_predict=cv_predict)\n",
    "    else:\n",
    "        __cross_validate(holdout, wandb_track=wandb_track, cv_predict=cv_predict)"
   ]
  },
  {
   "cell_type": "code",
   "execution_count": 10,
   "id": "d0384977",
   "metadata": {
    "execution": {
     "iopub.execute_input": "2022-08-31T19:35:27.086589Z",
     "iopub.status.busy": "2022-08-31T19:35:27.085474Z",
     "iopub.status.idle": "2022-08-31T20:04:31.992496Z",
     "shell.execute_reply": "2022-08-31T20:04:31.991271Z"
    },
    "papermill": {
     "duration": 1744.91567,
     "end_time": "2022-08-31T20:04:31.995450",
     "exception": false,
     "start_time": "2022-08-31T19:35:27.079780",
     "status": "completed"
    },
    "tags": []
   },
   "outputs": [
    {
     "name": "stderr",
     "output_type": "stream",
     "text": [
      "\u001b[34m\u001b[1mwandb\u001b[0m: Currently logged in as: \u001b[33mk_loki\u001b[0m. Use \u001b[1m`wandb login --relogin`\u001b[0m to force relogin\n"
     ]
    },
    {
     "data": {
      "text/html": [
       "wandb version 0.13.2 is available!  To upgrade, please run:\n",
       " $ pip install wandb --upgrade"
      ],
      "text/plain": [
       "<IPython.core.display.HTML object>"
      ]
     },
     "metadata": {},
     "output_type": "display_data"
    },
    {
     "data": {
      "text/html": [
       "Tracking run with wandb version 0.12.21"
      ],
      "text/plain": [
       "<IPython.core.display.HTML object>"
      ]
     },
     "metadata": {},
     "output_type": "display_data"
    },
    {
     "data": {
      "text/html": [
       "Run data is saved locally in <code>/kaggle/working/wandb/run-20220831_193527-3lz6yfw6</code>"
      ],
      "text/plain": [
       "<IPython.core.display.HTML object>"
      ]
     },
     "metadata": {},
     "output_type": "display_data"
    },
    {
     "data": {
      "text/html": [
       "Syncing run <strong><a href=\"https://wandb.ai/k_loki/renew-machinehack/runs/3lz6yfw6\" target=\"_blank\">extratree-55-T1</a></strong> to <a href=\"https://wandb.ai/k_loki/renew-machinehack\" target=\"_blank\">Weights & Biases</a> (<a href=\"https://wandb.me/run\" target=\"_blank\">docs</a>)<br/>"
      ],
      "text/plain": [
       "<IPython.core.display.HTML object>"
      ]
     },
     "metadata": {},
     "output_type": "display_data"
    },
    {
     "name": "stdout",
     "output_type": "stream",
     "text": [
      "Fold : 0\n",
      "Training Model...\n"
     ]
    },
    {
     "name": "stderr",
     "output_type": "stream",
     "text": [
      "[Parallel(n_jobs=-1)]: Using backend ThreadingBackend with 4 concurrent workers.\n",
      "[Parallel(n_jobs=-1)]: Done  42 tasks      | elapsed:  2.0min\n",
      "[Parallel(n_jobs=-1)]: Done  55 out of  55 | elapsed:  2.5min finished\n",
      "[Parallel(n_jobs=4)]: Using backend ThreadingBackend with 4 concurrent workers.\n",
      "[Parallel(n_jobs=4)]: Done  42 tasks      | elapsed:   11.7s\n",
      "[Parallel(n_jobs=4)]: Done  55 out of  55 | elapsed:   14.8s finished\n"
     ]
    },
    {
     "name": "stdout",
     "output_type": "stream",
     "text": [
      "Training MAPE:  3.135911132599308e-13\n",
      "Validating Model..\n"
     ]
    },
    {
     "name": "stderr",
     "output_type": "stream",
     "text": [
      "[Parallel(n_jobs=4)]: Using backend ThreadingBackend with 4 concurrent workers.\n",
      "[Parallel(n_jobs=4)]: Done  42 tasks      | elapsed:    1.2s\n",
      "[Parallel(n_jobs=4)]: Done  55 out of  55 | elapsed:    1.5s finished\n"
     ]
    },
    {
     "name": "stdout",
     "output_type": "stream",
     "text": [
      "Validation MAPE:  0.002423819893504584\n",
      "validation rmse:  0.1944474449659575\n",
      "Time taken: 174.44701600074768\n"
     ]
    },
    {
     "name": "stderr",
     "output_type": "stream",
     "text": [
      "[Parallel(n_jobs=4)]: Using backend ThreadingBackend with 4 concurrent workers.\n",
      "[Parallel(n_jobs=4)]: Done  42 tasks      | elapsed:    5.0s\n",
      "[Parallel(n_jobs=4)]: Done  55 out of  55 | elapsed:    6.4s finished\n",
      "[Parallel(n_jobs=4)]: Using backend ThreadingBackend with 4 concurrent workers.\n",
      "[Parallel(n_jobs=4)]: Done  42 tasks      | elapsed:    1.3s\n",
      "[Parallel(n_jobs=4)]: Done  55 out of  55 | elapsed:    1.6s finished\n"
     ]
    },
    {
     "name": "stdout",
     "output_type": "stream",
     "text": [
      "----------------------------------------------------------\n",
      "Fold : 1\n",
      "Training Model...\n"
     ]
    },
    {
     "name": "stderr",
     "output_type": "stream",
     "text": [
      "[Parallel(n_jobs=-1)]: Using backend ThreadingBackend with 4 concurrent workers.\n",
      "[Parallel(n_jobs=-1)]: Done  42 tasks      | elapsed:  1.9min\n",
      "[Parallel(n_jobs=-1)]: Done  55 out of  55 | elapsed:  2.4min finished\n",
      "[Parallel(n_jobs=4)]: Using backend ThreadingBackend with 4 concurrent workers.\n",
      "[Parallel(n_jobs=4)]: Done  42 tasks      | elapsed:   11.3s\n",
      "[Parallel(n_jobs=4)]: Done  55 out of  55 | elapsed:   14.3s finished\n"
     ]
    },
    {
     "name": "stdout",
     "output_type": "stream",
     "text": [
      "Training MAPE:  3.412094952198129e-13\n",
      "Validating Model..\n"
     ]
    },
    {
     "name": "stderr",
     "output_type": "stream",
     "text": [
      "[Parallel(n_jobs=4)]: Using backend ThreadingBackend with 4 concurrent workers.\n",
      "[Parallel(n_jobs=4)]: Done  42 tasks      | elapsed:    1.2s\n",
      "[Parallel(n_jobs=4)]: Done  55 out of  55 | elapsed:    1.6s finished\n"
     ]
    },
    {
     "name": "stdout",
     "output_type": "stream",
     "text": [
      "Validation MAPE:  0.002447744479722155\n",
      "validation rmse:  0.20056389505502256\n",
      "Time taken: 164.03512334823608\n"
     ]
    },
    {
     "name": "stderr",
     "output_type": "stream",
     "text": [
      "[Parallel(n_jobs=4)]: Using backend ThreadingBackend with 4 concurrent workers.\n",
      "[Parallel(n_jobs=4)]: Done  42 tasks      | elapsed:    4.1s\n",
      "[Parallel(n_jobs=4)]: Done  55 out of  55 | elapsed:    5.2s finished\n",
      "[Parallel(n_jobs=4)]: Using backend ThreadingBackend with 4 concurrent workers.\n",
      "[Parallel(n_jobs=4)]: Done  42 tasks      | elapsed:    1.5s\n",
      "[Parallel(n_jobs=4)]: Done  55 out of  55 | elapsed:    1.9s finished\n"
     ]
    },
    {
     "name": "stdout",
     "output_type": "stream",
     "text": [
      "----------------------------------------------------------\n",
      "Fold : 2\n",
      "Training Model...\n"
     ]
    },
    {
     "name": "stderr",
     "output_type": "stream",
     "text": [
      "[Parallel(n_jobs=-1)]: Using backend ThreadingBackend with 4 concurrent workers.\n",
      "[Parallel(n_jobs=-1)]: Done  42 tasks      | elapsed:  2.0min\n",
      "[Parallel(n_jobs=-1)]: Done  55 out of  55 | elapsed:  2.6min finished\n",
      "[Parallel(n_jobs=4)]: Using backend ThreadingBackend with 4 concurrent workers.\n",
      "[Parallel(n_jobs=4)]: Done  42 tasks      | elapsed:   11.8s\n",
      "[Parallel(n_jobs=4)]: Done  55 out of  55 | elapsed:   14.9s finished\n"
     ]
    },
    {
     "name": "stdout",
     "output_type": "stream",
     "text": [
      "Training MAPE:  3.0436494416732277e-13\n",
      "Validating Model..\n"
     ]
    },
    {
     "name": "stderr",
     "output_type": "stream",
     "text": [
      "[Parallel(n_jobs=4)]: Using backend ThreadingBackend with 4 concurrent workers.\n",
      "[Parallel(n_jobs=4)]: Done  42 tasks      | elapsed:    1.3s\n",
      "[Parallel(n_jobs=4)]: Done  55 out of  55 | elapsed:    1.6s finished\n"
     ]
    },
    {
     "name": "stdout",
     "output_type": "stream",
     "text": [
      "Validation MAPE:  0.0024445720894162646\n",
      "validation rmse:  0.19896606288833127\n",
      "Time taken: 175.65037536621094\n"
     ]
    },
    {
     "name": "stderr",
     "output_type": "stream",
     "text": [
      "[Parallel(n_jobs=4)]: Using backend ThreadingBackend with 4 concurrent workers.\n",
      "[Parallel(n_jobs=4)]: Done  42 tasks      | elapsed:    4.2s\n",
      "[Parallel(n_jobs=4)]: Done  55 out of  55 | elapsed:    5.3s finished\n",
      "[Parallel(n_jobs=4)]: Using backend ThreadingBackend with 4 concurrent workers.\n",
      "[Parallel(n_jobs=4)]: Done  42 tasks      | elapsed:    1.2s\n",
      "[Parallel(n_jobs=4)]: Done  55 out of  55 | elapsed:    1.6s finished\n"
     ]
    },
    {
     "name": "stdout",
     "output_type": "stream",
     "text": [
      "----------------------------------------------------------\n",
      "Fold : 3\n",
      "Training Model...\n"
     ]
    },
    {
     "name": "stderr",
     "output_type": "stream",
     "text": [
      "[Parallel(n_jobs=-1)]: Using backend ThreadingBackend with 4 concurrent workers.\n",
      "[Parallel(n_jobs=-1)]: Done  42 tasks      | elapsed:  1.8min\n",
      "[Parallel(n_jobs=-1)]: Done  55 out of  55 | elapsed:  2.3min finished\n",
      "[Parallel(n_jobs=4)]: Using backend ThreadingBackend with 4 concurrent workers.\n",
      "[Parallel(n_jobs=4)]: Done  42 tasks      | elapsed:   11.4s\n",
      "[Parallel(n_jobs=4)]: Done  55 out of  55 | elapsed:   14.5s finished\n"
     ]
    },
    {
     "name": "stdout",
     "output_type": "stream",
     "text": [
      "Training MAPE:  2.840027515019466e-13\n",
      "Validating Model..\n"
     ]
    },
    {
     "name": "stderr",
     "output_type": "stream",
     "text": [
      "[Parallel(n_jobs=4)]: Using backend ThreadingBackend with 4 concurrent workers.\n",
      "[Parallel(n_jobs=4)]: Done  42 tasks      | elapsed:    1.2s\n",
      "[Parallel(n_jobs=4)]: Done  55 out of  55 | elapsed:    1.6s finished\n"
     ]
    },
    {
     "name": "stdout",
     "output_type": "stream",
     "text": [
      "Validation MAPE:  0.002413202706361808\n",
      "validation rmse:  0.1941674635455659\n",
      "Time taken: 159.79339265823364\n"
     ]
    },
    {
     "name": "stderr",
     "output_type": "stream",
     "text": [
      "[Parallel(n_jobs=4)]: Using backend ThreadingBackend with 4 concurrent workers.\n",
      "[Parallel(n_jobs=4)]: Done  42 tasks      | elapsed:    4.1s\n",
      "[Parallel(n_jobs=4)]: Done  55 out of  55 | elapsed:    5.2s finished\n",
      "[Parallel(n_jobs=4)]: Using backend ThreadingBackend with 4 concurrent workers.\n",
      "[Parallel(n_jobs=4)]: Done  42 tasks      | elapsed:    1.4s\n",
      "[Parallel(n_jobs=4)]: Done  55 out of  55 | elapsed:    1.9s finished\n"
     ]
    },
    {
     "name": "stdout",
     "output_type": "stream",
     "text": [
      "----------------------------------------------------------\n",
      "Fold : 4\n",
      "Training Model...\n"
     ]
    },
    {
     "name": "stderr",
     "output_type": "stream",
     "text": [
      "[Parallel(n_jobs=-1)]: Using backend ThreadingBackend with 4 concurrent workers.\n",
      "[Parallel(n_jobs=-1)]: Done  42 tasks      | elapsed:  1.9min\n",
      "[Parallel(n_jobs=-1)]: Done  55 out of  55 | elapsed:  2.4min finished\n",
      "[Parallel(n_jobs=4)]: Using backend ThreadingBackend with 4 concurrent workers.\n",
      "[Parallel(n_jobs=4)]: Done  42 tasks      | elapsed:   11.3s\n",
      "[Parallel(n_jobs=4)]: Done  55 out of  55 | elapsed:   14.7s finished\n"
     ]
    },
    {
     "name": "stdout",
     "output_type": "stream",
     "text": [
      "Training MAPE:  3.418917748344041e-13\n",
      "Validating Model..\n"
     ]
    },
    {
     "name": "stderr",
     "output_type": "stream",
     "text": [
      "[Parallel(n_jobs=4)]: Using backend ThreadingBackend with 4 concurrent workers.\n",
      "[Parallel(n_jobs=4)]: Done  42 tasks      | elapsed:    1.3s\n",
      "[Parallel(n_jobs=4)]: Done  55 out of  55 | elapsed:    1.6s finished\n"
     ]
    },
    {
     "name": "stdout",
     "output_type": "stream",
     "text": [
      "Validation MAPE:  0.0024480042280128483\n",
      "validation rmse:  0.19957036609817994\n",
      "Time taken: 163.80022764205933\n"
     ]
    },
    {
     "name": "stderr",
     "output_type": "stream",
     "text": [
      "[Parallel(n_jobs=4)]: Using backend ThreadingBackend with 4 concurrent workers.\n",
      "[Parallel(n_jobs=4)]: Done  42 tasks      | elapsed:    4.1s\n",
      "[Parallel(n_jobs=4)]: Done  55 out of  55 | elapsed:    5.2s finished\n",
      "[Parallel(n_jobs=4)]: Using backend ThreadingBackend with 4 concurrent workers.\n",
      "[Parallel(n_jobs=4)]: Done  42 tasks      | elapsed:    1.2s\n",
      "[Parallel(n_jobs=4)]: Done  55 out of  55 | elapsed:    1.5s finished\n"
     ]
    },
    {
     "name": "stdout",
     "output_type": "stream",
     "text": [
      "----------------------------------------------------------\n",
      "Fold : 5\n",
      "Training Model...\n"
     ]
    },
    {
     "name": "stderr",
     "output_type": "stream",
     "text": [
      "[Parallel(n_jobs=-1)]: Using backend ThreadingBackend with 4 concurrent workers.\n",
      "[Parallel(n_jobs=-1)]: Done  42 tasks      | elapsed:  1.9min\n",
      "[Parallel(n_jobs=-1)]: Done  55 out of  55 | elapsed:  2.4min finished\n",
      "[Parallel(n_jobs=4)]: Using backend ThreadingBackend with 4 concurrent workers.\n",
      "[Parallel(n_jobs=4)]: Done  42 tasks      | elapsed:   11.6s\n",
      "[Parallel(n_jobs=4)]: Done  55 out of  55 | elapsed:   14.5s finished\n"
     ]
    },
    {
     "name": "stdout",
     "output_type": "stream",
     "text": [
      "Training MAPE:  2.642531205732451e-13\n",
      "Validating Model..\n"
     ]
    },
    {
     "name": "stderr",
     "output_type": "stream",
     "text": [
      "[Parallel(n_jobs=4)]: Using backend ThreadingBackend with 4 concurrent workers.\n",
      "[Parallel(n_jobs=4)]: Done  42 tasks      | elapsed:    1.2s\n",
      "[Parallel(n_jobs=4)]: Done  55 out of  55 | elapsed:    1.5s finished\n"
     ]
    },
    {
     "name": "stdout",
     "output_type": "stream",
     "text": [
      "Validation MAPE:  0.0024381773510963075\n",
      "validation rmse:  0.2008137457143468\n",
      "Time taken: 163.0806794166565\n"
     ]
    },
    {
     "name": "stderr",
     "output_type": "stream",
     "text": [
      "[Parallel(n_jobs=4)]: Using backend ThreadingBackend with 4 concurrent workers.\n",
      "[Parallel(n_jobs=4)]: Done  42 tasks      | elapsed:    3.9s\n",
      "[Parallel(n_jobs=4)]: Done  55 out of  55 | elapsed:    5.0s finished\n",
      "[Parallel(n_jobs=4)]: Using backend ThreadingBackend with 4 concurrent workers.\n",
      "[Parallel(n_jobs=4)]: Done  42 tasks      | elapsed:    1.2s\n",
      "[Parallel(n_jobs=4)]: Done  55 out of  55 | elapsed:    1.6s finished\n"
     ]
    },
    {
     "name": "stdout",
     "output_type": "stream",
     "text": [
      "----------------------------------------------------------\n",
      "Fold : 6\n",
      "Training Model...\n"
     ]
    },
    {
     "name": "stderr",
     "output_type": "stream",
     "text": [
      "[Parallel(n_jobs=-1)]: Using backend ThreadingBackend with 4 concurrent workers.\n",
      "[Parallel(n_jobs=-1)]: Done  42 tasks      | elapsed:  1.7min\n",
      "[Parallel(n_jobs=-1)]: Done  55 out of  55 | elapsed:  2.2min finished\n",
      "[Parallel(n_jobs=4)]: Using backend ThreadingBackend with 4 concurrent workers.\n",
      "[Parallel(n_jobs=4)]: Done  42 tasks      | elapsed:   11.3s\n",
      "[Parallel(n_jobs=4)]: Done  55 out of  55 | elapsed:   14.2s finished\n"
     ]
    },
    {
     "name": "stdout",
     "output_type": "stream",
     "text": [
      "Training MAPE:  2.949412116060336e-13\n",
      "Validating Model..\n"
     ]
    },
    {
     "name": "stderr",
     "output_type": "stream",
     "text": [
      "[Parallel(n_jobs=4)]: Using backend ThreadingBackend with 4 concurrent workers.\n",
      "[Parallel(n_jobs=4)]: Done  42 tasks      | elapsed:    1.2s\n",
      "[Parallel(n_jobs=4)]: Done  55 out of  55 | elapsed:    1.6s finished\n"
     ]
    },
    {
     "name": "stdout",
     "output_type": "stream",
     "text": [
      "Validation MAPE:  0.0024196932005452155\n",
      "validation rmse:  0.1958916653231356\n",
      "Time taken: 152.71819925308228\n"
     ]
    },
    {
     "name": "stderr",
     "output_type": "stream",
     "text": [
      "[Parallel(n_jobs=4)]: Using backend ThreadingBackend with 4 concurrent workers.\n",
      "[Parallel(n_jobs=4)]: Done  42 tasks      | elapsed:    4.0s\n",
      "[Parallel(n_jobs=4)]: Done  55 out of  55 | elapsed:    5.1s finished\n",
      "[Parallel(n_jobs=4)]: Using backend ThreadingBackend with 4 concurrent workers.\n",
      "[Parallel(n_jobs=4)]: Done  42 tasks      | elapsed:    1.2s\n",
      "[Parallel(n_jobs=4)]: Done  55 out of  55 | elapsed:    1.5s finished\n"
     ]
    },
    {
     "name": "stdout",
     "output_type": "stream",
     "text": [
      "----------------------------------------------------------\n",
      "Fold : 7\n",
      "Training Model...\n"
     ]
    },
    {
     "name": "stderr",
     "output_type": "stream",
     "text": [
      "[Parallel(n_jobs=-1)]: Using backend ThreadingBackend with 4 concurrent workers.\n",
      "[Parallel(n_jobs=-1)]: Done  42 tasks      | elapsed:  1.8min\n",
      "[Parallel(n_jobs=-1)]: Done  55 out of  55 | elapsed:  2.3min finished\n",
      "[Parallel(n_jobs=4)]: Using backend ThreadingBackend with 4 concurrent workers.\n",
      "[Parallel(n_jobs=4)]: Done  42 tasks      | elapsed:   11.3s\n",
      "[Parallel(n_jobs=4)]: Done  55 out of  55 | elapsed:   14.5s finished\n"
     ]
    },
    {
     "name": "stdout",
     "output_type": "stream",
     "text": [
      "Training MAPE:  3.014438598036152e-13\n",
      "Validating Model..\n"
     ]
    },
    {
     "name": "stderr",
     "output_type": "stream",
     "text": [
      "[Parallel(n_jobs=4)]: Using backend ThreadingBackend with 4 concurrent workers.\n",
      "[Parallel(n_jobs=4)]: Done  42 tasks      | elapsed:    1.3s\n",
      "[Parallel(n_jobs=4)]: Done  55 out of  55 | elapsed:    1.6s finished\n"
     ]
    },
    {
     "name": "stdout",
     "output_type": "stream",
     "text": [
      "Validation MAPE:  0.002454515274250163\n",
      "validation rmse:  0.2013057037973251\n",
      "Time taken: 158.4831988811493\n"
     ]
    },
    {
     "name": "stderr",
     "output_type": "stream",
     "text": [
      "[Parallel(n_jobs=4)]: Using backend ThreadingBackend with 4 concurrent workers.\n",
      "[Parallel(n_jobs=4)]: Done  42 tasks      | elapsed:    4.2s\n",
      "[Parallel(n_jobs=4)]: Done  55 out of  55 | elapsed:    5.3s finished\n",
      "[Parallel(n_jobs=4)]: Using backend ThreadingBackend with 4 concurrent workers.\n",
      "[Parallel(n_jobs=4)]: Done  42 tasks      | elapsed:    1.3s\n",
      "[Parallel(n_jobs=4)]: Done  55 out of  55 | elapsed:    1.6s finished\n"
     ]
    },
    {
     "name": "stdout",
     "output_type": "stream",
     "text": [
      "----------------------------------------------------------\n",
      "Fold : 8\n",
      "Training Model...\n"
     ]
    },
    {
     "name": "stderr",
     "output_type": "stream",
     "text": [
      "[Parallel(n_jobs=-1)]: Using backend ThreadingBackend with 4 concurrent workers.\n",
      "[Parallel(n_jobs=-1)]: Done  42 tasks      | elapsed:  1.9min\n",
      "[Parallel(n_jobs=-1)]: Done  55 out of  55 | elapsed:  2.3min finished\n",
      "[Parallel(n_jobs=4)]: Using backend ThreadingBackend with 4 concurrent workers.\n",
      "[Parallel(n_jobs=4)]: Done  42 tasks      | elapsed:   12.1s\n",
      "[Parallel(n_jobs=4)]: Done  55 out of  55 | elapsed:   15.2s finished\n"
     ]
    },
    {
     "name": "stdout",
     "output_type": "stream",
     "text": [
      "Training MAPE:  3.123916767543552e-13\n",
      "Validating Model..\n"
     ]
    },
    {
     "name": "stderr",
     "output_type": "stream",
     "text": [
      "[Parallel(n_jobs=4)]: Using backend ThreadingBackend with 4 concurrent workers.\n",
      "[Parallel(n_jobs=4)]: Done  42 tasks      | elapsed:    1.7s\n",
      "[Parallel(n_jobs=4)]: Done  55 out of  55 | elapsed:    2.0s finished\n"
     ]
    },
    {
     "name": "stdout",
     "output_type": "stream",
     "text": [
      "Validation MAPE:  0.00244867444209496\n",
      "validation rmse:  0.2074952071093046\n",
      "Time taken: 163.94157767295837\n"
     ]
    },
    {
     "name": "stderr",
     "output_type": "stream",
     "text": [
      "[Parallel(n_jobs=4)]: Using backend ThreadingBackend with 4 concurrent workers.\n",
      "[Parallel(n_jobs=4)]: Done  42 tasks      | elapsed:    4.3s\n",
      "[Parallel(n_jobs=4)]: Done  55 out of  55 | elapsed:    5.4s finished\n",
      "[Parallel(n_jobs=4)]: Using backend ThreadingBackend with 4 concurrent workers.\n",
      "[Parallel(n_jobs=4)]: Done  42 tasks      | elapsed:    1.3s\n",
      "[Parallel(n_jobs=4)]: Done  55 out of  55 | elapsed:    1.6s finished\n"
     ]
    },
    {
     "name": "stdout",
     "output_type": "stream",
     "text": [
      "----------------------------------------------------------\n",
      "Fold : 9\n",
      "Training Model...\n"
     ]
    },
    {
     "name": "stderr",
     "output_type": "stream",
     "text": [
      "[Parallel(n_jobs=-1)]: Using backend ThreadingBackend with 4 concurrent workers.\n",
      "[Parallel(n_jobs=-1)]: Done  42 tasks      | elapsed:  1.9min\n",
      "[Parallel(n_jobs=-1)]: Done  55 out of  55 | elapsed:  2.4min finished\n",
      "[Parallel(n_jobs=4)]: Using backend ThreadingBackend with 4 concurrent workers.\n",
      "[Parallel(n_jobs=4)]: Done  42 tasks      | elapsed:   15.6s\n",
      "[Parallel(n_jobs=4)]: Done  55 out of  55 | elapsed:   20.4s finished\n"
     ]
    },
    {
     "name": "stdout",
     "output_type": "stream",
     "text": [
      "Training MAPE:  3.1215220925045277e-13\n",
      "Validating Model..\n"
     ]
    },
    {
     "name": "stderr",
     "output_type": "stream",
     "text": [
      "[Parallel(n_jobs=4)]: Using backend ThreadingBackend with 4 concurrent workers.\n",
      "[Parallel(n_jobs=4)]: Done  42 tasks      | elapsed:    1.3s\n",
      "[Parallel(n_jobs=4)]: Done  55 out of  55 | elapsed:    1.7s finished\n"
     ]
    },
    {
     "name": "stdout",
     "output_type": "stream",
     "text": [
      "Validation MAPE:  0.0024475968712442953\n",
      "validation rmse:  0.20749366788643364\n",
      "Time taken: 173.27117133140564\n"
     ]
    },
    {
     "name": "stderr",
     "output_type": "stream",
     "text": [
      "[Parallel(n_jobs=4)]: Using backend ThreadingBackend with 4 concurrent workers.\n",
      "[Parallel(n_jobs=4)]: Done  42 tasks      | elapsed:    3.9s\n",
      "[Parallel(n_jobs=4)]: Done  55 out of  55 | elapsed:    5.1s finished\n",
      "[Parallel(n_jobs=4)]: Using backend ThreadingBackend with 4 concurrent workers.\n",
      "[Parallel(n_jobs=4)]: Done  42 tasks      | elapsed:    1.2s\n",
      "[Parallel(n_jobs=4)]: Done  55 out of  55 | elapsed:    1.6s finished\n"
     ]
    },
    {
     "name": "stdout",
     "output_type": "stream",
     "text": [
      "----------------------------------------------------------\n",
      "Saving cross validated predictions...\n",
      "Test shape:  (303202, 1)\n",
      "Train shape:  (909604, 1)\n",
      "AVG mape : 0.00243860005362486\n"
     ]
    },
    {
     "data": {
      "text/html": [
       "Waiting for W&B process to finish... <strong style=\"color:green\">(success).</strong>"
      ],
      "text/plain": [
       "<IPython.core.display.HTML object>"
      ]
     },
     "metadata": {},
     "output_type": "display_data"
    },
    {
     "data": {
      "application/vnd.jupyter.widget-view+json": {
       "model_id": "0afa9dc3cab74e7ba07c918c975b4b4c",
       "version_major": 2,
       "version_minor": 0
      },
      "text/plain": [
       "VBox(children=(Label(value='0.000 MB of 0.000 MB uploaded (0.000 MB deduped)\\r'), FloatProgress(value=1.0, max…"
      ]
     },
     "metadata": {},
     "output_type": "display_data"
    },
    {
     "data": {
      "text/html": [
       "<style>\n",
       "    table.wandb td:nth-child(1) { padding: 0 10px; text-align: left ; width: auto;} td:nth-child(2) {text-align: left ; width: 100%}\n",
       "    .wandb-row { display: flex; flex-direction: row; flex-wrap: wrap; justify-content: flex-start; width: 100% }\n",
       "    .wandb-col { display: flex; flex-direction: column; flex-basis: 100%; flex: 1; padding: 10px; }\n",
       "    </style>\n",
       "<div class=\"wandb-row\"><div class=\"wandb-col\"><h3>Run history:</h3><br/><table class=\"wandb\"><tr><td>Train_score</td><td>▅█▅▃█▁▄▄▅▅</td></tr><tr><td>Val_score</td><td>▃▇▆▁▇▅▂█▇▇</td></tr><tr><td>fold</td><td>▁▂▃▃▄▅▆▆▇█</td></tr></table><br/></div><div class=\"wandb-col\"><h3>Run summary:</h3><br/><table class=\"wandb\"><tr><td>Train_score</td><td>0.0</td></tr><tr><td>Val_score</td><td>0.00245</td></tr><tr><td>fold</td><td>9</td></tr></table><br/></div></div>"
      ],
      "text/plain": [
       "<IPython.core.display.HTML object>"
      ]
     },
     "metadata": {},
     "output_type": "display_data"
    },
    {
     "data": {
      "text/html": [
       "Synced <strong style=\"color:#cdcd00\">extratree-55-T1</strong>: <a href=\"https://wandb.ai/k_loki/renew-machinehack/runs/3lz6yfw6\" target=\"_blank\">https://wandb.ai/k_loki/renew-machinehack/runs/3lz6yfw6</a><br/>Synced 6 W&B file(s), 0 media file(s), 0 artifact file(s) and 0 other file(s)"
      ],
      "text/plain": [
       "<IPython.core.display.HTML object>"
      ]
     },
     "metadata": {},
     "output_type": "display_data"
    },
    {
     "data": {
      "text/html": [
       "Find logs at: <code>./wandb/run-20220831_193527-3lz6yfw6/logs</code>"
      ],
      "text/plain": [
       "<IPython.core.display.HTML object>"
      ]
     },
     "metadata": {},
     "output_type": "display_data"
    }
   ],
   "source": [
    "cross_validate(wandb_track=True, cv_predict=True)"
   ]
  },
  {
   "cell_type": "code",
   "execution_count": null,
   "id": "3486c11e",
   "metadata": {
    "papermill": {
     "duration": 0.016644,
     "end_time": "2022-08-31T20:04:32.029576",
     "exception": false,
     "start_time": "2022-08-31T20:04:32.012932",
     "status": "completed"
    },
    "tags": []
   },
   "outputs": [],
   "source": []
  }
 ],
 "metadata": {
  "kernelspec": {
   "display_name": "Python 3",
   "language": "python",
   "name": "python3"
  },
  "language_info": {
   "codemirror_mode": {
    "name": "ipython",
    "version": 3
   },
   "file_extension": ".py",
   "mimetype": "text/x-python",
   "name": "python",
   "nbconvert_exporter": "python",
   "pygments_lexer": "ipython3",
   "version": "3.7.12"
  },
  "papermill": {
   "default_parameters": {},
   "duration": 1770.6747,
   "end_time": "2022-08-31T20:04:34.678505",
   "environment_variables": {},
   "exception": null,
   "input_path": "__notebook__.ipynb",
   "output_path": "__notebook__.ipynb",
   "parameters": {},
   "start_time": "2022-08-31T19:35:04.003805",
   "version": "2.3.4"
  },
  "widgets": {
   "application/vnd.jupyter.widget-state+json": {
    "state": {
     "0afa9dc3cab74e7ba07c918c975b4b4c": {
      "model_module": "@jupyter-widgets/controls",
      "model_module_version": "1.5.0",
      "model_name": "VBoxModel",
      "state": {
       "_dom_classes": [],
       "_model_module": "@jupyter-widgets/controls",
       "_model_module_version": "1.5.0",
       "_model_name": "VBoxModel",
       "_view_count": null,
       "_view_module": "@jupyter-widgets/controls",
       "_view_module_version": "1.5.0",
       "_view_name": "VBoxView",
       "box_style": "",
       "children": [
        "IPY_MODEL_61cd9c937ca54368b0a91d9039b2e590",
        "IPY_MODEL_353b6da5d9184a708bdf31fb452ee2cd"
       ],
       "layout": "IPY_MODEL_1b4bbe77c54943d8981092ba44be4b4b"
      }
     },
     "0dad982aba6d45a4851b701dcf649e59": {
      "model_module": "@jupyter-widgets/controls",
      "model_module_version": "1.5.0",
      "model_name": "FloatProgressModel",
      "state": {
       "_dom_classes": [],
       "_model_module": "@jupyter-widgets/controls",
       "_model_module_version": "1.5.0",
       "_model_name": "FloatProgressModel",
       "_view_count": null,
       "_view_module": "@jupyter-widgets/controls",
       "_view_module_version": "1.5.0",
       "_view_name": "ProgressView",
       "bar_style": "",
       "description": "",
       "description_tooltip": null,
       "layout": "IPY_MODEL_d15ea4f0f3234c569c34bd50f30e6835",
       "max": 1.0,
       "min": 0.0,
       "orientation": "horizontal",
       "style": "IPY_MODEL_4f8a871c04844adabbc64df87ab17d2f",
       "value": 0.0
      }
     },
     "11bea6d1a2684aeb80a6f5ebf0b31758": {
      "model_module": "@jupyter-widgets/controls",
      "model_module_version": "1.5.0",
      "model_name": "DescriptionStyleModel",
      "state": {
       "_model_module": "@jupyter-widgets/controls",
       "_model_module_version": "1.5.0",
       "_model_name": "DescriptionStyleModel",
       "_view_count": null,
       "_view_module": "@jupyter-widgets/base",
       "_view_module_version": "1.2.0",
       "_view_name": "StyleView",
       "description_width": ""
      }
     },
     "1b4bbe77c54943d8981092ba44be4b4b": {
      "model_module": "@jupyter-widgets/base",
      "model_module_version": "1.2.0",
      "model_name": "LayoutModel",
      "state": {
       "_model_module": "@jupyter-widgets/base",
       "_model_module_version": "1.2.0",
       "_model_name": "LayoutModel",
       "_view_count": null,
       "_view_module": "@jupyter-widgets/base",
       "_view_module_version": "1.2.0",
       "_view_name": "LayoutView",
       "align_content": null,
       "align_items": null,
       "align_self": null,
       "border": null,
       "bottom": null,
       "display": null,
       "flex": null,
       "flex_flow": null,
       "grid_area": null,
       "grid_auto_columns": null,
       "grid_auto_flow": null,
       "grid_auto_rows": null,
       "grid_column": null,
       "grid_gap": null,
       "grid_row": null,
       "grid_template_areas": null,
       "grid_template_columns": null,
       "grid_template_rows": null,
       "height": null,
       "justify_content": null,
       "justify_items": null,
       "left": null,
       "margin": null,
       "max_height": null,
       "max_width": null,
       "min_height": null,
       "min_width": null,
       "object_fit": null,
       "object_position": null,
       "order": null,
       "overflow": null,
       "overflow_x": null,
       "overflow_y": null,
       "padding": null,
       "right": null,
       "top": null,
       "visibility": null,
       "width": null
      }
     },
     "1c73e4d7431f4f26a1e23422316e7624": {
      "model_module": "@jupyter-widgets/base",
      "model_module_version": "1.2.0",
      "model_name": "LayoutModel",
      "state": {
       "_model_module": "@jupyter-widgets/base",
       "_model_module_version": "1.2.0",
       "_model_name": "LayoutModel",
       "_view_count": null,
       "_view_module": "@jupyter-widgets/base",
       "_view_module_version": "1.2.0",
       "_view_name": "LayoutView",
       "align_content": null,
       "align_items": null,
       "align_self": null,
       "border": null,
       "bottom": null,
       "display": null,
       "flex": null,
       "flex_flow": null,
       "grid_area": null,
       "grid_auto_columns": null,
       "grid_auto_flow": null,
       "grid_auto_rows": null,
       "grid_column": null,
       "grid_gap": null,
       "grid_row": null,
       "grid_template_areas": null,
       "grid_template_columns": null,
       "grid_template_rows": null,
       "height": null,
       "justify_content": null,
       "justify_items": null,
       "left": null,
       "margin": null,
       "max_height": null,
       "max_width": null,
       "min_height": null,
       "min_width": null,
       "object_fit": null,
       "object_position": null,
       "order": null,
       "overflow": null,
       "overflow_x": null,
       "overflow_y": null,
       "padding": null,
       "right": null,
       "top": null,
       "visibility": null,
       "width": null
      }
     },
     "30a2a6823d2e4711b08a0ac1467ed340": {
      "model_module": "@jupyter-widgets/base",
      "model_module_version": "1.2.0",
      "model_name": "LayoutModel",
      "state": {
       "_model_module": "@jupyter-widgets/base",
       "_model_module_version": "1.2.0",
       "_model_name": "LayoutModel",
       "_view_count": null,
       "_view_module": "@jupyter-widgets/base",
       "_view_module_version": "1.2.0",
       "_view_name": "LayoutView",
       "align_content": null,
       "align_items": null,
       "align_self": null,
       "border": null,
       "bottom": null,
       "display": null,
       "flex": null,
       "flex_flow": null,
       "grid_area": null,
       "grid_auto_columns": null,
       "grid_auto_flow": null,
       "grid_auto_rows": null,
       "grid_column": null,
       "grid_gap": null,
       "grid_row": null,
       "grid_template_areas": null,
       "grid_template_columns": null,
       "grid_template_rows": null,
       "height": null,
       "justify_content": null,
       "justify_items": null,
       "left": null,
       "margin": null,
       "max_height": null,
       "max_width": null,
       "min_height": null,
       "min_width": null,
       "object_fit": null,
       "object_position": null,
       "order": null,
       "overflow": null,
       "overflow_x": null,
       "overflow_y": null,
       "padding": null,
       "right": null,
       "top": null,
       "visibility": null,
       "width": null
      }
     },
     "353b6da5d9184a708bdf31fb452ee2cd": {
      "model_module": "@jupyter-widgets/controls",
      "model_module_version": "1.5.0",
      "model_name": "FloatProgressModel",
      "state": {
       "_dom_classes": [],
       "_model_module": "@jupyter-widgets/controls",
       "_model_module_version": "1.5.0",
       "_model_name": "FloatProgressModel",
       "_view_count": null,
       "_view_module": "@jupyter-widgets/controls",
       "_view_module_version": "1.5.0",
       "_view_name": "ProgressView",
       "bar_style": "",
       "description": "",
       "description_tooltip": null,
       "layout": "IPY_MODEL_30a2a6823d2e4711b08a0ac1467ed340",
       "max": 1.0,
       "min": 0.0,
       "orientation": "horizontal",
       "style": "IPY_MODEL_4811b7dc81a7452da0adbc32823531a4",
       "value": 1.0
      }
     },
     "4811b7dc81a7452da0adbc32823531a4": {
      "model_module": "@jupyter-widgets/controls",
      "model_module_version": "1.5.0",
      "model_name": "ProgressStyleModel",
      "state": {
       "_model_module": "@jupyter-widgets/controls",
       "_model_module_version": "1.5.0",
       "_model_name": "ProgressStyleModel",
       "_view_count": null,
       "_view_module": "@jupyter-widgets/base",
       "_view_module_version": "1.2.0",
       "_view_name": "StyleView",
       "bar_color": null,
       "description_width": ""
      }
     },
     "4f8a871c04844adabbc64df87ab17d2f": {
      "model_module": "@jupyter-widgets/controls",
      "model_module_version": "1.5.0",
      "model_name": "ProgressStyleModel",
      "state": {
       "_model_module": "@jupyter-widgets/controls",
       "_model_module_version": "1.5.0",
       "_model_name": "ProgressStyleModel",
       "_view_count": null,
       "_view_module": "@jupyter-widgets/base",
       "_view_module_version": "1.2.0",
       "_view_name": "StyleView",
       "bar_color": null,
       "description_width": ""
      }
     },
     "61cd9c937ca54368b0a91d9039b2e590": {
      "model_module": "@jupyter-widgets/controls",
      "model_module_version": "1.5.0",
      "model_name": "LabelModel",
      "state": {
       "_dom_classes": [],
       "_model_module": "@jupyter-widgets/controls",
       "_model_module_version": "1.5.0",
       "_model_name": "LabelModel",
       "_view_count": null,
       "_view_module": "@jupyter-widgets/controls",
       "_view_module_version": "1.5.0",
       "_view_name": "LabelView",
       "description": "",
       "description_tooltip": null,
       "layout": "IPY_MODEL_b59be33c2fee4ac7b5a481c5acc2c9de",
       "placeholder": "​",
       "style": "IPY_MODEL_11bea6d1a2684aeb80a6f5ebf0b31758",
       "value": "0.051 MB of 0.051 MB uploaded (0.000 MB deduped)\r"
      }
     },
     "80be22b2a9c14911ab1c38f05421d951": {
      "model_module": "@jupyter-widgets/controls",
      "model_module_version": "1.5.0",
      "model_name": "DescriptionStyleModel",
      "state": {
       "_model_module": "@jupyter-widgets/controls",
       "_model_module_version": "1.5.0",
       "_model_name": "DescriptionStyleModel",
       "_view_count": null,
       "_view_module": "@jupyter-widgets/base",
       "_view_module_version": "1.2.0",
       "_view_name": "StyleView",
       "description_width": ""
      }
     },
     "872e6ea7987b4eadb0cf0c067287ec09": {
      "model_module": "@jupyter-widgets/base",
      "model_module_version": "1.2.0",
      "model_name": "LayoutModel",
      "state": {
       "_model_module": "@jupyter-widgets/base",
       "_model_module_version": "1.2.0",
       "_model_name": "LayoutModel",
       "_view_count": null,
       "_view_module": "@jupyter-widgets/base",
       "_view_module_version": "1.2.0",
       "_view_name": "LayoutView",
       "align_content": null,
       "align_items": null,
       "align_self": null,
       "border": null,
       "bottom": null,
       "display": null,
       "flex": null,
       "flex_flow": null,
       "grid_area": null,
       "grid_auto_columns": null,
       "grid_auto_flow": null,
       "grid_auto_rows": null,
       "grid_column": null,
       "grid_gap": null,
       "grid_row": null,
       "grid_template_areas": null,
       "grid_template_columns": null,
       "grid_template_rows": null,
       "height": null,
       "justify_content": null,
       "justify_items": null,
       "left": null,
       "margin": null,
       "max_height": null,
       "max_width": null,
       "min_height": null,
       "min_width": null,
       "object_fit": null,
       "object_position": null,
       "order": null,
       "overflow": null,
       "overflow_x": null,
       "overflow_y": null,
       "padding": null,
       "right": null,
       "top": null,
       "visibility": null,
       "width": null
      }
     },
     "9e688bab7db144fd848a900751140c97": {
      "model_module": "@jupyter-widgets/controls",
      "model_module_version": "1.5.0",
      "model_name": "VBoxModel",
      "state": {
       "_dom_classes": [],
       "_model_module": "@jupyter-widgets/controls",
       "_model_module_version": "1.5.0",
       "_model_name": "VBoxModel",
       "_view_count": null,
       "_view_module": "@jupyter-widgets/controls",
       "_view_module_version": "1.5.0",
       "_view_name": "VBoxView",
       "box_style": "",
       "children": [
        "IPY_MODEL_d28735756beb44d18dbdbe9de5e13200",
        "IPY_MODEL_0dad982aba6d45a4851b701dcf649e59"
       ],
       "layout": "IPY_MODEL_1c73e4d7431f4f26a1e23422316e7624"
      }
     },
     "b59be33c2fee4ac7b5a481c5acc2c9de": {
      "model_module": "@jupyter-widgets/base",
      "model_module_version": "1.2.0",
      "model_name": "LayoutModel",
      "state": {
       "_model_module": "@jupyter-widgets/base",
       "_model_module_version": "1.2.0",
       "_model_name": "LayoutModel",
       "_view_count": null,
       "_view_module": "@jupyter-widgets/base",
       "_view_module_version": "1.2.0",
       "_view_name": "LayoutView",
       "align_content": null,
       "align_items": null,
       "align_self": null,
       "border": null,
       "bottom": null,
       "display": null,
       "flex": null,
       "flex_flow": null,
       "grid_area": null,
       "grid_auto_columns": null,
       "grid_auto_flow": null,
       "grid_auto_rows": null,
       "grid_column": null,
       "grid_gap": null,
       "grid_row": null,
       "grid_template_areas": null,
       "grid_template_columns": null,
       "grid_template_rows": null,
       "height": null,
       "justify_content": null,
       "justify_items": null,
       "left": null,
       "margin": null,
       "max_height": null,
       "max_width": null,
       "min_height": null,
       "min_width": null,
       "object_fit": null,
       "object_position": null,
       "order": null,
       "overflow": null,
       "overflow_x": null,
       "overflow_y": null,
       "padding": null,
       "right": null,
       "top": null,
       "visibility": null,
       "width": null
      }
     },
     "d15ea4f0f3234c569c34bd50f30e6835": {
      "model_module": "@jupyter-widgets/base",
      "model_module_version": "1.2.0",
      "model_name": "LayoutModel",
      "state": {
       "_model_module": "@jupyter-widgets/base",
       "_model_module_version": "1.2.0",
       "_model_name": "LayoutModel",
       "_view_count": null,
       "_view_module": "@jupyter-widgets/base",
       "_view_module_version": "1.2.0",
       "_view_name": "LayoutView",
       "align_content": null,
       "align_items": null,
       "align_self": null,
       "border": null,
       "bottom": null,
       "display": null,
       "flex": null,
       "flex_flow": null,
       "grid_area": null,
       "grid_auto_columns": null,
       "grid_auto_flow": null,
       "grid_auto_rows": null,
       "grid_column": null,
       "grid_gap": null,
       "grid_row": null,
       "grid_template_areas": null,
       "grid_template_columns": null,
       "grid_template_rows": null,
       "height": null,
       "justify_content": null,
       "justify_items": null,
       "left": null,
       "margin": null,
       "max_height": null,
       "max_width": null,
       "min_height": null,
       "min_width": null,
       "object_fit": null,
       "object_position": null,
       "order": null,
       "overflow": null,
       "overflow_x": null,
       "overflow_y": null,
       "padding": null,
       "right": null,
       "top": null,
       "visibility": null,
       "width": null
      }
     },
     "d28735756beb44d18dbdbe9de5e13200": {
      "model_module": "@jupyter-widgets/controls",
      "model_module_version": "1.5.0",
      "model_name": "LabelModel",
      "state": {
       "_dom_classes": [],
       "_model_module": "@jupyter-widgets/controls",
       "_model_module_version": "1.5.0",
       "_model_name": "LabelModel",
       "_view_count": null,
       "_view_module": "@jupyter-widgets/controls",
       "_view_module_version": "1.5.0",
       "_view_name": "LabelView",
       "description": "",
       "description_tooltip": null,
       "layout": "IPY_MODEL_872e6ea7987b4eadb0cf0c067287ec09",
       "placeholder": "​",
       "style": "IPY_MODEL_80be22b2a9c14911ab1c38f05421d951",
       "value": ""
      }
     }
    },
    "version_major": 2,
    "version_minor": 0
   }
  }
 },
 "nbformat": 4,
 "nbformat_minor": 5
}
