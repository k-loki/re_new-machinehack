{
 "cells": [
  {
   "cell_type": "code",
   "execution_count": 1,
   "metadata": {},
   "outputs": [],
   "source": [
    "import numpy as np\n",
    "import pandas as pd\n",
    "import seaborn as sns\n",
    "import matplotlib.pyplot as plt\n",
    "from sklearn.metrics import mean_absolute_percentage_error as mape\n",
    "from sklearn.metrics import mean_squared_error as mse"
   ]
  },
  {
   "cell_type": "code",
   "execution_count": 2,
   "metadata": {},
   "outputs": [
    {
     "data": {
      "text/plain": [
       "(909604,)"
      ]
     },
     "execution_count": 2,
     "metadata": {},
     "output_type": "execute_result"
    }
   ],
   "source": [
    "train_data = pd.read_csv('../data/raw/train.csv')\n",
    "target = train_data['Target']\n",
    "target.shape"
   ]
  },
  {
   "cell_type": "code",
   "execution_count": 3,
   "metadata": {},
   "outputs": [
    {
     "data": {
      "text/plain": [
       "Index(['timestamp', 'active_power_calculated_by_converter', 'active_power_raw',\n",
       "       'ambient_temperature', 'generator_speed', 'generator_winding_temp_max',\n",
       "       'grid_power10min_average', 'nc1_inside_temp', 'nacelle_temp',\n",
       "       'reactice_power_calculated_by_converter', 'reactive_power',\n",
       "       'wind_direction_raw', 'wind_speed_raw', 'wind_speed_turbulence',\n",
       "       'turbine_id', 'Target'],\n",
       "      dtype='object')"
      ]
     },
     "execution_count": 3,
     "metadata": {},
     "output_type": "execute_result"
    }
   ],
   "source": [
    "train_data.columns"
   ]
  },
  {
   "cell_type": "code",
   "execution_count": 4,
   "metadata": {},
   "outputs": [],
   "source": [
    "# no rel fts used...\n",
    "\n",
    "knn_tr_oof = pd.read_csv('../submissions/knn-3_train_cv.csv')\n",
    "knn_te_oof = pd.read_csv('../submissions/knn-3_test_cv.csv')\n",
    "\n",
    "# xt_50_tr_oof = pd.read_csv('../submissions/extratree reg 50_train_cv.csv')\n",
    "# xt_50_te_oof = pd.read_csv('../submissions/extratree reg 50_test_cv.csv')\n",
    "\n",
    "xt_65_tr_oof = pd.read_csv('../submissions/extratree reg 65_train_cv.csv')\n",
    "xt_65_te_oof = pd.read_csv('../submissions/extratree reg 65_test_cv.csv')\n",
    "\n",
    "lr_pf_tr_oof = pd.read_csv('../submissions/lr_pf_train_cv.csv')\n",
    "lr_pf_te_oof = pd.read_csv('../submissions/lr_pf_test_cv.csv')\n",
    "\n",
    "xgb_tr_oof = pd.read_csv('../submissions/baseline xgb_train_cv.csv')\n",
    "xgb_te_oof = pd.read_csv('../submissions/baseline xgb_test_cv.csv')\n",
    "\n",
    "lgb_tr_oof = pd.read_csv('../submissions/baseline lgb_train_cv.csv')\n",
    "lgb_te_oof = pd.read_csv('../submissions/baseline lgb_test_cv.csv')\n",
    "\n",
    "cb_tr_oof = pd.read_csv('../submissions/baseline cb_train_cv.csv')\n",
    "cb_te_oof = pd.read_csv('../submissions/baseline cb_test_cv.csv')\n",
    "\n",
    "# rel fts used...\n",
    "xt_50_rel_tr_oof = pd.read_csv('../submissions/train_xt_50_rel_fts_v1_oof.csv')\n",
    "xt_50_rel_te_oof = pd.read_csv('../submissions/test_xt_50_rel_fts_v1_oof.csv')\n",
    "\n",
    "lr_rel_tr_oof = pd.read_csv('../submissions/train_lr_rel_fts_v1_oof.csv')\n",
    "lr_rel_te_oof = pd.read_csv('../submissions/test_lr_rel_fts_v1_oof.csv')\n",
    "\n",
    "xgb_rel_tr_oof = pd.read_csv('../submissions/train_xgb_rel_fts_v1_oof.csv')\n",
    "xgb_rel_te_oof = pd.read_csv('../submissions/test_xgb_rel_fts_v1_oof.csv')"
   ]
  },
  {
   "cell_type": "code",
   "execution_count": 5,
   "metadata": {},
   "outputs": [
    {
     "data": {
      "text/plain": [
       "((909604, 9), (303202, 9))"
      ]
     },
     "execution_count": 5,
     "metadata": {},
     "output_type": "execute_result"
    }
   ],
   "source": [
    "tr = pd.concat([knn_tr_oof, xt_65_tr_oof, lr_pf_tr_oof, xgb_tr_oof, cb_tr_oof, lgb_tr_oof, xt_50_rel_tr_oof, lr_rel_tr_oof, xgb_rel_tr_oof], axis=1)\n",
    "te = pd.concat([knn_te_oof, xt_65_te_oof, lr_pf_te_oof, xgb_te_oof, cb_te_oof, lgb_te_oof, xt_50_rel_te_oof, lr_rel_te_oof, xgb_rel_te_oof], axis=1)\n",
    "\n",
    "tr.shape, te.shape"
   ]
  },
  {
   "cell_type": "code",
   "execution_count": 6,
   "metadata": {},
   "outputs": [
    {
     "data": {
      "text/html": [
       "<div>\n",
       "<style scoped>\n",
       "    .dataframe tbody tr th:only-of-type {\n",
       "        vertical-align: middle;\n",
       "    }\n",
       "\n",
       "    .dataframe tbody tr th {\n",
       "        vertical-align: top;\n",
       "    }\n",
       "\n",
       "    .dataframe thead th {\n",
       "        text-align: right;\n",
       "    }\n",
       "</style>\n",
       "<table border=\"1\" class=\"dataframe\">\n",
       "  <thead>\n",
       "    <tr style=\"text-align: right;\">\n",
       "      <th></th>\n",
       "      <th>knn</th>\n",
       "      <th>xt_65</th>\n",
       "      <th>lr_pf</th>\n",
       "      <th>xgb</th>\n",
       "      <th>cb</th>\n",
       "      <th>lgb</th>\n",
       "      <th>xt_50_rel</th>\n",
       "      <th>lr_rel</th>\n",
       "      <th>xgb_rel</th>\n",
       "    </tr>\n",
       "  </thead>\n",
       "  <tbody>\n",
       "    <tr>\n",
       "      <th>0</th>\n",
       "      <td>47.062932</td>\n",
       "      <td>47.052426</td>\n",
       "      <td>46.703342</td>\n",
       "      <td>45.965927</td>\n",
       "      <td>46.340031</td>\n",
       "      <td>46.381442</td>\n",
       "      <td>46.605309</td>\n",
       "      <td>46.855619</td>\n",
       "      <td>46.604042</td>\n",
       "    </tr>\n",
       "    <tr>\n",
       "      <th>1</th>\n",
       "      <td>45.975586</td>\n",
       "      <td>46.393675</td>\n",
       "      <td>45.801777</td>\n",
       "      <td>46.238602</td>\n",
       "      <td>45.943689</td>\n",
       "      <td>45.985656</td>\n",
       "      <td>46.132662</td>\n",
       "      <td>45.734109</td>\n",
       "      <td>45.794102</td>\n",
       "    </tr>\n",
       "    <tr>\n",
       "      <th>2</th>\n",
       "      <td>40.060520</td>\n",
       "      <td>40.104322</td>\n",
       "      <td>40.504172</td>\n",
       "      <td>40.534119</td>\n",
       "      <td>41.232814</td>\n",
       "      <td>40.481437</td>\n",
       "      <td>40.121551</td>\n",
       "      <td>40.900952</td>\n",
       "      <td>40.056274</td>\n",
       "    </tr>\n",
       "    <tr>\n",
       "      <th>3</th>\n",
       "      <td>46.291268</td>\n",
       "      <td>45.992248</td>\n",
       "      <td>45.118535</td>\n",
       "      <td>45.769348</td>\n",
       "      <td>46.119833</td>\n",
       "      <td>46.276130</td>\n",
       "      <td>45.908263</td>\n",
       "      <td>45.442595</td>\n",
       "      <td>46.351139</td>\n",
       "    </tr>\n",
       "    <tr>\n",
       "      <th>4</th>\n",
       "      <td>55.366199</td>\n",
       "      <td>54.049326</td>\n",
       "      <td>50.370361</td>\n",
       "      <td>55.147987</td>\n",
       "      <td>53.502856</td>\n",
       "      <td>54.149239</td>\n",
       "      <td>55.169074</td>\n",
       "      <td>49.447344</td>\n",
       "      <td>55.323101</td>\n",
       "    </tr>\n",
       "  </tbody>\n",
       "</table>\n",
       "</div>"
      ],
      "text/plain": [
       "         knn      xt_65      lr_pf        xgb         cb        lgb  \\\n",
       "0  47.062932  47.052426  46.703342  45.965927  46.340031  46.381442   \n",
       "1  45.975586  46.393675  45.801777  46.238602  45.943689  45.985656   \n",
       "2  40.060520  40.104322  40.504172  40.534119  41.232814  40.481437   \n",
       "3  46.291268  45.992248  45.118535  45.769348  46.119833  46.276130   \n",
       "4  55.366199  54.049326  50.370361  55.147987  53.502856  54.149239   \n",
       "\n",
       "   xt_50_rel     lr_rel    xgb_rel  \n",
       "0  46.605309  46.855619  46.604042  \n",
       "1  46.132662  45.734109  45.794102  \n",
       "2  40.121551  40.900952  40.056274  \n",
       "3  45.908263  45.442595  46.351139  \n",
       "4  55.169074  49.447344  55.323101  "
      ]
     },
     "execution_count": 6,
     "metadata": {},
     "output_type": "execute_result"
    }
   ],
   "source": [
    "tr.columns = ['knn', 'xt_65', 'lr_pf', 'xgb', 'cb', 'lgb', 'xt_50_rel', 'lr_rel', 'xgb_rel']\n",
    "te.columns = ['knn', 'xt_65', 'lr_pf', 'xgb', 'cb', 'lgb', 'xt_50_rel', 'lr_rel', 'xgb_rel']\n",
    "\n",
    "tr.head()"
   ]
  },
  {
   "cell_type": "code",
   "execution_count": 179,
   "metadata": {},
   "outputs": [
    {
     "data": {
      "text/plain": [
       "<AxesSubplot:>"
      ]
     },
     "execution_count": 179,
     "metadata": {},
     "output_type": "execute_result"
    },
    {
     "data": {
      "image/png": "[encoded data removed]",
      "text/plain": [
       "<Figure size 640x480 with 2 Axes>"
      ]
     },
     "metadata": {},
     "output_type": "display_data"
    }
   ],
   "source": [
    "sns.heatmap(tr.drop('lr_rel', axis=1).corr(), annot=True, cmap='rocket_r')"
   ]
  },
  {
   "cell_type": "code",
   "execution_count": 7,
   "metadata": {},
   "outputs": [
    {
     "data": {
      "text/plain": [
       "((727683, 9), (181921, 9), (727683,), (181921,))"
      ]
     },
     "execution_count": 7,
     "metadata": {},
     "output_type": "execute_result"
    }
   ],
   "source": [
    "from sklearn.model_selection import train_test_split\n",
    "\n",
    "X_train, X_val, y_train, y_val = train_test_split(tr, target, test_size=0.2, random_state=4567)\n",
    "X_train.shape, X_val.shape, y_train.shape, y_val.shape"
   ]
  },
  {
   "cell_type": "code",
   "execution_count": 8,
   "metadata": {},
   "outputs": [
    {
     "data": {
      "text/plain": [
       "Index(['knn', 'xt_65', 'lr_pf', 'xgb', 'cb', 'lgb', 'xt_50_rel', 'lr_rel',\n",
       "       'xgb_rel'],\n",
       "      dtype='object')"
      ]
     },
     "execution_count": 8,
     "metadata": {},
     "output_type": "execute_result"
    }
   ],
   "source": [
    "X_train.columns"
   ]
  },
  {
   "cell_type": "code",
   "execution_count": 9,
   "metadata": {},
   "outputs": [
    {
     "name": "stderr",
     "output_type": "stream",
     "text": [
      "<frozen importlib._bootstrap>:241: RuntimeWarning: numpy.ufunc size changed, may indicate binary incompatibility. Expected 216 from C header, got 232 from PyObject\n"
     ]
    }
   ],
   "source": [
    "from sklearn.ensemble import ExtraTreesRegressor, RandomForestRegressor\n",
    "from xgboost import XGBRegressor\n",
    "from lightgbm import LGBMRegressor\n",
    "from catboost import CatBoostRegressor\n",
    "from sklearn.linear_model import LinearRegression\n",
    "from sklearn.svm import SVR\n",
    "from sklearn.model_selection import cross_val_score\n",
    "from sklearn.metrics import make_scorer"
   ]
  },
  {
   "cell_type": "code",
   "execution_count": 10,
   "metadata": {},
   "outputs": [],
   "source": [
    "xgb = XGBRegressor(n_estimators=1000, tree_method='gpu_hist', gpu_id=0)\n",
    "lgb = LGBMRegressor(n_estimators=1000)\n",
    "lr = LinearRegression()\n",
    "rf = RandomForestRegressor(n_estimators=10)\n",
    "xt = ExtraTreesRegressor(n_estimators=10)\n",
    "cb = CatBoostRegressor(verbose=1000, n_estimators=1000)"
   ]
  },
  {
   "cell_type": "code",
   "execution_count": 12,
   "metadata": {},
   "outputs": [
    {
     "name": "stdout",
     "output_type": "stream",
     "text": [
      "0.010654454579451718\n"
     ]
    }
   ],
   "source": [
    "lr.fit(X_train, y_train)\n",
    "lr_preds = lr.predict(X_val)\n",
    "print(mape(y_val, lr_preds))"
   ]
  },
  {
   "cell_type": "code",
   "execution_count": 13,
   "metadata": {},
   "outputs": [
    {
     "name": "stdout",
     "output_type": "stream",
     "text": [
      "0.010755865973035574\n"
     ]
    }
   ],
   "source": [
    "xgb.fit(X_train, y_train)\n",
    "xgb_preds = xgb.predict(X_val)\n",
    "print(mape(y_val, xgb_preds))"
   ]
  },
  {
   "cell_type": "code",
   "execution_count": 14,
   "metadata": {},
   "outputs": [
    {
     "name": "stdout",
     "output_type": "stream",
     "text": [
      "Learning rate set to 0.115976\n",
      "0:\tlearn: 2.3678157\ttotal: 246ms\tremaining: 4m 6s\n",
      "999:\tlearn: 0.7622257\ttotal: 1m 43s\tremaining: 0us\n",
      "0.010589519108515416\n"
     ]
    }
   ],
   "source": [
    "cb.fit(X_train, y_train)\n",
    "cb_preds = cb.predict(X_val)\n",
    "print(mape(y_val, cb_preds))"
   ]
  },
  {
   "cell_type": "code",
   "execution_count": 15,
   "metadata": {},
   "outputs": [
    {
     "name": "stdout",
     "output_type": "stream",
     "text": [
      "0.010594439467791806\n"
     ]
    }
   ],
   "source": [
    "lgb.fit(X_train, y_train)\n",
    "lgb_preds = lgb.predict(X_val)\n",
    "print(mape(y_val, lgb_preds))"
   ]
  },
  {
   "cell_type": "code",
   "execution_count": 16,
   "metadata": {},
   "outputs": [
    {
     "name": "stdout",
     "output_type": "stream",
     "text": [
      "0.011379223925630073\n"
     ]
    }
   ],
   "source": [
    "xt.fit(X_train, y_train)\n",
    "xt_preds = xt.predict(X_val)\n",
    "print(mape(y_val, xt_preds))"
   ]
  },
  {
   "cell_type": "code",
   "execution_count": 17,
   "metadata": {},
   "outputs": [
    {
     "name": "stdout",
     "output_type": "stream",
     "text": [
      "0.011344509998713065\n"
     ]
    }
   ],
   "source": [
    "rf.fit(X_train, y_train)\n",
    "rf_preds = rf.predict(X_val)\n",
    "print(mape(y_val, rf_preds))"
   ]
  },
  {
   "cell_type": "code",
   "execution_count": 18,
   "metadata": {},
   "outputs": [],
   "source": [
    "# sns.heatmap([lr_preds, xgb_preds, lgb_preds, rf_preds], annot=True)"
   ]
  },
  {
   "cell_type": "code",
   "execution_count": 128,
   "metadata": {},
   "outputs": [
    {
     "data": {
      "text/plain": [
       "0.014899396344141657"
      ]
     },
     "execution_count": 128,
     "metadata": {},
     "output_type": "execute_result"
    }
   ],
   "source": [
    "mape(tr['xt_65', 'xt_50_rel'].mean(axis=1), target)"
   ]
  },
  {
   "cell_type": "code",
   "execution_count": 172,
   "metadata": {},
   "outputs": [
    {
     "data": {
      "text/plain": [
       "(4, 181921)"
      ]
     },
     "execution_count": 172,
     "metadata": {},
     "output_type": "execute_result"
    }
   ],
   "source": [
    "all_preds = [lr_preds, xgb_preds, lgb_preds, cb_preds, rf_preds]\n",
    "all_preds = np.array(all_preds)\n",
    "all_preds.shape"
   ]
  },
  {
   "cell_type": "code",
   "execution_count": 173,
   "metadata": {},
   "outputs": [
    {
     "data": {
      "text/plain": [
       "0.01063067879330411"
      ]
     },
     "execution_count": 173,
     "metadata": {},
     "output_type": "execute_result"
    }
   ],
   "source": [
    "mape(all_preds.mean(axis=0), y_val)"
   ]
  },
  {
   "cell_type": "code",
   "execution_count": 175,
   "metadata": {},
   "outputs": [
    {
     "data": {
      "text/plain": [
       "(array([0.04092107, 0.04108201, 0.04085245, 0.04099423, 0.04109068]),\n",
       " 0.040988086528216915)"
      ]
     },
     "execution_count": 175,
     "metadata": {},
     "output_type": "execute_result"
    }
   ],
   "source": [
    "from sklearn.model_selection import cross_val_score\n",
    "from sklearn.metrics import make_scorer\n",
    "mape_scorer = make_scorer(mape)\n",
    "\n",
    "cv = cross_val_score(lr, all_preds.reshape(-1, 4), y_val, cv=5, scoring=mape_scorer)\n",
    "cv, cv.mean()"
   ]
  },
  {
   "cell_type": "code",
   "execution_count": 195,
   "metadata": {},
   "outputs": [
    {
     "data": {
      "text/html": [
       "<div>\n",
       "<style scoped>\n",
       "    .dataframe tbody tr th:only-of-type {\n",
       "        vertical-align: middle;\n",
       "    }\n",
       "\n",
       "    .dataframe tbody tr th {\n",
       "        vertical-align: top;\n",
       "    }\n",
       "\n",
       "    .dataframe thead th {\n",
       "        text-align: right;\n",
       "    }\n",
       "</style>\n",
       "<table border=\"1\" class=\"dataframe\">\n",
       "  <thead>\n",
       "    <tr style=\"text-align: right;\">\n",
       "      <th></th>\n",
       "      <th>Target</th>\n",
       "    </tr>\n",
       "  </thead>\n",
       "  <tbody>\n",
       "    <tr>\n",
       "      <th>878743</th>\n",
       "      <td>40.743350</td>\n",
       "    </tr>\n",
       "    <tr>\n",
       "      <th>359531</th>\n",
       "      <td>47.509548</td>\n",
       "    </tr>\n",
       "    <tr>\n",
       "      <th>284191</th>\n",
       "      <td>46.539162</td>\n",
       "    </tr>\n",
       "    <tr>\n",
       "      <th>188980</th>\n",
       "      <td>45.845334</td>\n",
       "    </tr>\n",
       "    <tr>\n",
       "      <th>776594</th>\n",
       "      <td>46.273487</td>\n",
       "    </tr>\n",
       "    <tr>\n",
       "      <th>...</th>\n",
       "      <td>...</td>\n",
       "    </tr>\n",
       "    <tr>\n",
       "      <th>57321</th>\n",
       "      <td>46.398241</td>\n",
       "    </tr>\n",
       "    <tr>\n",
       "      <th>674088</th>\n",
       "      <td>46.233584</td>\n",
       "    </tr>\n",
       "    <tr>\n",
       "      <th>569434</th>\n",
       "      <td>48.534585</td>\n",
       "    </tr>\n",
       "    <tr>\n",
       "      <th>619893</th>\n",
       "      <td>51.843482</td>\n",
       "    </tr>\n",
       "    <tr>\n",
       "      <th>658494</th>\n",
       "      <td>43.792475</td>\n",
       "    </tr>\n",
       "  </tbody>\n",
       "</table>\n",
       "<p>181921 rows × 1 columns</p>\n",
       "</div>"
      ],
      "text/plain": [
       "           Target\n",
       "878743  40.743350\n",
       "359531  47.509548\n",
       "284191  46.539162\n",
       "188980  45.845334\n",
       "776594  46.273487\n",
       "...           ...\n",
       "57321   46.398241\n",
       "674088  46.233584\n",
       "569434  48.534585\n",
       "619893  51.843482\n",
       "658494  43.792475\n",
       "\n",
       "[181921 rows x 1 columns]"
      ]
     },
     "execution_count": 195,
     "metadata": {},
     "output_type": "execute_result"
    }
   ],
   "source": [
    "x = all_preds.mean(axis=0)\n",
    "mydf = pd.DataFrame(x, index=X_val.index, columns=['Target'])\n",
    "mydf"
   ]
  },
  {
   "cell_type": "code",
   "execution_count": 196,
   "metadata": {},
   "outputs": [
    {
     "data": {
      "text/plain": [
       "Index(['Target'], dtype='object')"
      ]
     },
     "execution_count": 196,
     "metadata": {},
     "output_type": "execute_result"
    }
   ],
   "source": [
    "mydf.columns"
   ]
  },
  {
   "cell_type": "code",
   "execution_count": 202,
   "metadata": {},
   "outputs": [
    {
     "data": {
      "text/plain": [
       "(303202, 15)"
      ]
     },
     "execution_count": 202,
     "metadata": {},
     "output_type": "execute_result"
    }
   ],
   "source": [
    "test_df = pd.read_csv('../data/raw/test.csv')\n",
    "test_df.shape"
   ]
  },
  {
   "cell_type": "code",
   "execution_count": 203,
   "metadata": {},
   "outputs": [
    {
     "name": "stdout",
     "output_type": "stream",
     "text": [
      "<class 'pandas.core.frame.DataFrame'>\n",
      "RangeIndex: 303202 entries, 0 to 303201\n",
      "Data columns (total 15 columns):\n",
      " #   Column                                  Non-Null Count   Dtype  \n",
      "---  ------                                  --------------   -----  \n",
      " 0   timestamp                               303202 non-null  object \n",
      " 1   active_power_calculated_by_converter    303202 non-null  float64\n",
      " 2   active_power_raw                        303202 non-null  float64\n",
      " 3   ambient_temperature                     303202 non-null  float64\n",
      " 4   generator_speed                         303202 non-null  float64\n",
      " 5   generator_winding_temp_max              303202 non-null  float64\n",
      " 6   grid_power10min_average                 303202 non-null  float64\n",
      " 7   nc1_inside_temp                         303202 non-null  float64\n",
      " 8   nacelle_temp                            303202 non-null  float64\n",
      " 9   reactice_power_calculated_by_converter  303202 non-null  float64\n",
      " 10  reactive_power                          303202 non-null  float64\n",
      " 11  wind_direction_raw                      303202 non-null  float64\n",
      " 12  wind_speed_raw                          303202 non-null  float64\n",
      " 13  wind_speed_turbulence                   303202 non-null  float64\n",
      " 14  turbine_id                              303202 non-null  object \n",
      "dtypes: float64(13), object(2)\n",
      "memory usage: 34.7+ MB\n"
     ]
    }
   ],
   "source": [
    "test_df.info()"
   ]
  },
  {
   "cell_type": "code",
   "execution_count": null,
   "metadata": {},
   "outputs": [],
   "source": []
  }
 ],
 "metadata": {
  "kernelspec": {
   "display_name": "Python 3.10.5 64-bit",
   "language": "python",
   "name": "python3"
  },
  "language_info": {
   "codemirror_mode": {
    "name": "ipython",
    "version": 3
   },
   "file_extension": ".py",
   "mimetype": "text/x-python",
   "name": "python",
   "nbconvert_exporter": "python",
   "pygments_lexer": "ipython3",
   "version": "3.10.5"
  },
  "orig_nbformat": 4,
  "vscode": {
   "interpreter": {
    "hash": "186db977f413ae6598820b658aed1651932768522d0652c07d949b3f5fb38b63"
   }
  }
 },
 "nbformat": 4,
 "nbformat_minor": 2
}
