{
 "cells": [
  {
   "cell_type": "markdown",
   "metadata": {},
   "source": [
    "## Load data and imports"
   ]
  },
  {
   "cell_type": "code",
   "execution_count": 18,
   "metadata": {},
   "outputs": [],
   "source": [
    "import pandas as pd\n",
    "import matplotlib.pyplot as plt\n",
    "import seaborn as sns\n",
    "import numpy as np\n",
    "\n",
    "from sklearn.metrics import mean_absolute_percentage_error as mape\n",
    "from sklearn.metrics import mean_squared_error as mse\n",
    "\n",
    "import warnings\n",
    "warnings.filterwarnings('ignore')"
   ]
  },
  {
   "cell_type": "code",
   "execution_count": 19,
   "metadata": {},
   "outputs": [
    {
     "data": {
      "text/html": [
       "<div>\n",
       "<style scoped>\n",
       "    .dataframe tbody tr th:only-of-type {\n",
       "        vertical-align: middle;\n",
       "    }\n",
       "\n",
       "    .dataframe tbody tr th {\n",
       "        vertical-align: top;\n",
       "    }\n",
       "\n",
       "    .dataframe thead th {\n",
       "        text-align: right;\n",
       "    }\n",
       "</style>\n",
       "<table border=\"1\" class=\"dataframe\">\n",
       "  <thead>\n",
       "    <tr style=\"text-align: right;\">\n",
       "      <th></th>\n",
       "      <th>timestamp</th>\n",
       "      <th>active_power_calculated_by_converter</th>\n",
       "      <th>active_power_raw</th>\n",
       "      <th>ambient_temperature</th>\n",
       "      <th>generator_speed</th>\n",
       "      <th>generator_winding_temp_max</th>\n",
       "      <th>grid_power10min_average</th>\n",
       "      <th>nc1_inside_temp</th>\n",
       "      <th>nacelle_temp</th>\n",
       "      <th>reactice_power_calculated_by_converter</th>\n",
       "      <th>reactive_power</th>\n",
       "      <th>wind_direction_raw</th>\n",
       "      <th>wind_speed_raw</th>\n",
       "      <th>wind_speed_turbulence</th>\n",
       "      <th>turbine_id</th>\n",
       "      <th>Target</th>\n",
       "    </tr>\n",
       "  </thead>\n",
       "  <tbody>\n",
       "    <tr>\n",
       "      <th>0</th>\n",
       "      <td>2021-02-19 20:18:00</td>\n",
       "      <td>816.636759</td>\n",
       "      <td>834.917206</td>\n",
       "      <td>31.694380</td>\n",
       "      <td>1159.616602</td>\n",
       "      <td>65.954214</td>\n",
       "      <td>917.897085</td>\n",
       "      <td>31.881972</td>\n",
       "      <td>31.504713</td>\n",
       "      <td>141.457644</td>\n",
       "      <td>165.501518</td>\n",
       "      <td>280.864782</td>\n",
       "      <td>7.057000</td>\n",
       "      <td>0.544082</td>\n",
       "      <td>Turbine_108</td>\n",
       "      <td>47.582787</td>\n",
       "    </tr>\n",
       "    <tr>\n",
       "      <th>1</th>\n",
       "      <td>2021-04-27 04:55:00</td>\n",
       "      <td>419.107829</td>\n",
       "      <td>421.050873</td>\n",
       "      <td>12.894948</td>\n",
       "      <td>928.747996</td>\n",
       "      <td>59.571319</td>\n",
       "      <td>445.554250</td>\n",
       "      <td>32.423705</td>\n",
       "      <td>32.755770</td>\n",
       "      <td>89.186457</td>\n",
       "      <td>113.835236</td>\n",
       "      <td>299.552460</td>\n",
       "      <td>5.474937</td>\n",
       "      <td>0.469031</td>\n",
       "      <td>Turbine_18</td>\n",
       "      <td>46.070328</td>\n",
       "    </tr>\n",
       "    <tr>\n",
       "      <th>2</th>\n",
       "      <td>2021-01-25 06:26:00</td>\n",
       "      <td>1303.530558</td>\n",
       "      <td>1337.566142</td>\n",
       "      <td>16.648388</td>\n",
       "      <td>1201.219775</td>\n",
       "      <td>61.270498</td>\n",
       "      <td>1364.716003</td>\n",
       "      <td>11.446849</td>\n",
       "      <td>18.332985</td>\n",
       "      <td>230.622309</td>\n",
       "      <td>281.452253</td>\n",
       "      <td>84.960106</td>\n",
       "      <td>8.092457</td>\n",
       "      <td>0.622318</td>\n",
       "      <td>Turbine_105</td>\n",
       "      <td>39.989236</td>\n",
       "    </tr>\n",
       "    <tr>\n",
       "      <th>3</th>\n",
       "      <td>2021-10-30 03:47:00</td>\n",
       "      <td>61.494872</td>\n",
       "      <td>53.481008</td>\n",
       "      <td>28.388141</td>\n",
       "      <td>769.806122</td>\n",
       "      <td>40.674348</td>\n",
       "      <td>14.324897</td>\n",
       "      <td>34.253204</td>\n",
       "      <td>32.662889</td>\n",
       "      <td>66.211015</td>\n",
       "      <td>75.017531</td>\n",
       "      <td>87.261119</td>\n",
       "      <td>4.071032</td>\n",
       "      <td>0.760719</td>\n",
       "      <td>Turbine_15</td>\n",
       "      <td>46.056587</td>\n",
       "    </tr>\n",
       "    <tr>\n",
       "      <th>4</th>\n",
       "      <td>2021-03-15 00:39:00</td>\n",
       "      <td>593.514364</td>\n",
       "      <td>611.659108</td>\n",
       "      <td>31.519527</td>\n",
       "      <td>1046.916768</td>\n",
       "      <td>64.341763</td>\n",
       "      <td>599.020172</td>\n",
       "      <td>32.405586</td>\n",
       "      <td>31.466387</td>\n",
       "      <td>137.163938</td>\n",
       "      <td>160.202421</td>\n",
       "      <td>313.724818</td>\n",
       "      <td>6.357943</td>\n",
       "      <td>0.346068</td>\n",
       "      <td>Turbine_01</td>\n",
       "      <td>54.346095</td>\n",
       "    </tr>\n",
       "  </tbody>\n",
       "</table>\n",
       "</div>"
      ],
      "text/plain": [
       "             timestamp  active_power_calculated_by_converter  \\\n",
       "0  2021-02-19 20:18:00                            816.636759   \n",
       "1  2021-04-27 04:55:00                            419.107829   \n",
       "2  2021-01-25 06:26:00                           1303.530558   \n",
       "3  2021-10-30 03:47:00                             61.494872   \n",
       "4  2021-03-15 00:39:00                            593.514364   \n",
       "\n",
       "   active_power_raw  ambient_temperature  generator_speed  \\\n",
       "0        834.917206            31.694380      1159.616602   \n",
       "1        421.050873            12.894948       928.747996   \n",
       "2       1337.566142            16.648388      1201.219775   \n",
       "3         53.481008            28.388141       769.806122   \n",
       "4        611.659108            31.519527      1046.916768   \n",
       "\n",
       "   generator_winding_temp_max  grid_power10min_average  nc1_inside_temp  \\\n",
       "0                   65.954214               917.897085        31.881972   \n",
       "1                   59.571319               445.554250        32.423705   \n",
       "2                   61.270498              1364.716003        11.446849   \n",
       "3                   40.674348                14.324897        34.253204   \n",
       "4                   64.341763               599.020172        32.405586   \n",
       "\n",
       "   nacelle_temp  reactice_power_calculated_by_converter  reactive_power  \\\n",
       "0     31.504713                              141.457644      165.501518   \n",
       "1     32.755770                               89.186457      113.835236   \n",
       "2     18.332985                              230.622309      281.452253   \n",
       "3     32.662889                               66.211015       75.017531   \n",
       "4     31.466387                              137.163938      160.202421   \n",
       "\n",
       "   wind_direction_raw  wind_speed_raw  wind_speed_turbulence   turbine_id  \\\n",
       "0          280.864782        7.057000               0.544082  Turbine_108   \n",
       "1          299.552460        5.474937               0.469031   Turbine_18   \n",
       "2           84.960106        8.092457               0.622318  Turbine_105   \n",
       "3           87.261119        4.071032               0.760719   Turbine_15   \n",
       "4          313.724818        6.357943               0.346068   Turbine_01   \n",
       "\n",
       "      Target  \n",
       "0  47.582787  \n",
       "1  46.070328  \n",
       "2  39.989236  \n",
       "3  46.056587  \n",
       "4  54.346095  "
      ]
     },
     "execution_count": 19,
     "metadata": {},
     "output_type": "execute_result"
    }
   ],
   "source": [
    "train = pd.read_csv('../data/raw/train.csv')\n",
    "test = pd.read_csv('../data/raw/test.csv')\n",
    "train.head()"
   ]
  },
  {
   "cell_type": "code",
   "execution_count": 20,
   "metadata": {},
   "outputs": [
    {
     "data": {
      "text/plain": [
       "Index(['timestamp', 'active_power_calculated_by_converter', 'active_power_raw',\n",
       "       'ambient_temperature', 'generator_speed', 'generator_winding_temp_max',\n",
       "       'grid_power10min_average', 'nc1_inside_temp', 'nacelle_temp',\n",
       "       'reactice_power_calculated_by_converter', 'reactive_power',\n",
       "       'wind_direction_raw', 'wind_speed_raw', 'wind_speed_turbulence',\n",
       "       'turbine_id', 'Target'],\n",
       "      dtype='object')"
      ]
     },
     "execution_count": 20,
     "metadata": {},
     "output_type": "execute_result"
    }
   ],
   "source": [
    "org_cols = train.columns\n",
    "org_cols"
   ]
  },
  {
   "cell_type": "code",
   "execution_count": 21,
   "metadata": {},
   "outputs": [],
   "source": [
    "power_fts = [\n",
    "    'active_power_calculated_by_converter',\n",
    "    'active_power_raw',\n",
    "    'ambient_temperature',\n",
    "    'generator_speed',\n",
    "    'generator_winding_temp_max',\n",
    "    'grid_power10min_average'\n",
    "]\n",
    "\n",
    "temp_fts = [\n",
    "    'nc1_inside_temp',\n",
    "    'nacelle_temp',\n",
    "    'reactice_power_calculated_by_converter',\n",
    "    'reactive_power',\n",
    "    'wind_direction_raw',\n",
    "    'wind_speed_raw',\n",
    "    'wind_speed_turbulence'\n",
    "]"
   ]
  },
  {
   "cell_type": "code",
   "execution_count": 74,
   "metadata": {},
   "outputs": [
    {
     "name": "stdout",
     "output_type": "stream",
     "text": [
      "XGBRegressor(base_score=None, booster=None, callbacks=None,\n",
      "             colsample_bylevel=None, colsample_bynode=None,\n",
      "             colsample_bytree=None, early_stopping_rounds=None,\n",
      "             enable_categorical=False, eval_metric=None, gamma=None, gpu_id=0,\n",
      "             grow_policy=None, importance_type=None,\n",
      "             interaction_constraints=None, learning_rate=None, max_bin=None,\n",
      "             max_cat_to_onehot=None, max_delta_step=None, max_depth=None,\n",
      "             max_leaves=None, min_child_weight=None, missing=nan,\n",
      "             monotone_constraints=None, n_estimators=3000, n_jobs=None,\n",
      "             num_parallel_tree=None, predictor=None, random_state=4567,\n",
      "             reg_alpha=None, reg_lambda=None, ...)\n"
     ]
    }
   ],
   "source": [
    "from xgboost import XGBRegressor\n",
    "xgb = XGBRegressor(tree_method='gpu_hist', gpu_id=0, random_state=4567, n_estimators=3000)\n",
    "print(xgb)"
   ]
  },
  {
   "cell_type": "code",
   "execution_count": 23,
   "metadata": {},
   "outputs": [],
   "source": [
    "from sklearn.feature_selection import mutual_info_regression\n",
    "from feature_engine.creation import RelativeFeatures\n"
   ]
  },
  {
   "cell_type": "code",
   "execution_count": 24,
   "metadata": {},
   "outputs": [],
   "source": [
    "train = train.where(train.values != 0, 0.000_001)\n",
    "test = test.where(test.values != 0, 0.000_001)"
   ]
  },
  {
   "cell_type": "code",
   "execution_count": 25,
   "metadata": {},
   "outputs": [
    {
     "data": {
      "text/plain": [
       "((909604, 142), (303202, 141))"
      ]
     },
     "execution_count": 25,
     "metadata": {},
     "output_type": "execute_result"
    }
   ],
   "source": [
    "rf = RelativeFeatures(variables=power_fts, reference=temp_fts, func=['sub', 'div', 'mul'])\n",
    "target = train.Target\n",
    "train = rf.fit_transform(train.drop(['Target'], axis=1))\n",
    "test = rf.transform(test)\n",
    "train['Target'] = target\n",
    "\n",
    "train.shape, test.shape"
   ]
  },
  {
   "cell_type": "code",
   "execution_count": 26,
   "metadata": {},
   "outputs": [
    {
     "name": "stdout",
     "output_type": "stream",
     "text": [
      "<class 'pandas.core.frame.DataFrame'>\n",
      "RangeIndex: 909604 entries, 0 to 909603\n",
      "Columns: 142 entries, timestamp to Target\n",
      "dtypes: float64(140), object(2)\n",
      "memory usage: 985.4+ MB\n",
      "<class 'pandas.core.frame.DataFrame'>\n",
      "RangeIndex: 303202 entries, 0 to 303201\n",
      "Columns: 141 entries, timestamp to grid_power10min_average_mul_wind_speed_turbulence\n",
      "dtypes: float64(139), object(2)\n",
      "memory usage: 326.2+ MB\n"
     ]
    },
    {
     "data": {
      "text/plain": [
       "(None, None)"
      ]
     },
     "execution_count": 26,
     "metadata": {},
     "output_type": "execute_result"
    }
   ],
   "source": [
    "train.info(), test.info()"
   ]
  },
  {
   "cell_type": "code",
   "execution_count": 27,
   "metadata": {},
   "outputs": [
    {
     "data": {
      "text/plain": [
       "generator_speed_div_reactive_power                         8.625707e+44\n",
       "grid_power10min_average_div_reactive_power                 7.041014e+44\n",
       "active_power_raw_div_reactive_power                        4.389797e+44\n",
       "active_power_calculated_by_converter_div_reactive_power    3.520137e+44\n",
       "generator_winding_temp_max_div_reactive_power              1.204655e+44\n",
       "                                                               ...     \n",
       "generator_winding_temp_max_div_nc1_inside_temp             4.067042e-01\n",
       "generator_winding_temp_max_div_nacelle_temp                3.400218e-01\n",
       "wind_speed_turbulence                                      3.175132e-01\n",
       "ambient_temperature_div_nc1_inside_temp                    2.499078e-01\n",
       "ambient_temperature_div_nacelle_temp                       2.363909e-01\n",
       "Length: 140, dtype: float64"
      ]
     },
     "execution_count": 27,
     "metadata": {},
     "output_type": "execute_result"
    }
   ],
   "source": [
    "train_std = train.std().sort_values(ascending=False)\n",
    "train_std"
   ]
  },
  {
   "cell_type": "code",
   "execution_count": 28,
   "metadata": {},
   "outputs": [
    {
     "data": {
      "text/plain": [
       "6"
      ]
     },
     "execution_count": 28,
     "metadata": {},
     "output_type": "execute_result"
    }
   ],
   "source": [
    "(train_std < 1).sum()"
   ]
  },
  {
   "cell_type": "code",
   "execution_count": 29,
   "metadata": {},
   "outputs": [
    {
     "data": {
      "text/plain": [
       "active_power_calculated_by_converter                     0.027049\n",
       "active_power_raw                                         0.021578\n",
       "ambient_temperature                                      0.285187\n",
       "generator_speed                                          0.031859\n",
       "generator_winding_temp_max                               0.106297\n",
       "                                                          ...    \n",
       "ambient_temperature_mul_wind_speed_turbulence            0.071666\n",
       "generator_speed_mul_wind_speed_turbulence                0.018410\n",
       "generator_winding_temp_max_mul_wind_speed_turbulence     0.027255\n",
       "grid_power10min_average_mul_wind_speed_turbulence        0.024110\n",
       "Target                                                  12.441978\n",
       "Length: 140, dtype: float64"
      ]
     },
     "execution_count": 29,
     "metadata": {},
     "output_type": "execute_result"
    }
   ],
   "source": [
    "mi = mutual_info_regression(train.drop(['timestamp','turbine_id' 'target'], axis=1), train['Target'], random_state=4567)\n",
    "mi = pd.Series(mi, index=train.drop(['timestamp','turbine_id'], axis=1).columns)\n",
    "mi"
   ]
  },
  {
   "cell_type": "code",
   "execution_count": 31,
   "metadata": {},
   "outputs": [
    {
     "data": {
      "text/plain": [
       "Target                                                                12.441978\n",
       "ambient_temperature_div_nc1_inside_temp                                0.327660\n",
       "ambient_temperature_div_nacelle_temp                                   0.304028\n",
       "nacelle_temp                                                           0.292042\n",
       "ambient_temperature_mul_nacelle_temp                                   0.287322\n",
       "                                                                        ...    \n",
       "grid_power10min_average_div_reactive_power                             0.000008\n",
       "active_power_raw_div_reactive_power                                    0.000007\n",
       "active_power_calculated_by_converter_div_reactive_power                0.000005\n",
       "generator_winding_temp_max_div_reactive_power                          0.000005\n",
       "grid_power10min_average_div_reactice_power_calculated_by_converter     0.000000\n",
       "Length: 140, dtype: float64"
      ]
     },
     "execution_count": 31,
     "metadata": {},
     "output_type": "execute_result"
    }
   ],
   "source": [
    "mi.sort_values(ascending=False)"
   ]
  },
  {
   "cell_type": "code",
   "execution_count": 58,
   "metadata": {},
   "outputs": [
    {
     "data": {
      "text/html": [
       "<div>\n",
       "<style scoped>\n",
       "    .dataframe tbody tr th:only-of-type {\n",
       "        vertical-align: middle;\n",
       "    }\n",
       "\n",
       "    .dataframe tbody tr th {\n",
       "        vertical-align: top;\n",
       "    }\n",
       "\n",
       "    .dataframe thead th {\n",
       "        text-align: right;\n",
       "    }\n",
       "</style>\n",
       "<table border=\"1\" class=\"dataframe\">\n",
       "  <thead>\n",
       "    <tr style=\"text-align: right;\">\n",
       "      <th></th>\n",
       "      <th>std</th>\n",
       "      <th>mean</th>\n",
       "      <th>min</th>\n",
       "      <th>max</th>\n",
       "      <th>count</th>\n",
       "    </tr>\n",
       "    <tr>\n",
       "      <th>turbine_id</th>\n",
       "      <th></th>\n",
       "      <th></th>\n",
       "      <th></th>\n",
       "      <th></th>\n",
       "      <th></th>\n",
       "    </tr>\n",
       "  </thead>\n",
       "  <tbody>\n",
       "    <tr>\n",
       "      <th>Turbine_15</th>\n",
       "      <td>1.723327</td>\n",
       "      <td>46.388378</td>\n",
       "      <td>29.212526</td>\n",
       "      <td>50.914379</td>\n",
       "      <td>58048</td>\n",
       "    </tr>\n",
       "    <tr>\n",
       "      <th>Turbine_123</th>\n",
       "      <td>1.787342</td>\n",
       "      <td>44.642011</td>\n",
       "      <td>32.616718</td>\n",
       "      <td>49.816531</td>\n",
       "      <td>56225</td>\n",
       "    </tr>\n",
       "    <tr>\n",
       "      <th>Turbine_19</th>\n",
       "      <td>1.799486</td>\n",
       "      <td>44.463866</td>\n",
       "      <td>26.783090</td>\n",
       "      <td>48.853159</td>\n",
       "      <td>56346</td>\n",
       "    </tr>\n",
       "    <tr>\n",
       "      <th>Turbine_103</th>\n",
       "      <td>1.819612</td>\n",
       "      <td>45.604759</td>\n",
       "      <td>33.507112</td>\n",
       "      <td>50.616139</td>\n",
       "      <td>56944</td>\n",
       "    </tr>\n",
       "    <tr>\n",
       "      <th>Turbine_108</th>\n",
       "      <td>1.834950</td>\n",
       "      <td>46.549006</td>\n",
       "      <td>32.470976</td>\n",
       "      <td>51.784840</td>\n",
       "      <td>57401</td>\n",
       "    </tr>\n",
       "    <tr>\n",
       "      <th>Turbine_14</th>\n",
       "      <td>1.883557</td>\n",
       "      <td>47.722849</td>\n",
       "      <td>29.793389</td>\n",
       "      <td>52.393883</td>\n",
       "      <td>56934</td>\n",
       "    </tr>\n",
       "    <tr>\n",
       "      <th>Turbine_97</th>\n",
       "      <td>1.924943</td>\n",
       "      <td>45.834314</td>\n",
       "      <td>29.824291</td>\n",
       "      <td>51.910770</td>\n",
       "      <td>57683</td>\n",
       "    </tr>\n",
       "    <tr>\n",
       "      <th>Turbine_139</th>\n",
       "      <td>2.015872</td>\n",
       "      <td>45.643603</td>\n",
       "      <td>25.865320</td>\n",
       "      <td>50.511377</td>\n",
       "      <td>56930</td>\n",
       "    </tr>\n",
       "    <tr>\n",
       "      <th>Turbine_158</th>\n",
       "      <td>2.035856</td>\n",
       "      <td>45.563365</td>\n",
       "      <td>30.032194</td>\n",
       "      <td>50.926113</td>\n",
       "      <td>57470</td>\n",
       "    </tr>\n",
       "    <tr>\n",
       "      <th>Turbine_18</th>\n",
       "      <td>2.044525</td>\n",
       "      <td>45.178387</td>\n",
       "      <td>36.297964</td>\n",
       "      <td>50.637619</td>\n",
       "      <td>57892</td>\n",
       "    </tr>\n",
       "    <tr>\n",
       "      <th>Turbine_13</th>\n",
       "      <td>2.051979</td>\n",
       "      <td>46.855068</td>\n",
       "      <td>33.037130</td>\n",
       "      <td>52.313429</td>\n",
       "      <td>56853</td>\n",
       "    </tr>\n",
       "    <tr>\n",
       "      <th>Turbine_120</th>\n",
       "      <td>2.182695</td>\n",
       "      <td>45.517760</td>\n",
       "      <td>36.466438</td>\n",
       "      <td>51.161194</td>\n",
       "      <td>57754</td>\n",
       "    </tr>\n",
       "    <tr>\n",
       "      <th>Turbine_105</th>\n",
       "      <td>2.211376</td>\n",
       "      <td>46.585878</td>\n",
       "      <td>29.526246</td>\n",
       "      <td>51.588160</td>\n",
       "      <td>57341</td>\n",
       "    </tr>\n",
       "    <tr>\n",
       "      <th>Turbine_10</th>\n",
       "      <td>2.236599</td>\n",
       "      <td>47.186210</td>\n",
       "      <td>29.052082</td>\n",
       "      <td>52.995842</td>\n",
       "      <td>55089</td>\n",
       "    </tr>\n",
       "    <tr>\n",
       "      <th>Turbine_01</th>\n",
       "      <td>3.342025</td>\n",
       "      <td>49.288458</td>\n",
       "      <td>37.141447</td>\n",
       "      <td>59.156406</td>\n",
       "      <td>54171</td>\n",
       "    </tr>\n",
       "    <tr>\n",
       "      <th>Turbine_20</th>\n",
       "      <td>4.296550</td>\n",
       "      <td>48.420630</td>\n",
       "      <td>35.402102</td>\n",
       "      <td>65.037689</td>\n",
       "      <td>56523</td>\n",
       "    </tr>\n",
       "  </tbody>\n",
       "</table>\n",
       "</div>"
      ],
      "text/plain": [
       "                  std       mean        min        max  count\n",
       "turbine_id                                                   \n",
       "Turbine_15   1.723327  46.388378  29.212526  50.914379  58048\n",
       "Turbine_123  1.787342  44.642011  32.616718  49.816531  56225\n",
       "Turbine_19   1.799486  44.463866  26.783090  48.853159  56346\n",
       "Turbine_103  1.819612  45.604759  33.507112  50.616139  56944\n",
       "Turbine_108  1.834950  46.549006  32.470976  51.784840  57401\n",
       "Turbine_14   1.883557  47.722849  29.793389  52.393883  56934\n",
       "Turbine_97   1.924943  45.834314  29.824291  51.910770  57683\n",
       "Turbine_139  2.015872  45.643603  25.865320  50.511377  56930\n",
       "Turbine_158  2.035856  45.563365  30.032194  50.926113  57470\n",
       "Turbine_18   2.044525  45.178387  36.297964  50.637619  57892\n",
       "Turbine_13   2.051979  46.855068  33.037130  52.313429  56853\n",
       "Turbine_120  2.182695  45.517760  36.466438  51.161194  57754\n",
       "Turbine_105  2.211376  46.585878  29.526246  51.588160  57341\n",
       "Turbine_10   2.236599  47.186210  29.052082  52.995842  55089\n",
       "Turbine_01   3.342025  49.288458  37.141447  59.156406  54171\n",
       "Turbine_20   4.296550  48.420630  35.402102  65.037689  56523"
      ]
     },
     "execution_count": 58,
     "metadata": {},
     "output_type": "execute_result"
    }
   ],
   "source": [
    "# 9. Which turbine has most variation in target temp?\n",
    "turb_grps = train.groupby(['turbine_id']).Target\n",
    "turb_grps.agg(['std', 'mean', 'min', 'max', 'count']).sort_values(by='std')"
   ]
  },
  {
   "cell_type": "code",
   "execution_count": 39,
   "metadata": {},
   "outputs": [
    {
     "data": {
      "text/plain": [
       "0        2021-02-19 20:18:00\n",
       "1        2021-04-27 04:55:00\n",
       "2        2021-01-25 06:26:00\n",
       "3        2021-10-30 03:47:00\n",
       "4        2021-03-15 00:39:00\n",
       "                 ...        \n",
       "909599   2021-04-25 19:12:00\n",
       "909600   2021-02-20 17:37:00\n",
       "909601   2021-10-22 14:18:00\n",
       "909602   2021-02-08 22:03:00\n",
       "909603   2021-04-09 14:28:00\n",
       "Name: timestamp, Length: 909604, dtype: datetime64[ns]"
      ]
     },
     "execution_count": 39,
     "metadata": {},
     "output_type": "execute_result"
    }
   ],
   "source": [
    "train.timestamp = pd.to_datetime(train.timestamp)\n",
    "train.timestamp"
   ]
  },
  {
   "cell_type": "code",
   "execution_count": 41,
   "metadata": {},
   "outputs": [
    {
     "data": {
      "text/plain": [
       "(909604, 143)"
      ]
     },
     "execution_count": 41,
     "metadata": {},
     "output_type": "execute_result"
    }
   ],
   "source": [
    "train['month'] = train.timestamp.dt.month\n",
    "train.shape"
   ]
  },
  {
   "cell_type": "code",
   "execution_count": 46,
   "metadata": {},
   "outputs": [],
   "source": [
    "month_grps = train.groupby(['month'])"
   ]
  },
  {
   "cell_type": "code",
   "execution_count": 54,
   "metadata": {},
   "outputs": [
    {
     "data": {
      "text/html": [
       "<div>\n",
       "<style scoped>\n",
       "    .dataframe tbody tr th:only-of-type {\n",
       "        vertical-align: middle;\n",
       "    }\n",
       "\n",
       "    .dataframe tbody tr th {\n",
       "        vertical-align: top;\n",
       "    }\n",
       "\n",
       "    .dataframe thead th {\n",
       "        text-align: right;\n",
       "    }\n",
       "</style>\n",
       "<table border=\"1\" class=\"dataframe\">\n",
       "  <thead>\n",
       "    <tr style=\"text-align: right;\">\n",
       "      <th></th>\n",
       "      <th>count</th>\n",
       "      <th>mean</th>\n",
       "    </tr>\n",
       "    <tr>\n",
       "      <th>month</th>\n",
       "      <th></th>\n",
       "      <th></th>\n",
       "    </tr>\n",
       "  </thead>\n",
       "  <tbody>\n",
       "    <tr>\n",
       "      <th>1</th>\n",
       "      <td>71811</td>\n",
       "      <td>43.375493</td>\n",
       "    </tr>\n",
       "    <tr>\n",
       "      <th>2</th>\n",
       "      <td>65314</td>\n",
       "      <td>45.817704</td>\n",
       "    </tr>\n",
       "    <tr>\n",
       "      <th>3</th>\n",
       "      <td>75301</td>\n",
       "      <td>47.407431</td>\n",
       "    </tr>\n",
       "    <tr>\n",
       "      <th>4</th>\n",
       "      <td>73283</td>\n",
       "      <td>48.057015</td>\n",
       "    </tr>\n",
       "    <tr>\n",
       "      <th>5</th>\n",
       "      <td>74521</td>\n",
       "      <td>47.840367</td>\n",
       "    </tr>\n",
       "    <tr>\n",
       "      <th>6</th>\n",
       "      <td>83492</td>\n",
       "      <td>47.321511</td>\n",
       "    </tr>\n",
       "    <tr>\n",
       "      <th>7</th>\n",
       "      <td>83062</td>\n",
       "      <td>46.741961</td>\n",
       "    </tr>\n",
       "    <tr>\n",
       "      <th>8</th>\n",
       "      <td>83611</td>\n",
       "      <td>46.295482</td>\n",
       "    </tr>\n",
       "    <tr>\n",
       "      <th>9</th>\n",
       "      <td>72233</td>\n",
       "      <td>46.045047</td>\n",
       "    </tr>\n",
       "    <tr>\n",
       "      <th>10</th>\n",
       "      <td>71824</td>\n",
       "      <td>46.705162</td>\n",
       "    </tr>\n",
       "    <tr>\n",
       "      <th>11</th>\n",
       "      <td>76620</td>\n",
       "      <td>46.286817</td>\n",
       "    </tr>\n",
       "    <tr>\n",
       "      <th>12</th>\n",
       "      <td>78532</td>\n",
       "      <td>43.871537</td>\n",
       "    </tr>\n",
       "  </tbody>\n",
       "</table>\n",
       "</div>"
      ],
      "text/plain": [
       "       count       mean\n",
       "month                  \n",
       "1      71811  43.375493\n",
       "2      65314  45.817704\n",
       "3      75301  47.407431\n",
       "4      73283  48.057015\n",
       "5      74521  47.840367\n",
       "6      83492  47.321511\n",
       "7      83062  46.741961\n",
       "8      83611  46.295482\n",
       "9      72233  46.045047\n",
       "10     71824  46.705162\n",
       "11     76620  46.286817\n",
       "12     78532  43.871537"
      ]
     },
     "execution_count": 54,
     "metadata": {},
     "output_type": "execute_result"
    }
   ],
   "source": [
    "month_grps.Target.agg(['count', 'mean'])"
   ]
  },
  {
   "cell_type": "code",
   "execution_count": 62,
   "metadata": {},
   "outputs": [
    {
     "data": {
      "text/plain": [
       "2         39.989236\n",
       "6         38.088093\n",
       "19        40.523605\n",
       "30        44.038269\n",
       "47        40.909250\n",
       "            ...    \n",
       "909535    40.820821\n",
       "909542    43.153711\n",
       "909544    46.534601\n",
       "909550    41.409630\n",
       "909551    44.771032\n",
       "Name: Target, Length: 71811, dtype: float64"
      ]
     },
     "execution_count": 62,
     "metadata": {},
     "output_type": "execute_result"
    }
   ],
   "source": [
    "month_grps.get_group(1).Target"
   ]
  },
  {
   "cell_type": "code",
   "execution_count": 60,
   "metadata": {},
   "outputs": [
    {
     "data": {
      "text/html": [
       "<style>#sk-container-id-2 {color: black;background-color: white;}#sk-container-id-2 pre{padding: 0;}#sk-container-id-2 div.sk-toggleable {background-color: white;}#sk-container-id-2 label.sk-toggleable__label {cursor: pointer;display: block;width: 100%;margin-bottom: 0;padding: 0.3em;box-sizing: border-box;text-align: center;}#sk-container-id-2 label.sk-toggleable__label-arrow:before {content: \"▸\";float: left;margin-right: 0.25em;color: #696969;}#sk-container-id-2 label.sk-toggleable__label-arrow:hover:before {color: black;}#sk-container-id-2 div.sk-estimator:hover label.sk-toggleable__label-arrow:before {color: black;}#sk-container-id-2 div.sk-toggleable__content {max-height: 0;max-width: 0;overflow: hidden;text-align: left;background-color: #f0f8ff;}#sk-container-id-2 div.sk-toggleable__content pre {margin: 0.2em;color: black;border-radius: 0.25em;background-color: #f0f8ff;}#sk-container-id-2 input.sk-toggleable__control:checked~div.sk-toggleable__content {max-height: 200px;max-width: 100%;overflow: auto;}#sk-container-id-2 input.sk-toggleable__control:checked~label.sk-toggleable__label-arrow:before {content: \"▾\";}#sk-container-id-2 div.sk-estimator input.sk-toggleable__control:checked~label.sk-toggleable__label {background-color: #d4ebff;}#sk-container-id-2 div.sk-label input.sk-toggleable__control:checked~label.sk-toggleable__label {background-color: #d4ebff;}#sk-container-id-2 input.sk-hidden--visually {border: 0;clip: rect(1px 1px 1px 1px);clip: rect(1px, 1px, 1px, 1px);height: 1px;margin: -1px;overflow: hidden;padding: 0;position: absolute;width: 1px;}#sk-container-id-2 div.sk-estimator {font-family: monospace;background-color: #f0f8ff;border: 1px dotted black;border-radius: 0.25em;box-sizing: border-box;margin-bottom: 0.5em;}#sk-container-id-2 div.sk-estimator:hover {background-color: #d4ebff;}#sk-container-id-2 div.sk-parallel-item::after {content: \"\";width: 100%;border-bottom: 1px solid gray;flex-grow: 1;}#sk-container-id-2 div.sk-label:hover label.sk-toggleable__label {background-color: #d4ebff;}#sk-container-id-2 div.sk-serial::before {content: \"\";position: absolute;border-left: 1px solid gray;box-sizing: border-box;top: 0;bottom: 0;left: 50%;z-index: 0;}#sk-container-id-2 div.sk-serial {display: flex;flex-direction: column;align-items: center;background-color: white;padding-right: 0.2em;padding-left: 0.2em;position: relative;}#sk-container-id-2 div.sk-item {position: relative;z-index: 1;}#sk-container-id-2 div.sk-parallel {display: flex;align-items: stretch;justify-content: center;background-color: white;position: relative;}#sk-container-id-2 div.sk-item::before, #sk-container-id-2 div.sk-parallel-item::before {content: \"\";position: absolute;border-left: 1px solid gray;box-sizing: border-box;top: 0;bottom: 0;left: 50%;z-index: -1;}#sk-container-id-2 div.sk-parallel-item {display: flex;flex-direction: column;z-index: 1;position: relative;background-color: white;}#sk-container-id-2 div.sk-parallel-item:first-child::after {align-self: flex-end;width: 50%;}#sk-container-id-2 div.sk-parallel-item:last-child::after {align-self: flex-start;width: 50%;}#sk-container-id-2 div.sk-parallel-item:only-child::after {width: 0;}#sk-container-id-2 div.sk-dashed-wrapped {border: 1px dashed gray;margin: 0 0.4em 0.5em 0.4em;box-sizing: border-box;padding-bottom: 0.4em;background-color: white;}#sk-container-id-2 div.sk-label label {font-family: monospace;font-weight: bold;display: inline-block;line-height: 1.2em;}#sk-container-id-2 div.sk-label-container {text-align: center;}#sk-container-id-2 div.sk-container {/* jupyter's `normalize.less` sets `[hidden] { display: none; }` but bootstrap.min.css set `[hidden] { display: none !important; }` so we also need the `!important` here to be able to override the default hidden behavior on the sphinx rendered scikit-learn.org. See: https://github.com/scikit-learn/scikit-learn/issues/21755 */display: inline-block !important;position: relative;}#sk-container-id-2 div.sk-text-repr-fallback {display: none;}</style><div id=\"sk-container-id-2\" class=\"sk-top-container\"><div class=\"sk-text-repr-fallback\"><pre>Pipeline(steps=[(&#x27;columntransformer&#x27;,\n",
       "                 ColumnTransformer(remainder=&#x27;passthrough&#x27;,\n",
       "                                   transformers=[(&#x27;targetencoder&#x27;,\n",
       "                                                  TargetEncoder(),\n",
       "                                                  [&#x27;turbine_id&#x27;])])),\n",
       "                (&#x27;standardscaler&#x27;, StandardScaler()),\n",
       "                (&#x27;xgbregressor&#x27;,\n",
       "                 XGBRegressor(base_score=None, booster=None, callbacks=None,\n",
       "                              colsample_bylevel=None, colsample_bynode=None,\n",
       "                              colsample_bytree=None, early_stopping_rounds=None,\n",
       "                              en...\n",
       "                              gamma=None, gpu_id=0, grow_policy=None,\n",
       "                              importance_type=None,\n",
       "                              interaction_constraints=None, learning_rate=None,\n",
       "                              max_bin=None, max_cat_to_onehot=None,\n",
       "                              max_delta_step=None, max_depth=None,\n",
       "                              max_leaves=None, min_child_weight=None,\n",
       "                              missing=nan, monotone_constraints=None,\n",
       "                              n_estimators=1000, n_jobs=None,\n",
       "                              num_parallel_tree=None, predictor=None,\n",
       "                              random_state=4567, reg_alpha=None,\n",
       "                              reg_lambda=None, ...))])</pre><b>In a Jupyter environment, please rerun this cell to show the HTML representation or trust the notebook. <br />On GitHub, the HTML representation is unable to render, please try loading this page with nbviewer.org.</b></div><div class=\"sk-container\" hidden><div class=\"sk-item sk-dashed-wrapped\"><div class=\"sk-label-container\"><div class=\"sk-label sk-toggleable\"><input class=\"sk-toggleable__control sk-hidden--visually\" id=\"sk-estimator-id-9\" type=\"checkbox\" ><label for=\"sk-estimator-id-9\" class=\"sk-toggleable__label sk-toggleable__label-arrow\">Pipeline</label><div class=\"sk-toggleable__content\"><pre>Pipeline(steps=[(&#x27;columntransformer&#x27;,\n",
       "                 ColumnTransformer(remainder=&#x27;passthrough&#x27;,\n",
       "                                   transformers=[(&#x27;targetencoder&#x27;,\n",
       "                                                  TargetEncoder(),\n",
       "                                                  [&#x27;turbine_id&#x27;])])),\n",
       "                (&#x27;standardscaler&#x27;, StandardScaler()),\n",
       "                (&#x27;xgbregressor&#x27;,\n",
       "                 XGBRegressor(base_score=None, booster=None, callbacks=None,\n",
       "                              colsample_bylevel=None, colsample_bynode=None,\n",
       "                              colsample_bytree=None, early_stopping_rounds=None,\n",
       "                              en...\n",
       "                              gamma=None, gpu_id=0, grow_policy=None,\n",
       "                              importance_type=None,\n",
       "                              interaction_constraints=None, learning_rate=None,\n",
       "                              max_bin=None, max_cat_to_onehot=None,\n",
       "                              max_delta_step=None, max_depth=None,\n",
       "                              max_leaves=None, min_child_weight=None,\n",
       "                              missing=nan, monotone_constraints=None,\n",
       "                              n_estimators=1000, n_jobs=None,\n",
       "                              num_parallel_tree=None, predictor=None,\n",
       "                              random_state=4567, reg_alpha=None,\n",
       "                              reg_lambda=None, ...))])</pre></div></div></div><div class=\"sk-serial\"><div class=\"sk-item sk-dashed-wrapped\"><div class=\"sk-label-container\"><div class=\"sk-label sk-toggleable\"><input class=\"sk-toggleable__control sk-hidden--visually\" id=\"sk-estimator-id-10\" type=\"checkbox\" ><label for=\"sk-estimator-id-10\" class=\"sk-toggleable__label sk-toggleable__label-arrow\">columntransformer: ColumnTransformer</label><div class=\"sk-toggleable__content\"><pre>ColumnTransformer(remainder=&#x27;passthrough&#x27;,\n",
       "                  transformers=[(&#x27;targetencoder&#x27;, TargetEncoder(),\n",
       "                                 [&#x27;turbine_id&#x27;])])</pre></div></div></div><div class=\"sk-parallel\"><div class=\"sk-parallel-item\"><div class=\"sk-item\"><div class=\"sk-label-container\"><div class=\"sk-label sk-toggleable\"><input class=\"sk-toggleable__control sk-hidden--visually\" id=\"sk-estimator-id-11\" type=\"checkbox\" ><label for=\"sk-estimator-id-11\" class=\"sk-toggleable__label sk-toggleable__label-arrow\">targetencoder</label><div class=\"sk-toggleable__content\"><pre>[&#x27;turbine_id&#x27;]</pre></div></div></div><div class=\"sk-serial\"><div class=\"sk-item\"><div class=\"sk-estimator sk-toggleable\"><input class=\"sk-toggleable__control sk-hidden--visually\" id=\"sk-estimator-id-12\" type=\"checkbox\" ><label for=\"sk-estimator-id-12\" class=\"sk-toggleable__label sk-toggleable__label-arrow\">TargetEncoder</label><div class=\"sk-toggleable__content\"><pre>TargetEncoder()</pre></div></div></div></div></div></div><div class=\"sk-parallel-item\"><div class=\"sk-item\"><div class=\"sk-label-container\"><div class=\"sk-label sk-toggleable\"><input class=\"sk-toggleable__control sk-hidden--visually\" id=\"sk-estimator-id-13\" type=\"checkbox\" ><label for=\"sk-estimator-id-13\" class=\"sk-toggleable__label sk-toggleable__label-arrow\">remainder</label><div class=\"sk-toggleable__content\"><pre></pre></div></div></div><div class=\"sk-serial\"><div class=\"sk-item\"><div class=\"sk-estimator sk-toggleable\"><input class=\"sk-toggleable__control sk-hidden--visually\" id=\"sk-estimator-id-14\" type=\"checkbox\" ><label for=\"sk-estimator-id-14\" class=\"sk-toggleable__label sk-toggleable__label-arrow\">passthrough</label><div class=\"sk-toggleable__content\"><pre>passthrough</pre></div></div></div></div></div></div></div></div><div class=\"sk-item\"><div class=\"sk-estimator sk-toggleable\"><input class=\"sk-toggleable__control sk-hidden--visually\" id=\"sk-estimator-id-15\" type=\"checkbox\" ><label for=\"sk-estimator-id-15\" class=\"sk-toggleable__label sk-toggleable__label-arrow\">StandardScaler</label><div class=\"sk-toggleable__content\"><pre>StandardScaler()</pre></div></div></div><div class=\"sk-item\"><div class=\"sk-estimator sk-toggleable\"><input class=\"sk-toggleable__control sk-hidden--visually\" id=\"sk-estimator-id-16\" type=\"checkbox\" ><label for=\"sk-estimator-id-16\" class=\"sk-toggleable__label sk-toggleable__label-arrow\">XGBRegressor</label><div class=\"sk-toggleable__content\"><pre>XGBRegressor(base_score=None, booster=None, callbacks=None,\n",
       "             colsample_bylevel=None, colsample_bynode=None,\n",
       "             colsample_bytree=None, early_stopping_rounds=None,\n",
       "             enable_categorical=False, eval_metric=None, gamma=None, gpu_id=0,\n",
       "             grow_policy=None, importance_type=None,\n",
       "             interaction_constraints=None, learning_rate=None, max_bin=None,\n",
       "             max_cat_to_onehot=None, max_delta_step=None, max_depth=None,\n",
       "             max_leaves=None, min_child_weight=None, missing=nan,\n",
       "             monotone_constraints=None, n_estimators=1000, n_jobs=None,\n",
       "             num_parallel_tree=None, predictor=None, random_state=4567,\n",
       "             reg_alpha=None, reg_lambda=None, ...)</pre></div></div></div></div></div></div></div>"
      ],
      "text/plain": [
       "Pipeline(steps=[('columntransformer',\n",
       "                 ColumnTransformer(remainder='passthrough',\n",
       "                                   transformers=[('targetencoder',\n",
       "                                                  TargetEncoder(),\n",
       "                                                  ['turbine_id'])])),\n",
       "                ('standardscaler', StandardScaler()),\n",
       "                ('xgbregressor',\n",
       "                 XGBRegressor(base_score=None, booster=None, callbacks=None,\n",
       "                              colsample_bylevel=None, colsample_bynode=None,\n",
       "                              colsample_bytree=None, early_stopping_rounds=None,\n",
       "                              en...\n",
       "                              gamma=None, gpu_id=0, grow_policy=None,\n",
       "                              importance_type=None,\n",
       "                              interaction_constraints=None, learning_rate=None,\n",
       "                              max_bin=None, max_cat_to_onehot=None,\n",
       "                              max_delta_step=None, max_depth=None,\n",
       "                              max_leaves=None, min_child_weight=None,\n",
       "                              missing=nan, monotone_constraints=None,\n",
       "                              n_estimators=1000, n_jobs=None,\n",
       "                              num_parallel_tree=None, predictor=None,\n",
       "                              random_state=4567, reg_alpha=None,\n",
       "                              reg_lambda=None, ...))])"
      ]
     },
     "execution_count": 60,
     "metadata": {},
     "output_type": "execute_result"
    }
   ],
   "source": [
    "from sklearn.pipeline import make_pipeline\n",
    "from sklearn.compose import make_column_transformer\n",
    "from category_encoders.target_encoder import TargetEncoder\n",
    "from sklearn.preprocessing import StandardScaler\n",
    "\n",
    "cat_cols = ['turbine_id']\n",
    "\n",
    "tme = TargetEncoder()       # target mean encoder\n",
    "scaler = StandardScaler()\n",
    "ct = make_column_transformer(\n",
    "    (tme, cat_cols),\n",
    "    remainder = 'passthrough'\n",
    ")\n",
    "model_pipe = make_pipeline(\n",
    "    ct,\n",
    "    scaler,\n",
    "    xgb\n",
    ")\n",
    "model_pipe"
   ]
  },
  {
   "cell_type": "code",
   "execution_count": 64,
   "metadata": {},
   "outputs": [
    {
     "name": "stdout",
     "output_type": "stream",
     "text": [
      "month: 1\n",
      "0.00993129991870626 0.4198157014861962\n",
      "-----------------------------------\n",
      "month: 2\n",
      "0.011166069144330512 0.5532733669930855\n",
      "-----------------------------------\n",
      "month: 3\n",
      "0.012355680646811208 0.6741026065487115\n",
      "-----------------------------------\n",
      "month: 4\n",
      "0.01198951100933056 0.7576356104854106\n",
      "-----------------------------------\n",
      "month: 5\n",
      "0.012545973673864065 0.7774153010115682\n",
      "-----------------------------------\n",
      "month: 6\n",
      "0.011386693134265382 0.5180687302235336\n",
      "-----------------------------------\n",
      "month: 7\n",
      "0.012797795576469425 0.6345474671196344\n",
      "-----------------------------------\n",
      "month: 8\n",
      "0.012038787963377325 0.5702241232702852\n",
      "-----------------------------------\n",
      "month: 9\n",
      "0.012403138974260942 0.7273663975433581\n",
      "-----------------------------------\n",
      "month: 10\n",
      "0.011180733213459705 0.5933244335250335\n",
      "-----------------------------------\n",
      "month: 11\n",
      "0.010120321393013585 0.41269322733282515\n",
      "-----------------------------------\n",
      "month: 12\n",
      "0.009501370790604122 0.3693519948101119\n",
      "-----------------------------------\n"
     ]
    }
   ],
   "source": [
    "from sklearn.model_selection import train_test_split\n",
    "for m in range(1, 13):\n",
    "    print('month:', m)\n",
    "    X = month_grps.get_group(m)\n",
    "    X_train, X_val, y_train, y_val = train_test_split(X.drop(['timestamp', 'Target'], axis=1), X.Target)\n",
    "    model_pipe.fit(X_train, y_train)\n",
    "    preds = model_pipe.predict(X_val)\n",
    "    print(mape(preds, y_val), mse(preds, y_val))\n",
    "    print('-----------------------------------')"
   ]
  },
  {
   "cell_type": "code",
   "execution_count": 65,
   "metadata": {},
   "outputs": [
    {
     "data": {
      "text/plain": [
       "array([0.0099313 , 0.01116607, 0.01235568, 0.01198951, 0.01254597,\n",
       "       0.01138669, 0.0127978 , 0.01203879, 0.01240314, 0.01118073,\n",
       "       0.01012032, 0.00950137])"
      ]
     },
     "execution_count": 65,
     "metadata": {},
     "output_type": "execute_result"
    }
   ],
   "source": [
    "m_cv = [0.00993129991870626, 0.011166069144330512, 0.012355680646811208, 0.01198951100933056, 0.012545973673864065, 0.011386693134265382 , 0.012797795576469425, 0.012038787963377325 , 0.012403138974260942 , 0.011180733213459705, 0.010120321393013585, 0.009501370790604122 ]\n",
    "m_cv = np.array(m_cv)\n",
    "m_cv"
   ]
  },
  {
   "cell_type": "code",
   "execution_count": 68,
   "metadata": {},
   "outputs": [
    {
     "data": {
      "text/plain": [
       "(12, 7)"
      ]
     },
     "execution_count": 68,
     "metadata": {},
     "output_type": "execute_result"
    }
   ],
   "source": [
    "m_cv.argmin()+1, m_cv.argmax()+1   # best and worst month"
   ]
  },
  {
   "cell_type": "code",
   "execution_count": 69,
   "metadata": {},
   "outputs": [
    {
     "data": {
      "text/plain": [
       "0.011451447953207758"
      ]
     },
     "execution_count": 69,
     "metadata": {},
     "output_type": "execute_result"
    }
   ],
   "source": [
    "m_cv.mean()"
   ]
  },
  {
   "cell_type": "code",
   "execution_count": 70,
   "metadata": {},
   "outputs": [
    {
     "data": {
      "text/plain": [
       "array([0.21118481, 0.0007314 , 0.00075187, 0.00380395, 0.00080677,\n",
       "       0.00302866, 0.00484863, 0.02317337, 0.19827779, 0.0017328 ,\n",
       "       0.00149836, 0.00427588, 0.0021427 , 0.00173286, 0.00155837,\n",
       "       0.00123059, 0.01495331, 0.00169727, 0.00586544, 0.00171183,\n",
       "       0.00099609, 0.00120373, 0.01245279, 0.00200463, 0.00888179,\n",
       "       0.00350236, 0.00188636, 0.00127583, 0.00168946, 0.00136681,\n",
       "       0.00262313, 0.01017716, 0.00156799, 0.00243574, 0.0032032 ,\n",
       "       0.00254966, 0.00486151, 0.00581506, 0.00184858, 0.00238085,\n",
       "       0.00500304, 0.00575856, 0.01026905, 0.00390056, 0.00214282,\n",
       "       0.00113211, 0.00590185, 0.00134379, 0.0040983 , 0.0010717 ,\n",
       "       0.00183133, 0.00112838, 0.01043691, 0.00218839, 0.00808138,\n",
       "       0.00140073, 0.0029983 , 0.00265305, 0.0097741 , 0.01946298,\n",
       "       0.00899539, 0.00359691, 0.00210869, 0.00194419, 0.01319855,\n",
       "       0.01637017, 0.00809508, 0.02575278, 0.00238134, 0.00281812,\n",
       "       0.00575046, 0.00340915, 0.00200689, 0.0029321 , 0.        ,\n",
       "       0.        , 0.        , 0.        , 0.        , 0.        ,\n",
       "       0.00237393, 0.0026524 , 0.00813443, 0.00460583, 0.00623927,\n",
       "       0.00300765, 0.00291442, 0.00513004, 0.00369258, 0.00180871,\n",
       "       0.00385787, 0.00756217, 0.00270942, 0.00302534, 0.00585064,\n",
       "       0.00930434, 0.00430958, 0.00429621, 0.00153892, 0.00310956,\n",
       "       0.00753127, 0.00391341, 0.00686404, 0.00452213, 0.00225923,\n",
       "       0.00282176, 0.01057188, 0.00341236, 0.01173838, 0.00310494,\n",
       "       0.00439923, 0.00165119, 0.00278526, 0.00263186, 0.00216098,\n",
       "       0.00333662, 0.00239926, 0.0031854 , 0.00659983, 0.00331786,\n",
       "       0.00503719, 0.00346116, 0.00292308, 0.00293411, 0.00623438,\n",
       "       0.00428834, 0.00839131, 0.00529689, 0.00146003, 0.0024501 ,\n",
       "       0.00354313, 0.00160675, 0.00287867, 0.00236979, 0.0014934 ,\n",
       "       0.00222749, 0.00241251, 0.00238895, 0.00203877, 0.00356729,\n",
       "       0.        ], dtype=float32)"
      ]
     },
     "execution_count": 70,
     "metadata": {},
     "output_type": "execute_result"
    }
   ],
   "source": [
    "model_pipe[2].feature_importances_"
   ]
  },
  {
   "cell_type": "code",
   "execution_count": 75,
   "metadata": {},
   "outputs": [
    {
     "data": {
      "text/html": [
       "<style>#sk-container-id-4 {color: black;background-color: white;}#sk-container-id-4 pre{padding: 0;}#sk-container-id-4 div.sk-toggleable {background-color: white;}#sk-container-id-4 label.sk-toggleable__label {cursor: pointer;display: block;width: 100%;margin-bottom: 0;padding: 0.3em;box-sizing: border-box;text-align: center;}#sk-container-id-4 label.sk-toggleable__label-arrow:before {content: \"▸\";float: left;margin-right: 0.25em;color: #696969;}#sk-container-id-4 label.sk-toggleable__label-arrow:hover:before {color: black;}#sk-container-id-4 div.sk-estimator:hover label.sk-toggleable__label-arrow:before {color: black;}#sk-container-id-4 div.sk-toggleable__content {max-height: 0;max-width: 0;overflow: hidden;text-align: left;background-color: #f0f8ff;}#sk-container-id-4 div.sk-toggleable__content pre {margin: 0.2em;color: black;border-radius: 0.25em;background-color: #f0f8ff;}#sk-container-id-4 input.sk-toggleable__control:checked~div.sk-toggleable__content {max-height: 200px;max-width: 100%;overflow: auto;}#sk-container-id-4 input.sk-toggleable__control:checked~label.sk-toggleable__label-arrow:before {content: \"▾\";}#sk-container-id-4 div.sk-estimator input.sk-toggleable__control:checked~label.sk-toggleable__label {background-color: #d4ebff;}#sk-container-id-4 div.sk-label input.sk-toggleable__control:checked~label.sk-toggleable__label {background-color: #d4ebff;}#sk-container-id-4 input.sk-hidden--visually {border: 0;clip: rect(1px 1px 1px 1px);clip: rect(1px, 1px, 1px, 1px);height: 1px;margin: -1px;overflow: hidden;padding: 0;position: absolute;width: 1px;}#sk-container-id-4 div.sk-estimator {font-family: monospace;background-color: #f0f8ff;border: 1px dotted black;border-radius: 0.25em;box-sizing: border-box;margin-bottom: 0.5em;}#sk-container-id-4 div.sk-estimator:hover {background-color: #d4ebff;}#sk-container-id-4 div.sk-parallel-item::after {content: \"\";width: 100%;border-bottom: 1px solid gray;flex-grow: 1;}#sk-container-id-4 div.sk-label:hover label.sk-toggleable__label {background-color: #d4ebff;}#sk-container-id-4 div.sk-serial::before {content: \"\";position: absolute;border-left: 1px solid gray;box-sizing: border-box;top: 0;bottom: 0;left: 50%;z-index: 0;}#sk-container-id-4 div.sk-serial {display: flex;flex-direction: column;align-items: center;background-color: white;padding-right: 0.2em;padding-left: 0.2em;position: relative;}#sk-container-id-4 div.sk-item {position: relative;z-index: 1;}#sk-container-id-4 div.sk-parallel {display: flex;align-items: stretch;justify-content: center;background-color: white;position: relative;}#sk-container-id-4 div.sk-item::before, #sk-container-id-4 div.sk-parallel-item::before {content: \"\";position: absolute;border-left: 1px solid gray;box-sizing: border-box;top: 0;bottom: 0;left: 50%;z-index: -1;}#sk-container-id-4 div.sk-parallel-item {display: flex;flex-direction: column;z-index: 1;position: relative;background-color: white;}#sk-container-id-4 div.sk-parallel-item:first-child::after {align-self: flex-end;width: 50%;}#sk-container-id-4 div.sk-parallel-item:last-child::after {align-self: flex-start;width: 50%;}#sk-container-id-4 div.sk-parallel-item:only-child::after {width: 0;}#sk-container-id-4 div.sk-dashed-wrapped {border: 1px dashed gray;margin: 0 0.4em 0.5em 0.4em;box-sizing: border-box;padding-bottom: 0.4em;background-color: white;}#sk-container-id-4 div.sk-label label {font-family: monospace;font-weight: bold;display: inline-block;line-height: 1.2em;}#sk-container-id-4 div.sk-label-container {text-align: center;}#sk-container-id-4 div.sk-container {/* jupyter's `normalize.less` sets `[hidden] { display: none; }` but bootstrap.min.css set `[hidden] { display: none !important; }` so we also need the `!important` here to be able to override the default hidden behavior on the sphinx rendered scikit-learn.org. See: https://github.com/scikit-learn/scikit-learn/issues/21755 */display: inline-block !important;position: relative;}#sk-container-id-4 div.sk-text-repr-fallback {display: none;}</style><div id=\"sk-container-id-4\" class=\"sk-top-container\"><div class=\"sk-text-repr-fallback\"><pre>Pipeline(steps=[(&#x27;columntransformer&#x27;,\n",
       "                 ColumnTransformer(remainder=&#x27;passthrough&#x27;,\n",
       "                                   transformers=[(&#x27;targetencoder&#x27;,\n",
       "                                                  TargetEncoder(),\n",
       "                                                  [&#x27;turbine_id&#x27;])])),\n",
       "                (&#x27;standardscaler&#x27;, StandardScaler()),\n",
       "                (&#x27;xgbregressor&#x27;,\n",
       "                 XGBRegressor(base_score=None, booster=None, callbacks=None,\n",
       "                              colsample_bylevel=None, colsample_bynode=None,\n",
       "                              colsample_bytree=None, early_stopping_rounds=None,\n",
       "                              en...\n",
       "                              gamma=None, gpu_id=0, grow_policy=None,\n",
       "                              importance_type=None,\n",
       "                              interaction_constraints=None, learning_rate=None,\n",
       "                              max_bin=None, max_cat_to_onehot=None,\n",
       "                              max_delta_step=None, max_depth=None,\n",
       "                              max_leaves=None, min_child_weight=None,\n",
       "                              missing=nan, monotone_constraints=None,\n",
       "                              n_estimators=3000, n_jobs=None,\n",
       "                              num_parallel_tree=None, predictor=None,\n",
       "                              random_state=4567, reg_alpha=None,\n",
       "                              reg_lambda=None, ...))])</pre><b>In a Jupyter environment, please rerun this cell to show the HTML representation or trust the notebook. <br />On GitHub, the HTML representation is unable to render, please try loading this page with nbviewer.org.</b></div><div class=\"sk-container\" hidden><div class=\"sk-item sk-dashed-wrapped\"><div class=\"sk-label-container\"><div class=\"sk-label sk-toggleable\"><input class=\"sk-toggleable__control sk-hidden--visually\" id=\"sk-estimator-id-25\" type=\"checkbox\" ><label for=\"sk-estimator-id-25\" class=\"sk-toggleable__label sk-toggleable__label-arrow\">Pipeline</label><div class=\"sk-toggleable__content\"><pre>Pipeline(steps=[(&#x27;columntransformer&#x27;,\n",
       "                 ColumnTransformer(remainder=&#x27;passthrough&#x27;,\n",
       "                                   transformers=[(&#x27;targetencoder&#x27;,\n",
       "                                                  TargetEncoder(),\n",
       "                                                  [&#x27;turbine_id&#x27;])])),\n",
       "                (&#x27;standardscaler&#x27;, StandardScaler()),\n",
       "                (&#x27;xgbregressor&#x27;,\n",
       "                 XGBRegressor(base_score=None, booster=None, callbacks=None,\n",
       "                              colsample_bylevel=None, colsample_bynode=None,\n",
       "                              colsample_bytree=None, early_stopping_rounds=None,\n",
       "                              en...\n",
       "                              gamma=None, gpu_id=0, grow_policy=None,\n",
       "                              importance_type=None,\n",
       "                              interaction_constraints=None, learning_rate=None,\n",
       "                              max_bin=None, max_cat_to_onehot=None,\n",
       "                              max_delta_step=None, max_depth=None,\n",
       "                              max_leaves=None, min_child_weight=None,\n",
       "                              missing=nan, monotone_constraints=None,\n",
       "                              n_estimators=3000, n_jobs=None,\n",
       "                              num_parallel_tree=None, predictor=None,\n",
       "                              random_state=4567, reg_alpha=None,\n",
       "                              reg_lambda=None, ...))])</pre></div></div></div><div class=\"sk-serial\"><div class=\"sk-item sk-dashed-wrapped\"><div class=\"sk-label-container\"><div class=\"sk-label sk-toggleable\"><input class=\"sk-toggleable__control sk-hidden--visually\" id=\"sk-estimator-id-26\" type=\"checkbox\" ><label for=\"sk-estimator-id-26\" class=\"sk-toggleable__label sk-toggleable__label-arrow\">columntransformer: ColumnTransformer</label><div class=\"sk-toggleable__content\"><pre>ColumnTransformer(remainder=&#x27;passthrough&#x27;,\n",
       "                  transformers=[(&#x27;targetencoder&#x27;, TargetEncoder(),\n",
       "                                 [&#x27;turbine_id&#x27;])])</pre></div></div></div><div class=\"sk-parallel\"><div class=\"sk-parallel-item\"><div class=\"sk-item\"><div class=\"sk-label-container\"><div class=\"sk-label sk-toggleable\"><input class=\"sk-toggleable__control sk-hidden--visually\" id=\"sk-estimator-id-27\" type=\"checkbox\" ><label for=\"sk-estimator-id-27\" class=\"sk-toggleable__label sk-toggleable__label-arrow\">targetencoder</label><div class=\"sk-toggleable__content\"><pre>[&#x27;turbine_id&#x27;]</pre></div></div></div><div class=\"sk-serial\"><div class=\"sk-item\"><div class=\"sk-estimator sk-toggleable\"><input class=\"sk-toggleable__control sk-hidden--visually\" id=\"sk-estimator-id-28\" type=\"checkbox\" ><label for=\"sk-estimator-id-28\" class=\"sk-toggleable__label sk-toggleable__label-arrow\">TargetEncoder</label><div class=\"sk-toggleable__content\"><pre>TargetEncoder()</pre></div></div></div></div></div></div><div class=\"sk-parallel-item\"><div class=\"sk-item\"><div class=\"sk-label-container\"><div class=\"sk-label sk-toggleable\"><input class=\"sk-toggleable__control sk-hidden--visually\" id=\"sk-estimator-id-29\" type=\"checkbox\" ><label for=\"sk-estimator-id-29\" class=\"sk-toggleable__label sk-toggleable__label-arrow\">remainder</label><div class=\"sk-toggleable__content\"><pre>[&#x27;active_power_calculated_by_converter&#x27;, &#x27;active_power_raw&#x27;, &#x27;ambient_temperature&#x27;, &#x27;generator_speed&#x27;, &#x27;generator_winding_temp_max&#x27;, &#x27;grid_power10min_average&#x27;, &#x27;nc1_inside_temp&#x27;, &#x27;nacelle_temp&#x27;, &#x27;reactice_power_calculated_by_converter&#x27;, &#x27;reactive_power&#x27;, &#x27;wind_direction_raw&#x27;, &#x27;wind_speed_raw&#x27;, &#x27;wind_speed_turbulence&#x27;, &#x27;active_power_calculated_by_converter_sub_nc1_inside_temp&#x27;, &#x27;active_power_raw_sub_nc1_inside_temp&#x27;, &#x27;ambient_temperature_sub_nc1_inside_temp&#x27;, &#x27;generator_speed_sub_nc1_inside_temp&#x27;, &#x27;generator_winding_temp_max_sub_nc1_inside_temp&#x27;, &#x27;grid_power10min_average_sub_nc1_inside_temp&#x27;, &#x27;active_power_calculated_by_converter_sub_nacelle_temp&#x27;, &#x27;active_power_raw_sub_nacelle_temp&#x27;, &#x27;ambient_temperature_sub_nacelle_temp&#x27;, &#x27;generator_speed_sub_nacelle_temp&#x27;, &#x27;generator_winding_temp_max_sub_nacelle_temp&#x27;, &#x27;grid_power10min_average_sub_nacelle_temp&#x27;, &#x27;active_power_calculated_by_converter_sub_reactice_power_calculated_by_converter&#x27;, &#x27;active_power_raw_sub_reactice_power_calculated_by_converter&#x27;, &#x27;ambient_temperature_sub_reactice_power_calculated_by_converter&#x27;, &#x27;generator_speed_sub_reactice_power_calculated_by_converter&#x27;, &#x27;generator_winding_temp_max_sub_reactice_power_calculated_by_converter&#x27;, &#x27;grid_power10min_average_sub_reactice_power_calculated_by_converter&#x27;, &#x27;active_power_calculated_by_converter_sub_reactive_power&#x27;, &#x27;active_power_raw_sub_reactive_power&#x27;, &#x27;ambient_temperature_sub_reactive_power&#x27;, &#x27;generator_speed_sub_reactive_power&#x27;, &#x27;generator_winding_temp_max_sub_reactive_power&#x27;, &#x27;grid_power10min_average_sub_reactive_power&#x27;, &#x27;active_power_calculated_by_converter_sub_wind_direction_raw&#x27;, &#x27;active_power_raw_sub_wind_direction_raw&#x27;, &#x27;ambient_temperature_sub_wind_direction_raw&#x27;, &#x27;generator_speed_sub_wind_direction_raw&#x27;, &#x27;generator_winding_temp_max_sub_wind_direction_raw&#x27;, &#x27;grid_power10min_average_sub_wind_direction_raw&#x27;, &#x27;active_power_calculated_by_converter_sub_wind_speed_raw&#x27;, &#x27;active_power_raw_sub_wind_speed_raw&#x27;, &#x27;ambient_temperature_sub_wind_speed_raw&#x27;, &#x27;generator_speed_sub_wind_speed_raw&#x27;, &#x27;generator_winding_temp_max_sub_wind_speed_raw&#x27;, &#x27;grid_power10min_average_sub_wind_speed_raw&#x27;, &#x27;active_power_calculated_by_converter_sub_wind_speed_turbulence&#x27;, &#x27;active_power_raw_sub_wind_speed_turbulence&#x27;, &#x27;ambient_temperature_sub_wind_speed_turbulence&#x27;, &#x27;generator_speed_sub_wind_speed_turbulence&#x27;, &#x27;generator_winding_temp_max_sub_wind_speed_turbulence&#x27;, &#x27;grid_power10min_average_sub_wind_speed_turbulence&#x27;, &#x27;active_power_calculated_by_converter_div_nc1_inside_temp&#x27;, &#x27;active_power_raw_div_nc1_inside_temp&#x27;, &#x27;ambient_temperature_div_nc1_inside_temp&#x27;, &#x27;generator_speed_div_nc1_inside_temp&#x27;, &#x27;generator_winding_temp_max_div_nc1_inside_temp&#x27;, &#x27;grid_power10min_average_div_nc1_inside_temp&#x27;, &#x27;active_power_calculated_by_converter_div_nacelle_temp&#x27;, &#x27;active_power_raw_div_nacelle_temp&#x27;, &#x27;ambient_temperature_div_nacelle_temp&#x27;, &#x27;generator_speed_div_nacelle_temp&#x27;, &#x27;generator_winding_temp_max_div_nacelle_temp&#x27;, &#x27;grid_power10min_average_div_nacelle_temp&#x27;, &#x27;active_power_calculated_by_converter_div_reactice_power_calculated_by_converter&#x27;, &#x27;active_power_raw_div_reactice_power_calculated_by_converter&#x27;, &#x27;ambient_temperature_div_reactice_power_calculated_by_converter&#x27;, &#x27;generator_speed_div_reactice_power_calculated_by_converter&#x27;, &#x27;generator_winding_temp_max_div_reactice_power_calculated_by_converter&#x27;, &#x27;grid_power10min_average_div_reactice_power_calculated_by_converter&#x27;, &#x27;active_power_calculated_by_converter_div_reactive_power&#x27;, &#x27;active_power_raw_div_reactive_power&#x27;, &#x27;ambient_temperature_div_reactive_power&#x27;, &#x27;generator_speed_div_reactive_power&#x27;, &#x27;generator_winding_temp_max_div_reactive_power&#x27;, &#x27;grid_power10min_average_div_reactive_power&#x27;, &#x27;active_power_calculated_by_converter_div_wind_direction_raw&#x27;, &#x27;active_power_raw_div_wind_direction_raw&#x27;, &#x27;ambient_temperature_div_wind_direction_raw&#x27;, &#x27;generator_speed_div_wind_direction_raw&#x27;, &#x27;generator_winding_temp_max_div_wind_direction_raw&#x27;, &#x27;grid_power10min_average_div_wind_direction_raw&#x27;, &#x27;active_power_calculated_by_converter_div_wind_speed_raw&#x27;, &#x27;active_power_raw_div_wind_speed_raw&#x27;, &#x27;ambient_temperature_div_wind_speed_raw&#x27;, &#x27;generator_speed_div_wind_speed_raw&#x27;, &#x27;generator_winding_temp_max_div_wind_speed_raw&#x27;, &#x27;grid_power10min_average_div_wind_speed_raw&#x27;, &#x27;active_power_calculated_by_converter_div_wind_speed_turbulence&#x27;, &#x27;active_power_raw_div_wind_speed_turbulence&#x27;, &#x27;ambient_temperature_div_wind_speed_turbulence&#x27;, &#x27;generator_speed_div_wind_speed_turbulence&#x27;, &#x27;generator_winding_temp_max_div_wind_speed_turbulence&#x27;, &#x27;grid_power10min_average_div_wind_speed_turbulence&#x27;, &#x27;active_power_calculated_by_converter_mul_nc1_inside_temp&#x27;, &#x27;active_power_raw_mul_nc1_inside_temp&#x27;, &#x27;ambient_temperature_mul_nc1_inside_temp&#x27;, &#x27;generator_speed_mul_nc1_inside_temp&#x27;, &#x27;generator_winding_temp_max_mul_nc1_inside_temp&#x27;, &#x27;grid_power10min_average_mul_nc1_inside_temp&#x27;, &#x27;active_power_calculated_by_converter_mul_nacelle_temp&#x27;, &#x27;active_power_raw_mul_nacelle_temp&#x27;, &#x27;ambient_temperature_mul_nacelle_temp&#x27;, &#x27;generator_speed_mul_nacelle_temp&#x27;, &#x27;generator_winding_temp_max_mul_nacelle_temp&#x27;, &#x27;grid_power10min_average_mul_nacelle_temp&#x27;, &#x27;active_power_calculated_by_converter_mul_reactice_power_calculated_by_converter&#x27;, &#x27;active_power_raw_mul_reactice_power_calculated_by_converter&#x27;, &#x27;ambient_temperature_mul_reactice_power_calculated_by_converter&#x27;, &#x27;generator_speed_mul_reactice_power_calculated_by_converter&#x27;, &#x27;generator_winding_temp_max_mul_reactice_power_calculated_by_converter&#x27;, &#x27;grid_power10min_average_mul_reactice_power_calculated_by_converter&#x27;, &#x27;active_power_calculated_by_converter_mul_reactive_power&#x27;, &#x27;active_power_raw_mul_reactive_power&#x27;, &#x27;ambient_temperature_mul_reactive_power&#x27;, &#x27;generator_speed_mul_reactive_power&#x27;, &#x27;generator_winding_temp_max_mul_reactive_power&#x27;, &#x27;grid_power10min_average_mul_reactive_power&#x27;, &#x27;active_power_calculated_by_converter_mul_wind_direction_raw&#x27;, &#x27;active_power_raw_mul_wind_direction_raw&#x27;, &#x27;ambient_temperature_mul_wind_direction_raw&#x27;, &#x27;generator_speed_mul_wind_direction_raw&#x27;, &#x27;generator_winding_temp_max_mul_wind_direction_raw&#x27;, &#x27;grid_power10min_average_mul_wind_direction_raw&#x27;, &#x27;active_power_calculated_by_converter_mul_wind_speed_raw&#x27;, &#x27;active_power_raw_mul_wind_speed_raw&#x27;, &#x27;ambient_temperature_mul_wind_speed_raw&#x27;, &#x27;generator_speed_mul_wind_speed_raw&#x27;, &#x27;generator_winding_temp_max_mul_wind_speed_raw&#x27;, &#x27;grid_power10min_average_mul_wind_speed_raw&#x27;, &#x27;active_power_calculated_by_converter_mul_wind_speed_turbulence&#x27;, &#x27;active_power_raw_mul_wind_speed_turbulence&#x27;, &#x27;ambient_temperature_mul_wind_speed_turbulence&#x27;, &#x27;generator_speed_mul_wind_speed_turbulence&#x27;, &#x27;generator_winding_temp_max_mul_wind_speed_turbulence&#x27;, &#x27;grid_power10min_average_mul_wind_speed_turbulence&#x27;, &#x27;month&#x27;]</pre></div></div></div><div class=\"sk-serial\"><div class=\"sk-item\"><div class=\"sk-estimator sk-toggleable\"><input class=\"sk-toggleable__control sk-hidden--visually\" id=\"sk-estimator-id-30\" type=\"checkbox\" ><label for=\"sk-estimator-id-30\" class=\"sk-toggleable__label sk-toggleable__label-arrow\">passthrough</label><div class=\"sk-toggleable__content\"><pre>passthrough</pre></div></div></div></div></div></div></div></div><div class=\"sk-item\"><div class=\"sk-estimator sk-toggleable\"><input class=\"sk-toggleable__control sk-hidden--visually\" id=\"sk-estimator-id-31\" type=\"checkbox\" ><label for=\"sk-estimator-id-31\" class=\"sk-toggleable__label sk-toggleable__label-arrow\">StandardScaler</label><div class=\"sk-toggleable__content\"><pre>StandardScaler()</pre></div></div></div><div class=\"sk-item\"><div class=\"sk-estimator sk-toggleable\"><input class=\"sk-toggleable__control sk-hidden--visually\" id=\"sk-estimator-id-32\" type=\"checkbox\" ><label for=\"sk-estimator-id-32\" class=\"sk-toggleable__label sk-toggleable__label-arrow\">XGBRegressor</label><div class=\"sk-toggleable__content\"><pre>XGBRegressor(base_score=None, booster=None, callbacks=None,\n",
       "             colsample_bylevel=None, colsample_bynode=None,\n",
       "             colsample_bytree=None, early_stopping_rounds=None,\n",
       "             enable_categorical=False, eval_metric=None, gamma=None, gpu_id=0,\n",
       "             grow_policy=None, importance_type=None,\n",
       "             interaction_constraints=None, learning_rate=None, max_bin=None,\n",
       "             max_cat_to_onehot=None, max_delta_step=None, max_depth=None,\n",
       "             max_leaves=None, min_child_weight=None, missing=nan,\n",
       "             monotone_constraints=None, n_estimators=3000, n_jobs=None,\n",
       "             num_parallel_tree=None, predictor=None, random_state=4567,\n",
       "             reg_alpha=None, reg_lambda=None, ...)</pre></div></div></div></div></div></div></div>"
      ],
      "text/plain": [
       "Pipeline(steps=[('columntransformer',\n",
       "                 ColumnTransformer(remainder='passthrough',\n",
       "                                   transformers=[('targetencoder',\n",
       "                                                  TargetEncoder(),\n",
       "                                                  ['turbine_id'])])),\n",
       "                ('standardscaler', StandardScaler()),\n",
       "                ('xgbregressor',\n",
       "                 XGBRegressor(base_score=None, booster=None, callbacks=None,\n",
       "                              colsample_bylevel=None, colsample_bynode=None,\n",
       "                              colsample_bytree=None, early_stopping_rounds=None,\n",
       "                              en...\n",
       "                              gamma=None, gpu_id=0, grow_policy=None,\n",
       "                              importance_type=None,\n",
       "                              interaction_constraints=None, learning_rate=None,\n",
       "                              max_bin=None, max_cat_to_onehot=None,\n",
       "                              max_delta_step=None, max_depth=None,\n",
       "                              max_leaves=None, min_child_weight=None,\n",
       "                              missing=nan, monotone_constraints=None,\n",
       "                              n_estimators=3000, n_jobs=None,\n",
       "                              num_parallel_tree=None, predictor=None,\n",
       "                              random_state=4567, reg_alpha=None,\n",
       "                              reg_lambda=None, ...))])"
      ]
     },
     "execution_count": 75,
     "metadata": {},
     "output_type": "execute_result"
    }
   ],
   "source": [
    "model_pipe_3k = make_pipeline(\n",
    "    ct,\n",
    "    scaler,\n",
    "    xgb\n",
    ")\n",
    "model_pipe_3k"
   ]
  },
  {
   "cell_type": "code",
   "execution_count": 76,
   "metadata": {},
   "outputs": [
    {
     "name": "stdout",
     "output_type": "stream",
     "text": [
      "month: 1\n",
      "0.009953848011079826 0.43967435142016004\n",
      "-----------------------------------\n",
      "month: 2\n",
      "0.010764169464244423 0.5191379879458096\n",
      "-----------------------------------\n",
      "month: 3\n",
      "0.011996619435031166 0.6439889401734509\n",
      "-----------------------------------\n",
      "month: 4\n",
      "0.01174268545751649 0.7539812989378012\n",
      "-----------------------------------\n",
      "month: 5\n",
      "0.012530407667194873 0.7938420971564809\n",
      "-----------------------------------\n",
      "month: 6\n",
      "0.011241744233847615 0.5065866891843583\n",
      "-----------------------------------\n",
      "month: 7\n",
      "0.012671114233577526 0.6379780161247299\n",
      "-----------------------------------\n",
      "month: 8\n",
      "0.012147487185665742 0.5692000814124712\n",
      "-----------------------------------\n",
      "month: 9\n",
      "0.012215480060089287 0.7057539322758911\n",
      "-----------------------------------\n",
      "month: 10\n",
      "0.010949806829297394 0.5805665396391495\n",
      "-----------------------------------\n",
      "month: 11\n",
      "0.01016977400286615 0.4140757104589995\n",
      "-----------------------------------\n",
      "month: 12\n",
      "0.009367425682195962 0.36184875476498946\n",
      "-----------------------------------\n"
     ]
    }
   ],
   "source": [
    "from sklearn.model_selection import train_test_split\n",
    "for m in range(1, 13):\n",
    "    print('month:', m)\n",
    "    X = month_grps.get_group(m)\n",
    "    X_train, X_val, y_train, y_val = train_test_split(X.drop(['timestamp', 'Target'], axis=1), X.Target)\n",
    "    model_pipe_3k.fit(X_train, y_train)\n",
    "    preds = model_pipe_3k.predict(X_val)\n",
    "    print(mape(preds, y_val), mse(preds, y_val))\n",
    "    print('-----------------------------------')"
   ]
  },
  {
   "cell_type": "code",
   "execution_count": null,
   "metadata": {},
   "outputs": [],
   "source": [
    "# month: 1\n",
    "# 0.00993129991870626 0.4198157014861962\n",
    "# -----------------------------------\n",
    "# month: 2\n",
    "# 0.011166069144330512 0.5532733669930855\n",
    "# -----------------------------------\n",
    "# month: 3\n",
    "# 0.012355680646811208 0.6741026065487115\n",
    "# -----------------------------------\n",
    "# month: 4\n",
    "# 0.01198951100933056 0.7576356104854106\n",
    "# -----------------------------------\n",
    "# month: 5\n",
    "# 0.012545973673864065 0.7774153010115682\n",
    "# -----------------------------------\n",
    "# month: 6\n",
    "# 0.011386693134265382 0.5180687302235336\n",
    "# -----------------------------------\n",
    "# month: 7\n",
    "# 0.012797795576469425 0.6345474671196344\n",
    "# -----------------------------------\n",
    "# month: 8\n",
    "# 0.012038787963377325 0.5702241232702852\n",
    "# -----------------------------------\n",
    "# month: 9\n",
    "# 0.012403138974260942 0.7273663975433581\n",
    "# -----------------------------------\n",
    "# month: 10\n",
    "# 0.011180733213459705 0.5933244335250335\n",
    "# -----------------------------------\n",
    "# month: 11\n",
    "# 0.010120321393013585 0.41269322733282515\n",
    "# -----------------------------------\n",
    "# month: 12\n",
    "# 0.009501370790604122 0.3693519948101119\n",
    "# -----------------------------------"
   ]
  }
 ],
 "metadata": {
  "kernelspec": {
   "display_name": "Python 3.10.5 64-bit",
   "language": "python",
   "name": "python3"
  },
  "language_info": {
   "codemirror_mode": {
    "name": "ipython",
    "version": 3
   },
   "file_extension": ".py",
   "mimetype": "text/x-python",
   "name": "python",
   "nbconvert_exporter": "python",
   "pygments_lexer": "ipython3",
   "version": "3.10.5"
  },
  "vscode": {
   "interpreter": {
    "hash": "186db977f413ae6598820b658aed1651932768522d0652c07d949b3f5fb38b63"
   }
  }
 },
 "nbformat": 4,
 "nbformat_minor": 4
}
